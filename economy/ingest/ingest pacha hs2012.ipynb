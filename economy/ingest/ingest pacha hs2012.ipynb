{
 "cells": [
  {
   "cell_type": "code",
   "execution_count": null,
   "metadata": {},
   "outputs": [],
   "source": [
    "import pandas as pd\n",
    "import sys\n",
    "import configparser\n",
    "import os\n",
    "import numpy as np\n",
    "config = configparser.ConfigParser()\n",
    "config.read_file(open('../../settings.ini'))\n",
    "\n",
    "sys.path.insert(0, config.get('PATHS','libs_path'))\n",
    "engine_path = config.get('DATABASE','engine_path')\n",
    "\n",
    "import postgres #from local file postgres.py\n",
    "import commons\n",
    "from commons import inline_table_xml, download_file, download_zip_file, extract_zip_file #from local file commons.py\n",
    "from importlib import reload\n",
    "\n",
    "import json\n",
    "from sqlalchemy import create_engine\n",
    "import requests\n",
    "\n",
    "engine = create_engine(engine_path)\n",
    "db = postgres.PostgresDriver(engine)"
   ]
  },
  {
   "cell_type": "markdown",
   "metadata": {},
   "source": [
    "# Read Pacha's HS12"
   ]
  },
  {
   "cell_type": "code",
   "execution_count": null,
   "metadata": {},
   "outputs": [],
   "source": [
    "hs = pd.read_csv('pacha_hs12.csv')\n"
   ]
  },
  {
   "cell_type": "code",
   "execution_count": null,
   "metadata": {},
   "outputs": [],
   "source": [
    "level5 = hs[hs.hs12.str.len()==6]\n",
    "level5 = level5.rename(columns={'hs12': 'level5', 'description': 'level5_en'})\n",
    "level5.loc[:, 'level3'] = level5.level5.apply(lambda h: h[:4])"
   ]
  },
  {
   "cell_type": "code",
   "execution_count": null,
   "metadata": {},
   "outputs": [],
   "source": [
    "level3 = hs[hs.hs12.str.len()==4]\n",
    "level3 = level3.rename(columns={'hs12': 'level3', 'description': 'level3_en'})\n",
    "level3 = level3.merge(level5, on='level3')\n",
    "level3.loc[:, 'level2'] = level3.level3.apply(lambda h: h[:2])"
   ]
  },
  {
   "cell_type": "code",
   "execution_count": null,
   "metadata": {},
   "outputs": [],
   "source": [
    "level2 = hs[hs.hs12.str.len() == 2]\n",
    "level2 = level2.rename(columns={'hs12': 'level2', 'description': 'level2_en'})\n",
    "level2 = level2.merge(level3, on='level2')"
   ]
  },
  {
   "cell_type": "markdown",
   "metadata": {},
   "source": [
    "# HS12 from `europa.eu`"
   ]
  },
  {
   "cell_type": "code",
   "execution_count": null,
   "metadata": {},
   "outputs": [],
   "source": [
    "cols = ['CNKEY', 'CN', 'PURE_HS_CODE', 'LEVEL', 'EN', 'ES']\n",
    "dtype = {c: str for c in cols}\n",
    "dtype['LEVEL'] = int\n",
    "hseu = pd.read_csv('hs2012.csv', usecols=cols, dtype=dtype)\n",
    "hseu = hseu[hseu.PURE_HS_CODE.notnull()]\n",
    "hseu.loc[:, 'FIXED_HS'] = hseu.PURE_HS_CODE.apply(lambda l: l.replace('.', ''))\n",
    "es_hs = hseu[['FIXED_HS', 'ES']]"
   ]
  },
  {
   "cell_type": "code",
   "execution_count": null,
   "metadata": {},
   "outputs": [],
   "source": [
    "level2 = level2.merge(es_hs, left_on='level2', right_on='FIXED_HS')\n",
    "\n",
    "level2 = level2.rename(columns={'ES': 'level2_es'})\n",
    "level2.loc[:, 'level2_es'] = level2.level2_es.apply(lambda h: h.split(' - ')[1].title())\n",
    "\n",
    "level2 = level2.merge(es_hs, left_on='level3', right_on='FIXED_HS', how='left')\n",
    "level2 = level2.rename(columns={'ES': 'level3_es'})\n",
    "\n",
    "level2 = level2.merge(es_hs, left_on='level5', right_on='FIXED_HS', how='left')\n",
    "level2 = level2.rename(columns={'ES': 'level5_es'})"
   ]
  },
  {
   "cell_type": "markdown",
   "metadata": {},
   "source": [
    "### Add section names"
   ]
  },
  {
   "cell_type": "code",
   "execution_count": null,
   "metadata": {},
   "outputs": [],
   "source": [
    "import roman\n",
    "\n",
    "sections = list(hseu[hseu.LEVEL==1].iterrows())\n",
    "chapters = hseu[hseu.LEVEL == 2]\n",
    "\n",
    "for (i,s1), (j,s2) in zip(sections, sections[1:]):\n",
    "    level2.loc[(level2.level2.astype(int) >= int(s1.CNKEY[0:2])) & (level2.level2.astype(int) < int(s2.CNKEY[0:2])), 'level0_es'] = s1.ES\n",
    "    level2.loc[(level2.level2.astype(int) >= int(s1.CNKEY[0:2])) & (level2.level2.astype(int) < int(s2.CNKEY[0:2])), 'level0_en'] = s1.EN    \n",
    "    level2.loc[(level2.level2.astype(int) >= int(s1.CNKEY[0:2])) & (level2.level2.astype(int) < int(s2.CNKEY[0:2])), 'level0'] = format(roman.fromRoman(s1.CN), '02d')"
   ]
  },
  {
   "cell_type": "code",
   "execution_count": null,
   "metadata": {},
   "outputs": [],
   "source": [
    "flattened_hs2012 = level2[['level0', 'level0_en', 'level0_es', 'level2', 'level2_en', 'level2_es', 'level3', 'level3_en', 'level3_es', 'level5', 'level5_en', 'level5_es']]\n",
    "\n",
    "flattened_hs2012.loc[flattened_hs2012.level0.isnull(), 'level0_en'] = \"SECTION XXI - WORKS OF ART, COLLECTORS' PIECES AND ANTIQUES\"\n",
    "flattened_hs2012.loc[flattened_hs2012.level0.isnull(), 'level0_es'] = \"SECCIÓN XXI - OBJETOS DE ARTE O COLECCIÓN Y ANTIGÜEDADES\"\n",
    "flattened_hs2012.loc[flattened_hs2012.level0.isnull(), 'level0'] = 21\n"
   ]
  },
  {
   "cell_type": "code",
   "execution_count": null,
   "metadata": {},
   "outputs": [],
   "source": [
    "flattened_hs2012.loc[:, 'level0_es'] = flattened_hs2012.level0_es.apply(lambda h: h.split(' - ')[1].title())\n",
    "flattened_hs2012.loc[:, 'level0_en'] = flattened_hs2012.level0_en.apply(lambda h: h.split(' - ')[1].title())\n"
   ]
  },
  {
   "cell_type": "markdown",
   "metadata": {},
   "source": [
    "### Append section id to all levels"
   ]
  },
  {
   "cell_type": "code",
   "execution_count": null,
   "metadata": {},
   "outputs": [],
   "source": [
    "flattened_hs2012.loc[:, 'level2'] = flattened_hs2012.apply(lambda r: str(r['level0']) + r['level2'], axis=1)\n",
    "flattened_hs2012.loc[:, 'level3'] = flattened_hs2012.apply(lambda r: str(r['level0']) + r['level3'], axis=1)\n",
    "flattened_hs2012.loc[:, 'level5'] = flattened_hs2012.apply(lambda r: str(r['level0']) + r['level5'], axis=1)"
   ]
  },
  {
   "cell_type": "markdown",
   "metadata": {},
   "source": [
    "# Update names from OEC"
   ]
  },
  {
   "cell_type": "code",
   "execution_count": null,
   "metadata": {},
   "outputs": [],
   "source": [
    "oec_xlations_es = pd.DataFrame(requests.get(\"https://atlas.media.mit.edu/attr/hs92/es/\").json()['data'])\n",
    "oec_xlations_en = pd.DataFrame(requests.get(\"https://atlas.media.mit.edu/attr/hs92/en/\").json()['data'])\n",
    "original_hs92 = pd.read_csv('hs92.csv')"
   ]
  },
  {
   "cell_type": "code",
   "execution_count": null,
   "metadata": {},
   "outputs": [],
   "source": [
    "short_names = oec_xlations_es[(oec_xlations.id.str.len() == 6)] \\\n",
    "   .merge(original_hs92[original_hs92.Level==4], left_on='display_id', right_on='Code') \\\n",
    "   [['display_id', 'id', 'name', 'Description']] \\\n",
    "   .rename(columns={'name': 'short_name_es', 'Description': 'original_name'}) \\\n",
    "   .merge(oec_xlations_en, on='display_id') \\\n",
    "   [['display_id', 'short_name_es', 'original_name', 'name', 'id_x']] \\\n",
    "   .rename(columns={'name': 'short_name_en', 'id_x': 'id'})"
   ]
  },
  {
   "cell_type": "code",
   "execution_count": null,
   "metadata": {},
   "outputs": [],
   "source": [
    "flattened_hs2012 = flattened_hs2012.merge(short_names, left_on='level3_en', right_on='original_name', how='left') \\\n",
    "    [['level0', 'level0_en', 'level0_es', 'level2', 'level2_en', 'level2_es', 'level3', 'level3_en', 'level3_es', 'short_name_en', 'short_name_es', 'level5', 'level5_en', 'level5_es']] \\\n",
    "    .rename(columns={'short_name_en': 'level3_short_en', 'short_name_es': 'level3_short_es'})"
   ]
  },
  {
   "cell_type": "code",
   "execution_count": null,
   "metadata": {},
   "outputs": [],
   "source": [
    "flattened_hs2012.loc[:, 'level3_en'] = flattened_hs2012.apply(lambda h: h['level3_short_en'] if pd.notnull(h['level3_short_en']) else h['level3_en'], axis=1)\n",
    "flattened_hs2012.loc[:, 'level3_es'] = flattened_hs2012.apply(lambda h: h['level3_short_es'] if pd.notnull(h['level3_short_es']) else h['level3_es'], axis=1)"
   ]
  },
  {
   "cell_type": "markdown",
   "metadata": {},
   "source": [
    "# Apply manually shortened names\n",
    "\n",
    "From: https://docs.google.com/spreadsheets/d/1fDJRP2t8BK5y59XRu1gvz7I_7L6imT6gy2e-YJQCDak/edit#gid=1687148987\n"
   ]
  },
  {
   "cell_type": "code",
   "execution_count": null,
   "metadata": {},
   "outputs": [],
   "source": [
    "flattened_hs2012 = pd.read_sql(\"SELECT * FROM economy.dim_hs2012\", engine)\n",
    "shortened = pd.read_csv('hs2012-manually-shortened-names.csv', dtype={'level3': str}, usecols=['level3', 'level3_short'])\n",
    "shortened.loc[:, 'level3'] = shortened.level3.str.pad(6, fillchar='0')\n",
    "tmp = flattened_hs2012.merge(shortened, how='left', on='level3')\n",
    "tmp.loc[:, 'level3_es'] = tmp.apply(lambda h: h['level3_short'] if pd.notnull(h['level3_short']) else h['level3_es'], axis=1)\n",
    "flattened_hs2012 = tmp"
   ]
  },
  {
   "cell_type": "markdown",
   "metadata": {},
   "source": [
    "# Save to DB"
   ]
  },
  {
   "cell_type": "code",
   "execution_count": null,
   "metadata": {},
   "outputs": [],
   "source": [
    "db.to_sql(flattened_hs2012[['level0', 'level0_en', 'level0_es', 'level2', 'level2_en', 'level2_es', 'level3', 'level3_en', 'level3_es', 'level5', 'level5_en', 'level5_es']],\n",
    "          'economy', \n",
    "          'dim_hs2012')\n",
    "\n",
    "engine.execute(\"\"\"\n",
    "CREATE INDEX level3_idx \n",
    "ON economy.dim_hs2012 (level3)\n",
    "\"\"\")\n",
    "\n",
    "engine.execute(\"\"\"\n",
    "CREATE INDEX level5_idx \n",
    "ON economy.dim_hs2012 (level5)\n",
    "\"\"\")\n",
    "\n"
   ]
  }
 ],
 "metadata": {
  "kernelspec": {
   "display_name": "Python 3",
   "language": "python",
   "name": "python3"
  },
  "language_info": {
   "codemirror_mode": {
    "name": "ipython",
    "version": 3
   },
   "file_extension": ".py",
   "mimetype": "text/x-python",
   "name": "python",
   "nbconvert_exporter": "python",
   "pygments_lexer": "ipython3",
   "version": "3.6.3"
  }
 },
 "nbformat": 4,
 "nbformat_minor": 2
}
