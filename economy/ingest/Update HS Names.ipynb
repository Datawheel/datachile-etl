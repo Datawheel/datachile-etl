{
 "cells": [
  {
   "cell_type": "markdown",
   "metadata": {},
   "source": [
    "# Update names with translations from OEC"
   ]
  },
  {
   "cell_type": "code",
   "execution_count": 60,
   "metadata": {},
   "outputs": [],
   "source": [
    "import requests\n",
    "import pandas as pd\n",
    "import sys\n",
    "import configparser\n",
    "from sqlalchemy import text"
   ]
  },
  {
   "cell_type": "code",
   "execution_count": 22,
   "metadata": {},
   "outputs": [],
   "source": [
    "config = configparser.ConfigParser()\n",
    "config.read_file(open('../../settings.ini'))\n",
    "\n",
    "sys.path.insert(0, config.get('PATHS','libs_path'))\n",
    "engine_path = config.get('DATABASE','engine_path')\n",
    "\n",
    "import postgres\n",
    "from sqlalchemy import create_engine\n",
    "engine = create_engine(engine_path)\n",
    "db = postgres.PostgresDriver(engine)"
   ]
  },
  {
   "cell_type": "code",
   "execution_count": 33,
   "metadata": {},
   "outputs": [],
   "source": [
    "oec_xlations = pd.DataFrame(requests.get(\"https://atlas.media.mit.edu/attr/hs92/es/\").json()['data'])\n",
    "oec_6 = oec_xlations[(oec_xlations.id.str.len() == 6)]"
   ]
  },
  {
   "cell_type": "code",
   "execution_count": 23,
   "metadata": {
    "scrolled": true
   },
   "outputs": [],
   "source": [
    "datachile_hs = pd.read_sql(\"SELECT * FROM economy.hs_levels\", engine)"
   ]
  },
  {
   "cell_type": "code",
   "execution_count": 30,
   "metadata": {},
   "outputs": [],
   "source": [
    "datachile_hs.loc[:, 'oec_id_level3'] = datachile_hs.apply(lambda d: d.level0 + d.level2, axis=1)"
   ]
  },
  {
   "cell_type": "code",
   "execution_count": 41,
   "metadata": {},
   "outputs": [],
   "source": [
    "merged = datachile_hs.merge(oec_6, how='inner', left_on='oec_id_level3', right_on='id')\n"
   ]
  },
  {
   "cell_type": "code",
   "execution_count": 56,
   "metadata": {},
   "outputs": [
    {
     "data": {
      "text/plain": [
       "0                        Válvulas\n",
       "1                        Válvulas\n",
       "2                        Válvulas\n",
       "3                        Válvulas\n",
       "4                        Válvulas\n",
       "5                        Válvulas\n",
       "6                           Avena\n",
       "7                        Caballos\n",
       "8                        Caballos\n",
       "9                        Caballos\n",
       "10                  Los aldehídos\n",
       "11                  Los aldehídos\n",
       "12                  Los aldehídos\n",
       "13                  Los aldehídos\n",
       "14                  Los aldehídos\n",
       "15                  Los aldehídos\n",
       "16                  Los aldehídos\n",
       "17                  Los aldehídos\n",
       "18                  Los aldehídos\n",
       "19                  Los aldehídos\n",
       "20                  Los aldehídos\n",
       "21                  Los aldehídos\n",
       "22                       Raw Silk\n",
       "23               Algodón en bruto\n",
       "24                         Bovino\n",
       "25                         Bovino\n",
       "26        Hidrocarburos acíclicos\n",
       "27        Hidrocarburos acíclicos\n",
       "28        Hidrocarburos acíclicos\n",
       "29        Hidrocarburos acíclicos\n",
       "                  ...            \n",
       "5008                       Plumas\n",
       "5009                       Plumas\n",
       "5010                       Plumas\n",
       "5011                       Plumas\n",
       "5012           Lápices y crayones\n",
       "5013           Lápices y crayones\n",
       "5014           Lápices y crayones\n",
       "5015                   Pizarrones\n",
       "5016               Sellos de Goma\n",
       "5017              Cintas de tinta\n",
       "5018              Cintas de tinta\n",
       "5019                 Encendedores\n",
       "5020                 Encendedores\n",
       "5021                 Encendedores\n",
       "5022                 Encendedores\n",
       "5023                 Encendedores\n",
       "5024                       Peines\n",
       "5025                       Peines\n",
       "5026                       Peines\n",
       "5027    Pulverizadores de tocador\n",
       "5028    Pulverizadores de tocador\n",
       "5029                        Termo\n",
       "5030                    Maniquíes\n",
       "5031                     Pinturas\n",
       "5032                     Pinturas\n",
       "5033                      Imprime\n",
       "5034                   Esculturas\n",
       "5035                     Fiscales\n",
       "5036       Artículos de colección\n",
       "5037                 Antigüedades\n",
       "Name: name, Length: 5038, dtype: object"
      ]
     },
     "execution_count": 56,
     "metadata": {},
     "output_type": "execute_result"
    }
   ],
   "source": [
    "merged['name']"
   ]
  },
  {
   "cell_type": "code",
   "execution_count": null,
   "metadata": {},
   "outputs": [],
   "source": [
    "#merged[['level0', 'level0_name', 'es_level0_description', 'level1', 'level1_name', 'level2', 'level2_name', 'name']]\n",
    "engine.begin()\n",
    "for _, r in merged.iterrows():\n",
    "#    print(r['name'])\n",
    "    engine.execute(text(\"UPDATE economy.hs_levels SET es_level2_description = :name WHERE :id = (level0 || level2)\"), name=r['name'], id=r['oec_id_level3'])\n",
    "    #engine.execute(, r['name'], r['oec_id_level3'])\n",
    "engine.commit()\n"
   ]
  }
 ],
 "metadata": {
  "kernelspec": {
   "display_name": "Python 3",
   "language": "python",
   "name": "python3"
  },
  "language_info": {
   "codemirror_mode": {
    "name": "ipython",
    "version": 3
   },
   "file_extension": ".py",
   "mimetype": "text/x-python",
   "name": "python",
   "nbconvert_exporter": "python",
   "pygments_lexer": "ipython3",
   "version": "3.6.3"
  }
 },
 "nbformat": 4,
 "nbformat_minor": 2
}
