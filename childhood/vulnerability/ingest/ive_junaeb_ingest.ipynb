{
 "cells": [
  {
   "cell_type": "markdown",
   "metadata": {},
   "source": [
    "# Import & Load Vulnerability Data"
   ]
  },
  {
   "cell_type": "markdown",
   "metadata": {},
   "source": [
    "### Config"
   ]
  },
  {
   "cell_type": "code",
   "execution_count": 1,
   "metadata": {},
   "outputs": [],
   "source": [
    "import sys\n",
    "import configparser\n",
    "config = configparser.ConfigParser()\n",
    "config.read_file(open(\"../../../settings.ini\"))\n",
    "\n",
    "sys.path.insert(0, config.get(\"PATHS\", \"libs_path\"))\n",
    "engine_path = config.get(\"DATABASE\", \"engine_path\")"
   ]
  },
  {
   "cell_type": "markdown",
   "metadata": {},
   "source": [
    "### Main params"
   ]
  },
  {
   "cell_type": "code",
   "execution_count": 2,
   "metadata": {},
   "outputs": [],
   "source": [
    "remote_path = \"\"\n",
    "local_path = \"../data_final/\""
   ]
  },
  {
   "cell_type": "code",
   "execution_count": 3,
   "metadata": {},
   "outputs": [],
   "source": [
    "import postgres #from local file postgres.py\n",
    "from commons import inline_table_xml, download_file, download_zip_file, extract_zip_file #from local file commons.py\n",
    "\n",
    "import json\n",
    "import pandas as pd\n",
    "from sqlalchemy import create_engine"
   ]
  },
  {
   "cell_type": "markdown",
   "metadata": {},
   "source": [
    "### Load file"
   ]
  },
  {
   "cell_type": "code",
   "execution_count": 4,
   "metadata": {},
   "outputs": [
    {
     "data": {
      "text/plain": [
       "['rbd',\n",
       " 'administration_id',\n",
       " 'zone_id',\n",
       " 'comuna_id',\n",
       " 'education_id',\n",
       " 'year',\n",
       " 'priority_id',\n",
       " 'total']"
      ]
     },
     "execution_count": 4,
     "metadata": {},
     "output_type": "execute_result"
    }
   ],
   "source": [
    "#Open unzipped file\n",
    "df = pd.read_csv(local_path + \"ive_junaeb.csv\", delimiter=\",\")\n",
    "# df = df[['year','comuna_id','sex_id','rate_comuna','rate_region','rate_country','count','age_range_id']]\n",
    "# df = df.astype({\"year\":\"int\", \"comuna_id\": \"int\",'sex_id':'int','rate_comuna':'float','rate_region':'float','rate_country':'float', 'age_range_id': 'float'})\n",
    "list(df)"
   ]
  },
  {
   "cell_type": "markdown",
   "metadata": {},
   "source": [
    "### Ingest"
   ]
  },
  {
   "cell_type": "code",
   "execution_count": 5,
   "metadata": {},
   "outputs": [
    {
     "name": "stdout",
     "output_type": "stream",
     "text": [
      "DROP TABLE IF EXISTS childhood.fact_vulnerability;\n",
      "CREATE TABLE \"childhood\".\"fact_vulnerability\" (\n",
      "\"rbd\" INTEGER,\n",
      "  \"administration_id\" INTEGER,\n",
      "  \"zone_id\" INTEGER,\n",
      "  \"comuna_id\" INTEGER,\n",
      "  \"education_id\" INTEGER,\n",
      "  \"year\" INTEGER,\n",
      "  \"priority_id\" INTEGER,\n",
      "  \"total\" INTEGER\n",
      ")\n",
      "COPY \"childhood\".\"fact_vulnerability\" (\"rbd\",\"administration_id\",\"zone_id\",\"comuna_id\",\"education_id\",\"year\",\"priority_id\",\"total\") FROM STDIN WITH CSV HEADER DELIMITER ',';\n"
     ]
    }
   ],
   "source": [
    "engine = create_engine(engine_path)\n",
    "db = postgres.PostgresDriver(engine)\n",
    "db.to_sql(df, \"childhood\", \"fact_vulnerability\")"
   ]
  },
  {
   "cell_type": "markdown",
   "metadata": {},
   "source": [
    "### Add Indices to foreign keys"
   ]
  },
  {
   "cell_type": "code",
   "execution_count": 6,
   "metadata": {},
   "outputs": [
    {
     "data": {
      "text/plain": [
       "<sqlalchemy.engine.result.ResultProxy at 0x109103710>"
      ]
     },
     "execution_count": 6,
     "metadata": {},
     "output_type": "execute_result"
    }
   ],
   "source": [
    "engine.execute(\"\"\"\n",
    "CREATE INDEX fact_vulnerability_comuna_id_index \n",
    "ON childhood.fact_vulnerability (comuna_id)\n",
    "\"\"\")\n",
    "\n",
    "engine.execute(\"\"\"\n",
    "CREATE INDEX fact_vulnerability_year_index \n",
    "ON childhood.fact_vulnerability (\"year\");\n",
    "\"\"\")"
   ]
  },
  {
   "cell_type": "markdown",
   "metadata": {},
   "source": [
    "### Relational Tables"
   ]
  },
  {
   "cell_type": "code",
   "execution_count": 7,
   "metadata": {},
   "outputs": [
    {
     "name": "stdout",
     "output_type": "stream",
     "text": [
      "Already downloaded. Using: ../data_final/priority.csv\n",
      "\n",
      "<InlineTable alias=\"name_en\">\n",
      "  <ColumnDefs>\n",
      "    <ColumnDef name=\"id\" type=\"Numeric\" />\n",
      "    <ColumnDef name=\"description\" type=\"String\" />\n",
      "    <ColumnDef name=\"es_description\" type=\"String\" />\n",
      "  </ColumnDefs>\n",
      "  <Rows>\n",
      "    <Row>\n",
      "      <Value column=\"id\">0</Value>\n",
      "      <Value column=\"description\">Sin información</Value>\n",
      "      <Value column=\"es_description\">Sin información</Value>\n",
      "    </Row>\n",
      "  <Row>\n",
      "      <Value column=\"id\">1</Value>\n",
      "      <Value column=\"description\">Primera prioridad</Value>\n",
      "      <Value column=\"es_description\">Primera prioridad</Value>\n",
      "    </Row>\n",
      "  <Row>\n",
      "      <Value column=\"id\">2</Value>\n",
      "      <Value column=\"description\">Segunda prioridad</Value>\n",
      "      <Value column=\"es_description\">Segunda prioridad</Value>\n",
      "    </Row>\n",
      "  <Row>\n",
      "      <Value column=\"id\">3</Value>\n",
      "      <Value column=\"description\">Tercera prioridad</Value>\n",
      "      <Value column=\"es_description\">Tercera prioridad</Value>\n",
      "    </Row>\n",
      "  <Row>\n",
      "      <Value column=\"id\">4</Value>\n",
      "      <Value column=\"description\">No vulnerables</Value>\n",
      "      <Value column=\"es_description\">No vulnerables</Value>\n",
      "    </Row>\n",
      "  </Rows>\n",
      "</InlineTable>\n",
      "    \n"
     ]
    }
   ],
   "source": [
    "d2 = download_file(remote_path, local_path, \"priority.csv\")\n",
    "print (inline_table_xml(d2, \"name_en\", \"id\", \"name_es\"))"
   ]
  }
 ],
 "metadata": {
  "kernelspec": {
   "display_name": "Python 3",
   "language": "python",
   "name": "python3"
  },
  "language_info": {
   "codemirror_mode": {
    "name": "ipython",
    "version": 3
   },
   "file_extension": ".py",
   "mimetype": "text/x-python",
   "name": "python",
   "nbconvert_exporter": "python",
   "pygments_lexer": "ipython3",
   "version": "3.7.1"
  }
 },
 "nbformat": 4,
 "nbformat_minor": 2
}
