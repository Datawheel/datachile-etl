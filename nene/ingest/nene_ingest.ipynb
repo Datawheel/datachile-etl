{
 "cells": [
  {
   "cell_type": "markdown",
   "metadata": {},
   "source": [
    "# Import & Load NENE data"
   ]
  },
  {
   "cell_type": "markdown",
   "metadata": {},
   "source": [
    "### Config"
   ]
  },
  {
   "cell_type": "code",
   "execution_count": 14,
   "metadata": {},
   "outputs": [],
   "source": [
    "import sys, os\n",
    "import configparser\n",
    "config = configparser.ConfigParser()\n",
    "config.read_file(open('../../settings.ini'))\n",
    "\n",
    "\n",
    "sys.path.insert(0, config.get('PATHS','libs_path'))\n",
    "engine_path = config.get('DATABASE','engine_path')"
   ]
  },
  {
   "cell_type": "markdown",
   "metadata": {},
   "source": [
    "### Main params"
   ]
  },
  {
   "cell_type": "code",
   "execution_count": 9,
   "metadata": {},
   "outputs": [],
   "source": [
    "remote_path = 'http://pacha.datawheel.us/datachile/economy/nene/analysis/2_occupational_status/'\n",
    "local_path = '../data/'\n"
   ]
  },
  {
   "cell_type": "markdown",
   "metadata": {},
   "source": [
    "### Imports"
   ]
  },
  {
   "cell_type": "code",
   "execution_count": 11,
   "metadata": {},
   "outputs": [],
   "source": [
    "import postgres #from local file postgres.py\n",
    "from commons import inline_table_xml, download_file, download_zip_file, extract_zip_file #from local file commons.py\n",
    "\n",
    "import json\n",
    "import pandas as pd\n",
    "from sqlalchemy import create_engine"
   ]
  },
  {
   "cell_type": "markdown",
   "metadata": {},
   "source": [
    "### Load file"
   ]
  },
  {
   "cell_type": "code",
   "execution_count": null,
   "metadata": {},
   "outputs": [],
   "source": [
    "download_zip_file(remote_path,\n",
    "                  local_path,\n",
    "                  \"occupational_status.zip\")\n",
    "\n",
    "extract_zip_file(local_path, \"temp.zip\")"
   ]
  },
  {
   "cell_type": "code",
   "execution_count": 21,
   "metadata": {},
   "outputs": [],
   "source": [
    "facts_nene = pd.read_csv(os.path.join(local_path, \"analysis\", \"2_occupational_status\", \"occupational_status.csv\"),\n",
    "                         low_memory=True)"
   ]
  },
  {
   "cell_type": "code",
   "execution_count": 19,
   "metadata": {},
   "outputs": [
    {
     "data": {
      "text/plain": [
       "year                               int64\n",
       "moving_quarter                    object\n",
       "region_id                          int64\n",
       "age                                int64\n",
       "age_range_id                       int64\n",
       "sex_id                             int64\n",
       "icse_id                            int64\n",
       "isco_id                          float64\n",
       "isic_rev3_id                     float64\n",
       "isic_cl_caenes_id                float64\n",
       "isced_id                         float64\n",
       "occupied_id                        int64\n",
       "general_economic_condition_id      int64\n",
       "weight                           float64\n",
       "dtype: object"
      ]
     },
     "execution_count": 19,
     "metadata": {},
     "output_type": "execute_result"
    }
   ],
   "source": [
    "facts_nene.dtypes"
   ]
  },
  {
   "cell_type": "code",
   "execution_count": 24,
   "metadata": {},
   "outputs": [],
   "source": [
    "#facts_nene.astype({'year':'int','region_id':'int','age':'int','age_range_id':'int','icse_id':'int','sex_id':'int','isced_id':'int','isco_id':'int','occupied_id':'int','icse_id':'int','general_economic_condition_id':'int', 'isic_rev3_id': 'int', 'isic_cl_caenes_id': 'int'})\n",
    "facts_nene.rename(columns={'general_economic_condition_id': 'general_economic_condition', 'weight': 'weights'}, inplace=True)"
   ]
  },
  {
   "cell_type": "markdown",
   "metadata": {},
   "source": [
    "### Ingest"
   ]
  },
  {
   "cell_type": "code",
   "execution_count": 27,
   "metadata": {},
   "outputs": [
    {
     "name": "stdout",
     "output_type": "stream",
     "text": [
      "DROP TABLE IF EXISTS economy.fact_occupational_status_nene_mobile_quarters_new;\n",
      "CREATE TABLE \"economy\".\"fact_occupational_status_nene_mobile_quarters_new\" (\n",
      "\"year\" INTEGER,\n",
      "  \"moving_quarter\" TEXT,\n",
      "  \"region_id\" INTEGER,\n",
      "  \"age\" INTEGER,\n",
      "  \"age_range_id\" INTEGER,\n",
      "  \"sex_id\" INTEGER,\n",
      "  \"icse_id\" INTEGER,\n",
      "  \"isco_id\" REAL,\n",
      "  \"isic_rev3_id\" REAL,\n",
      "  \"isic_cl_caenes_id\" REAL,\n",
      "  \"isced_id\" REAL,\n",
      "  \"occupied_id\" INTEGER,\n",
      "  \"general_economic_condition\" INTEGER,\n",
      "  \"weights\" REAL\n",
      ")\n",
      "COPY \"economy\".\"fact_occupational_status_nene_mobile_quarters_new\" (\"year\",\"moving_quarter\",\"region_id\",\"age\",\"age_range_id\",\"sex_id\",\"icse_id\",\"isco_id\",\"isic_rev3_id\",\"isic_cl_caenes_id\",\"isced_id\",\"occupied_id\",\"general_economic_condition\",\"weights\") FROM STDIN WITH CSV HEADER DELIMITER ',';\n"
     ]
    }
   ],
   "source": [
    "engine = create_engine(engine_path)\n",
    "db = postgres.PostgresDriver(engine)\n",
    "db.to_sql(facts_nene, 'economy', 'fact_occupational_status_nene_mobile_quarters_new')"
   ]
  },
  {
   "cell_type": "markdown",
   "metadata": {},
   "source": [
    "### Indexes & FK"
   ]
  },
  {
   "cell_type": "code",
   "execution_count": null,
   "metadata": {},
   "outputs": [],
   "source": [
    "engine.execute(\"\"\"\n",
    "UPDATE economy.fact_occupational_status_nene_mobile_quarters_new\n",
    "SET moving_quarter = concat(year,'_',moving_quarter)\n",
    "\"\"\")"
   ]
  },
  {
   "cell_type": "code",
   "execution_count": 33,
   "metadata": {},
   "outputs": [
    {
     "data": {
      "text/plain": [
       "<sqlalchemy.engine.result.ResultProxy at 0x7fe71d262518>"
      ]
     },
     "execution_count": 33,
     "metadata": {},
     "output_type": "execute_result"
    }
   ],
   "source": [
    "engine.execute(\"\"\"\n",
    "CREATE INDEX fact_occupational_status_nene_mobile_quarters_new_region_id \n",
    "ON economy.fact_occupational_status_nene_mobile_quarters_new (region_id)\n",
    "\"\"\")"
   ]
  },
  {
   "cell_type": "markdown",
   "metadata": {},
   "source": [
    "### Related dim"
   ]
  },
  {
   "cell_type": "code",
   "execution_count": null,
   "metadata": {},
   "outputs": [],
   "source": [
    "d1 = download_file(remote_path,local_path,'age_range_id.csv')\n",
    "print (inline_table_xml(d1, 'age_range', 'age_range_id', 'age_range'))"
   ]
  },
  {
   "cell_type": "code",
   "execution_count": null,
   "metadata": {},
   "outputs": [],
   "source": [
    "d2 = download_file(remote_path,local_path,'icse_id.csv')\n",
    "print (inline_table_xml(d2, 'icse', 'icse_id', 'icse'))"
   ]
  },
  {
   "cell_type": "code",
   "execution_count": null,
   "metadata": {},
   "outputs": [],
   "source": [
    "d3 = download_file(remote_path,local_path,'isced_id.csv')\n",
    "print (inline_table_xml(d3, 'isced', 'isced_id', 'isced'))"
   ]
  },
  {
   "cell_type": "code",
   "execution_count": null,
   "metadata": {},
   "outputs": [],
   "source": [
    "d4 = download_file(remote_path,local_path,'isco_id.csv')\n",
    "print (inline_table_xml(d4, 'isco', 'isco_id', 'isco'))"
   ]
  },
  {
   "cell_type": "code",
   "execution_count": null,
   "metadata": {},
   "outputs": [],
   "source": [
    "d5 = download_file(remote_path,local_path,'sex_id.csv')\n",
    "print (inline_table_xml(d5, 'sex', 'sex_id', 'sex'))"
   ]
  },
  {
   "cell_type": "code",
   "execution_count": null,
   "metadata": {},
   "outputs": [],
   "source": [
    "d6 = download_file(remote_path,local_path,'general_economic_condition_id.csv')\n",
    "print (inline_table_xml(d6, 'general_economic_condition', 'general_economic_condition_id', 'general_economic_condition'))"
   ]
  },
  {
   "cell_type": "code",
   "execution_count": null,
   "metadata": {},
   "outputs": [],
   "source": [
    "d7 = download_file(remote_path,local_path,'occupied_id.csv')\n",
    "print (inline_table_xml(d7, 'occupied', 'occupied_id', 'occupied'))"
   ]
  }
 ],
 "metadata": {
  "kernelspec": {
   "display_name": "Python 3",
   "language": "python",
   "name": "python3"
  },
  "language_info": {
   "codemirror_mode": {
    "name": "ipython",
    "version": 3
   },
   "file_extension": ".py",
   "mimetype": "text/x-python",
   "name": "python",
   "nbconvert_exporter": "python",
   "pygments_lexer": "ipython3",
   "version": "3.6.3"
  }
 },
 "nbformat": 4,
 "nbformat_minor": 2
}
