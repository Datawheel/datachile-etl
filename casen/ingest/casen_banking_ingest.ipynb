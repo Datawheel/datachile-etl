{
 "cells": [
  {
   "cell_type": "markdown",
   "metadata": {},
   "source": [
    "# Import & Load CASEN banking data"
   ]
  },
  {
   "cell_type": "markdown",
   "metadata": {},
   "source": [
    "### Config"
   ]
  },
  {
   "cell_type": "code",
   "execution_count": 1,
   "metadata": {
    "collapsed": false
   },
   "outputs": [],
   "source": [
    "import sys\n",
    "import configparser\n",
    "config = configparser.ConfigParser()\n",
    "config.read_file(open('../../settings.ini'))\n",
    "\n",
    "sys.path.insert(0, config.get('PATHS','libs_path'))\n",
    "engine_path = config.get('DATABASE','engine_path')"
   ]
  },
  {
   "cell_type": "code",
   "execution_count": 2,
   "metadata": {
    "collapsed": true
   },
   "outputs": [],
   "source": [
    "remote_path = 'http://pacha.datawheel.us/economia/casen/analysis/5_banking/'\n",
    "local_path = '../data/'"
   ]
  },
  {
   "cell_type": "code",
   "execution_count": 3,
   "metadata": {
    "collapsed": false
   },
   "outputs": [],
   "source": [
    "import postgres #from local file postgres.py\n",
    "from commons import inline_table_xml, inline_dimension_xml, download_file, download_zip_file, extract_zip_file #from local file commons.py\n",
    "\n",
    "import json\n",
    "import pandas as pd\n",
    "from sqlalchemy import create_engine"
   ]
  },
  {
   "cell_type": "markdown",
   "metadata": {},
   "source": [
    "### Load data"
   ]
  },
  {
   "cell_type": "code",
   "execution_count": 4,
   "metadata": {
    "collapsed": false
   },
   "outputs": [
    {
     "name": "stdout",
     "output_type": "stream",
     "text": [
      "Already downloaded. Using: ../data/banking_products.csv\n",
      "Encoding: ascii\n"
     ]
    },
    {
     "data": {
      "text/plain": [
       "['debit_card_id',\n",
       " 'credit_card_bank_id',\n",
       " 'credit_card_store_id',\n",
       " 'checks_id',\n",
       " 'credit_line_id',\n",
       " 'expc',\n",
       " 'expr',\n",
       " 'year',\n",
       " 'comuna_datachile_id']"
      ]
     },
     "execution_count": 4,
     "metadata": {},
     "output_type": "execute_result"
    }
   ],
   "source": [
    "df1 = download_file(remote_path,local_path,'banking_products.csv')\n",
    "df1 = df1.astype({'debit_card_id':'int','credit_card_bank_id':'int','credit_card_store_id':'int','checks_id':'int','credit_line_id':'int','year':'int','comuna_datachile_id':'int'})\n",
    "list(df1)"
   ]
  },
  {
   "cell_type": "code",
   "execution_count": 5,
   "metadata": {
    "collapsed": false
   },
   "outputs": [
    {
     "name": "stdout",
     "output_type": "stream",
     "text": [
      "DROP TABLE IF EXISTS environment.fact_banking_casen;\n",
      "CREATE TABLE \"environment\".\"fact_banking_casen\" (\n",
      "\"debit_card_id\" INTEGER,\n",
      "  \"credit_card_bank_id\" INTEGER,\n",
      "  \"credit_card_store_id\" INTEGER,\n",
      "  \"checks_id\" INTEGER,\n",
      "  \"credit_line_id\" INTEGER,\n",
      "  \"expc\" INTEGER,\n",
      "  \"expr\" INTEGER,\n",
      "  \"year\" INTEGER,\n",
      "  \"comuna_datachile_id\" INTEGER\n",
      ")\n",
      "COPY \"environment\".\"fact_banking_casen\" (\"debit_card_id\",\"credit_card_bank_id\",\"credit_card_store_id\",\"checks_id\",\"credit_line_id\",\"expc\",\"expr\",\"year\",\"comuna_datachile_id\") FROM STDIN WITH CSV HEADER DELIMITER ',';\n"
     ]
    }
   ],
   "source": [
    "engine = create_engine(engine_path)\n",
    "db = postgres.PostgresDriver(engine)\n",
    "db.to_sql(df1, 'environment', 'fact_banking_casen')"
   ]
  },
  {
   "cell_type": "markdown",
   "metadata": {},
   "source": [
    "### Updates"
   ]
  },
  {
   "cell_type": "code",
   "execution_count": 6,
   "metadata": {
    "collapsed": false
   },
   "outputs": [
    {
     "data": {
      "text/plain": [
       "<sqlalchemy.engine.result.ResultProxy at 0x10f2c60b8>"
      ]
     },
     "execution_count": 6,
     "metadata": {},
     "output_type": "execute_result"
    }
   ],
   "source": [
    "engine.execute(\"\"\"\n",
    "ALTER TABLE environment.fact_banking_casen\n",
    "  ADD COLUMN date_id INTEGER; \n",
    "\"\"\")\n",
    "\n",
    "engine.execute(\"\"\"\n",
    "UPDATE environment.fact_banking_casen\n",
    "SET date_id = dim_date.id\n",
    "FROM public.dim_date\n",
    "WHERE dim_date.the_year = environment.fact_banking_casen.year\n",
    "      AND dim_date.month_of_year = 1\n",
    "      AND dim_date.day_of_month = 1\n",
    "\"\"\")\n"
   ]
  },
  {
   "cell_type": "markdown",
   "metadata": {},
   "source": [
    "### Dims"
   ]
  },
  {
   "cell_type": "code",
   "execution_count": 7,
   "metadata": {
    "collapsed": false
   },
   "outputs": [
    {
     "name": "stdout",
     "output_type": "stream",
     "text": [
      "Already downloaded. Using: ../data/banking_products_id.csv\n",
      "Encoding: ascii\n",
      "\n",
      "<InlineTable alias=\"reply\">\n",
      "  <ColumnDefs>\n",
      "    <ColumnDef name=\"id\" type=\"Numeric\" />\n",
      "    <ColumnDef name=\"description\" type=\"String\" />\n",
      "    <ColumnDef name=\"es_description\" type=\"String\" />\n",
      "  </ColumnDefs>\n",
      "  <Rows>\n",
      "    <Row>\n",
      "      <Value column=\"id\">1</Value>\n",
      "      <Value column=\"description\">Si</Value>\n",
      "      <Value column=\"es_description\">Si</Value>\n",
      "    </Row>\n",
      "  <Row>\n",
      "      <Value column=\"id\">2</Value>\n",
      "      <Value column=\"description\">No</Value>\n",
      "      <Value column=\"es_description\">No</Value>\n",
      "    </Row>\n",
      "  <Row>\n",
      "      <Value column=\"id\">0</Value>\n",
      "      <Value column=\"description\">nan</Value>\n",
      "      <Value column=\"es_description\">nan</Value>\n",
      "    </Row>\n",
      "  </Rows>\n",
      "</InlineTable>\n",
      "    \n"
     ]
    }
   ],
   "source": [
    "d2 = download_file(remote_path,local_path,'banking_products_id.csv')\n",
    "print (inline_table_xml(d2, 'reply', 'reply_id', 'reply'))"
   ]
  }
 ],
 "metadata": {
  "kernelspec": {
   "display_name": "Python 3",
   "language": "python",
   "name": "python3"
  },
  "language_info": {
   "codemirror_mode": {
    "name": "ipython",
    "version": 3
   },
   "file_extension": ".py",
   "mimetype": "text/x-python",
   "name": "python",
   "nbconvert_exporter": "python",
   "pygments_lexer": "ipython3",
   "version": "3.6.0"
  }
 },
 "nbformat": 4,
 "nbformat_minor": 2
}
