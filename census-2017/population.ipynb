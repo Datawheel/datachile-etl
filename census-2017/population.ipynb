{
 "cells": [
  {
   "cell_type": "markdown",
   "metadata": {},
   "source": [
    "# CENSO 2017\n",
    "## Sección Población"
   ]
  },
  {
   "cell_type": "code",
   "execution_count": 1,
   "metadata": {},
   "outputs": [],
   "source": [
    "import numpy as np\n",
    "import pandas as pd\n",
    "import os\n",
    "from google_drive_downloader import GoogleDriveDownloader as gdd\n",
    "# pip install googledrivedownloader\n"
   ]
  },
  {
   "cell_type": "code",
   "execution_count": 2,
   "metadata": {},
   "outputs": [],
   "source": [
    "def _download_data(download=True):\n",
    "    if download:\n",
    "        gdd.download_file_from_google_drive(\n",
    "            file_id=\"17wl7P6G_xVY54htNy8tfffcTDTqvzDvD\",\n",
    "            dest_path=\"./data_temp/Microdato_Censo2017-Personas.zip\",\n",
    "            unzip=True\n",
    "        )\n",
    "    return True"
   ]
  },
  {
   "cell_type": "code",
   "execution_count": 3,
   "metadata": {},
   "outputs": [
    {
     "name": "stdout",
     "output_type": "stream",
     "text": [
      "Downloading 17wl7P6G_xVY54htNy8tfffcTDTqvzDvD into ./data_temp/Microdato_Censo2017-Personas.zip... Done.\n",
      "Unzipping...Done.\n"
     ]
    }
   ],
   "source": [
    "_download_data(True)\n",
    "reader = pd.read_csv(\"./data_temp/Microdato_Censo2017-Personas.csv\", sep=\";\", low_memory=False, chunksize=10**3)\n",
    "df = pd.concat([x for x in reader], ignore_index=True)"
   ]
  },
  {
   "cell_type": "code",
   "execution_count": 4,
   "metadata": {},
   "outputs": [],
   "source": [
    "_questions = list(filter(lambda x: x[0] == \"P\" and x[1].isdigit(), list(df)))\n",
    "_questions_to_remove = [\n",
    "    \"P07\", \"P10PAIS_GRUPO\", \"P11PAIS_GRUPO\",\n",
    "    \"P12A_TRAMO\", \"P12PAIS_GRUPO\", \n",
    "    \"P15A\", \"P16A_GRUPO\", \n",
    "    \"P17\", \"P21A\", \"P21M\"\n",
    "]\n",
    "\n",
    "_drop = [\"REGION\", \"PROVINCIA\", \"ZC_LOC\", \"ID_ZONA_LOC\", \"NVIV\", \"NHOGAR\", \"PERSONAN\"] + _questions_to_remove\n",
    "_groupby = [\"COMUNA\", \"AREA\", \"DC\", \"ESCOLARIDAD\"] + list(set(_questions) - set(_questions_to_remove))"
   ]
  },
  {
   "cell_type": "code",
   "execution_count": 5,
   "metadata": {},
   "outputs": [],
   "source": [
    "q = df.drop(columns=_drop).groupby(_groupby)\n",
    "_ = pd.DataFrame({\n",
    "    \"cant_per\" : q.size()\n",
    "}).reset_index()"
   ]
  },
  {
   "cell_type": "code",
   "execution_count": 6,
   "metadata": {},
   "outputs": [],
   "source": [
    "questionnaire = pd.ExcelFile(\"https://docs.google.com/spreadsheets/d/e/2PACX-1vQ4xZxDpyDY4NursNbrsWlCqjREdmBbfC1EMlz4UGQe7M8wMA7Mqw8tZbAcBdkjgBzloyQdcnhiv10C/pub?output=xlsx\")\n",
    "labels = pd.read_excel(questionnaire, \"Labels\")"
   ]
  },
  {
   "cell_type": "code",
   "execution_count": 7,
   "metadata": {},
   "outputs": [],
   "source": [
    "_ = _.rename(columns = { \n",
    "    key: labels[labels[\"id\"] == key].iloc[0][\"label\"] for key in _groupby\n",
    "})"
   ]
  },
  {
   "cell_type": "code",
   "execution_count": 8,
   "metadata": {},
   "outputs": [],
   "source": [
    "geo_datachile_id = pd.read_csv(\"https://docs.google.com/spreadsheets/d/e/2PACX-1vQNfVYuzDbyPvvZkaY61MJBZ9nVkZqxD0RlsBarAv8fyqHzjdyhCQ1FPTLayNPhzR_7yUHTmR94pIl3/pub?gid=0&single=true&output=csv\")\n",
    "geo_datachile_id = geo_datachile_id.drop(columns=[\"region_id\", \"region_name\", \"comuna_tax_office_id\"])\n",
    "\n",
    "geo_datachile_id = geo_datachile_id.fillna(0).astype({\"comuna_census_id\": \"int\"})\n",
    "geo_datachile_id = geo_datachile_id.rename(columns={\"comuna_census_id\": \"comuna_id\"})"
   ]
  },
  {
   "cell_type": "code",
   "execution_count": 9,
   "metadata": {},
   "outputs": [],
   "source": [
    "_ = pd.merge(_, geo_datachile_id, on=\"comuna_id\", how=\"inner\")\n",
    "_ = _.drop(columns=[\"comuna_id\", \"comuna_name\"])"
   ]
  },
  {
   "cell_type": "code",
   "execution_count": 11,
   "metadata": {},
   "outputs": [],
   "source": [
    " # Convert Sex to Datachile Format\n",
    "# Change Sex (1 Hombre) to (2 Hombre)\n",
    "\n",
    "_[\"sex\"] = _[\"sex\"].map({1: 2, 2: 1})"
   ]
  },
  {
   "cell_type": "code",
   "execution_count": 12,
   "metadata": {},
   "outputs": [],
   "source": [
    "aboriginal_people = []\n",
    "for (a, b) in list(zip(_[\"native_list\"],_[\"native_list_other\"])):\n",
    "    \n",
    "    aboriginal_people_id = a\n",
    "\n",
    "    if b > 20 and b < 98:\n",
    "        aboriginal_people_id = b\n",
    "    elif b in [3, 4, 5, 6]:\n",
    "        aboriginal_people_id = 10 + b\n",
    "    \n",
    "    aboriginal_people.append(aboriginal_people_id)\n",
    "\n",
    "_[\"aboriginal_people\"] = aboriginal_people"
   ]
  },
  {
   "cell_type": "code",
   "execution_count": 13,
   "metadata": {},
   "outputs": [],
   "source": [
    "# Unused cols\n",
    "_ = _.drop(columns=[\"native_list\", \"native_list_other\"])"
   ]
  },
  {
   "cell_type": "code",
   "execution_count": 14,
   "metadata": {},
   "outputs": [],
   "source": [
    "# Save changes\n",
    "pd.DataFrame(_).to_csv(\"./data_final/population_census.csv\", index=False)"
   ]
  }
 ],
 "metadata": {
  "kernelspec": {
   "display_name": "Python 3",
   "language": "python",
   "name": "python3"
  },
  "language_info": {
   "codemirror_mode": {
    "name": "ipython",
    "version": 3
   },
   "file_extension": ".py",
   "mimetype": "text/x-python",
   "name": "python",
   "nbconvert_exporter": "python",
   "pygments_lexer": "ipython3",
   "version": "3.6.5"
  }
 },
 "nbformat": 4,
 "nbformat_minor": 2
}
