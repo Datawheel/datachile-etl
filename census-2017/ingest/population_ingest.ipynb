{
 "cells": [
  {
   "cell_type": "markdown",
   "metadata": {},
   "source": [
    "# Census 2017 - Population (Ingestion)"
   ]
  },
  {
   "cell_type": "code",
   "execution_count": 1,
   "metadata": {},
   "outputs": [],
   "source": [
    "import sys\n",
    "import configparser\n",
    "config = configparser.ConfigParser()\n",
    "config.read_file(open(\"../../settings.ini\"))\n",
    "\n",
    "sys.path.insert(0, config.get('PATHS','libs_path'))\n",
    "engine_path = config.get('DATABASE','engine_path')"
   ]
  },
  {
   "cell_type": "code",
   "execution_count": 2,
   "metadata": {},
   "outputs": [],
   "source": [
    "local_path = \"../data_final/\"\n",
    "remote_path = \"/\""
   ]
  },
  {
   "cell_type": "code",
   "execution_count": 3,
   "metadata": {},
   "outputs": [],
   "source": [
    "# from local file postgres.py\n",
    "import postgres\n",
    "# from local file commons.py\n",
    "from commons import inline_table_xml, inline_dimension_xml, download_file, download_zip_file, extract_zip_file\n",
    "\n",
    "import json\n",
    "import pandas as pd\n",
    "from sqlalchemy import create_engine"
   ]
  },
  {
   "cell_type": "code",
   "execution_count": 4,
   "metadata": {},
   "outputs": [
    {
     "name": "stdout",
     "output_type": "stream",
     "text": [
      "Already downloaded. Using: ../data_final/population_census.csv\n"
     ]
    }
   ],
   "source": [
    "df1 = download_file(remote_path, local_path, \"population_census.csv\")"
   ]
  },
  {
   "cell_type": "code",
   "execution_count": 5,
   "metadata": {},
   "outputs": [
    {
     "data": {
      "text/html": [
       "<div>\n",
       "<style scoped>\n",
       "    .dataframe tbody tr th:only-of-type {\n",
       "        vertical-align: middle;\n",
       "    }\n",
       "\n",
       "    .dataframe tbody tr th {\n",
       "        vertical-align: top;\n",
       "    }\n",
       "\n",
       "    .dataframe thead th {\n",
       "        text-align: right;\n",
       "    }\n",
       "</style>\n",
       "<table border=\"1\" class=\"dataframe\">\n",
       "  <thead>\n",
       "    <tr style=\"text-align: right;\">\n",
       "      <th></th>\n",
       "      <th>area_id</th>\n",
       "      <th>district_id</th>\n",
       "      <th>scholarship</th>\n",
       "      <th>birth_place</th>\n",
       "      <th>residence_country</th>\n",
       "      <th>highest_course_approved</th>\n",
       "      <th>children_born_alive</th>\n",
       "      <th>age</th>\n",
       "      <th>residence_comuna</th>\n",
       "      <th>residence_5_years_ago</th>\n",
       "      <th>...</th>\n",
       "      <th>year_of_arrival_to_chile</th>\n",
       "      <th>children_currently_alive</th>\n",
       "      <th>highest_level_approved</th>\n",
       "      <th>birth_comuna</th>\n",
       "      <th>native_people</th>\n",
       "      <th>economy_activity</th>\n",
       "      <th>cant_per</th>\n",
       "      <th>comuna_datachile_id</th>\n",
       "      <th>comuna_customs_id</th>\n",
       "      <th>aboriginal_people</th>\n",
       "    </tr>\n",
       "  </thead>\n",
       "  <tbody>\n",
       "    <tr>\n",
       "      <th>0</th>\n",
       "      <td>1</td>\n",
       "      <td>1</td>\n",
       "      <td>0</td>\n",
       "      <td>1</td>\n",
       "      <td>256</td>\n",
       "      <td>0</td>\n",
       "      <td>0</td>\n",
       "      <td>67</td>\n",
       "      <td>98</td>\n",
       "      <td>2</td>\n",
       "      <td>...</td>\n",
       "      <td>9998</td>\n",
       "      <td>98</td>\n",
       "      <td>4</td>\n",
       "      <td>98</td>\n",
       "      <td>2</td>\n",
       "      <td>98</td>\n",
       "      <td>1</td>\n",
       "      <td>113</td>\n",
       "      <td>1101</td>\n",
       "      <td>98</td>\n",
       "    </tr>\n",
       "    <tr>\n",
       "      <th>1</th>\n",
       "      <td>1</td>\n",
       "      <td>1</td>\n",
       "      <td>0</td>\n",
       "      <td>1</td>\n",
       "      <td>256</td>\n",
       "      <td>0</td>\n",
       "      <td>98</td>\n",
       "      <td>0</td>\n",
       "      <td>98</td>\n",
       "      <td>1</td>\n",
       "      <td>...</td>\n",
       "      <td>9998</td>\n",
       "      <td>98</td>\n",
       "      <td>1</td>\n",
       "      <td>98</td>\n",
       "      <td>1</td>\n",
       "      <td>98</td>\n",
       "      <td>1</td>\n",
       "      <td>113</td>\n",
       "      <td>1101</td>\n",
       "      <td>1</td>\n",
       "    </tr>\n",
       "    <tr>\n",
       "      <th>2</th>\n",
       "      <td>1</td>\n",
       "      <td>1</td>\n",
       "      <td>0</td>\n",
       "      <td>1</td>\n",
       "      <td>256</td>\n",
       "      <td>0</td>\n",
       "      <td>98</td>\n",
       "      <td>0</td>\n",
       "      <td>98</td>\n",
       "      <td>1</td>\n",
       "      <td>...</td>\n",
       "      <td>9998</td>\n",
       "      <td>98</td>\n",
       "      <td>1</td>\n",
       "      <td>98</td>\n",
       "      <td>2</td>\n",
       "      <td>98</td>\n",
       "      <td>6</td>\n",
       "      <td>113</td>\n",
       "      <td>1101</td>\n",
       "      <td>98</td>\n",
       "    </tr>\n",
       "    <tr>\n",
       "      <th>3</th>\n",
       "      <td>1</td>\n",
       "      <td>1</td>\n",
       "      <td>0</td>\n",
       "      <td>1</td>\n",
       "      <td>256</td>\n",
       "      <td>0</td>\n",
       "      <td>98</td>\n",
       "      <td>0</td>\n",
       "      <td>98</td>\n",
       "      <td>1</td>\n",
       "      <td>...</td>\n",
       "      <td>9998</td>\n",
       "      <td>98</td>\n",
       "      <td>1</td>\n",
       "      <td>98</td>\n",
       "      <td>2</td>\n",
       "      <td>98</td>\n",
       "      <td>3</td>\n",
       "      <td>113</td>\n",
       "      <td>1101</td>\n",
       "      <td>98</td>\n",
       "    </tr>\n",
       "    <tr>\n",
       "      <th>4</th>\n",
       "      <td>1</td>\n",
       "      <td>1</td>\n",
       "      <td>0</td>\n",
       "      <td>1</td>\n",
       "      <td>256</td>\n",
       "      <td>0</td>\n",
       "      <td>98</td>\n",
       "      <td>1</td>\n",
       "      <td>98</td>\n",
       "      <td>1</td>\n",
       "      <td>...</td>\n",
       "      <td>9998</td>\n",
       "      <td>98</td>\n",
       "      <td>1</td>\n",
       "      <td>98</td>\n",
       "      <td>1</td>\n",
       "      <td>98</td>\n",
       "      <td>1</td>\n",
       "      <td>113</td>\n",
       "      <td>1101</td>\n",
       "      <td>1</td>\n",
       "    </tr>\n",
       "  </tbody>\n",
       "</table>\n",
       "<p>5 rows × 26 columns</p>\n",
       "</div>"
      ],
      "text/plain": [
       "   area_id  district_id  scholarship  birth_place  residence_country  \\\n",
       "0        1            1            0            1                256   \n",
       "1        1            1            0            1                256   \n",
       "2        1            1            0            1                256   \n",
       "3        1            1            0            1                256   \n",
       "4        1            1            0            1                256   \n",
       "\n",
       "   highest_course_approved  children_born_alive  age  residence_comuna  \\\n",
       "0                        0                    0   67                98   \n",
       "1                        0                   98    0                98   \n",
       "2                        0                   98    0                98   \n",
       "3                        0                   98    0                98   \n",
       "4                        0                   98    1                98   \n",
       "\n",
       "   residence_5_years_ago        ...          year_of_arrival_to_chile  \\\n",
       "0                      2        ...                              9998   \n",
       "1                      1        ...                              9998   \n",
       "2                      1        ...                              9998   \n",
       "3                      1        ...                              9998   \n",
       "4                      1        ...                              9998   \n",
       "\n",
       "   children_currently_alive  highest_level_approved  birth_comuna  \\\n",
       "0                        98                       4            98   \n",
       "1                        98                       1            98   \n",
       "2                        98                       1            98   \n",
       "3                        98                       1            98   \n",
       "4                        98                       1            98   \n",
       "\n",
       "   native_people  economy_activity  cant_per  comuna_datachile_id  \\\n",
       "0              2                98         1                  113   \n",
       "1              1                98         1                  113   \n",
       "2              2                98         6                  113   \n",
       "3              2                98         3                  113   \n",
       "4              1                98         1                  113   \n",
       "\n",
       "   comuna_customs_id  aboriginal_people  \n",
       "0               1101                 98  \n",
       "1               1101                  1  \n",
       "2               1101                 98  \n",
       "3               1101                 98  \n",
       "4               1101                  1  \n",
       "\n",
       "[5 rows x 26 columns]"
      ]
     },
     "execution_count": 5,
     "metadata": {},
     "output_type": "execute_result"
    }
   ],
   "source": [
    "df1.head()"
   ]
  },
  {
   "cell_type": "code",
   "execution_count": 6,
   "metadata": {},
   "outputs": [],
   "source": [
    "df1 = df1.rename(columns = {\"comuna_datachile_id\": \"comuna_id\"})"
   ]
  },
  {
   "cell_type": "code",
   "execution_count": 7,
   "metadata": {},
   "outputs": [
    {
     "name": "stdout",
     "output_type": "stream",
     "text": [
      "DROP TABLE IF EXISTS census.fact_population_census;\n",
      "CREATE TABLE \"census\".\"fact_population_census\" (\n",
      "\"area_id\" INTEGER,\n",
      "  \"district_id\" INTEGER,\n",
      "  \"scholarship\" INTEGER,\n",
      "  \"birth_place\" INTEGER,\n",
      "  \"residence_country\" INTEGER,\n",
      "  \"highest_course_approved\" INTEGER,\n",
      "  \"children_born_alive\" INTEGER,\n",
      "  \"age\" INTEGER,\n",
      "  \"residence_comuna\" INTEGER,\n",
      "  \"residence_5_years_ago\" INTEGER,\n",
      "  \"residence_comuna_5_years_ago\" INTEGER,\n",
      "  \"habitual_residence\" INTEGER,\n",
      "  \"sex\" INTEGER,\n",
      "  \"formal_education\" INTEGER,\n",
      "  \"birth_country\" INTEGER,\n",
      "  \"residence_country_5_years_ago\" INTEGER,\n",
      "  \"year_of_arrival_to_chile\" INTEGER,\n",
      "  \"children_currently_alive\" INTEGER,\n",
      "  \"highest_level_approved\" INTEGER,\n",
      "  \"birth_comuna\" INTEGER,\n",
      "  \"native_people\" INTEGER,\n",
      "  \"economy_activity\" TEXT,\n",
      "  \"cant_per\" INTEGER,\n",
      "  \"comuna_id\" INTEGER,\n",
      "  \"comuna_customs_id\" INTEGER,\n",
      "  \"aboriginal_people\" INTEGER\n",
      ")\n",
      "COPY \"census\".\"fact_population_census\" (\"area_id\",\"district_id\",\"scholarship\",\"birth_place\",\"residence_country\",\"highest_course_approved\",\"children_born_alive\",\"age\",\"residence_comuna\",\"residence_5_years_ago\",\"residence_comuna_5_years_ago\",\"habitual_residence\",\"sex\",\"formal_education\",\"birth_country\",\"residence_country_5_years_ago\",\"year_of_arrival_to_chile\",\"children_currently_alive\",\"highest_level_approved\",\"birth_comuna\",\"native_people\",\"economy_activity\",\"cant_per\",\"comuna_id\",\"comuna_customs_id\",\"aboriginal_people\") FROM STDIN WITH CSV HEADER DELIMITER ',';\n"
     ]
    }
   ],
   "source": [
    "engine = create_engine(engine_path)\n",
    "db = postgres.PostgresDriver(engine)\n",
    "db.to_sql(df1, \"census\", \"fact_population_census\")"
   ]
  },
  {
   "cell_type": "code",
   "execution_count": 8,
   "metadata": {},
   "outputs": [
    {
     "data": {
      "text/plain": [
       "<sqlalchemy.engine.result.ResultProxy at 0x115c890b8>"
      ]
     },
     "execution_count": 8,
     "metadata": {},
     "output_type": "execute_result"
    }
   ],
   "source": [
    "engine.execute(\"\"\"\n",
    "CREATE INDEX fact_population_census_index \n",
    "ON census.fact_population_census (comuna_id)\n",
    "\"\"\")"
   ]
  },
  {
   "cell_type": "code",
   "execution_count": null,
   "metadata": {},
   "outputs": [],
   "source": [
    "# Read questionnaire file\n",
    "questionnaire = pd.ExcelFile(\"https://docs.google.com/spreadsheets/d/e/2PACX-1vQ4xZxDpyDY4NursNbrsWlCqjREdmBbfC1EMlz4UGQe7M8wMA7Mqw8tZbAcBdkjgBzloyQdcnhiv10C/pub?output=xlsx\")\n",
    "labels = pd.read_excel(questionnaire, \"Labels\")\n",
    "\n",
    "id_labels = list(df1) - []\n",
    "for label in list(df1):\n",
    "    q = labels[labels[\"label\"] == label].iloc[0][\"id\"]\n",
    "    if q[0] == \"_\" or q[0] == \"P\":\n",
    "        df = pd.read_excel(questionnaire, q)\n",
    "        print (inline_dimension_xml(df, label, \"id\", \"es\", label))"
   ]
  }
 ],
 "metadata": {
  "kernelspec": {
   "display_name": "Python 3",
   "language": "python",
   "name": "python3"
  },
  "language_info": {
   "codemirror_mode": {
    "name": "ipython",
    "version": 3
   },
   "file_extension": ".py",
   "mimetype": "text/x-python",
   "name": "python",
   "nbconvert_exporter": "python",
   "pygments_lexer": "ipython3",
   "version": "3.7.0"
  }
 },
 "nbformat": 4,
 "nbformat_minor": 2
}
