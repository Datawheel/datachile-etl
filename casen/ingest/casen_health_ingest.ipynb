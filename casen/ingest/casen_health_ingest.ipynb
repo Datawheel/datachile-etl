{
 "cells": [
  {
   "cell_type": "markdown",
   "metadata": {},
   "source": [
    "# Import & Load CASEN health data"
   ]
  },
  {
   "cell_type": "markdown",
   "metadata": {},
   "source": [
    "### Config"
   ]
  },
  {
   "cell_type": "code",
   "execution_count": 35,
   "metadata": {},
   "outputs": [],
   "source": [
    "import sys,os\n",
    "import configparser\n",
    "config = configparser.ConfigParser()\n",
    "config.read_file(open('../../settings.ini'))\n",
    "\n",
    "sys.path.insert(0, config.get('PATHS','libs_path'))\n",
    "engine_path = config.get('DATABASE','engine_path')"
   ]
  },
  {
   "cell_type": "code",
   "execution_count": 36,
   "metadata": {},
   "outputs": [],
   "source": [
    "remote_path = 'http://pacha.datawheel.us/'\n",
    "local_path = '../data/'"
   ]
  },
  {
   "cell_type": "code",
   "execution_count": 37,
   "metadata": {},
   "outputs": [],
   "source": [
    "import postgres #from local file postgres.py\n",
    "from commons import inline_table_xml, inline_dimension_xml, download_file, download_zip_file, extract_zip_file #from local file commons.py\n",
    "\n",
    "import json\n",
    "import pandas as pd\n",
    "from sqlalchemy import create_engine"
   ]
  },
  {
   "cell_type": "markdown",
   "metadata": {},
   "source": [
    "### Load data"
   ]
  },
  {
   "cell_type": "code",
   "execution_count": 38,
   "metadata": {},
   "outputs": [
    {
     "name": "stdout",
     "output_type": "stream",
     "text": [
      "Downloading... http://pacha.datawheel.us/healthsystem.zip\n",
      "Unzipping... ../data/temp.zip\n"
     ]
    },
    {
     "data": {
      "text/plain": [
       "True"
      ]
     },
     "execution_count": 38,
     "metadata": {},
     "output_type": "execute_result"
    }
   ],
   "source": [
    "download_zip_file(remote_path,\n",
    "                  local_path,\n",
    "                  \"healthsystem.zip\")\n",
    "\n",
    "extract_zip_file(local_path, \"temp.zip\")"
   ]
  },
  {
   "cell_type": "code",
   "execution_count": 41,
   "metadata": {},
   "outputs": [],
   "source": [
    "df1 = pd.read_csv(os.path.join(local_path, \"healthsystem.csv\"),low_memory=True)"
   ]
  },
  {
   "cell_type": "code",
   "execution_count": 42,
   "metadata": {},
   "outputs": [
    {
     "data": {
      "text/plain": [
       "['year', 'comuna_datachile_id', 'health_system_id', 'expc', 'expr']"
      ]
     },
     "execution_count": 42,
     "metadata": {},
     "output_type": "execute_result"
    }
   ],
   "source": [
    "df1 = df1.astype({'year':'int','comuna_datachile_id':'int','health_system_id':'int'})\n",
    "list(df1)"
   ]
  },
  {
   "cell_type": "code",
   "execution_count": 43,
   "metadata": {},
   "outputs": [
    {
     "name": "stdout",
     "output_type": "stream",
     "text": [
      "DROP TABLE IF EXISTS health.fact_health_system_casen;\n",
      "CREATE TABLE \"health\".\"fact_health_system_casen\" (\n",
      "\"year\" INTEGER,\n",
      "  \"comuna_datachile_id\" INTEGER,\n",
      "  \"health_system_id\" INTEGER,\n",
      "  \"expc\" INTEGER,\n",
      "  \"expr\" INTEGER\n",
      ")\n",
      "COPY \"health\".\"fact_health_system_casen\" (\"year\",\"comuna_datachile_id\",\"health_system_id\",\"expc\",\"expr\") FROM STDIN WITH CSV HEADER DELIMITER ',';\n"
     ]
    }
   ],
   "source": [
    "engine = create_engine(engine_path)\n",
    "db = postgres.PostgresDriver(engine)\n",
    "db.to_sql(df1, 'health', 'fact_health_system_casen')"
   ]
  },
  {
   "cell_type": "markdown",
   "metadata": {},
   "source": [
    "### Dims"
   ]
  },
  {
   "cell_type": "code",
   "execution_count": 50,
   "metadata": {},
   "outputs": [
    {
     "name": "stdout",
     "output_type": "stream",
     "text": [
      "\n",
      "<InlineTable alias=\"health_system\">\n",
      "  <ColumnDefs>\n",
      "    <ColumnDef name=\"id\" type=\"Numeric\" />\n",
      "    <ColumnDef name=\"description\" type=\"String\" />\n",
      "    <ColumnDef name=\"es_description\" type=\"String\" />\n",
      "  </ColumnDefs>\n",
      "  <Rows>\n",
      "    <Row>\n",
      "      <Value column=\"id\">1</Value>\n",
      "      <Value column=\"description\">Fonasa A</Value>\n",
      "      <Value column=\"es_description\">Fonasa A</Value>\n",
      "    </Row>\n",
      "  <Row>\n",
      "      <Value column=\"id\">2</Value>\n",
      "      <Value column=\"description\">Fonasa B</Value>\n",
      "      <Value column=\"es_description\">Fonasa B</Value>\n",
      "    </Row>\n",
      "  <Row>\n",
      "      <Value column=\"id\">3</Value>\n",
      "      <Value column=\"description\">Fonasa C</Value>\n",
      "      <Value column=\"es_description\">Fonasa C</Value>\n",
      "    </Row>\n",
      "  <Row>\n",
      "      <Value column=\"id\">4</Value>\n",
      "      <Value column=\"description\">Fonasa D</Value>\n",
      "      <Value column=\"es_description\">Fonasa D</Value>\n",
      "    </Row>\n",
      "  <Row>\n",
      "      <Value column=\"id\">5</Value>\n",
      "      <Value column=\"description\">Fonasa (no sabe grupo)</Value>\n",
      "      <Value column=\"es_description\">Fonasa (no sabe grupo)</Value>\n",
      "    </Row>\n",
      "  <Row>\n",
      "      <Value column=\"id\">6</Value>\n",
      "      <Value column=\"description\">Fuerzas Armadas, de Orden y Seguridad Pública</Value>\n",
      "      <Value column=\"es_description\">Fuerzas Armadas, de Orden y Seguridad Pública</Value>\n",
      "    </Row>\n",
      "  <Row>\n",
      "      <Value column=\"id\">7</Value>\n",
      "      <Value column=\"description\">Isapre</Value>\n",
      "      <Value column=\"es_description\">Isapre</Value>\n",
      "    </Row>\n",
      "  <Row>\n",
      "      <Value column=\"id\">8</Value>\n",
      "      <Value column=\"description\">Ninguno</Value>\n",
      "      <Value column=\"es_description\">Ninguno</Value>\n",
      "    </Row>\n",
      "  <Row>\n",
      "      <Value column=\"id\">9</Value>\n",
      "      <Value column=\"description\">Otro sistema</Value>\n",
      "      <Value column=\"es_description\">Otro sistema</Value>\n",
      "    </Row>\n",
      "  <Row>\n",
      "      <Value column=\"id\">10</Value>\n",
      "      <Value column=\"description\">No sabe</Value>\n",
      "      <Value column=\"es_description\">No sabe</Value>\n",
      "    </Row>\n",
      "  <Row>\n",
      "      <Value column=\"id\">0</Value>\n",
      "      <Value column=\"description\">0</Value>\n",
      "      <Value column=\"es_description\">0</Value>\n",
      "    </Row>\n",
      "  </Rows>\n",
      "</InlineTable>\n",
      "    \n"
     ]
    }
   ],
   "source": [
    "d2 = pd.read_csv(os.path.join(local_path, \"healthsystem_ids.csv\"),low_memory=True)\n",
    "d2 = d2.fillna(0)\n",
    "d2 = d2.astype({'health_system_id':'int'})\n",
    "print (inline_table_xml(d2, 'health_system', 'health_system_id', 'health_system'))"
   ]
  }
 ],
 "metadata": {
  "kernelspec": {
   "display_name": "Python 3",
   "language": "python",
   "name": "python3"
  },
  "language_info": {
   "codemirror_mode": {
    "name": "ipython",
    "version": 3
   },
   "file_extension": ".py",
   "mimetype": "text/x-python",
   "name": "python",
   "nbconvert_exporter": "python",
   "pygments_lexer": "ipython3",
   "version": "3.6.3"
  }
 },
 "nbformat": 4,
 "nbformat_minor": 2
}
