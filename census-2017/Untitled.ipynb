{
 "cells": [
  {
   "cell_type": "code",
   "execution_count": null,
   "metadata": {},
   "outputs": [],
   "source": [
    "[\n",
    "    {\"P01\": \"housing_type\", \"1AtM4KZ64R5IZPGRg6TRCZ6coIyHsp4SX\"},\n",
    "    {\"P02\": \"housing_occupation\", \"1naM_fGt3FcKfpxgawGzXC1DtaIqU2tj9\"}, \n",
    "    {\"P03A\": \"walls_material\", \"1TX9oImzzn6TwC9ZJUTSn03uHO2KxwKeR\"}, \n",
    "    {\"P03B\": \"ceiling_material\", \"1C0c4xWbyVFPrpGwPx4MIvZY7SaZFYtqb\"}, \n",
    "    {\"P03C\": \"floor_material\", \"1GJ60J2qC4L-rNHcBlFBH7yFt9CoDkWB-\"}, \n",
    "    {\"P04\": \"rooms\", \"1tZB6UGfMP8z4BdG8Vx1DGbNUY5hdkiF2\"},\n",
    "    {\"P05\": \"water_source\"},\n",
    "]"
   ]
  }
 ],
 "metadata": {
  "kernelspec": {
   "display_name": "Python 3",
   "language": "python",
   "name": "python3"
  },
  "language_info": {
   "codemirror_mode": {
    "name": "ipython",
    "version": 3
   },
   "file_extension": ".py",
   "mimetype": "text/x-python",
   "name": "python",
   "nbconvert_exporter": "python",
   "pygments_lexer": "ipython3",
   "version": "3.6.4"
  }
 },
 "nbformat": 4,
 "nbformat_minor": 2
}
