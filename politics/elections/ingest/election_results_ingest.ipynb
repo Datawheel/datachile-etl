{
 "cells": [
  {
   "cell_type": "markdown",
   "metadata": {},
   "source": [
    "# Import & Load Election results data"
   ]
  },
  {
   "cell_type": "markdown",
   "metadata": {},
   "source": [
    "### Config"
   ]
  },
  {
   "cell_type": "code",
   "execution_count": 1,
   "metadata": {
    "collapsed": true
   },
   "outputs": [],
   "source": [
    "import sys\n",
    "import configparser\n",
    "config = configparser.ConfigParser()\n",
    "config.read_file(open('../../../settings.ini'))\n",
    "\n",
    "sys.path.insert(0, config.get('PATHS','libs_path'))\n",
    "engine_path = config.get('DATABASE','engine_path')"
   ]
  },
  {
   "cell_type": "markdown",
   "metadata": {},
   "source": [
    "### Main params"
   ]
  },
  {
   "cell_type": "code",
   "execution_count": 2,
   "metadata": {
    "collapsed": true
   },
   "outputs": [],
   "source": [
    "remote_path = 'http://pacha.datawheel.us/'\n",
    "local_path = '../data/'"
   ]
  },
  {
   "cell_type": "markdown",
   "metadata": {},
   "source": [
    "### Imports"
   ]
  },
  {
   "cell_type": "code",
   "execution_count": 3,
   "metadata": {
    "collapsed": true
   },
   "outputs": [],
   "source": [
    "import postgres #from local file postgres.py\n",
    "from commons import inline_table_xml, inline_dimension_xml, download_file, download_zip_file, extract_zip_file #from local file commons.py\n",
    "\n",
    "import json\n",
    "import pandas as pd\n",
    "from sqlalchemy import create_engine"
   ]
  },
  {
   "cell_type": "markdown",
   "metadata": {},
   "source": [
    "### Load file"
   ]
  },
  {
   "cell_type": "code",
   "execution_count": 4,
   "metadata": {
    "collapsed": false
   },
   "outputs": [
    {
     "name": "stdout",
     "output_type": "stream",
     "text": [
      "Downloading... http://pacha.datawheel.us/politics3.zip\n",
      "Unzipping... ../data/temp.zip\n"
     ]
    },
    {
     "data": {
      "text/plain": [
       "True"
      ]
     },
     "execution_count": 4,
     "metadata": {},
     "output_type": "execute_result"
    }
   ],
   "source": [
    "download_zip_file(remote_path,\n",
    "                  local_path,\n",
    "                  \"politics3.zip\")\n",
    "\n",
    "extract_zip_file(local_path, \"temp.zip\")"
   ]
  },
  {
   "cell_type": "code",
   "execution_count": 5,
   "metadata": {
    "collapsed": false
   },
   "outputs": [
    {
     "name": "stdout",
     "output_type": "stream",
     "text": [
      "Already downloaded. Using: ../data/m2016-procesado.csv\n",
      "Already downloaded. Using: ../data/s2009-procesado.csv\n",
      "Already downloaded. Using: ../data/s2013-procesado.csv\n",
      "Already downloaded. Using: ../data/s2017-procesado.csv\n",
      "Already downloaded. Using: ../data/d2013-procesado.csv\n",
      "Already downloaded. Using: ../data/d2017-procesado.csv\n",
      "Already downloaded. Using: ../data/p20131-procesado.csv\n",
      "Already downloaded. Using: ../data/p20132-procesado.csv\n",
      "Already downloaded. Using: ../data/p20171-procesado.csv\n",
      "Already downloaded. Using: ../data/p20172-procesado.csv\n"
     ]
    }
   ],
   "source": [
    "m2016 = download_file(remote_path,local_path,'m2016-procesado.csv')\n",
    "\n",
    "s2009 = download_file(remote_path,local_path,'s2009-procesado.csv')\n",
    "s2013 = download_file(remote_path,local_path,'s2013-procesado.csv')\n",
    "s2017 = download_file(remote_path,local_path,'s2017-procesado.csv')\n",
    "\n",
    "d2013 = download_file(remote_path,local_path,'d2013-procesado.csv')\n",
    "d2017 = download_file(remote_path,local_path,'d2017-procesado.csv')\n",
    "\n",
    "p20131 = download_file(remote_path,local_path,'p20131-procesado.csv')\n",
    "p20132 = download_file(remote_path,local_path,'p20132-procesado.csv')\n",
    "p20171 = download_file(remote_path,local_path,'p20171-procesado.csv')\n",
    "p20172 = download_file(remote_path,local_path,'p20172-procesado.csv')\n"
   ]
  },
  {
   "cell_type": "code",
   "execution_count": 6,
   "metadata": {
    "collapsed": false
   },
   "outputs": [
    {
     "data": {
      "text/plain": [
       "['year',\n",
       " 'election_id',\n",
       " 'comuna_datachile_id',\n",
       " 'candidate_id',\n",
       " 'party_id',\n",
       " 'votes',\n",
       " 'elected']"
      ]
     },
     "execution_count": 6,
     "metadata": {},
     "output_type": "execute_result"
    }
   ],
   "source": [
    "#Parlamentarias\n",
    "dfParla = pd.concat([s2009,s2013,s2017,d2013,d2017], axis=0, ignore_index=True)\n",
    "dfParla = dfParla[['year','election_id','comuna_datachile_id','candidato_id','partido_id','votos_candidato','electo']]\n",
    "dfParla = dfParla.rename(columns={'votos_candidato':'votes','candidato_id':'candidate_id','partido_id':'party_id','circ_senatorial':'circunscription_id','electo':'elected'})\n",
    "list(dfParla)"
   ]
  },
  {
   "cell_type": "code",
   "execution_count": 7,
   "metadata": {
    "collapsed": false
   },
   "outputs": [
    {
     "data": {
      "text/plain": [
       "['candidate_id',\n",
       " 'comuna_datachile_id',\n",
       " 'election_id',\n",
       " 'elected',\n",
       " 'party_id',\n",
       " 'votes',\n",
       " 'year']"
      ]
     },
     "execution_count": 7,
     "metadata": {},
     "output_type": "execute_result"
    }
   ],
   "source": [
    "#presidencial\n",
    "dfPresi = pd.concat([p20131,p20132,p20171,p20172], axis=0, ignore_index=True)\n",
    "\n",
    "#dfPresi2013 = dfPresi2013.rename(columns={'votos':'votes','candidato_id':'candidate_id','partido_id':'party_id','electo':'elected','lugar':'place'})\n",
    "#dfPresi2017 = dfPresi2017.rename(columns={'votos':'votes','candidato_id':'candidate_id','partido_id':'party_id','electo':'elected','lugar':'place'})\n",
    "dfPresi = dfPresi.rename(columns={'votos_candidato':'votes','candidato_id':'candidate_id','partido_id':'party_id','electo':'elected','lugar':'place'})\n",
    "list(dfPresi)"
   ]
  },
  {
   "cell_type": "code",
   "execution_count": 8,
   "metadata": {
    "collapsed": false
   },
   "outputs": [
    {
     "data": {
      "text/plain": [
       "['comuna_datachile_id',\n",
       " 'candidate_id',\n",
       " 'party_id',\n",
       " 'votes',\n",
       " 'elected',\n",
       " 'year',\n",
       " 'election_id']"
      ]
     },
     "execution_count": 8,
     "metadata": {},
     "output_type": "execute_result"
    }
   ],
   "source": [
    "#comunal\n",
    "dfMuni2016 = m2016.rename(columns={'votos_candidato':'votes','candidato_id':'candidate_id','partido_id':'party_id','electo':'elected','lugar':'place'})\n",
    "list(dfMuni2016)"
   ]
  },
  {
   "cell_type": "code",
   "execution_count": 9,
   "metadata": {
    "collapsed": false
   },
   "outputs": [
    {
     "data": {
      "text/plain": [
       "['candidate_id',\n",
       " 'comuna_datachile_id',\n",
       " 'elected',\n",
       " 'election_id',\n",
       " 'party_id',\n",
       " 'votes',\n",
       " 'year']"
      ]
     },
     "execution_count": 9,
     "metadata": {},
     "output_type": "execute_result"
    }
   ],
   "source": [
    "#all together\n",
    "df = pd.concat([dfParla,dfMuni2016,dfPresi], axis=0, ignore_index=True)\n",
    "\n",
    "#df[['elected']] = df[['elected']].fillna(value=0)\n",
    "#df[['place']] = df[['place']].fillna(value=-1)\n",
    "#df[['circunscription_id']] = df[['circunscription_id']].fillna(value=-1)\n",
    "\n",
    "df = df.astype({'election_id':'int','votes':'int','year':'int','elected':'int','comuna_datachile_id':'int','party_id':'int','candidate_id':'int'})\n",
    "list(df)"
   ]
  },
  {
   "cell_type": "markdown",
   "metadata": {},
   "source": [
    "### Ingest"
   ]
  },
  {
   "cell_type": "code",
   "execution_count": 10,
   "metadata": {
    "collapsed": false
   },
   "outputs": [
    {
     "name": "stdout",
     "output_type": "stream",
     "text": [
      "DROP TABLE IF EXISTS politics.fact_election_results_update;\n",
      "CREATE TABLE \"politics\".\"fact_election_results_update\" (\n",
      "\"candidate_id\" INTEGER,\n",
      "  \"comuna_datachile_id\" INTEGER,\n",
      "  \"elected\" INTEGER,\n",
      "  \"election_id\" INTEGER,\n",
      "  \"party_id\" INTEGER,\n",
      "  \"votes\" INTEGER,\n",
      "  \"year\" INTEGER\n",
      ")\n",
      "COPY \"politics\".\"fact_election_results_update\" (\"candidate_id\",\"comuna_datachile_id\",\"elected\",\"election_id\",\"party_id\",\"votes\",\"year\") FROM STDIN WITH CSV HEADER DELIMITER ',';\n"
     ]
    }
   ],
   "source": [
    "engine = create_engine(engine_path)\n",
    "db = postgres.PostgresDriver(engine)\n",
    "db.to_sql(df, 'politics', 'fact_election_results_update')"
   ]
  },
  {
   "cell_type": "markdown",
   "metadata": {},
   "source": [
    "### Update empty values"
   ]
  },
  {
   "cell_type": "code",
   "execution_count": 11,
   "metadata": {
    "collapsed": false
   },
   "outputs": [],
   "source": [
    "#engine.execute(\"\"\"\n",
    "#UPDATE politics.fact_election_results_update SET place = NULL where place = -1;\n",
    "#\"\"\")"
   ]
  },
  {
   "cell_type": "markdown",
   "metadata": {},
   "source": [
    "### Indexes & FK"
   ]
  },
  {
   "cell_type": "code",
   "execution_count": 12,
   "metadata": {
    "collapsed": false
   },
   "outputs": [
    {
     "data": {
      "text/plain": [
       "<sqlalchemy.engine.result.ResultProxy at 0x11ae647f0>"
      ]
     },
     "execution_count": 12,
     "metadata": {},
     "output_type": "execute_result"
    }
   ],
   "source": [
    "engine.execute(\"\"\"\n",
    "CREATE INDEX fact_election_results_update_comuna_datachile_id \n",
    "ON politics.fact_election_results_update (comuna_datachile_id)\n",
    "\"\"\")"
   ]
  }
 ],
 "metadata": {
  "kernelspec": {
   "display_name": "Python 3",
   "language": "python",
   "name": "python3"
  },
  "language_info": {
   "codemirror_mode": {
    "name": "ipython",
    "version": 3
   },
   "file_extension": ".py",
   "mimetype": "text/x-python",
   "name": "python",
   "nbconvert_exporter": "python",
   "pygments_lexer": "ipython3",
   "version": "3.6.0"
  }
 },
 "nbformat": 4,
 "nbformat_minor": 2
}
