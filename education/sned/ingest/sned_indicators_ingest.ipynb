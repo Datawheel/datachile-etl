{
 "cells": [
  {
   "cell_type": "markdown",
   "metadata": {},
   "source": [
    "# Ingest education: Sistema Nacional de Evaluación de Desempeño (SNED)"
   ]
  },
  {
   "cell_type": "markdown",
   "metadata": {},
   "source": [
    "### Config"
   ]
  },
  {
   "cell_type": "code",
   "execution_count": 1,
   "metadata": {
    "collapsed": false
   },
   "outputs": [],
   "source": [
    "import sys\n",
    "import configparser\n",
    "config = configparser.ConfigParser()\n",
    "config.read_file(open('../../../settings.ini'))\n",
    "\n",
    "sys.path.insert(0, config.get('PATHS','libs_path'))\n",
    "engine_path = config.get('DATABASE','engine_path')"
   ]
  },
  {
   "cell_type": "markdown",
   "metadata": {},
   "source": [
    "### Main params"
   ]
  },
  {
   "cell_type": "code",
   "execution_count": 2,
   "metadata": {
    "collapsed": true
   },
   "outputs": [],
   "source": [
    "remote_path = 'http://pacha.datawheel.us/'\n",
    "local_path = '../data/'"
   ]
  },
  {
   "cell_type": "markdown",
   "metadata": {},
   "source": [
    "### Imports"
   ]
  },
  {
   "cell_type": "code",
   "execution_count": 3,
   "metadata": {
    "collapsed": false
   },
   "outputs": [],
   "source": [
    "import postgres #from local file postgres.py\n",
    "from commons import inline_table_xml, download_file, download_zip_file, extract_zip_file #from local file commons.py\n",
    "\n",
    "import json\n",
    "import pandas as pd\n",
    "from sqlalchemy import create_engine"
   ]
  },
  {
   "cell_type": "code",
   "execution_count": 4,
   "metadata": {
    "collapsed": false
   },
   "outputs": [
    {
     "name": "stdout",
     "output_type": "stream",
     "text": [
      "Unzipping... ../data/temp.zip\n",
      "Already downloaded. Using: ../data/sned_06_17.csv\n"
     ]
    },
    {
     "data": {
      "text/plain": [
       "['year',\n",
       " 'comuna_datachile_id',\n",
       " 'institution_id',\n",
       " 'administration2_id',\n",
       " 'rural_id',\n",
       " 'efectiveness',\n",
       " 'overcoming',\n",
       " 'initiative',\n",
       " 'integration',\n",
       " 'improvement',\n",
       " 'fairness',\n",
       " 'sned_score',\n",
       " 'subsidized_100pc_id',\n",
       " 'subsidized_60pc_id',\n",
       " 'selected_id',\n",
       " 'cluster_id']"
      ]
     },
     "execution_count": 4,
     "metadata": {},
     "output_type": "execute_result"
    }
   ],
   "source": [
    "download_zip_file(remote_path,\n",
    "                  local_path,\n",
    "                  \"sned.zip\")\n",
    "\n",
    "extract_zip_file(local_path, \"temp.zip\")\n",
    "df = download_file(remote_path,local_path,'sned_06_17.csv')\n",
    "list(df)"
   ]
  },
  {
   "cell_type": "markdown",
   "metadata": {},
   "source": [
    "### Rename & int"
   ]
  },
  {
   "cell_type": "code",
   "execution_count": 5,
   "metadata": {
    "collapsed": true
   },
   "outputs": [],
   "source": [
    "df = df.rename(columns={\"administration2_id\": \"administration_id\"})\n",
    "df = df.astype({'year':'int','comuna_datachile_id':'int','institution_id':'int','administration_id':'int','rural_id':'int','subsidized_100pc_id':'int','subsidized_60pc_id':'int','selected_id':'int','cluster_id':'int'})\n"
   ]
  },
  {
   "cell_type": "markdown",
   "metadata": {},
   "source": [
    "### Ingest"
   ]
  },
  {
   "cell_type": "code",
   "execution_count": 6,
   "metadata": {
    "collapsed": false
   },
   "outputs": [
    {
     "name": "stdout",
     "output_type": "stream",
     "text": [
      "DROP TABLE IF EXISTS education.fact_sned;\n",
      "CREATE TABLE \"education\".\"fact_sned\" (\n",
      "\"year\" INTEGER,\n",
      "  \"comuna_datachile_id\" INTEGER,\n",
      "  \"institution_id\" INTEGER,\n",
      "  \"administration_id\" INTEGER,\n",
      "  \"rural_id\" INTEGER,\n",
      "  \"efectiveness\" REAL,\n",
      "  \"overcoming\" REAL,\n",
      "  \"initiative\" REAL,\n",
      "  \"integration\" REAL,\n",
      "  \"improvement\" REAL,\n",
      "  \"fairness\" REAL,\n",
      "  \"sned_score\" REAL,\n",
      "  \"subsidized_100pc_id\" INTEGER,\n",
      "  \"subsidized_60pc_id\" INTEGER,\n",
      "  \"selected_id\" INTEGER,\n",
      "  \"cluster_id\" INTEGER\n",
      ")\n",
      "COPY \"education\".\"fact_sned\" (\"year\",\"comuna_datachile_id\",\"institution_id\",\"administration_id\",\"rural_id\",\"efectiveness\",\"overcoming\",\"initiative\",\"integration\",\"improvement\",\"fairness\",\"sned_score\",\"subsidized_100pc_id\",\"subsidized_60pc_id\",\"selected_id\",\"cluster_id\") FROM STDIN WITH CSV HEADER DELIMITER ',';\n"
     ]
    }
   ],
   "source": [
    "engine = create_engine(engine_path)\n",
    "db = postgres.PostgresDriver(engine)\n",
    "db.to_sql(df, 'education', 'fact_sned')"
   ]
  },
  {
   "cell_type": "markdown",
   "metadata": {},
   "source": [
    "### Related dims"
   ]
  },
  {
   "cell_type": "code",
   "execution_count": 7,
   "metadata": {
    "collapsed": false
   },
   "outputs": [
    {
     "name": "stdout",
     "output_type": "stream",
     "text": [
      "Already downloaded. Using: ../data/administration2_id.csv\n",
      "\n",
      "<InlineTable alias=\"administration\">\n",
      "  <ColumnDefs>\n",
      "    <ColumnDef name=\"id\" type=\"Numeric\" />\n",
      "    <ColumnDef name=\"description\" type=\"String\" />\n",
      "    <ColumnDef name=\"es_description\" type=\"String\" />\n",
      "  </ColumnDefs>\n",
      "  <Rows>\n",
      "    <Row>\n",
      "      <Value column=\"id\">0</Value>\n",
      "      <Value column=\"description\">nan</Value>\n",
      "      <Value column=\"es_description\">nan</Value>\n",
      "    </Row>\n",
      "  <Row>\n",
      "      <Value column=\"id\">1</Value>\n",
      "      <Value column=\"description\">Municipal</Value>\n",
      "      <Value column=\"es_description\">Municipal</Value>\n",
      "    </Row>\n",
      "  <Row>\n",
      "      <Value column=\"id\">2</Value>\n",
      "      <Value column=\"description\">Particular Subvencionado</Value>\n",
      "      <Value column=\"es_description\">Particular Subvencionado</Value>\n",
      "    </Row>\n",
      "  <Row>\n",
      "      <Value column=\"id\">4</Value>\n",
      "      <Value column=\"description\">Corporación de Administración Delegada</Value>\n",
      "      <Value column=\"es_description\">Corporación de Administración Delegada</Value>\n",
      "    </Row>\n",
      "  </Rows>\n",
      "</InlineTable>\n",
      "    \n"
     ]
    }
   ],
   "source": [
    "df1 = download_file(remote_path,local_path,'administration2_id.csv')\n",
    "df1 = df1.rename(columns={\"administration2_id\": \"administration_id\",\"administration2_es\": \"administration_es\",\"administration2_en\": \"administration_en\"})\n",
    "print(inline_table_xml(df1,'administration','administration_id','administration_es'))"
   ]
  },
  {
   "cell_type": "code",
   "execution_count": 8,
   "metadata": {
    "collapsed": false
   },
   "outputs": [
    {
     "name": "stdout",
     "output_type": "stream",
     "text": [
      "Already downloaded. Using: ../data/cluster_id.csv\n",
      "\n",
      "<InlineTable alias=\"cluster\">\n",
      "  <ColumnDefs>\n",
      "    <ColumnDef name=\"id\" type=\"Numeric\" />\n",
      "    <ColumnDef name=\"description\" type=\"String\" />\n",
      "    <ColumnDef name=\"es_description\" type=\"String\" />\n",
      "  </ColumnDefs>\n",
      "  <Rows>\n",
      "    <Row>\n",
      "      <Value column=\"id\">11</Value>\n",
      "      <Value column=\"description\">básica urbana grupo 1</Value>\n",
      "      <Value column=\"es_description\">básica urbana grupo 1</Value>\n",
      "    </Row>\n",
      "  <Row>\n",
      "      <Value column=\"id\">12</Value>\n",
      "      <Value column=\"description\">básica urbana grupo 2</Value>\n",
      "      <Value column=\"es_description\">básica urbana grupo 2</Value>\n",
      "    </Row>\n",
      "  <Row>\n",
      "      <Value column=\"id\">13</Value>\n",
      "      <Value column=\"description\">básica urbana grupo 3</Value>\n",
      "      <Value column=\"es_description\">básica urbana grupo 3</Value>\n",
      "    </Row>\n",
      "  <Row>\n",
      "      <Value column=\"id\">21</Value>\n",
      "      <Value column=\"description\">media urbana (con o sin básica) grupo 1</Value>\n",
      "      <Value column=\"es_description\">media urbana (con o sin básica) grupo 1</Value>\n",
      "    </Row>\n",
      "  <Row>\n",
      "      <Value column=\"id\">22</Value>\n",
      "      <Value column=\"description\">media urbana (con o sin básica) grupo 2</Value>\n",
      "      <Value column=\"es_description\">media urbana (con o sin básica) grupo 2</Value>\n",
      "    </Row>\n",
      "  <Row>\n",
      "      <Value column=\"id\">23</Value>\n",
      "      <Value column=\"description\">media urbana (con o sin básica) grupo 3</Value>\n",
      "      <Value column=\"es_description\">media urbana (con o sin básica) grupo 3</Value>\n",
      "    </Row>\n",
      "  <Row>\n",
      "      <Value column=\"id\">31</Value>\n",
      "      <Value column=\"description\">básica rural grupo 1</Value>\n",
      "      <Value column=\"es_description\">básica rural grupo 1</Value>\n",
      "    </Row>\n",
      "  <Row>\n",
      "      <Value column=\"id\">32</Value>\n",
      "      <Value column=\"description\">básica rural grupo 2</Value>\n",
      "      <Value column=\"es_description\">básica rural grupo 2</Value>\n",
      "    </Row>\n",
      "  <Row>\n",
      "      <Value column=\"id\">33</Value>\n",
      "      <Value column=\"description\">básica rural grupo 3</Value>\n",
      "      <Value column=\"es_description\">básica rural grupo 3</Value>\n",
      "    </Row>\n",
      "  <Row>\n",
      "      <Value column=\"id\">41</Value>\n",
      "      <Value column=\"description\">media rural (con o sin básica) grupo 1</Value>\n",
      "      <Value column=\"es_description\">media rural (con o sin básica) grupo 1</Value>\n",
      "    </Row>\n",
      "  <Row>\n",
      "      <Value column=\"id\">51</Value>\n",
      "      <Value column=\"description\">educación especial grupo 1</Value>\n",
      "      <Value column=\"es_description\">educación especial grupo 1</Value>\n",
      "    </Row>\n",
      "  </Rows>\n",
      "</InlineTable>\n",
      "    \n"
     ]
    }
   ],
   "source": [
    "df0 = download_file(remote_path,local_path,'cluster_id.csv')\n",
    "print(inline_table_xml(df0,'cluster','cluster_id','cluster_es'))"
   ]
  },
  {
   "cell_type": "code",
   "execution_count": 9,
   "metadata": {
    "collapsed": false
   },
   "outputs": [
    {
     "name": "stdout",
     "output_type": "stream",
     "text": [
      "Already downloaded. Using: ../data/subsidized_100pc_id.csv\n",
      "\n",
      "<InlineTable alias=\"subsidized_100pc\">\n",
      "  <ColumnDefs>\n",
      "    <ColumnDef name=\"id\" type=\"Numeric\" />\n",
      "    <ColumnDef name=\"description\" type=\"String\" />\n",
      "    <ColumnDef name=\"es_description\" type=\"String\" />\n",
      "  </ColumnDefs>\n",
      "  <Rows>\n",
      "    <Row>\n",
      "      <Value column=\"id\">0</Value>\n",
      "      <Value column=\"description\">nan</Value>\n",
      "      <Value column=\"es_description\">nan</Value>\n",
      "    </Row>\n",
      "  <Row>\n",
      "      <Value column=\"id\">1</Value>\n",
      "      <Value column=\"description\">Obtains 100% subsidy</Value>\n",
      "      <Value column=\"es_description\">Obtains 100% subsidy</Value>\n",
      "    </Row>\n",
      "  <Row>\n",
      "      <Value column=\"id\">2</Value>\n",
      "      <Value column=\"description\">Does not obtain 100% subsidy</Value>\n",
      "      <Value column=\"es_description\">Does not obtain 100% subsidy</Value>\n",
      "    </Row>\n",
      "  </Rows>\n",
      "</InlineTable>\n",
      "    \n"
     ]
    }
   ],
   "source": [
    "df3 = download_file(remote_path,local_path,'subsidized_100pc_id.csv')\n",
    "print(inline_table_xml(df3,'subsidized_100pc','subsidized_100pc_id','subsidized_100pc_en'))"
   ]
  },
  {
   "cell_type": "code",
   "execution_count": 10,
   "metadata": {
    "collapsed": false
   },
   "outputs": [
    {
     "name": "stdout",
     "output_type": "stream",
     "text": [
      "Already downloaded. Using: ../data/subsidized_60pc_id.csv\n",
      "\n",
      "<InlineTable alias=\"subsidized_60pc\">\n",
      "  <ColumnDefs>\n",
      "    <ColumnDef name=\"id\" type=\"Numeric\" />\n",
      "    <ColumnDef name=\"description\" type=\"String\" />\n",
      "    <ColumnDef name=\"es_description\" type=\"String\" />\n",
      "  </ColumnDefs>\n",
      "  <Rows>\n",
      "    <Row>\n",
      "      <Value column=\"id\">0</Value>\n",
      "      <Value column=\"description\">nan</Value>\n",
      "      <Value column=\"es_description\">nan</Value>\n",
      "    </Row>\n",
      "  <Row>\n",
      "      <Value column=\"id\">1</Value>\n",
      "      <Value column=\"description\">Obtains 60% subsidy</Value>\n",
      "      <Value column=\"es_description\">Obtains 60% subsidy</Value>\n",
      "    </Row>\n",
      "  <Row>\n",
      "      <Value column=\"id\">2</Value>\n",
      "      <Value column=\"description\">Does not obtain 60% subsidy</Value>\n",
      "      <Value column=\"es_description\">Does not obtain 60% subsidy</Value>\n",
      "    </Row>\n",
      "  </Rows>\n",
      "</InlineTable>\n",
      "    \n"
     ]
    }
   ],
   "source": [
    "df4 = download_file(remote_path,local_path,'subsidized_60pc_id.csv')\n",
    "print(inline_table_xml(df4,'subsidized_60pc','subsidized_60pc_id','subsidized_60pc_en'))"
   ]
  }
 ],
 "metadata": {
  "kernelspec": {
   "display_name": "Python 3",
   "language": "python",
   "name": "python3"
  },
  "language_info": {
   "codemirror_mode": {
    "name": "ipython",
    "version": 3
   },
   "file_extension": ".py",
   "mimetype": "text/x-python",
   "name": "python",
   "nbconvert_exporter": "python",
   "pygments_lexer": "ipython3",
   "version": "3.6.0"
  }
 },
 "nbformat": 4,
 "nbformat_minor": 2
}
