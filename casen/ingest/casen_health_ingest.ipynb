{
 "cells": [
  {
   "cell_type": "markdown",
   "metadata": {},
   "source": [
    "# Import & Load CASEN health data"
   ]
  },
  {
   "cell_type": "markdown",
   "metadata": {},
   "source": [
    "### Config"
   ]
  },
  {
   "cell_type": "code",
   "execution_count": 1,
   "metadata": {
    "collapsed": false
   },
   "outputs": [],
   "source": [
    "import sys\n",
    "import configparser\n",
    "config = configparser.ConfigParser()\n",
    "config.read_file(open('../../settings.ini'))\n",
    "\n",
    "sys.path.insert(0, config.get('PATHS','libs_path'))\n",
    "engine_path = config.get('DATABASE','engine_path')"
   ]
  },
  {
   "cell_type": "code",
   "execution_count": 2,
   "metadata": {
    "collapsed": true
   },
   "outputs": [],
   "source": [
    "remote_path = 'http://pacha.datawheel.us/economia/casen/analysis/4_health/'\n",
    "local_path = '../data/'"
   ]
  },
  {
   "cell_type": "code",
   "execution_count": 3,
   "metadata": {
    "collapsed": false
   },
   "outputs": [],
   "source": [
    "import postgres #from local file postgres.py\n",
    "from commons import inline_table_xml, inline_dimension_xml, download_file, download_zip_file, extract_zip_file #from local file commons.py\n",
    "\n",
    "import json\n",
    "import pandas as pd\n",
    "from sqlalchemy import create_engine"
   ]
  },
  {
   "cell_type": "markdown",
   "metadata": {},
   "source": [
    "### Load data"
   ]
  },
  {
   "cell_type": "code",
   "execution_count": 4,
   "metadata": {
    "collapsed": false
   },
   "outputs": [
    {
     "name": "stdout",
     "output_type": "stream",
     "text": [
      "Downloading... http://pacha.datawheel.us/economia/casen/analysis/4_health/health_system_2000_2015.csv\n",
      "Encoding: ascii\n"
     ]
    },
    {
     "data": {
      "text/plain": [
       "['health_system_id', 'expc', 'expr', 'year', 'comuna_datachile_id']"
      ]
     },
     "execution_count": 4,
     "metadata": {},
     "output_type": "execute_result"
    }
   ],
   "source": [
    "df1 = download_file(remote_path,local_path,'health_system_2000_2015.csv')\n",
    "df1 = df1.astype({'year':'int','comuna_datachile_id':'int','health_system_id':'int'})\n",
    "list(df1)"
   ]
  },
  {
   "cell_type": "code",
   "execution_count": 5,
   "metadata": {
    "collapsed": false
   },
   "outputs": [
    {
     "name": "stdout",
     "output_type": "stream",
     "text": [
      "DROP TABLE IF EXISTS health.fact_health_system_casen;\n",
      "CREATE TABLE \"health\".\"fact_health_system_casen\" (\n",
      "\"health_system_id\" INTEGER,\n",
      "  \"expc\" INTEGER,\n",
      "  \"expr\" INTEGER,\n",
      "  \"year\" INTEGER,\n",
      "  \"comuna_datachile_id\" INTEGER\n",
      ")\n",
      "COPY \"health\".\"fact_health_system_casen\" (\"health_system_id\",\"expc\",\"expr\",\"year\",\"comuna_datachile_id\") FROM STDIN WITH CSV HEADER DELIMITER ',';\n"
     ]
    }
   ],
   "source": [
    "engine = create_engine(engine_path)\n",
    "db = postgres.PostgresDriver(engine)\n",
    "db.to_sql(df1, 'health', 'fact_health_system_casen')"
   ]
  },
  {
   "cell_type": "markdown",
   "metadata": {},
   "source": [
    "### Updates"
   ]
  },
  {
   "cell_type": "code",
   "execution_count": 6,
   "metadata": {
    "collapsed": false
   },
   "outputs": [
    {
     "data": {
      "text/plain": [
       "<sqlalchemy.engine.result.ResultProxy at 0x101dd64e0>"
      ]
     },
     "execution_count": 6,
     "metadata": {},
     "output_type": "execute_result"
    }
   ],
   "source": [
    "engine.execute(\"\"\"\n",
    "ALTER TABLE health.fact_health_system_casen\n",
    "  ADD COLUMN date_id INTEGER; \n",
    "\"\"\")\n",
    "\n",
    "engine.execute(\"\"\"\n",
    "UPDATE health.fact_health_system_casen\n",
    "SET date_id = dim_date.id\n",
    "FROM public.dim_date\n",
    "WHERE dim_date.the_year = health.fact_health_system_casen.year\n",
    "      AND dim_date.month_of_year = 1\n",
    "      AND dim_date.day_of_month = 1\n",
    "\"\"\")\n"
   ]
  },
  {
   "cell_type": "markdown",
   "metadata": {},
   "source": [
    "### Dims"
   ]
  },
  {
   "cell_type": "code",
   "execution_count": 7,
   "metadata": {
    "collapsed": false
   },
   "outputs": [
    {
     "name": "stdout",
     "output_type": "stream",
     "text": [
      "Downloading... http://pacha.datawheel.us/economia/casen/analysis/4_health/health_system_id.csv\n",
      "Encoding: windows-1252\n",
      "\n",
      "<InlineTable alias=\"health_system\">\n",
      "  <ColumnDefs>\n",
      "    <ColumnDef name=\"id\" type=\"Numeric\" />\n",
      "    <ColumnDef name=\"description\" type=\"String\" />\n",
      "    <ColumnDef name=\"es_description\" type=\"String\" />\n",
      "  </ColumnDefs>\n",
      "  <Rows>\n",
      "    <Row>\n",
      "      <Value column=\"id\">1</Value>\n",
      "      <Value column=\"description\">FONASA Grupo A</Value>\n",
      "      <Value column=\"es_description\">FONASA Grupo A</Value>\n",
      "    </Row>\n",
      "  <Row>\n",
      "      <Value column=\"id\">2</Value>\n",
      "      <Value column=\"description\">FONASA Grupo B</Value>\n",
      "      <Value column=\"es_description\">FONASA Grupo B</Value>\n",
      "    </Row>\n",
      "  <Row>\n",
      "      <Value column=\"id\">3</Value>\n",
      "      <Value column=\"description\">FONASA Grupo C</Value>\n",
      "      <Value column=\"es_description\">FONASA Grupo C</Value>\n",
      "    </Row>\n",
      "  <Row>\n",
      "      <Value column=\"id\">4</Value>\n",
      "      <Value column=\"description\">FONASA Grupo D</Value>\n",
      "      <Value column=\"es_description\">FONASA Grupo D</Value>\n",
      "    </Row>\n",
      "  <Row>\n",
      "      <Value column=\"id\">5</Value>\n",
      "      <Value column=\"description\">FONASA (No Sabe Grupo)</Value>\n",
      "      <Value column=\"es_description\">FONASA (No Sabe Grupo)</Value>\n",
      "    </Row>\n",
      "  <Row>\n",
      "      <Value column=\"id\">6</Value>\n",
      "      <Value column=\"description\">Fuerzas Armadas, de Orden y Seguridad PÃºblica</Value>\n",
      "      <Value column=\"es_description\">Fuerzas Armadas, de Orden y Seguridad PÃºblica</Value>\n",
      "    </Row>\n",
      "  <Row>\n",
      "      <Value column=\"id\">7</Value>\n",
      "      <Value column=\"description\">Isapre</Value>\n",
      "      <Value column=\"es_description\">Isapre</Value>\n",
      "    </Row>\n",
      "  <Row>\n",
      "      <Value column=\"id\">8</Value>\n",
      "      <Value column=\"description\">Ninguno</Value>\n",
      "      <Value column=\"es_description\">Ninguno</Value>\n",
      "    </Row>\n",
      "  <Row>\n",
      "      <Value column=\"id\">9</Value>\n",
      "      <Value column=\"description\">Otro Sistema</Value>\n",
      "      <Value column=\"es_description\">Otro Sistema</Value>\n",
      "    </Row>\n",
      "  <Row>\n",
      "      <Value column=\"id\">10</Value>\n",
      "      <Value column=\"description\">No Sabe</Value>\n",
      "      <Value column=\"es_description\">No Sabe</Value>\n",
      "    </Row>\n",
      "  <Row>\n",
      "      <Value column=\"id\">0</Value>\n",
      "      <Value column=\"description\">nan</Value>\n",
      "      <Value column=\"es_description\">nan</Value>\n",
      "    </Row>\n",
      "  </Rows>\n",
      "</InlineTable>\n",
      "    \n"
     ]
    }
   ],
   "source": [
    "d2 = download_file(remote_path,local_path,'health_system_id.csv')\n",
    "print (inline_table_xml(d2, 'health_system', 'health_system_id', 'health_system'))"
   ]
  }
 ],
 "metadata": {
  "kernelspec": {
   "display_name": "Python 3",
   "language": "python",
   "name": "python3"
  },
  "language_info": {
   "codemirror_mode": {
    "name": "ipython",
    "version": 3
   },
   "file_extension": ".py",
   "mimetype": "text/x-python",
   "name": "python",
   "nbconvert_exporter": "python",
   "pygments_lexer": "ipython3",
   "version": "3.6.0"
  }
 },
 "nbformat": 4,
 "nbformat_minor": 2
}
