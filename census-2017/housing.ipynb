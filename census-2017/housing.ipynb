{
 "cells": [
  {
   "cell_type": "code",
   "execution_count": 1,
   "metadata": {},
   "outputs": [],
   "source": [
    "import numpy as np\n",
    "import pandas as pd\n",
    "import os\n",
    "from google_drive_downloader import GoogleDriveDownloader as gdd\n",
    "# pip install googledrivedownloader\n",
    "# Download data from Drive\n",
    "download = False"
   ]
  },
  {
   "cell_type": "code",
   "execution_count": 2,
   "metadata": {},
   "outputs": [],
   "source": [
    "def _download_data(download=True):\n",
    "    if download:\n",
    "        gdd.download_file_from_google_drive(\n",
    "            file_id=\"1-e8PVHbFu_LaMKConDKeL7GPJdl4yZQB\",\n",
    "            dest_path=\"./data_temp/Microdato_Censo2017-Viviendas.zip\",\n",
    "            unzip=True\n",
    "        )\n",
    "    return True"
   ]
  },
  {
   "cell_type": "code",
   "execution_count": 3,
   "metadata": {},
   "outputs": [],
   "source": [
    "_download_data(download)\n",
    "df = pd.read_csv(\"./data_temp/Microdato_Censo2017-Viviendas.csv\", sep=\";\", low_memory=False)"
   ]
  },
  {
   "cell_type": "code",
   "execution_count": 4,
   "metadata": {},
   "outputs": [],
   "source": [
    "questionnaire = pd.ExcelFile(\"https://docs.google.com/spreadsheets/d/e/2PACX-1vQ4xZxDpyDY4NursNbrsWlCqjREdmBbfC1EMlz4UGQe7M8wMA7Mqw8tZbAcBdkjgBzloyQdcnhiv10C/pub?output=xlsx\")\n",
    "labels = pd.read_excel(questionnaire, \"Labels\")"
   ]
  },
  {
   "cell_type": "code",
   "execution_count": 5,
   "metadata": {},
   "outputs": [],
   "source": [
    "_drop = [\"REGION\", \"PROVINCIA\", \"ZC_LOC\", \"ID_ZONA_LOC\", \"NVIV\"]\n",
    "_groupby = [\"COMUNA\", \"AREA\", \"DC\", \"P01\", \"P02\", \"P03A\", \"P03B\", \"P03C\", \"P04\", \"P05\"]\n",
    "\n",
    "q = df.drop(columns=_drop).groupby(_groupby)\n",
    "_ = pd.DataFrame({\n",
    "    \"cant_viv\" : q.size(),\n",
    "    \"cant_hog\" : q[\"CANT_HOG\"].agg('sum'),\n",
    "    \"cant_per\" : q[\"CANT_PER\"].agg('sum')\n",
    "}).reset_index()"
   ]
  },
  {
   "cell_type": "code",
   "execution_count": 6,
   "metadata": {},
   "outputs": [],
   "source": [
    "_ = _.rename(columns = { \n",
    "    key: labels[labels[\"id\"] == key].iloc[0][\"label\"] for key in _groupby\n",
    "})"
   ]
  },
  {
   "cell_type": "code",
   "execution_count": 7,
   "metadata": {},
   "outputs": [],
   "source": [
    "geo_datachile_id = pd.read_csv(\"https://raw.githubusercontent.com/datachile/datachile-etl/master/official_ids/2017_06_27_comunas_datachile_fixed.csv\")\n",
    "geo_datachile_id = geo_datachile_id.drop(columns=[\"region_id\", \"region_name\", \"comuna_tax_office_id\"])\n",
    "\n",
    "geo_datachile_id = geo_datachile_id.fillna(0).astype({\"comuna_customs_id\": \"int\"})\n",
    "geo_datachile_id = geo_datachile_id.rename(columns={\"comuna_customs_id\": \"comuna_id\"})"
   ]
  },
  {
   "cell_type": "code",
   "execution_count": 8,
   "metadata": {},
   "outputs": [],
   "source": [
    "_ = pd.merge(_, geo_datachile_id, on=\"comuna_id\", how=\"inner\")"
   ]
  },
  {
   "cell_type": "code",
   "execution_count": 9,
   "metadata": {},
   "outputs": [],
   "source": [
    "_ = _.drop(columns=[\"comuna_id\", \"comuna_name\"])"
   ]
  },
  {
   "cell_type": "code",
   "execution_count": 10,
   "metadata": {},
   "outputs": [],
   "source": [
    "pd.DataFrame(_).to_csv(\"data_final/housing_census.csv\", index=False)"
   ]
  }
 ],
 "metadata": {
  "kernelspec": {
   "display_name": "Python 3",
   "language": "python",
   "name": "python3"
  },
  "language_info": {
   "codemirror_mode": {
    "name": "ipython",
    "version": 3
   },
   "file_extension": ".py",
   "mimetype": "text/x-python",
   "name": "python",
   "nbconvert_exporter": "python",
   "pygments_lexer": "ipython3",
   "version": "3.6.5"
  }
 },
 "nbformat": 4,
 "nbformat_minor": 2
}
