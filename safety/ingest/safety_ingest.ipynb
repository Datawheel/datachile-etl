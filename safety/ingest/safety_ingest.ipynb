{
 "cells": [
  {
   "cell_type": "markdown",
   "metadata": {},
   "source": [
    "# Import & Load Safety information"
   ]
  },
  {
   "cell_type": "markdown",
   "metadata": {},
   "source": [
    "### Config"
   ]
  },
  {
   "cell_type": "code",
   "execution_count": 1,
   "metadata": {},
   "outputs": [],
   "source": [
    "import sys, os\n",
    "import configparser\n",
    "config = configparser.ConfigParser()\n",
    "config.read_file(open('../../settings.ini'))\n",
    "\n",
    "sys.path.insert(0, config.get('PATHS','libs_path'))\n",
    "engine_path = config.get('DATABASE','engine_path')"
   ]
  },
  {
   "cell_type": "markdown",
   "metadata": {},
   "source": [
    "### Main params"
   ]
  },
  {
   "cell_type": "code",
   "execution_count": 2,
   "metadata": {},
   "outputs": [],
   "source": [
    "remote_path = 'http://pacha.datawheel.us/'\n",
    "local_path = '../data/'"
   ]
  },
  {
   "cell_type": "markdown",
   "metadata": {},
   "source": [
    "### Imports"
   ]
  },
  {
   "cell_type": "code",
   "execution_count": 3,
   "metadata": {},
   "outputs": [],
   "source": [
    "import postgres #from local file postgres.py\n",
    "from commons import inline_table_xml, download_file, download_zip_file, extract_zip_file #from local file commons.py\n",
    "\n",
    "import json\n",
    "import pandas as pd\n",
    "from sqlalchemy import create_engine"
   ]
  },
  {
   "cell_type": "markdown",
   "metadata": {},
   "source": [
    "### Load file"
   ]
  },
  {
   "cell_type": "code",
   "execution_count": 4,
   "metadata": {},
   "outputs": [
    {
     "name": "stdout",
     "output_type": "stream",
     "text": [
      "Downloading... http://pacha.datawheel.us/crime.zip\n",
      "Unzipping... ../data/temp.zip\n"
     ]
    },
    {
     "data": {
      "text/plain": [
       "True"
      ]
     },
     "execution_count": 4,
     "metadata": {},
     "output_type": "execute_result"
    }
   ],
   "source": [
    "download_zip_file(remote_path,\n",
    "                  local_path,\n",
    "                  \"crime.zip\")\n",
    "\n",
    "extract_zip_file(local_path, \"temp.zip\")"
   ]
  },
  {
   "cell_type": "code",
   "execution_count": 5,
   "metadata": {},
   "outputs": [],
   "source": [
    "df = pd.read_csv(os.path.join(local_path, \"felonies.csv\"),low_memory=True)"
   ]
  },
  {
   "cell_type": "code",
   "execution_count": 6,
   "metadata": {},
   "outputs": [
    {
     "data": {
      "text/plain": [
       "['year', 'comuna_datachile_id', 'felony_id', 'cases']"
      ]
     },
     "execution_count": 6,
     "metadata": {},
     "output_type": "execute_result"
    }
   ],
   "source": [
    "list(df)"
   ]
  },
  {
   "cell_type": "code",
   "execution_count": 7,
   "metadata": {},
   "outputs": [
    {
     "data": {
      "text/plain": [
       "['year', 'comuna_id', 'felony_id', 'cases']"
      ]
     },
     "execution_count": 7,
     "metadata": {},
     "output_type": "execute_result"
    }
   ],
   "source": [
    "df.rename(columns={'comuna_datachile_id': 'comuna_id'}, inplace=True)\n",
    "df = df.astype({'year':'int','comuna_id':'int','felony_id':'int','cases':'int'})\n",
    "list(df)"
   ]
  },
  {
   "cell_type": "markdown",
   "metadata": {},
   "source": [
    "### Ingest"
   ]
  },
  {
   "cell_type": "code",
   "execution_count": 8,
   "metadata": {},
   "outputs": [
    {
     "name": "stdout",
     "output_type": "stream",
     "text": [
      "DROP TABLE IF EXISTS safety.fact_crimes;\n",
      "CREATE TABLE \"safety\".\"fact_crimes\" (\n",
      "\"year\" INTEGER,\n",
      "  \"comuna_id\" INTEGER,\n",
      "  \"felony_id\" INTEGER,\n",
      "  \"cases\" INTEGER\n",
      ")\n",
      "COPY \"safety\".\"fact_crimes\" (\"year\",\"comuna_id\",\"felony_id\",\"cases\") FROM STDIN WITH CSV HEADER DELIMITER ',';\n"
     ]
    }
   ],
   "source": [
    "engine = create_engine(engine_path)\n",
    "db = postgres.PostgresDriver(engine)\n",
    "db.to_sql(df, 'safety', 'fact_crimes')"
   ]
  },
  {
   "cell_type": "markdown",
   "metadata": {},
   "source": [
    "### Indexes & FK"
   ]
  },
  {
   "cell_type": "code",
   "execution_count": 9,
   "metadata": {},
   "outputs": [
    {
     "data": {
      "text/plain": [
       "<sqlalchemy.engine.result.ResultProxy at 0x7ff2d0401eb8>"
      ]
     },
     "execution_count": 9,
     "metadata": {},
     "output_type": "execute_result"
    }
   ],
   "source": [
    "engine.execute(\"\"\"\n",
    "CREATE INDEX fact_crimes_comuna_id\n",
    "ON safety.fact_crimes (comuna_id)\n",
    "\"\"\")"
   ]
  },
  {
   "cell_type": "markdown",
   "metadata": {},
   "source": [
    "### Related dim felony"
   ]
  },
  {
   "cell_type": "code",
   "execution_count": 10,
   "metadata": {},
   "outputs": [
    {
     "name": "stdout",
     "output_type": "stream",
     "text": [
      "\n",
      "<InlineTable alias=\"felony_es\">\n",
      "  <ColumnDefs>\n",
      "    <ColumnDef name=\"id\" type=\"Numeric\" />\n",
      "    <ColumnDef name=\"description\" type=\"String\" />\n",
      "    <ColumnDef name=\"es_description\" type=\"String\" />\n",
      "  </ColumnDefs>\n",
      "  <Rows>\n",
      "    <Row>\n",
      "      <Value column=\"id\">1</Value>\n",
      "      <Value column=\"description\">robo con violencia o intimidación</Value>\n",
      "      <Value column=\"es_description\">robo con violencia o intimidación</Value>\n",
      "    </Row>\n",
      "  <Row>\n",
      "      <Value column=\"id\">2</Value>\n",
      "      <Value column=\"description\">robo por sorpresa</Value>\n",
      "      <Value column=\"es_description\">robo por sorpresa</Value>\n",
      "    </Row>\n",
      "  <Row>\n",
      "      <Value column=\"id\">3</Value>\n",
      "      <Value column=\"description\">robo con fuerza</Value>\n",
      "      <Value column=\"es_description\">robo con fuerza</Value>\n",
      "    </Row>\n",
      "  <Row>\n",
      "      <Value column=\"id\">4</Value>\n",
      "      <Value column=\"description\">robo de veículo</Value>\n",
      "      <Value column=\"es_description\">robo de veículo</Value>\n",
      "    </Row>\n",
      "  <Row>\n",
      "      <Value column=\"id\">5</Value>\n",
      "      <Value column=\"description\">robo accesorios del veículo</Value>\n",
      "      <Value column=\"es_description\">robo accesorios del veículo</Value>\n",
      "    </Row>\n",
      "  <Row>\n",
      "      <Value column=\"id\">6</Value>\n",
      "      <Value column=\"description\">robo en lugar habitado</Value>\n",
      "      <Value column=\"es_description\">robo en lugar habitado</Value>\n",
      "    </Row>\n",
      "  <Row>\n",
      "      <Value column=\"id\">7</Value>\n",
      "      <Value column=\"description\">robo en lugar no habitado</Value>\n",
      "      <Value column=\"es_description\">robo en lugar no habitado</Value>\n",
      "    </Row>\n",
      "  <Row>\n",
      "      <Value column=\"id\">8</Value>\n",
      "      <Value column=\"description\">otros robos con fuerza</Value>\n",
      "      <Value column=\"es_description\">otros robos con fuerza</Value>\n",
      "    </Row>\n",
      "  <Row>\n",
      "      <Value column=\"id\">9</Value>\n",
      "      <Value column=\"description\">hurtos</Value>\n",
      "      <Value column=\"es_description\">hurtos</Value>\n",
      "    </Row>\n",
      "  <Row>\n",
      "      <Value column=\"id\">10</Value>\n",
      "      <Value column=\"description\">lesiones</Value>\n",
      "      <Value column=\"es_description\">lesiones</Value>\n",
      "    </Row>\n",
      "  <Row>\n",
      "      <Value column=\"id\">11</Value>\n",
      "      <Value column=\"description\">lesiones graves</Value>\n",
      "      <Value column=\"es_description\">lesiones graves</Value>\n",
      "    </Row>\n",
      "  <Row>\n",
      "      <Value column=\"id\">12</Value>\n",
      "      <Value column=\"description\">lesiones leves</Value>\n",
      "      <Value column=\"es_description\">lesiones leves</Value>\n",
      "    </Row>\n",
      "  <Row>\n",
      "      <Value column=\"id\">13</Value>\n",
      "      <Value column=\"description\">homicidios</Value>\n",
      "      <Value column=\"es_description\">homicidios</Value>\n",
      "    </Row>\n",
      "  <Row>\n",
      "      <Value column=\"id\">14</Value>\n",
      "      <Value column=\"description\">violación</Value>\n",
      "      <Value column=\"es_description\">violación</Value>\n",
      "    </Row>\n",
      "  </Rows>\n",
      "</InlineTable>\n",
      "    \n"
     ]
    }
   ],
   "source": [
    "felonies = pd.read_csv(os.path.join(local_path, \"categories_id.csv\"),low_memory=True)\n",
    "print (inline_table_xml(felonies, 'felony_es', 'felony_id', 'felony_es'))"
   ]
  }
 ],
 "metadata": {
  "kernelspec": {
   "display_name": "Python 3",
   "language": "python",
   "name": "python3"
  },
  "language_info": {
   "codemirror_mode": {
    "name": "ipython",
    "version": 3
   },
   "file_extension": ".py",
   "mimetype": "text/x-python",
   "name": "python",
   "nbconvert_exporter": "python",
   "pygments_lexer": "ipython3",
   "version": "3.6.3"
  }
 },
 "nbformat": 4,
 "nbformat_minor": 2
}
