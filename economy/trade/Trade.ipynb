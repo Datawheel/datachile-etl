{
 "cells": [
  {
   "cell_type": "markdown",
   "metadata": {},
   "source": [
    "# New Trade Data"
   ]
  },
  {
   "cell_type": "code",
   "execution_count": 37,
   "metadata": {},
   "outputs": [],
   "source": [
    "import sys\n",
    "import configparser\n",
    "import os\n",
    "import numpy as np\n",
    "config = configparser.ConfigParser()\n",
    "config.read_file(open('../../settings.ini'))\n",
    "\n",
    "sys.path.insert(0, config.get('PATHS','libs_path'))\n",
    "engine_path = config.get('DATABASE','engine_path')\n",
    "local_path = './data/'\n",
    "\n",
    "import postgres #from local file postgres.py\n",
    "import commons\n",
    "from commons import inline_table_xml, download_file, download_zip_file, extract_zip_file #from local file commons.py\n",
    "from importlib import reload\n",
    "\n",
    "import json\n",
    "import pandas as pd\n",
    "from sqlalchemy import create_engine\n",
    "\n",
    "engine = create_engine(engine_path)\n",
    "db = postgres.PostgresDriver(engine)"
   ]
  },
  {
   "cell_type": "markdown",
   "metadata": {},
   "source": [
    "# Exports"
   ]
  },
  {
   "cell_type": "code",
   "execution_count": 38,
   "metadata": {},
   "outputs": [
    {
     "name": "stdout",
     "output_type": "stream",
     "text": [
      "Downloading... http://pacha.datawheel.us/datachile/economy/aduanas_open_data/4_clean_data/exports_data_all_in_hs12.zip\n",
      "Unzipping... ./data/temp.zip\n"
     ]
    },
    {
     "data": {
      "text/plain": [
       "True"
      ]
     },
     "execution_count": 38,
     "metadata": {},
     "output_type": "execute_result"
    }
   ],
   "source": [
    "download_zip_file(\"http://pacha.datawheel.us/datachile/economy/aduanas_open_data/4_clean_data/\",\n",
    "                  local_path,\n",
    "                  \"exports_data_all_in_hs12.zip\")\n",
    "\n",
    "extract_zip_file(local_path, \"temp.zip\")"
   ]
  },
  {
   "cell_type": "markdown",
   "metadata": {},
   "source": [
    "### Read and clean data"
   ]
  },
  {
   "cell_type": "code",
   "execution_count": 39,
   "metadata": {},
   "outputs": [],
   "source": [
    "facts_exports = pd.read_csv(os.path.join(local_path, \"4_clean_data\", \"exports_data_all_in_hs12.csv\"),\n",
    "                            dtype={'hs12': str}, low_memory=True)\n",
    "                          \n",
    "# filter rows with NaN in dimension and measure columns\n",
    "facts_exports = facts_exports[~np.isnan(facts_exports.comuna_datachile_id) & ~np.isnan(facts_exports.country_code) & facts_exports.hs12.notnull() & ~np.isnan(facts_exports.fob_value_usd)]\n"
   ]
  },
  {
   "cell_type": "markdown",
   "metadata": {},
   "source": [
    "### Group data by all dimensions"
   ]
  },
  {
   "cell_type": "code",
   "execution_count": 41,
   "metadata": {},
   "outputs": [],
   "source": [
    "grouped_fact_exports = facts_exports[['year', 'country_code', 'comuna_datachile_id', 'hs12', 'fob_value_usd']] \\\n",
    "    .groupby(['year', 'country_code', 'comuna_datachile_id', 'hs12']) \\\n",
    "    .sum() \\\n",
    "    .reset_index()\n",
    "    \n",
    "grouped_fact_exports.loc[:, 'country_code'] = grouped_fact_exports['country_code'].astype(int)\n",
    "grouped_fact_exports.loc[:, 'comuna_datachile_id'] = grouped_fact_exports['comuna_datachile_id'].astype(int)"
   ]
  },
  {
   "cell_type": "code",
   "execution_count": 42,
   "metadata": {},
   "outputs": [],
   "source": [
    "grouped_fact_exports = grouped_fact_exports.merge(\n",
    "    pd.read_sql(\"SELECT level5, substring(level5 from 3) as short_level5 FROM economy.dim_hs2012\", engine),\n",
    "    left_on='hs12', right_on='short_level5',\n",
    "    how='inner')"
   ]
  },
  {
   "cell_type": "code",
   "execution_count": 43,
   "metadata": {},
   "outputs": [],
   "source": [
    "grouped_fact_exports.loc[:, 'hs12'] = grouped_fact_exports.level5"
   ]
  },
  {
   "cell_type": "code",
   "execution_count": 45,
   "metadata": {},
   "outputs": [],
   "source": [
    "del(grouped_fact_exports['level5'])\n",
    "del(grouped_fact_exports['short_level5'])"
   ]
  },
  {
   "cell_type": "markdown",
   "metadata": {},
   "source": [
    "### Save to DB"
   ]
  },
  {
   "cell_type": "code",
   "execution_count": 46,
   "metadata": {},
   "outputs": [
    {
     "name": "stdout",
     "output_type": "stream",
     "text": [
      "DROP TABLE IF EXISTS economy.fact_exports;\n",
      "CREATE TABLE \"economy\".\"fact_exports\" (\n",
      "\"year\" INTEGER,\n",
      "  \"country_code\" INTEGER,\n",
      "  \"comuna_datachile_id\" INTEGER,\n",
      "  \"hs12\" TEXT,\n",
      "  \"fob_value_usd\" REAL\n",
      ")\n",
      "COPY \"economy\".\"fact_exports\" (\"year\",\"country_code\",\"comuna_datachile_id\",\"hs12\",\"fob_value_usd\") FROM STDIN WITH CSV HEADER DELIMITER ',';\n"
     ]
    },
    {
     "data": {
      "text/plain": [
       "<sqlalchemy.engine.result.ResultProxy at 0x7f4efcbd5080>"
      ]
     },
     "execution_count": 46,
     "metadata": {},
     "output_type": "execute_result"
    }
   ],
   "source": [
    "db.to_sql(grouped_fact_exports, 'economy', 'fact_exports')\n",
    "\n",
    "engine.execute(\"\"\"\n",
    "CREATE INDEX year_idx \n",
    "ON economy.fact_exports (\"year\")\n",
    "\"\"\")\n",
    "\n",
    "engine.execute(\"\"\"\n",
    "CREATE INDEX hs12_idx \n",
    "ON economy.fact_exports (hs12)\n",
    "\"\"\")\n",
    "\n",
    "engine.execute(\"\"\"\n",
    "CREATE INDEX exports_comuna_idx \n",
    "ON economy.fact_exports (comuna_datachile_id)\n",
    "\"\"\")"
   ]
  },
  {
   "cell_type": "markdown",
   "metadata": {},
   "source": [
    "## Imports"
   ]
  },
  {
   "cell_type": "code",
   "execution_count": 57,
   "metadata": {},
   "outputs": [
    {
     "name": "stdout",
     "output_type": "stream",
     "text": [
      "Downloading... http://pacha.datawheel.us/datachile/economy/aduanas_open_data/4_clean_data/imports_data_all_in_hs12.zip\n",
      "Unzipping... ./data/temp.zip\n"
     ]
    },
    {
     "data": {
      "text/plain": [
       "True"
      ]
     },
     "execution_count": 57,
     "metadata": {},
     "output_type": "execute_result"
    }
   ],
   "source": [
    "download_zip_file(\"http://pacha.datawheel.us/datachile/economy/aduanas_open_data/4_clean_data/\",\n",
    "                  local_path,\n",
    "                  \"imports_data_all_in_hs12.zip\")\n",
    "\n",
    "extract_zip_file(local_path, \"temp.zip\")"
   ]
  },
  {
   "cell_type": "markdown",
   "metadata": {},
   "source": [
    "### Read and clean data"
   ]
  },
  {
   "cell_type": "code",
   "execution_count": 58,
   "metadata": {},
   "outputs": [],
   "source": [
    "facts_imports = pd.read_csv(os.path.join(local_path, \"4_clean_data\", \"imports_data_all_in_hs12.csv\"),\n",
    "                            dtype={'hs12': str}, low_memory=True)\n",
    "\n",
    "facts_imports = facts_imports[~np.isnan(facts_imports.comuna_datachile_id) & ~np.isnan(facts_imports.country_code) & facts_imports.hs12.notnull() & ~np.isnan(facts_imports.cif_value_usd)]\n"
   ]
  },
  {
   "cell_type": "markdown",
   "metadata": {},
   "source": [
    "### Group data by all dimensions"
   ]
  },
  {
   "cell_type": "code",
   "execution_count": 59,
   "metadata": {},
   "outputs": [],
   "source": [
    "grouped_fact_imports = facts_imports[['year', 'country_code', 'comuna_datachile_id', 'hs12', 'cif_value_usd']] \\\n",
    "    .groupby(['year', 'country_code', 'comuna_datachile_id', 'hs12']) \\\n",
    "    .sum() \\\n",
    "    .reset_index()\n",
    "    \n",
    "grouped_fact_imports.loc[:, 'country_code'] = grouped_fact_imports['country_code'].astype(int)\n",
    "grouped_fact_imports.loc[:, 'comuna_datachile_id'] = grouped_fact_imports['comuna_datachile_id'].astype(int)"
   ]
  },
  {
   "cell_type": "code",
   "execution_count": 60,
   "metadata": {},
   "outputs": [],
   "source": [
    "grouped_fact_imports = grouped_fact_imports.merge(\n",
    "    pd.read_sql(\"SELECT level5, substring(level5 from 3) as short_level5 FROM economy.dim_hs2012\", engine),\n",
    "    left_on='hs12', right_on='short_level5',\n",
    "    how='inner')"
   ]
  },
  {
   "cell_type": "code",
   "execution_count": 61,
   "metadata": {},
   "outputs": [],
   "source": [
    "grouped_fact_imports.loc[:, 'hs12'] = grouped_fact_imports.level5"
   ]
  },
  {
   "cell_type": "code",
   "execution_count": 63,
   "metadata": {},
   "outputs": [],
   "source": [
    "del(grouped_fact_imports['level5'])\n",
    "del(grouped_fact_imports['short_level5'])"
   ]
  },
  {
   "cell_type": "markdown",
   "metadata": {},
   "source": [
    "### Save to DB"
   ]
  },
  {
   "cell_type": "code",
   "execution_count": 64,
   "metadata": {},
   "outputs": [
    {
     "name": "stdout",
     "output_type": "stream",
     "text": [
      "DROP TABLE IF EXISTS economy.fact_imports;\n",
      "CREATE TABLE \"economy\".\"fact_imports\" (\n",
      "\"year\" INTEGER,\n",
      "  \"country_code\" INTEGER,\n",
      "  \"comuna_datachile_id\" INTEGER,\n",
      "  \"hs12\" TEXT,\n",
      "  \"cif_value_usd\" REAL\n",
      ")\n",
      "COPY \"economy\".\"fact_imports\" (\"year\",\"country_code\",\"comuna_datachile_id\",\"hs12\",\"cif_value_usd\") FROM STDIN WITH CSV HEADER DELIMITER ',';\n"
     ]
    },
    {
     "data": {
      "text/plain": [
       "<sqlalchemy.engine.result.ResultProxy at 0x7f4efccc3e48>"
      ]
     },
     "execution_count": 64,
     "metadata": {},
     "output_type": "execute_result"
    }
   ],
   "source": [
    "db.to_sql(grouped_fact_imports, 'economy', 'fact_imports')\n",
    "\n",
    "engine.execute(\"\"\"\n",
    "CREATE INDEX imports_year_idx \n",
    "ON economy.fact_imports (\"year\")\n",
    "\"\"\")\n",
    "\n",
    "engine.execute(\"\"\"\n",
    "CREATE INDEX imports_hs12_idx \n",
    "ON economy.fact_imports (hs12)\n",
    "\"\"\")\n",
    "\n",
    "engine.execute(\"\"\"\n",
    "CREATE INDEX imports_comuna_idx \n",
    "ON economy.fact_imports (comuna_datachile_id)\n",
    "\"\"\")"
   ]
  },
  {
   "cell_type": "markdown",
   "metadata": {},
   "source": [
    "# Exports in HS92"
   ]
  },
  {
   "cell_type": "code",
   "execution_count": 24,
   "metadata": {},
   "outputs": [
    {
     "name": "stdout",
     "output_type": "stream",
     "text": [
      "Unzipping... ./data/temp.zip\n"
     ]
    },
    {
     "data": {
      "text/plain": [
       "True"
      ]
     },
     "execution_count": 24,
     "metadata": {},
     "output_type": "execute_result"
    }
   ],
   "source": [
    "download_zip_file(\"http://pacha.datawheel.us/datachile/economy/aduanas_open_data/4_clean_data/\",\n",
    "                  local_path,\n",
    "                  \"exports_data_all_in_hs92.zip\")\n",
    "\n",
    "extract_zip_file(local_path, \"temp.zip\")"
   ]
  },
  {
   "cell_type": "code",
   "execution_count": 28,
   "metadata": {},
   "outputs": [],
   "source": [
    "facts_exports_92 = pd.read_csv(os.path.join(local_path, \"4_clean_data\", \"exports_data_all_in_hs92.csv\"),\n",
    "                            dtype={'hs92': str}, low_memory=True)\n",
    "                          \n",
    "# filter rows with NaN in dimension and measure columns\n",
    "facts_exports_92 = facts_exports_92[~np.isnan(facts_exports_92.comuna_datachile_id) & ~np.isnan(facts_exports_92.country_code) & facts_exports_92.hs92.notnull() & ~np.isnan(facts_exports_92.fob_value_usd)]\n"
   ]
  },
  {
   "cell_type": "markdown",
   "metadata": {},
   "source": [
    "### Group data by all dimensions"
   ]
  },
  {
   "cell_type": "code",
   "execution_count": 33,
   "metadata": {},
   "outputs": [],
   "source": [
    "grouped_fact_exports_92 = facts_exports_92[['year', 'country_code', 'comuna_datachile_id', 'hs92', 'fob_value_usd']] \\\n",
    "    .groupby(['year', 'country_code', 'comuna_datachile_id', 'hs92']) \\\n",
    "    .sum() \\\n",
    "    .reset_index()\n",
    "    \n",
    "grouped_fact_exports_92.loc[:, 'country_code'] = grouped_fact_exports_92['country_code'].astype(int)\n",
    "grouped_fact_exports_92.loc[:, 'comuna_datachile_id'] = grouped_fact_exports_92['comuna_datachile_id'].astype(int)"
   ]
  },
  {
   "cell_type": "markdown",
   "metadata": {},
   "source": [
    "### Save to DB"
   ]
  },
  {
   "cell_type": "code",
   "execution_count": 36,
   "metadata": {},
   "outputs": [
    {
     "name": "stdout",
     "output_type": "stream",
     "text": [
      "DROP TABLE IF EXISTS economy.fact_exports_92;\n",
      "CREATE TABLE \"economy\".\"fact_exports_92\" (\n",
      "\"year\" INTEGER,\n",
      "  \"country_code\" INTEGER,\n",
      "  \"comuna_datachile_id\" INTEGER,\n",
      "  \"hs92\" TEXT,\n",
      "  \"fob_value_usd\" REAL\n",
      ")\n",
      "COPY \"economy\".\"fact_exports_92\" (\"year\",\"country_code\",\"comuna_datachile_id\",\"hs92\",\"fob_value_usd\") FROM STDIN WITH CSV HEADER DELIMITER ',';\n"
     ]
    },
    {
     "data": {
      "text/plain": [
       "<sqlalchemy.engine.result.ResultProxy at 0x7f4efce39940>"
      ]
     },
     "execution_count": 36,
     "metadata": {},
     "output_type": "execute_result"
    }
   ],
   "source": [
    "db.to_sql(grouped_fact_exports_92, 'economy', 'fact_exports_92')\n",
    "\n",
    "engine.execute(\"\"\"\n",
    "CREATE INDEX fact_exports_92_year_idx \n",
    "ON economy.fact_exports_92 (\"year\")\n",
    "\"\"\")\n",
    "\n",
    "engine.execute(\"\"\"\n",
    "CREATE INDEX fact_exports_92_hs92_idx \n",
    "ON economy.fact_exports_92 (hs92)\n",
    "\"\"\")\n",
    "\n",
    "engine.execute(\"\"\"\n",
    "CREATE INDEX fact_exports_92_exports_comuna_idx \n",
    "ON economy.fact_exports_92 (comuna_datachile_id)\n",
    "\"\"\")"
   ]
  }
 ],
 "metadata": {
  "kernelspec": {
   "display_name": "Python 3",
   "language": "python",
   "name": "python3"
  },
  "language_info": {
   "codemirror_mode": {
    "name": "ipython",
    "version": 3
   },
   "file_extension": ".py",
   "mimetype": "text/x-python",
   "name": "python",
   "nbconvert_exporter": "python",
   "pygments_lexer": "ipython3",
   "version": "3.6.3"
  }
 },
 "nbformat": 4,
 "nbformat_minor": 2
}
