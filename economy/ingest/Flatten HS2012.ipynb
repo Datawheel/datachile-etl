{
 "cells": [
  {
   "cell_type": "code",
   "execution_count": 1,
   "metadata": {},
   "outputs": [],
   "source": [
    "import pandas as pd\n",
    "import sys\n",
    "import configparser\n",
    "import os\n",
    "import numpy as np\n",
    "config = configparser.ConfigParser()\n",
    "config.read_file(open('../../settings.ini'))\n",
    "\n",
    "sys.path.insert(0, config.get('PATHS','libs_path'))\n",
    "engine_path = config.get('DATABASE','engine_path')\n",
    "\n",
    "import postgres #from local file postgres.py\n",
    "import commons\n",
    "from commons import inline_table_xml, download_file, download_zip_file, extract_zip_file #from local file commons.py\n",
    "from importlib import reload\n",
    "\n",
    "import json\n",
    "from sqlalchemy import create_engine\n",
    "\n",
    "engine = create_engine(engine_path)\n",
    "db = postgres.PostgresDriver(engine)"
   ]
  },
  {
   "cell_type": "markdown",
   "metadata": {},
   "source": [
    "HS2012 nomenclature was obtained from [europa.eu](http://ec.europa.eu/eurostat/ramon/nomenclatures/index.cfm?TargetUrl=LST_CLS_DLD&StrNom=HS_2012&StrLanguageCode=EN&StrLayoutCode=HIERARCHIC). The MDB file was converted to CSV with the following command:\n",
    "\n",
    "```\n",
    "mdb-export HS_2012_MDB.mdb \"HS 2012 - STRUCTURE BG CS DA DE EL EN ES FR IT PT SV\" > hs2012.csv\n",
    "```"
   ]
  },
  {
   "cell_type": "code",
   "execution_count": 9,
   "metadata": {},
   "outputs": [],
   "source": [
    "cols = ['CNKEY', 'CN', 'PURE_HS_CODE', 'LEVEL', 'EN', 'ES']\n",
    "dtype = {c: str for c in cols}\n",
    "dtype['LEVEL'] = int\n",
    "hs = pd.read_csv('hs2012.csv', usecols=cols, dtype=dtype)\n",
    "hs = hs[hs.PURE_HS_CODE.notnull()]"
   ]
  },
  {
   "cell_type": "code",
   "execution_count": 16,
   "metadata": {},
   "outputs": [],
   "source": [
    "level5 = hs[hs.LEVEL == 5]\n",
    "level5 = level5.rename(columns={'EN': 'level5_en', 'ES': 'level5_es', 'PURE_HS_CODE': 'level5'})"
   ]
  },
  {
   "cell_type": "code",
   "execution_count": 25,
   "metadata": {},
   "outputs": [
    {
     "data": {
      "text/html": [
       "<div>\n",
       "<style scoped>\n",
       "    .dataframe tbody tr th:only-of-type {\n",
       "        vertical-align: middle;\n",
       "    }\n",
       "\n",
       "    .dataframe tbody tr th {\n",
       "        vertical-align: top;\n",
       "    }\n",
       "\n",
       "    .dataframe thead th {\n",
       "        text-align: right;\n",
       "    }\n",
       "</style>\n",
       "<table border=\"1\" class=\"dataframe\">\n",
       "  <thead>\n",
       "    <tr style=\"text-align: right;\">\n",
       "      <th></th>\n",
       "      <th>CNKEY</th>\n",
       "      <th>CN</th>\n",
       "      <th>PURE_HS_CODE</th>\n",
       "      <th>LEVEL</th>\n",
       "      <th>EN</th>\n",
       "      <th>ES</th>\n",
       "    </tr>\n",
       "  </thead>\n",
       "  <tbody>\n",
       "    <tr>\n",
       "      <th>3</th>\n",
       "      <td>010100000080</td>\n",
       "      <td>0101</td>\n",
       "      <td>01.01</td>\n",
       "      <td>3</td>\n",
       "      <td>Live horses, asses, mules and hinnies</td>\n",
       "      <td>Caballos, asnos, mulos y burdéganos, vivos</td>\n",
       "    </tr>\n",
       "    <tr>\n",
       "      <th>5</th>\n",
       "      <td>010121000080</td>\n",
       "      <td>0101 21</td>\n",
       "      <td>0101.21</td>\n",
       "      <td>5</td>\n",
       "      <td>Pure-bred breeding animals</td>\n",
       "      <td>Reproductores de raza pura</td>\n",
       "    </tr>\n",
       "    <tr>\n",
       "      <th>6</th>\n",
       "      <td>010129000080</td>\n",
       "      <td>0101 29</td>\n",
       "      <td>0101.29</td>\n",
       "      <td>5</td>\n",
       "      <td>Other</td>\n",
       "      <td>Los demás</td>\n",
       "    </tr>\n",
       "    <tr>\n",
       "      <th>7</th>\n",
       "      <td>010130000080</td>\n",
       "      <td>0101 30</td>\n",
       "      <td>0101.30</td>\n",
       "      <td>4</td>\n",
       "      <td>Asses</td>\n",
       "      <td>Asnos</td>\n",
       "    </tr>\n",
       "    <tr>\n",
       "      <th>8</th>\n",
       "      <td>010190000080</td>\n",
       "      <td>0101 90</td>\n",
       "      <td>0101.90</td>\n",
       "      <td>4</td>\n",
       "      <td>Other</td>\n",
       "      <td>Los demás</td>\n",
       "    </tr>\n",
       "  </tbody>\n",
       "</table>\n",
       "</div>"
      ],
      "text/plain": [
       "          CNKEY       CN PURE_HS_CODE  LEVEL  \\\n",
       "3  010100000080     0101        01.01      3   \n",
       "5  010121000080  0101 21      0101.21      5   \n",
       "6  010129000080  0101 29      0101.29      5   \n",
       "7  010130000080  0101 30      0101.30      4   \n",
       "8  010190000080  0101 90      0101.90      4   \n",
       "\n",
       "                                      EN  \\\n",
       "3  Live horses, asses, mules and hinnies   \n",
       "5             Pure-bred breeding animals   \n",
       "6                                  Other   \n",
       "7                                  Asses   \n",
       "8                                  Other   \n",
       "\n",
       "                                           ES  \n",
       "3  Caballos, asnos, mulos y burdéganos, vivos  \n",
       "5                  Reproductores de raza pura  \n",
       "6                                   Los demás  \n",
       "7                                       Asnos  \n",
       "8                                   Los demás  "
      ]
     },
     "execution_count": 25,
     "metadata": {},
     "output_type": "execute_result"
    }
   ],
   "source": [
    "hs[hs.CNKEY.str.startswith('0101')]"
   ]
  },
  {
   "cell_type": "code",
   "execution_count": 10,
   "metadata": {},
   "outputs": [],
   "source": [
    "level5.loc[:, 'level5'] = level5.level5.apply(lambda l: l.replace('.', ''))\n",
    "level5.loc[:, 'level3'] = level5.level5.apply(lambda l: l[:4])"
   ]
  },
  {
   "cell_type": "code",
   "execution_count": 15,
   "metadata": {},
   "outputs": [
    {
     "data": {
      "text/plain": [
       "CNKEY           object\n",
       "CN              object\n",
       "PURE_HS_CODE    object\n",
       "LEVEL            int64\n",
       "EN              object\n",
       "ES              object\n",
       "dtype: object"
      ]
     },
     "execution_count": 15,
     "metadata": {},
     "output_type": "execute_result"
    }
   ],
   "source": []
  },
  {
   "cell_type": "code",
   "execution_count": 8,
   "metadata": {},
   "outputs": [
    {
     "data": {
      "text/html": [
       "<div>\n",
       "<style scoped>\n",
       "    .dataframe tbody tr th:only-of-type {\n",
       "        vertical-align: middle;\n",
       "    }\n",
       "\n",
       "    .dataframe tbody tr th {\n",
       "        vertical-align: top;\n",
       "    }\n",
       "\n",
       "    .dataframe thead th {\n",
       "        text-align: right;\n",
       "    }\n",
       "</style>\n",
       "<table border=\"1\" class=\"dataframe\">\n",
       "  <thead>\n",
       "    <tr style=\"text-align: right;\">\n",
       "      <th></th>\n",
       "      <th>CNKEY</th>\n",
       "      <th>CN</th>\n",
       "      <th>PURE_HS_CODE</th>\n",
       "      <th>LEVEL</th>\n",
       "      <th>EN</th>\n",
       "      <th>ES</th>\n",
       "    </tr>\n",
       "  </thead>\n",
       "  <tbody>\n",
       "    <tr>\n",
       "      <th>6626</th>\n",
       "      <td>870510000080</td>\n",
       "      <td>8705 10</td>\n",
       "      <td>8705.10</td>\n",
       "      <td>4</td>\n",
       "      <td>Crane lorries</td>\n",
       "      <td>Camiones grúa</td>\n",
       "    </tr>\n",
       "    <tr>\n",
       "      <th>6627</th>\n",
       "      <td>870520000080</td>\n",
       "      <td>8705 20</td>\n",
       "      <td>8705.20</td>\n",
       "      <td>4</td>\n",
       "      <td>Mobile drilling derricks</td>\n",
       "      <td>Camiones automóviles para sondeo o perforación</td>\n",
       "    </tr>\n",
       "    <tr>\n",
       "      <th>6628</th>\n",
       "      <td>870530000080</td>\n",
       "      <td>8705 30</td>\n",
       "      <td>8705.30</td>\n",
       "      <td>4</td>\n",
       "      <td>Fire fighting vehicles</td>\n",
       "      <td>Camiones de bomberos</td>\n",
       "    </tr>\n",
       "    <tr>\n",
       "      <th>6629</th>\n",
       "      <td>870540000080</td>\n",
       "      <td>8705 40</td>\n",
       "      <td>8705.40</td>\n",
       "      <td>4</td>\n",
       "      <td>Concrete-mixer lorries</td>\n",
       "      <td>Camiones hormigonera</td>\n",
       "    </tr>\n",
       "    <tr>\n",
       "      <th>6630</th>\n",
       "      <td>870590000080</td>\n",
       "      <td>8705 90</td>\n",
       "      <td>8705.90</td>\n",
       "      <td>4</td>\n",
       "      <td>Other</td>\n",
       "      <td>Los demás</td>\n",
       "    </tr>\n",
       "  </tbody>\n",
       "</table>\n",
       "</div>"
      ],
      "text/plain": [
       "             CNKEY       CN PURE_HS_CODE  LEVEL                        EN  \\\n",
       "6626  870510000080  8705 10      8705.10      4             Crane lorries   \n",
       "6627  870520000080  8705 20      8705.20      4  Mobile drilling derricks   \n",
       "6628  870530000080  8705 30      8705.30      4    Fire fighting vehicles   \n",
       "6629  870540000080  8705 40      8705.40      4    Concrete-mixer lorries   \n",
       "6630  870590000080  8705 90      8705.90      4                     Other   \n",
       "\n",
       "                                                  ES  \n",
       "6626                                   Camiones grúa  \n",
       "6627  Camiones automóviles para sondeo o perforación  \n",
       "6628                            Camiones de bomberos  \n",
       "6629                            Camiones hormigonera  \n",
       "6630                                       Los demás  "
      ]
     },
     "execution_count": 8,
     "metadata": {},
     "output_type": "execute_result"
    }
   ],
   "source": [
    "#hs[hs.PURE_HS_CODE.notnull() & hs.PURE_HS_CODE.str.startswith('8705')]"
   ]
  },
  {
   "cell_type": "code",
   "execution_count": 67,
   "metadata": {},
   "outputs": [],
   "source": [
    "level3 = hs[hs.LEVEL == 3]\n",
    "level3 = level3.rename(columns={'EN': 'level3_en', 'ES': 'level3_es', 'PURE_HS_CODE': 'level3'})\n",
    "level3.loc[:, 'level3'] = level3.level3.astype(str).apply(lambda h: h.replace('.', '')[:4])\n",
    "level3 = level3.merge(level5, on='level3')\n",
    "level3.loc[:, 'level2'] = level3.level3.astype(str).apply(lambda h: h[:2])"
   ]
  },
  {
   "cell_type": "code",
   "execution_count": 73,
   "metadata": {},
   "outputs": [],
   "source": [
    "level2 = hs[hs.LEVEL == 2]\n",
    "level2 = level2.rename(columns={'EN': 'level2_en', 'ES': 'level2_es', 'PURE_HS_CODE': 'level2'})\n",
    "level2 = level2.merge(level3, on='level2')\n",
    "level2.loc[:, 'level2_en'] = level2.level2_en.apply(lambda h: h.split(' - ')[1].title())\n",
    "level2.loc[:, 'level2_es'] = level2.level2_es.apply(lambda h: h.split(' - ')[1].title())\n"
   ]
  },
  {
   "cell_type": "code",
   "execution_count": 81,
   "metadata": {},
   "outputs": [],
   "source": [
    "hs2012 = level2[['level2', 'level2_en', 'level2_es', 'level3', 'level3_en', 'level3_es', 'level5', 'level5_en', 'level5_es']]"
   ]
  },
  {
   "cell_type": "code",
   "execution_count": 82,
   "metadata": {},
   "outputs": [
    {
     "name": "stdout",
     "output_type": "stream",
     "text": [
      "DROP TABLE IF EXISTS economy.dim_hs2012;\n",
      "CREATE TABLE \"economy\".\"dim_hs2012\" (\n",
      "\"level2\" TEXT,\n",
      "  \"level2_en\" TEXT,\n",
      "  \"level2_es\" TEXT,\n",
      "  \"level3\" TEXT,\n",
      "  \"level3_en\" TEXT,\n",
      "  \"level3_es\" TEXT,\n",
      "  \"level5\" TEXT,\n",
      "  \"level5_en\" TEXT,\n",
      "  \"level5_es\" TEXT\n",
      ")\n",
      "COPY \"economy\".\"dim_hs2012\" (\"level2\",\"level2_en\",\"level2_es\",\"level3\",\"level3_en\",\"level3_es\",\"level5\",\"level5_en\",\"level5_es\") FROM STDIN WITH CSV HEADER DELIMITER ',';\n"
     ]
    }
   ],
   "source": [
    "db.to_sql(hs2012, 'economy', 'dim_hs2012')\n",
    "\n",
    "engine.execute(\"\"\"\n",
    "CREATE INDEX level3_idx \n",
    "ON economy.dim_hs2012 (level3)\n",
    "\"\"\")"
   ]
  }
 ],
 "metadata": {
  "kernelspec": {
   "display_name": "Python 3",
   "language": "python",
   "name": "python3"
  },
  "language_info": {
   "codemirror_mode": {
    "name": "ipython",
    "version": 3
   },
   "file_extension": ".py",
   "mimetype": "text/x-python",
   "name": "python",
   "nbconvert_exporter": "python",
   "pygments_lexer": "ipython3",
   "version": "3.6.3"
  }
 },
 "nbformat": 4,
 "nbformat_minor": 2
}
