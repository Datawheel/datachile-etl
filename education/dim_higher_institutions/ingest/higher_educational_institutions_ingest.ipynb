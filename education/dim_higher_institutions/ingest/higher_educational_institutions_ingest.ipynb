{
 "cells": [
  {
   "cell_type": "markdown",
   "metadata": {},
   "source": [
    "# Ingest Higher Educational Institutions for fact_employability"
   ]
  },
  {
   "cell_type": "markdown",
   "metadata": {},
   "source": [
    "### Config"
   ]
  },
  {
   "cell_type": "code",
   "execution_count": 1,
   "metadata": {
    "collapsed": false
   },
   "outputs": [],
   "source": [
    "import sys\n",
    "import configparser\n",
    "config = configparser.ConfigParser()\n",
    "config.read_file(open('../../../settings.ini'))\n",
    "\n",
    "sys.path.insert(0, config.get('PATHS','libs_path'))\n",
    "engine_path = config.get('DATABASE','engine_path')"
   ]
  },
  {
   "cell_type": "markdown",
   "metadata": {},
   "source": [
    "### Main params"
   ]
  },
  {
   "cell_type": "code",
   "execution_count": 2,
   "metadata": {
    "collapsed": true
   },
   "outputs": [],
   "source": [
    "remote_path = 'http://pacha.datawheel.us/education/empleabilidad/'\n",
    "local_path = '../data/'"
   ]
  },
  {
   "cell_type": "markdown",
   "metadata": {},
   "source": [
    "### Imports"
   ]
  },
  {
   "cell_type": "code",
   "execution_count": 3,
   "metadata": {
    "collapsed": true
   },
   "outputs": [],
   "source": [
    "import postgres #from local file postgres.py\n",
    "from commons import inline_table_xml, download_file, download_zip_file, extract_zip_file #from local file commons.py\n",
    "\n",
    "import json\n",
    "import pandas as pd\n",
    "from sqlalchemy import create_engine"
   ]
  },
  {
   "cell_type": "code",
   "execution_count": 4,
   "metadata": {
    "collapsed": false
   },
   "outputs": [
    {
     "name": "stdout",
     "output_type": "stream",
     "text": [
      "Downloading... http://pacha.datawheel.us/education/empleabilidad/ids/listado_instituciones.csv\n",
      "Encoding: utf-8\n"
     ]
    },
    {
     "data": {
      "text/plain": [
       "['institution',\n",
       " 'institution_id',\n",
       " 'institution_group_name_es',\n",
       " 'institution_group_name',\n",
       " 'institution_group_id',\n",
       " 'institution_subgroup_id',\n",
       " 'institution_subgroup_name_es',\n",
       " 'institution_subgroup_name']"
      ]
     },
     "execution_count": 4,
     "metadata": {},
     "output_type": "execute_result"
    }
   ],
   "source": [
    "df = download_file(remote_path+'ids/',local_path,'listado_instituciones.csv')\n",
    "df = df.astype({'institution_id':'int','institution_group_id':'int','institution_subgroup_id':'int'})\n",
    "list(df)"
   ]
  },
  {
   "cell_type": "markdown",
   "metadata": {},
   "source": [
    "### Ingest"
   ]
  },
  {
   "cell_type": "code",
   "execution_count": 5,
   "metadata": {
    "collapsed": false
   },
   "outputs": [
    {
     "name": "stdout",
     "output_type": "stream",
     "text": [
      "DROP TABLE IF EXISTS education.dim_higher_educational_institutions;\n",
      "CREATE TABLE \"education\".\"dim_higher_educational_institutions\" (\n",
      "\"institution\" TEXT,\n",
      "  \"institution_id\" INTEGER,\n",
      "  \"institution_group_name_es\" TEXT,\n",
      "  \"institution_group_name\" TEXT,\n",
      "  \"institution_group_id\" INTEGER,\n",
      "  \"institution_subgroup_id\" INTEGER,\n",
      "  \"institution_subgroup_name_es\" TEXT,\n",
      "  \"institution_subgroup_name\" TEXT\n",
      ")\n",
      "COPY \"education\".\"dim_higher_educational_institutions\" (\"institution\",\"institution_id\",\"institution_group_name_es\",\"institution_group_name\",\"institution_group_id\",\"institution_subgroup_id\",\"institution_subgroup_name_es\",\"institution_subgroup_name\") FROM STDIN WITH CSV HEADER DELIMITER ',';\n"
     ]
    }
   ],
   "source": [
    "engine = create_engine(engine_path)\n",
    "db = postgres.PostgresDriver(engine)\n",
    "db.to_sql(df, 'education', 'dim_higher_educational_institutions')"
   ]
  }
 ],
 "metadata": {
  "kernelspec": {
   "display_name": "Python 3",
   "language": "python",
   "name": "python3"
  },
  "language_info": {
   "codemirror_mode": {
    "name": "ipython",
    "version": 3
   },
   "file_extension": ".py",
   "mimetype": "text/x-python",
   "name": "python",
   "nbconvert_exporter": "python",
   "pygments_lexer": "ipython3",
   "version": "3.6.0"
  }
 },
 "nbformat": 4,
 "nbformat_minor": 2
}
