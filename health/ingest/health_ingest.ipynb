{
 "cells": [
  {
   "cell_type": "markdown",
   "metadata": {},
   "source": [
    "# Import & Load health data - 3 tables"
   ]
  },
  {
   "cell_type": "markdown",
   "metadata": {},
   "source": [
    "### Config"
   ]
  },
  {
   "cell_type": "code",
   "execution_count": 12,
   "metadata": {
    "collapsed": false
   },
   "outputs": [],
   "source": [
    "import sys\n",
    "import configparser\n",
    "config = configparser.ConfigParser()\n",
    "config.read_file(open('../../settings.ini'))\n",
    "\n",
    "sys.path.insert(0, config.get('PATHS','libs_path'))\n",
    "engine_path = config.get('DATABASE','engine_path')"
   ]
  },
  {
   "cell_type": "markdown",
   "metadata": {},
   "source": [
    "### Main params"
   ]
  },
  {
   "cell_type": "code",
   "execution_count": 13,
   "metadata": {
    "collapsed": false
   },
   "outputs": [],
   "source": [
    "remote_path = 'http://pacha.datawheel.us/datachile/health/basic_health_indicators/'\n",
    "local_path = '../data/'"
   ]
  },
  {
   "cell_type": "markdown",
   "metadata": {},
   "source": [
    "### Imports"
   ]
  },
  {
   "cell_type": "code",
   "execution_count": 14,
   "metadata": {
    "collapsed": true
   },
   "outputs": [],
   "source": [
    "import postgres #from local file postgres.py\n",
    "from commons import inline_table_xml, download_file #from local file commons.py\n",
    "\n",
    "import json\n",
    "import pandas as pd\n",
    "from sqlalchemy import create_engine"
   ]
  },
  {
   "cell_type": "markdown",
   "metadata": {},
   "source": [
    "### Load death causes"
   ]
  },
  {
   "cell_type": "code",
   "execution_count": 4,
   "metadata": {
    "collapsed": false
   },
   "outputs": [
    {
     "name": "stdout",
     "output_type": "stream",
     "text": [
      "Already downloaded. Using: ../data/death_causes.csv\n",
      "Encoding: ascii\n"
     ]
    },
    {
     "data": {
      "text/plain": [
       "['year',\n",
       " 'region_id',\n",
       " 'cie_10_id',\n",
       " 'sex_id',\n",
       " 'casualities_count',\n",
       " 'casualities_rate_per_100_inhabitants']"
      ]
     },
     "execution_count": 4,
     "metadata": {},
     "output_type": "execute_result"
    }
   ],
   "source": [
    "df = download_file(remote_path,local_path,'death_causes.csv')\n",
    "df = df.fillna(0)\n",
    "df = df.astype({'year':'int','region_id':'int','sex_id':'int','casualities_count':'int'})\n",
    "list(df)"
   ]
  },
  {
   "cell_type": "code",
   "execution_count": 5,
   "metadata": {
    "collapsed": false
   },
   "outputs": [
    {
     "name": "stdout",
     "output_type": "stream",
     "text": [
      "DROP TABLE IF EXISTS health.fact_death_causes;\n",
      "CREATE TABLE \"health\".\"fact_death_causes\" (\n",
      "\"year\" INTEGER,\n",
      "  \"region_id\" INTEGER,\n",
      "  \"cie_10_id\" TEXT,\n",
      "  \"sex_id\" INTEGER,\n",
      "  \"casualities_count\" INTEGER,\n",
      "  \"casualities_rate_per_100_inhabitants\" REAL\n",
      ")\n",
      "COPY \"health\".\"fact_death_causes\" (\"year\",\"region_id\",\"cie_10_id\",\"sex_id\",\"casualities_count\",\"casualities_rate_per_100_inhabitants\") FROM STDIN WITH CSV HEADER DELIMITER ',';\n"
     ]
    }
   ],
   "source": [
    "engine = create_engine(engine_path)\n",
    "db = postgres.PostgresDriver(engine)\n",
    "db.to_sql(df, 'health', 'fact_death_causes')"
   ]
  },
  {
   "cell_type": "code",
   "execution_count": 6,
   "metadata": {
    "collapsed": false
   },
   "outputs": [
    {
     "data": {
      "text/plain": [
       "<sqlalchemy.engine.result.ResultProxy at 0x10c075240>"
      ]
     },
     "execution_count": 6,
     "metadata": {},
     "output_type": "execute_result"
    }
   ],
   "source": [
    "engine.execute(\"\"\"\n",
    "CREATE INDEX fact_death_causes_region_id \n",
    "ON health.fact_death_causes (region_id)\n",
    "\"\"\")\n",
    "\n",
    "engine.execute(\"\"\"\n",
    "ALTER TABLE health.fact_death_causes\n",
    "  ADD COLUMN date_id INTEGER; \n",
    "\"\"\")\n",
    "\n",
    "engine.execute(\"\"\"\n",
    "UPDATE health.fact_death_causes\n",
    "SET date_id = dim_date.id\n",
    "FROM public.dim_date\n",
    "WHERE dim_date.the_year = health.fact_death_causes.year\n",
    "      AND dim_date.month_of_year = 1\n",
    "      AND dim_date.day_of_month = 1\n",
    "\"\"\")"
   ]
  },
  {
   "cell_type": "markdown",
   "metadata": {},
   "source": [
    "### Load life expectancy"
   ]
  },
  {
   "cell_type": "code",
   "execution_count": 15,
   "metadata": {
    "collapsed": false
   },
   "outputs": [
    {
     "name": "stdout",
     "output_type": "stream",
     "text": [
      "Already downloaded. Using: ../data/life_expectancy.csv\n"
     ]
    },
    {
     "data": {
      "text/plain": [
       "['year',\n",
       " 'region_id',\n",
       " 'sex_id',\n",
       " 'life_expectancy',\n",
       " 'mortality_rate_per_100_inhabitants']"
      ]
     },
     "execution_count": 15,
     "metadata": {},
     "output_type": "execute_result"
    }
   ],
   "source": [
    "df = download_file(remote_path,local_path,'life_expectancy.csv')\n",
    "df = df.astype({'year':'int','region_id':'int','sex_id':'int'})\n",
    "list(df)"
   ]
  },
  {
   "cell_type": "code",
   "execution_count": 16,
   "metadata": {
    "collapsed": false
   },
   "outputs": [
    {
     "name": "stdout",
     "output_type": "stream",
     "text": [
      "DROP TABLE IF EXISTS health.fact_life_expectancy;\n",
      "CREATE TABLE \"health\".\"fact_life_expectancy\" (\n",
      "\"year\" INTEGER,\n",
      "  \"region_id\" INTEGER,\n",
      "  \"sex_id\" INTEGER,\n",
      "  \"life_expectancy\" REAL,\n",
      "  \"mortality_rate_per_100_inhabitants\" REAL\n",
      ")\n",
      "COPY \"health\".\"fact_life_expectancy\" (\"year\",\"region_id\",\"sex_id\",\"life_expectancy\",\"mortality_rate_per_100_inhabitants\") FROM STDIN WITH CSV HEADER DELIMITER ',';\n"
     ]
    }
   ],
   "source": [
    "engine = create_engine(engine_path)\n",
    "db = postgres.PostgresDriver(engine)\n",
    "db.to_sql(df, 'health', 'fact_life_expectancy')"
   ]
  },
  {
   "cell_type": "code",
   "execution_count": 17,
   "metadata": {
    "collapsed": false
   },
   "outputs": [
    {
     "data": {
      "text/plain": [
       "<sqlalchemy.engine.result.ResultProxy at 0x10f6d7710>"
      ]
     },
     "execution_count": 17,
     "metadata": {},
     "output_type": "execute_result"
    }
   ],
   "source": [
    "engine.execute(\"\"\"\n",
    "CREATE INDEX fact_life_expectancy_region_id \n",
    "ON health.fact_life_expectancy (region_id)\n",
    "\"\"\")\n",
    "\n",
    "engine.execute(\"\"\"\n",
    "ALTER TABLE health.fact_life_expectancy\n",
    "  ADD COLUMN date_id INTEGER; \n",
    "\"\"\")\n",
    "\n",
    "engine.execute(\"\"\"\n",
    "UPDATE health.fact_life_expectancy\n",
    "SET date_id = dim_date.id\n",
    "FROM public.dim_date\n",
    "WHERE dim_date.the_year = health.fact_life_expectancy.year\n",
    "      AND dim_date.month_of_year = 1\n",
    "      AND dim_date.day_of_month = 1\n",
    "\"\"\")"
   ]
  },
  {
   "cell_type": "markdown",
   "metadata": {},
   "source": [
    "### Load health access"
   ]
  },
  {
   "cell_type": "code",
   "execution_count": 5,
   "metadata": {
    "collapsed": false
   },
   "outputs": [
    {
     "name": "stdout",
     "output_type": "stream",
     "text": [
      "Downloading... http://pacha.datawheel.us/datachile/health/basic_health_indicators/health_access_indicators.csv\n"
     ]
    },
    {
     "data": {
      "text/plain": [
       "['year',\n",
       " 'region_id',\n",
       " 'primary_healthcare',\n",
       " 'specialized_healthcare',\n",
       " 'urgency_healthcare',\n",
       " 'dental_discharges_per_100_inhabitants']"
      ]
     },
     "execution_count": 5,
     "metadata": {},
     "output_type": "execute_result"
    }
   ],
   "source": [
    "dfha = download_file(remote_path,local_path,'health_access_indicators.csv')\n",
    "dfha = dfha.astype({'year':'int','region_id':'int','primary_healthcare':'int','specialized_healthcare':'int','urgency_healthcare':'int'})\n",
    "list(dfha)"
   ]
  },
  {
   "cell_type": "code",
   "execution_count": 6,
   "metadata": {
    "collapsed": false
   },
   "outputs": [
    {
     "name": "stdout",
     "output_type": "stream",
     "text": [
      "DROP TABLE IF EXISTS health.fact_health_access;\n",
      "CREATE TABLE \"health\".\"fact_health_access\" (\n",
      "\"year\" INTEGER,\n",
      "  \"region_id\" INTEGER,\n",
      "  \"primary_healthcare\" INTEGER,\n",
      "  \"specialized_healthcare\" INTEGER,\n",
      "  \"urgency_healthcare\" INTEGER,\n",
      "  \"dental_discharges_per_100_inhabitants\" REAL\n",
      ")\n",
      "COPY \"health\".\"fact_health_access\" (\"year\",\"region_id\",\"primary_healthcare\",\"specialized_healthcare\",\"urgency_healthcare\",\"dental_discharges_per_100_inhabitants\") FROM STDIN WITH CSV HEADER DELIMITER ',';\n"
     ]
    }
   ],
   "source": [
    "engine = create_engine(engine_path)\n",
    "db = postgres.PostgresDriver(engine)\n",
    "db.to_sql(dfha, 'health', 'fact_health_access')"
   ]
  },
  {
   "cell_type": "code",
   "execution_count": 7,
   "metadata": {
    "collapsed": false
   },
   "outputs": [
    {
     "data": {
      "text/plain": [
       "<sqlalchemy.engine.result.ResultProxy at 0x10f6a8eb8>"
      ]
     },
     "execution_count": 7,
     "metadata": {},
     "output_type": "execute_result"
    }
   ],
   "source": [
    "engine.execute(\"\"\"\n",
    "CREATE INDEX fact_health_access_region_id \n",
    "ON health.fact_health_access (region_id)\n",
    "\"\"\")\n",
    "\n",
    "engine.execute(\"\"\"\n",
    "ALTER TABLE health.fact_health_access\n",
    "  ADD COLUMN date_id INTEGER; \n",
    "\"\"\")\n",
    "\n",
    "engine.execute(\"\"\"\n",
    "UPDATE health.fact_health_access\n",
    "SET date_id = dim_date.id\n",
    "FROM public.dim_date\n",
    "WHERE dim_date.the_year = health.fact_health_access.year\n",
    "      AND dim_date.month_of_year = 1\n",
    "      AND dim_date.day_of_month = 1\n",
    "\"\"\")"
   ]
  },
  {
   "cell_type": "markdown",
   "metadata": {},
   "source": [
    "### Related dim CIE codes"
   ]
  },
  {
   "cell_type": "code",
   "execution_count": 13,
   "metadata": {
    "collapsed": false
   },
   "outputs": [
    {
     "name": "stdout",
     "output_type": "stream",
     "text": [
      "Downloading... http://pacha.datawheel.us/health/basic_health_indicators/cie_10_id.csv\n",
      "Encoding: TIS-620\n",
      "\n",
      "<InlineTable alias=\"cie_10\">\n",
      "  <ColumnDefs>\n",
      "    <ColumnDef name=\"id\" type=\"Numeric\" />\n",
      "    <ColumnDef name=\"description\" type=\"String\" />\n",
      "    <ColumnDef name=\"es_description\" type=\"String\" />\n",
      "  </ColumnDefs>\n",
      "  <Rows>\n",
      "    <Row>\n",
      "      <Value column=\"id\">C00-D48</Value>\n",
      "      <Value column=\"description\">Tumores (neoplasias)</Value>\n",
      "      <Value column=\"es_description\">Tumores (neoplasias)</Value>\n",
      "    </Row>\n",
      "  <Row>\n",
      "      <Value column=\"id\">E00-E90</Value>\n",
      "      <Value column=\"description\">Enfermedades endocrinas, nutricionales y metabรณlicas</Value>\n",
      "      <Value column=\"es_description\">Enfermedades endocrinas, nutricionales y metabรณlicas</Value>\n",
      "    </Row>\n",
      "  <Row>\n",
      "      <Value column=\"id\">I00-I99</Value>\n",
      "      <Value column=\"description\">Enfermedades del sistema circulatorio</Value>\n",
      "      <Value column=\"es_description\">Enfermedades del sistema circulatorio</Value>\n",
      "    </Row>\n",
      "  <Row>\n",
      "      <Value column=\"id\">J00-J99</Value>\n",
      "      <Value column=\"description\">Enfermedades del sistema respiratorio</Value>\n",
      "      <Value column=\"es_description\">Enfermedades del sistema respiratorio</Value>\n",
      "    </Row>\n",
      "  <Row>\n",
      "      <Value column=\"id\">K00-K93</Value>\n",
      "      <Value column=\"description\">Enfermedades del sistema digestivo</Value>\n",
      "      <Value column=\"es_description\">Enfermedades del sistema digestivo</Value>\n",
      "    </Row>\n",
      "  <Row>\n",
      "      <Value column=\"id\">V01-Y98</Value>\n",
      "      <Value column=\"description\">Causa Externa de mortalidad</Value>\n",
      "      <Value column=\"es_description\">Causa Externa de mortalidad</Value>\n",
      "    </Row>\n",
      "  <Row>\n",
      "      <Value column=\"id\">B20-B24</Value>\n",
      "      <Value column=\"description\">Infecciones por VIH y SIDA</Value>\n",
      "      <Value column=\"es_description\">Infecciones por VIH y SIDA</Value>\n",
      "    </Row>\n",
      "  <Row>\n",
      "      <Value column=\"id\">V01-V99</Value>\n",
      "      <Value column=\"description\">Accidentes de trรกnsito</Value>\n",
      "      <Value column=\"es_description\">Accidentes de trรกnsito</Value>\n",
      "    </Row>\n",
      "  <Row>\n",
      "      <Value column=\"id\">X60-X84</Value>\n",
      "      <Value column=\"description\">Lesiones autoinfligidas intencionalmente</Value>\n",
      "      <Value column=\"es_description\">Lesiones autoinfligidas intencionalmente</Value>\n",
      "    </Row>\n",
      "  </Rows>\n",
      "</InlineTable>\n",
      "    \n"
     ]
    }
   ],
   "source": [
    "d1 = download_file(remote_path,local_path,'cie_10_id.csv')\n",
    "list(d1)\n",
    "print (inline_table_xml(d1, 'cie_10', 'cie_10_id', 'cie_10'))"
   ]
  }
 ],
 "metadata": {
  "kernelspec": {
   "display_name": "Python 3",
   "language": "python",
   "name": "python3"
  },
  "language_info": {
   "codemirror_mode": {
    "name": "ipython",
    "version": 3
   },
   "file_extension": ".py",
   "mimetype": "text/x-python",
   "name": "python",
   "nbconvert_exporter": "python",
   "pygments_lexer": "ipython3",
   "version": "3.6.0"
  }
 },
 "nbformat": 4,
 "nbformat_minor": 2
}
