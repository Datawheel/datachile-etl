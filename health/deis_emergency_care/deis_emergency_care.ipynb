{
 "cells": [
  {
   "cell_type": "code",
   "execution_count": null,
   "metadata": {},
   "outputs": [],
   "source": [
    "import os\n",
    "import pandas as pd\n",
    "import time\n",
    "import openpyxl\n",
    "os.chdir(\"/Users/mauricio/datachile-etl/health/deis_emergency_care\")"
   ]
  },
  {
   "cell_type": "code",
   "execution_count": null,
   "metadata": {},
   "outputs": [],
   "source": [
    "if not os.path.isdir(\"./data_processing\"):\n",
    "    os.mkdir(\"./data_processing\")"
   ]
  },
  {
   "cell_type": "code",
   "execution_count": null,
   "metadata": {},
   "outputs": [],
   "source": [
    "names = os.listdir(\"./data_temp\")"
   ]
  },
  {
   "cell_type": "code",
   "execution_count": null,
   "metadata": {
    "scrolled": true
   },
   "outputs": [],
   "source": [
    "# Extracting pieces of excel sheets to a whole excel file in a different folder\n",
    "a = 0\n",
    "for name in names:\n",
    "    a += 1\n",
    "    print(str(a) + \") \" + name)\n",
    "    wb = openpyxl.load_workbook(\"./data_temp/\" + name)\n",
    "    wk_region, wk_year = name.replace(\".xlsx\",\"\").split(\"_\")\n",
    "    sh = wb.active\n",
    "\n",
    "    single_letters = list(\"ABCDEFGHIJKLMNOPQRSTUVWXYZ\")\n",
    "    double_letters = [\"A{}\".format(l) for l in single_letters] + [\"BA\",\"BB\"]\n",
    "    letters = single_letters + double_letters\n",
    "    zero_range = [\"{}{}\".format(l, str(n)) for n in range(1,27) for l in letters]\n",
    "    \n",
    "    # Processing Function\n",
    "    def process(cell_range, tag):\n",
    "        new = sh[cell_range]\n",
    "        new_wb = openpyxl.Workbook()\n",
    "        new_sh = new_wb.active\n",
    "        data = [\"{}\".format(cell.value) for row in new for cell in row]    \n",
    "        points = zip(zero_range,data)\n",
    "        for p in points:\n",
    "            new_sh[p[0]] = p[1]\n",
    "        \n",
    "        new_wb.save(\"./data_processing/\" + wk_region + \"_\" + wk_year + \"_\" + tag + \".xlsx\")\n",
    "\n",
    "    # Actual processing\n",
    "    process(\"A47:BB72\", \"less1\")\n",
    "    process(\"A76:BB101\", \"1to4\")\n",
    "    process(\"A105:BB130\", \"5to14\")\n",
    "    process(\"A134:BB159\", \"15to65\")\n",
    "    process(\"A163:BB188\", \"65plus\")\n"
   ]
  },
  {
   "cell_type": "code",
   "execution_count": null,
   "metadata": {},
   "outputs": [],
   "source": [
    "# Loading filenames\n",
    "files = os.listdir(\"./data_processing\")"
   ]
  },
  {
   "cell_type": "code",
   "execution_count": null,
   "metadata": {
    "scrolled": true
   },
   "outputs": [],
   "source": [
    "# Emergency dimension\n",
    "e_dim = pd.read_csv(\"./data_final/emergency_table.csv\")\n",
    "\n",
    "# Age range dimension\n",
    "age_dim = pd.read_csv(\"./data_final/age_table.csv\")\n",
    "\n",
    "# Geography dimension\n",
    "geo_dim = pd.read_csv(\"./data_final/geography_table.csv\")"
   ]
  },
  {
   "cell_type": "code",
   "execution_count": null,
   "metadata": {},
   "outputs": [],
   "source": [
    "# Date dimension\n",
    "date_dim = pd.read_csv(\"./data_final/date_table.csv\", dtype = \"object\")"
   ]
  },
  {
   "cell_type": "code",
   "execution_count": null,
   "metadata": {},
   "outputs": [],
   "source": [
    "# Tidying dataframes\n",
    "\n",
    "df_list = []\n",
    "\n",
    "a = 0\n",
    "for file in files:\n",
    "    a += 1\n",
    "    print(\"{}) {}\".format(a, file))\n",
    "    df = pd.read_excel(\"./data_processing/\" + file)\n",
    "    f_region, f_year, f_age = file.replace(\".xlsx\",\"\").split(\"_\")\n",
    "    df = df.drop(labels = [0,1,8,14,19])\n",
    "\n",
    "    df = df.drop(columns = [\"Total\"]).rename(columns = {\"None\":\"emergency\"})\n",
    "    df = pd.melt(df, id_vars = \"emergency\", var_name = \"week\", value_name = \"total\")\n",
    "    df = df.merge(e_dim[[\"emergency_id\", \"emergency_index\"]], left_on = \"emergency\", right_on = \"emergency_index\", how = \"left\")\n",
    "    df = df.drop(columns = [\"emergency\", \"emergency_index\"])\n",
    "\n",
    "    df[\"year\"] = f_year\n",
    "    df[\"date\"] = df.year + \"-\" + df.week\n",
    "    df = df.drop(columns = [\"week\", \"year\"])\n",
    "    df = df.merge(date_dim[[\"date_id\", \"date_index\"]], left_on = \"date\", right_on = \"date_index\", how = \"left\")\n",
    "    df = df.drop(columns = [\"date\",\"date_index\"])\n",
    "\n",
    "    df[\"age\"] = f_age\n",
    "    df = df.merge(age_dim[[\"age_id\", \"age_index\"]], left_on = \"age\", right_on = \"age_index\", how = \"left\")\n",
    "    df = df.drop(columns = [\"age\", \"age_index\"])\n",
    "\n",
    "    df[\"region\"] = f_region\n",
    "    df = df.merge(geo_dim[[\"geography_id\", \"geography_index\"]], left_on = \"region\", right_on = \"geography_index\", how = \"left\")\n",
    "    df = df.drop(columns = [\"region\", \"geography_index\"])\n",
    "\n",
    "    if df[\"date_id\"].isnull().any() == True:\n",
    "        print(\"NULL DATE VALUES\")\n",
    "\n",
    "    df_list.append(df)\n"
   ]
  },
  {
   "cell_type": "code",
   "execution_count": null,
   "metadata": {
    "scrolled": true
   },
   "outputs": [],
   "source": [
    "df = pd.concat(df_list, ignore_index = True)\n",
    "df = df[df[\"total\"] != \"-\"]\n",
    "df = df.dropna()\n",
    "\n",
    "df[\"date_id\"] = df[\"date_id\"].astype(\"int\")\n",
    "df = df.reset_index(drop = True)\n",
    "df = df[[\"date_id\", \"geography_id\", \"emergency_id\", \"age_id\", \"total\"]]"
   ]
  },
  {
   "cell_type": "code",
   "execution_count": null,
   "metadata": {},
   "outputs": [],
   "source": [
    "if not os.path.isdir(\"./data_final\"):\n",
    "    os.mkdir(\"./data_final\")\n",
    "    \n",
    "df.to_csv(\"./data_final/fact_emergency.csv\", index = False)"
   ]
  }
 ],
 "metadata": {
  "kernelspec": {
   "display_name": "Python 3",
   "language": "python",
   "name": "python3"
  },
  "language_info": {
   "codemirror_mode": {
    "name": "ipython",
    "version": 3
   },
   "file_extension": ".py",
   "mimetype": "text/x-python",
   "name": "python",
   "nbconvert_exporter": "python",
   "pygments_lexer": "ipython3",
   "version": "3.7.0"
  }
 },
 "nbformat": 4,
 "nbformat_minor": 2
}
