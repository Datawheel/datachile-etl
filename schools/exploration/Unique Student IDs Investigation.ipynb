{
 "cells": [
  {
   "cell_type": "markdown",
   "metadata": {},
   "source": [
    "# Purpose\n",
    "The purpose of this notebook is to document the investigation on the Rendimiento (primary and secondsary) Schools dataset."
   ]
  },
  {
   "cell_type": "markdown",
   "metadata": {},
   "source": [
    "## Import csv to pandas dataframe"
   ]
  },
  {
   "cell_type": "code",
   "execution_count": 16,
   "metadata": {
    "collapsed": true
   },
   "outputs": [],
   "source": [
    "import pandas as pd\n",
    "\n",
    "df = pd.read_csv('../raw/schools/rendimiento/20160212_Rendimiento_2015_20160131_PUBL.csv', sep=';', decimal=',')\n",
    "cols = ['MRUN', 'NOM_RBD', 'NOM_COM_RBD', 'RURAL_RBD', 'COD_GRADO', 'LET_CUR', 'GEN_ALU', 'NOM_COM_ALU', 'PROM_GRAL', 'ASISTENCIA', 'SIT_FIN_R']\n",
    "df = df[cols]"
   ]
  },
  {
   "cell_type": "markdown",
   "metadata": {},
   "source": [
    "## Description of desired columns\n",
    "\n",
    "| Column ID        | Description              |\n",
    "|------------------|--------------------------|\n",
    "| MRUN             | Unique ID of student     |\n",
    "| NOM_RBD          | Name of School           |\n",
    "| NOM_COM_RBD      | Name of Comuna of school |\n",
    "| RURAL_RBD        | Rural or urban           |\n",
    "| COD_GRADO        | Grade code               |\n",
    "| LET_CUR          | Course Letter            |\n",
    "| GEN_ALU          | Gender of student        |\n",
    "| NOM_COM_ALU      | Comuna of residence      |\n",
    "| PROM_GRAL        | GPA                      |\n",
    "| ASISTENCIA       | Attendance               |\n",
    "| SIT_FIN_R        | Promotion: P: Promoted, R: Failed, Y: Retired, T: Transferred  |\n"
   ]
  },
  {
   "cell_type": "markdown",
   "metadata": {},
   "source": [
    "## Is the MRUN student ID unique?\n",
    "To determine if the MRUN colum is unique we'll use a very simple built-in pandas function [value_counts()](http://pandas.pydata.org/pandas-docs/stable/generated/pandas.Series.value_counts.html). Given a column, this function will return the frequency of that specific value in the dataframe. So if anything returns a value > 1, we know this is a duplicate."
   ]
  },
  {
   "cell_type": "code",
   "execution_count": 17,
   "metadata": {
    "collapsed": false
   },
   "outputs": [
    {
     "name": "stdout",
     "output_type": "stream",
     "text": [
      "Number of duplicate studen IDs: 183735\n",
      "Percentage of duplicates: 6%\n"
     ]
    }
   ],
   "source": [
    "student_freq = df['MRUN'].value_counts()\n",
    "dupes = student_freq[student_freq > 1]\n",
    "print \"Number of duplicate studen IDs:\", len(dupes)\n",
    "print \"Percentage of duplicates: {:.0%}\".format(len(dupes) / float(len(student_freq)))"
   ]
  },
  {
   "cell_type": "markdown",
   "metadata": {},
   "source": [
    "## Investigate duplicate students\n",
    "By looking up individual rows with duplicate MRUNs, we may be able to spot a pattern."
   ]
  },
  {
   "cell_type": "code",
   "execution_count": 18,
   "metadata": {
    "collapsed": false
   },
   "outputs": [
    {
     "name": "stdout",
     "output_type": "stream",
     "text": [
      "20924355    21\n",
      "15606561    21\n",
      "15332159    19\n",
      "5993806     15\n",
      "6675325     14\n",
      "Name: MRUN, dtype: int64\n",
      "             MRUN                                   NOM_RBD  NOM_COM_RBD  \\\n",
      "204567   20924355         ESCUELA ARTURO VILLALON SIEULANNE       OVALLE   \n",
      "207200   20924355     ESCUELA PEDRO ENRIQUE ALFONSO BARRIOS       OVALLE   \n",
      "213789   20924355                         ESCUELA SAMO ALTO  RIO HURTADO   \n",
      "218550   20924355                    ESCUELA BASICA AMERICA   COMBARBALA   \n",
      "224389   20924355               ESCUELA JUAN CARRASCO RISCO      ILLAPEL   \n",
      "225392   20924355  ESCUELA BASICA LAS PALMERAS DE LIMAHUIDA      ILLAPEL   \n",
      "225474   20924355      ESCUELA BASICA GRACIELA DIAZ ALLENDE      ILLAPEL   \n",
      "227352   20924355              ESCUELA PARTICULAR LAS CANAS      ILLAPEL   \n",
      "228672   20924355     ESCUELA BASICA BERTA HIDALGO BARAHONA    SALAMANCA   \n",
      "228769   20924355                          ESCUELA EL TAMBO    SALAMANCA   \n",
      "229001   20924355     ESCUELA BASICA GUISELA GAMBOA SALINAS    SALAMANCA   \n",
      "229111   20924355                            ESCUELA COIRON    SALAMANCA   \n",
      "233972   20924355          ESC.BASICA CARLOS VIAL ESPANTOSO       CANELA   \n",
      "237086   20924355                 ESCUELA BASICA POZA VERDE     LA LIGUA   \n",
      "237533   20924355                ESCUELA ENRIQUE DOLL ROJAS     LA LIGUA   \n",
      "238529   20924355                    ESCUELA BASICA PEDEGUA      PETORCA   \n",
      "238729   20924355          COL. CATOLICO  PDTE.MANUEL MONTT      PETORCA   \n",
      "240566   20924355  ESCUELA ESTER SILVA SOMARRIVA BARTOLILLO      CABILDO   \n",
      "240855   20924355                    ESCUELA BASICA LA VINA      CABILDO   \n",
      "240997   20924355                       ESCUELA BASICA G-45      CABILDO   \n",
      "2312634  20924355        ESCUELA BASICA MUNICIPAL ARAUCARIA      CABILDO   \n",
      "\n",
      "         RURAL_RBD  COD_GRADO LET_CUR  GEN_ALU NOM_COM_ALU  PROM_GRAL  \\\n",
      "204567           0          2       A        1      CANELA        0.0   \n",
      "207200           1          2       A        1      CANELA        0.0   \n",
      "213789           1          2       A        1      CANELA        5.8   \n",
      "218550           0          2       C        1      CANELA        0.0   \n",
      "224389           0          2       A        1      CANELA        0.0   \n",
      "225392           1          2       A        1      CANELA        0.0   \n",
      "225474           1          2       A        1      CANELA        0.0   \n",
      "227352           1          2       A        1      CANELA        0.0   \n",
      "228672           1          2       A        1      CANELA        0.0   \n",
      "228769           1          2       A        1      CANELA        0.0   \n",
      "229001           1          2       A        1      CANELA        0.0   \n",
      "229111           1          2       A        1      CANELA        0.0   \n",
      "233972           1          2       A        1      CANELA        0.0   \n",
      "237086           1          2       A        1      CANELA        0.0   \n",
      "237533           1          2       A        1      CANELA        0.0   \n",
      "238529           1          2       A        1      CANELA        0.0   \n",
      "238729           0          2       A        1      CANELA        0.0   \n",
      "240566           1          2       A        1      CANELA        0.0   \n",
      "240855           1          2       A        1      CANELA        0.0   \n",
      "240997           1          2       A        1      CANELA        0.0   \n",
      "2312634          0          2       B        1      CANELA        0.0   \n",
      "\n",
      "         ASISTENCIA SIT_FIN_R  \n",
      "204567            0         T  \n",
      "207200            0         T  \n",
      "213789           85         P  \n",
      "218550            0         T  \n",
      "224389            0         T  \n",
      "225392            0         T  \n",
      "225474            0         T  \n",
      "227352            0         T  \n",
      "228672            0         T  \n",
      "228769            0         T  \n",
      "229001            0         T  \n",
      "229111            0         T  \n",
      "233972            0         T  \n",
      "237086            0         T  \n",
      "237533            0         T  \n",
      "238529            0         T  \n",
      "238729            0         T  \n",
      "240566            0         T  \n",
      "240855            0         T  \n",
      "240997            0         T  \n",
      "2312634           0         T  \n"
     ]
    }
   ],
   "source": [
    "print dupes.head()\n",
    "# student with ID 20924355 has 21 entries!\n",
    "# let's lookup that individual record\n",
    "print df[df['MRUN'] == 20924355]"
   ]
  },
  {
   "cell_type": "markdown",
   "metadata": {},
   "source": [
    "## Pattern\n",
    "The pattern (at least for this record) is that even though this student ID appears 21 times, they only have 1 entry with an attendance rate > 0. Also all of the entries in the promotion column are 'T' which stands for 'Transferred' except 1 which is 'P' or 'Promoted'.\n",
    "\n",
    "Let's look up a few more to see if this pattern continues..."
   ]
  },
  {
   "cell_type": "code",
   "execution_count": 19,
   "metadata": {
    "collapsed": false
   },
   "outputs": [
    {
     "name": "stdout",
     "output_type": "stream",
     "text": [
      "15490241    2\n",
      "13306994    2\n",
      "4189721     2\n",
      "1198205     2\n",
      "11689547    2\n",
      "Name: MRUN, dtype: int64\n",
      "            MRUN                                      NOM_RBD    NOM_COM_RBD  \\\n",
      "282995   6675325                        ESCUELA BASICA ARAUCO       QUILLOTA   \n",
      "512854   6675325       ESC. CONTRAMAESTRE CONSTANTINO MICALVI     LAS CABRAS   \n",
      "530262   6675325                   COLEGIO BASICO CONSOLIDADO       NANCAGUA   \n",
      "541555   6675325                ESCUELA MUNICIPAL DE PALMILLA       PALMILLA   \n",
      "543510   6675325             COLEGIO MANUEL RODRIGUEZ ERDOIZA      PERALILLO   \n",
      "547003   6675325             ESCUELA PROF. MONICA SILVA GOMEZ    LA ESTRELLA   \n",
      "1851442  6675325                   ESCUELA LUIS MATTE LARRAIN    PUENTE ALTO   \n",
      "1943794  6675325                    LICEO REPUBLICA DE ITALIA  ISLA DE MAIPO   \n",
      "1953595  6675325           ESCUELA MAND EDUARDO FREI MONTALVA       PE�AFLOR   \n",
      "1983305  6675325       LICEO MUNICIPAL SARA TRONCOSO TRONCOSO          ALHUE   \n",
      "2375463  6675325                    ESCUELA MUNICIPAL AMERICA      MARCHIHUE   \n",
      "2414513  6675325        COLEGIO BASICO VIOLETA PARRA SANDOVAL      PERALILLO   \n",
      "2922758  6675325  COLEGIO PART. CARDENAL CARLOS OVIEDO CAVADA          MAIPU   \n",
      "2968532  6675325           COLEGIO MONTE OLIVO DE PUENTE ALTO    PUENTE ALTO   \n",
      "\n",
      "         RURAL_RBD  COD_GRADO LET_CUR  GEN_ALU  NOM_COM_ALU  PROM_GRAL  \\\n",
      "282995           0          2       A        1  PUENTE ALTO        0.0   \n",
      "512854           0          2       A        1  PUENTE ALTO        0.0   \n",
      "530262           0          2       A        1  PUENTE ALTO        0.0   \n",
      "541555           0          2       A        1  PUENTE ALTO        0.0   \n",
      "543510           0          2       A        1  PUENTE ALTO        0.0   \n",
      "547003           0          2       A        1  PUENTE ALTO        0.0   \n",
      "1851442          0          2       A        1  PUENTE ALTO        6.6   \n",
      "1943794          0          2       A        1  PUENTE ALTO        0.0   \n",
      "1953595          0          2       A        1  PUENTE ALTO        0.0   \n",
      "1983305          0          2       B        1  PUENTE ALTO        0.0   \n",
      "2375463          0          2       A        1  PUENTE ALTO        0.0   \n",
      "2414513          0          2       C        1  PUENTE ALTO        0.0   \n",
      "2922758          0          2       C        1  PUENTE ALTO        0.0   \n",
      "2968532          0          2       A        1  PUENTE ALTO        0.0   \n",
      "\n",
      "         ASISTENCIA SIT_FIN_R  \n",
      "282995            0         T  \n",
      "512854            0         T  \n",
      "530262            0         T  \n",
      "541555            0         T  \n",
      "543510            0         T  \n",
      "547003            0         T  \n",
      "1851442         100         P  \n",
      "1943794           0         T  \n",
      "1953595           0         T  \n",
      "1983305           0         T  \n",
      "2375463           0         T  \n",
      "2414513           0         T  \n",
      "2922758           0         T  \n",
      "2968532           0         T  \n",
      "             MRUN               NOM_RBD   NOM_COM_RBD  RURAL_RBD  COD_GRADO  \\\n",
      "1159052  11689547  ESCUELA N 10 ANGELMO  PUERTO MONTT          0          6   \n",
      "1159091  11689547  ESCUELA N 10 ANGELMO  PUERTO MONTT          0          6   \n",
      "\n",
      "        LET_CUR  GEN_ALU   NOM_COM_ALU  PROM_GRAL  ASISTENCIA SIT_FIN_R  \n",
      "1159052       A        2  PUERTO MONTT        0.0           0         Y  \n",
      "1159091       B        2  PUERTO MONTT        0.0           0         T  \n"
     ]
    }
   ],
   "source": [
    "print dupes.tail()\n",
    "print df[df['MRUN'] == 6675325]\n",
    "print df[df['MRUN'] == 11689547]"
   ]
  },
  {
   "cell_type": "markdown",
   "metadata": {},
   "source": [
    "Here we see that ID '6675325' matches the above patter, only 1 record containing an attendance value > 0 but the second ID '11689547' does not. This second ID has no entries with an attendance value > 0, looking at the 'Promotion' column we notice there is 1 entry for 'Transferred' and 1 for 'Retired' all with attendance values of 0.\n",
    "\n",
    "This is now a judgement call, but I would think we should remove any duplicate entries that do not have any attendances > 0."
   ]
  },
  {
   "cell_type": "markdown",
   "metadata": {},
   "source": [
    "## Next question - unique entries with no attendance\n",
    "Now this leads us to our next question of whether or not there are any unique student entries with 0 attendance and are not categorized as transfers."
   ]
  },
  {
   "cell_type": "code",
   "execution_count": 20,
   "metadata": {
    "collapsed": false
   },
   "outputs": [
    {
     "name": "stdout",
     "output_type": "stream",
     "text": [
      "Y    89570\n",
      "        99\n",
      "Name: SIT_FIN_R, dtype: int64\n"
     ]
    }
   ],
   "source": [
    "uniq_student_ids = student_freq[student_freq == 1]\n",
    "uniq_student_rows = df[df[\"MRUN\"].isin(uniq_student_ids.index)]\n",
    "# filter our uniq_student_rows by those without attendance and not transfers\n",
    "no_attd_no_t = uniq_student_rows[(uniq_student_rows[\"ASISTENCIA\"] == 0) & (uniq_student_rows[\"SIT_FIN_R\"]!='T')]\n",
    "promotion_vc = no_attd_no_t.SIT_FIN_R.value_counts()\n",
    "print promotion_vc.head()"
   ]
  },
  {
   "cell_type": "markdown",
   "metadata": {},
   "source": [
    "So we have 89,570 entries of 'Retired' students and 99 blanks. These can all be dropped as well."
   ]
  },
  {
   "cell_type": "markdown",
   "metadata": {},
   "source": [
    "## Further question - duplicates WITH attendance\n",
    "Looking at only the duplicate entries in the dataset, find those with attendacne > 0 (if there are any)."
   ]
  },
  {
   "cell_type": "code",
   "execution_count": 21,
   "metadata": {
    "collapsed": false
   },
   "outputs": [
    {
     "name": "stdout",
     "output_type": "stream",
     "text": [
      "Still duplicates: 42\n"
     ]
    }
   ],
   "source": [
    "dupes_df = df[df[\"MRUN\"].isin(dupes.index)]\n",
    "dupes_df_w_attendance = dupes_df[dupes_df[\"ASISTENCIA\"] > 0]\n",
    "dupes_w_attendance_freq = dupes_df_w_attendance['MRUN'].value_counts()\n",
    "still_dupes = dupes_w_attendance_freq[dupes_w_attendance_freq > 1]\n",
    "print \"Still duplicates:\", len(still_dupes)"
   ]
  },
  {
   "cell_type": "markdown",
   "metadata": {},
   "source": [
    "Let's look at some of these entries in the full duplicate dataset."
   ]
  },
  {
   "cell_type": "code",
   "execution_count": 22,
   "metadata": {
    "collapsed": false
   },
   "outputs": [
    {
     "name": "stdout",
     "output_type": "stream",
     "text": [
      "             MRUN               NOM_RBD NOM_COM_RBD  RURAL_RBD  COD_GRADO  \\\n",
      "2130512  16641214  COLEGIO LITTLE STARS     IQUIQUE          0          3   \n",
      "2161731  16641214  COLEGIO GOLDEN NORTH     IQUIQUE          0          3   \n",
      "\n",
      "        LET_CUR  GEN_ALU NOM_COM_ALU  PROM_GRAL  ASISTENCIA SIT_FIN_R  \n",
      "2130512       A        2   LA GRANJA        0.0         100         T  \n",
      "2161731       A        2   LA GRANJA        6.4          85         P  \n",
      "\n",
      "------------------\n",
      "\n",
      "             MRUN                    NOM_RBD   NOM_COM_RBD  RURAL_RBD  \\\n",
      "1386122  19884856    COLEGIO NIDO DE AGUILAS  LO BARNECHEA          0   \n",
      "2866545  19884856  COLEGIO MAIMONIDES SCHOOL  LO BARNECHEA          0   \n",
      "\n",
      "         COD_GRADO LET_CUR  GEN_ALU   NOM_COM_ALU  PROM_GRAL  ASISTENCIA  \\\n",
      "1386122          4       A        1  LO BARNECHEA        6.9          92   \n",
      "2866545          5       A        1  LO BARNECHEA        6.6          97   \n",
      "\n",
      "        SIT_FIN_R  \n",
      "1386122         P  \n",
      "2866545         P  \n"
     ]
    }
   ],
   "source": [
    "print dupes_df_w_attendance[dupes_df_w_attendance['MRUN'] == 16641214]\n",
    "print; print '------------------'; print;\n",
    "print dupes_df_w_attendance[dupes_df_w_attendance['MRUN'] == 19884856]"
   ]
  },
  {
   "cell_type": "markdown",
   "metadata": {},
   "source": [
    "## Develop algorithm to deal with duplicates with attendance\n",
    "Our algorithm to deal with this edge case will be that we'll take the entry with the highest attendance rate (meaning they had spent the least time absent at this school). Another course of action could be to take the average of these rows, but it would lead us with some columns that don't aggregate well, like the rural/urban column or any binary columns."
   ]
  },
  {
   "cell_type": "code",
   "execution_count": 23,
   "metadata": {
    "collapsed": false
   },
   "outputs": [
    {
     "name": "stdout",
     "output_type": "stream",
     "text": [
      "[2161731, 1386122, 2581545, 556492, 3233897, 2262729, 1229418, 2581520, 179175, 556550, 247422, 1058739, 3223977, 1066341, 3098129, 553510, 2266523, 2302332, 2149421, 2534545, 1058790, 247356, 2432252, 985645, 976671, 3222046, 3017803, 1999998, 1386324, 1784471, 277956, 2779472, 1724317, 39511, 39390, 247416, 2621160, 2403389, 2990307, 1395341, 2000135, 369972]\n"
     ]
    }
   ],
   "source": [
    "# now of these STILL duplicates, we drop any transfers\n",
    "dupes_df_w_attendance = dupes_df_w_attendance[dupes_df_w_attendance[\"SIT_FIN_R\"] != \"T\"]\n",
    "\n",
    "# now if there are still duplicates even after this filtering, we take the \n",
    "# entry with the highest attendance rate\n",
    "dupes_to_drop = []\n",
    "for mrun in still_dupes.index:\n",
    "    mrun_df = dupes_df_w_attendance[dupes_df_w_attendance['MRUN'] == mrun]\n",
    "    dupes_to_drop.append(mrun_df[\"ASISTENCIA\"].idxmin())\n",
    "\n",
    "print dupes_to_drop"
   ]
  }
 ],
 "metadata": {
  "kernelspec": {
   "display_name": "Python 2",
   "language": "python",
   "name": "python2"
  },
  "language_info": {
   "codemirror_mode": {
    "name": "ipython",
    "version": 2
   },
   "file_extension": ".py",
   "mimetype": "text/x-python",
   "name": "python",
   "nbconvert_exporter": "python",
   "pygments_lexer": "ipython2",
   "version": "2.7.11"
  }
 },
 "nbformat": 4,
 "nbformat_minor": 0
}
