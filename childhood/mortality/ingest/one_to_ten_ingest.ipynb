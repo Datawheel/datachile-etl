{
 "cells": [
  {
   "cell_type": "markdown",
   "metadata": {},
   "source": [
    "# Import & Load Childhood data (Under-One Year)"
   ]
  },
  {
   "cell_type": "markdown",
   "metadata": {},
   "source": [
    "### Config"
   ]
  },
  {
   "cell_type": "code",
   "execution_count": 1,
   "metadata": {
    "collapsed": true
   },
   "outputs": [],
   "source": [
    "import sys\n",
    "import configparser\n",
    "config = configparser.ConfigParser()\n",
    "config.read_file(open('../../../settings.ini'))\n",
    "\n",
    "sys.path.insert(0, config.get('PATHS','libs_path'))\n",
    "engine_path = config.get('DATABASE','engine_path')"
   ]
  },
  {
   "cell_type": "markdown",
   "metadata": {},
   "source": [
    "### Main params"
   ]
  },
  {
   "cell_type": "code",
   "execution_count": 2,
   "metadata": {
    "collapsed": true
   },
   "outputs": [],
   "source": [
    "remote_path = ''\n",
    "local_path = '../data/'"
   ]
  },
  {
   "cell_type": "code",
   "execution_count": 3,
   "metadata": {
    "collapsed": false
   },
   "outputs": [],
   "source": [
    "import postgres #from local file postgres.py\n",
    "from commons import inline_table_xml, download_file, download_zip_file, extract_zip_file #from local file commons.py\n",
    "\n",
    "import json\n",
    "import pandas as pd\n",
    "from sqlalchemy import create_engine"
   ]
  },
  {
   "cell_type": "markdown",
   "metadata": {},
   "source": [
    "### Load file"
   ]
  },
  {
   "cell_type": "code",
   "execution_count": 4,
   "metadata": {
    "collapsed": false
   },
   "outputs": [
    {
     "data": {
      "text/plain": [
       "['year',\n",
       " 'comuna_id',\n",
       " 'sex_id',\n",
       " 'rate_comuna',\n",
       " 'rate_region',\n",
       " 'rate_country',\n",
       " 'count']"
      ]
     },
     "execution_count": 4,
     "metadata": {},
     "output_type": "execute_result"
    }
   ],
   "source": [
    "#Open unzipped file\n",
    "df = pd.read_csv(local_path+'one_to_ten.csv',delimiter=\",\")\n",
    "df = df[['year','comuna_id','sex_id','rate_comuna','rate_region','rate_country','count','age_range_id']]\n",
    "df = df.astype({'year':'int','comuna_id':'int','sex_id':'int','rate_comuna':'float','rate_region':'float','rate_country':'float', 'age_range_id': 'float'})\n",
    "list(df)"
   ]
  },
  {
   "cell_type": "markdown",
   "metadata": {},
   "source": [
    "### Ingest"
   ]
  },
  {
   "cell_type": "code",
   "execution_count": 5,
   "metadata": {
    "collapsed": false
   },
   "outputs": [
    {
     "name": "stdout",
     "output_type": "stream",
     "text": [
      "DROP TABLE IF EXISTS childhood.fact_mortality_one_to_ten;\n",
      "CREATE TABLE \"childhood\".\"fact_mortality_one_to_ten\" (\n",
      "\"year\" INTEGER,\n",
      "  \"comuna_id\" INTEGER,\n",
      "  \"sex_id\" INTEGER,\n",
      "  \"rate_comuna\" REAL,\n",
      "  \"rate_region\" REAL,\n",
      "  \"rate_country\" REAL,\n",
      "  \"count\" INTEGER\n",
      ")\n",
      "COPY \"childhood\".\"fact_mortality_one_to_ten\" (\"year\",\"comuna_id\",\"sex_id\",\"rate_comuna\",\"rate_region\",\"rate_country\",\"count\") FROM STDIN WITH CSV HEADER DELIMITER ',';\n"
     ]
    }
   ],
   "source": [
    "engine = create_engine(engine_path)\n",
    "db = postgres.PostgresDriver(engine)\n",
    "db.to_sql(df, 'childhood', 'fact_mortality_one_to_ten')"
   ]
  },
  {
   "cell_type": "markdown",
   "metadata": {},
   "source": [
    "### Add Indices to foreign keys"
   ]
  },
  {
   "cell_type": "code",
   "execution_count": 6,
   "metadata": {
    "collapsed": false
   },
   "outputs": [
    {
     "data": {
      "text/plain": [
       "<sqlalchemy.engine.result.ResultProxy at 0x119639d30>"
      ]
     },
     "execution_count": 6,
     "metadata": {},
     "output_type": "execute_result"
    }
   ],
   "source": [
    "engine.execute(\"\"\"\n",
    "CREATE INDEX fact_mortality_one_to_ten_comuna_id_index \n",
    "ON childhood.fact_mortality_one_to_ten (comuna_id)\n",
    "\"\"\")\n",
    "\n",
    "engine.execute(\"\"\"\n",
    "CREATE INDEX fact_mortality_one_to_ten_year_index \n",
    "ON childhood.fact_mortality_one_to_ten (\"year\");\n",
    "\"\"\")"
   ]
  },
  {
   "cell_type": "markdown",
   "metadata": {},
   "source": [
    "### Relation tables"
   ]
  },
  {
   "cell_type": "code",
   "execution_count": 7,
   "metadata": {
    "collapsed": false
   },
   "outputs": [
    {
     "name": "stdout",
     "output_type": "stream",
     "text": [
      "Already downloaded. Using: ../data/age_range_id.csv\n",
      "\n",
      "<InlineTable alias=\"en\">\n",
      "  <ColumnDefs>\n",
      "    <ColumnDef name=\"id\" type=\"Numeric\" />\n",
      "    <ColumnDef name=\"description\" type=\"String\" />\n",
      "    <ColumnDef name=\"es_description\" type=\"String\" />\n",
      "  </ColumnDefs>\n",
      "  <Rows>\n",
      "    <Row>\n",
      "      <Value column=\"id\">1</Value>\n",
      "      <Value column=\"description\">Defunciones menores 7 días</Value>\n",
      "      <Value column=\"es_description\">Defunciones menores 7 días</Value>\n",
      "    </Row>\n",
      "  <Row>\n",
      "      <Value column=\"id\">2</Value>\n",
      "      <Value column=\"description\">Defunciones menores 28 días</Value>\n",
      "      <Value column=\"es_description\">Defunciones menores 28 días</Value>\n",
      "    </Row>\n",
      "  <Row>\n",
      "      <Value column=\"id\">3</Value>\n",
      "      <Value column=\"description\">Defunciones 28 días a 11 meses</Value>\n",
      "      <Value column=\"es_description\">Defunciones 28 días a 11 meses</Value>\n",
      "    </Row>\n",
      "  <Row>\n",
      "      <Value column=\"id\">4</Value>\n",
      "      <Value column=\"description\">Defunciones menores de 1 año</Value>\n",
      "      <Value column=\"es_description\">Defunciones menores de 1 año</Value>\n",
      "    </Row>\n",
      "  <Row>\n",
      "      <Value column=\"id\">5</Value>\n",
      "      <Value column=\"description\">1 a 4 años</Value>\n",
      "      <Value column=\"es_description\">1 a 4 años</Value>\n",
      "    </Row>\n",
      "  <Row>\n",
      "      <Value column=\"id\">6</Value>\n",
      "      <Value column=\"description\">5 a 9 años</Value>\n",
      "      <Value column=\"es_description\">5 a 9 años</Value>\n",
      "    </Row>\n",
      "  <Row>\n",
      "      <Value column=\"id\">7</Value>\n",
      "      <Value column=\"description\">10 a 14 años</Value>\n",
      "      <Value column=\"es_description\">10 a 14 años</Value>\n",
      "    </Row>\n",
      "  <Row>\n",
      "      <Value column=\"id\">8</Value>\n",
      "      <Value column=\"description\">15 a 19 años</Value>\n",
      "      <Value column=\"es_description\">15 a 19 años</Value>\n",
      "    </Row>\n",
      "  </Rows>\n",
      "</InlineTable>\n",
      "    \n"
     ]
    }
   ],
   "source": [
    "d2 = download_file(remote_path,local_path,'age_range_id.csv')\n",
    "print (inline_table_xml(d2, 'en', 'id', 'es'))"
   ]
  }
 ],
 "metadata": {
  "kernelspec": {
   "display_name": "Python 3",
   "language": "python",
   "name": "python3"
  },
  "language_info": {
   "codemirror_mode": {
    "name": "ipython",
    "version": 3
   },
   "file_extension": ".py",
   "mimetype": "text/x-python",
   "name": "python",
   "nbconvert_exporter": "python",
   "pygments_lexer": "ipython3",
   "version": "3.6.0"
  }
 },
 "nbformat": 4,
 "nbformat_minor": 2
}
