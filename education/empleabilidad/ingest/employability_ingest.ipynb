{
 "cells": [
  {
   "cell_type": "markdown",
   "metadata": {},
   "source": [
    "# Import & Load Employability data"
   ]
  },
  {
   "cell_type": "markdown",
   "metadata": {},
   "source": [
    "### Config"
   ]
  },
  {
   "cell_type": "code",
   "execution_count": 1,
   "metadata": {
    "collapsed": false
   },
   "outputs": [],
   "source": [
    "import sys\n",
    "import configparser\n",
    "config = configparser.ConfigParser()\n",
    "config.read_file(open('../../../settings.ini'))\n",
    "\n",
    "sys.path.insert(0, config.get('PATHS','libs_path'))\n",
    "engine_path = config.get('DATABASE','engine_path')"
   ]
  },
  {
   "cell_type": "markdown",
   "metadata": {},
   "source": [
    "### Main params"
   ]
  },
  {
   "cell_type": "code",
   "execution_count": 2,
   "metadata": {
    "collapsed": false
   },
   "outputs": [],
   "source": [
    "remote_path = 'http://pacha.datawheel.us/educacion/empleabilidad/'\n",
    "local_path = '../data/'"
   ]
  },
  {
   "cell_type": "markdown",
   "metadata": {},
   "source": [
    "### Imports"
   ]
  },
  {
   "cell_type": "code",
   "execution_count": 3,
   "metadata": {
    "collapsed": false
   },
   "outputs": [],
   "source": [
    "import postgres #from local file postgres.py\n",
    "from commons import inline_table_xml, download_file, download_zip_file, extract_zip_file #from local file commons.py\n",
    "\n",
    "import json\n",
    "import pandas as pd\n",
    "from sqlalchemy import create_engine"
   ]
  },
  {
   "cell_type": "markdown",
   "metadata": {},
   "source": [
    "### Load file"
   ]
  },
  {
   "cell_type": "code",
   "execution_count": 4,
   "metadata": {
    "collapsed": false
   },
   "outputs": [
    {
     "name": "stdout",
     "output_type": "stream",
     "text": [
      "Already downloaded. Using: ../data/empleabilidad_e_ingresos_todos_los_planteles_db.csv\n",
      "Encoding: ascii\n"
     ]
    },
    {
     "data": {
      "text/plain": [
       "['higher_educational_institution_id',\n",
       " 'higher_educational_institution_type_id',\n",
       " 'accreditation_id',\n",
       " 'career_id',\n",
       " 'avg_income_4th_id',\n",
       " 'pcent_subsidized',\n",
       " '1st_year_retention',\n",
       " 'duration_in_semester',\n",
       " '1st_year_employability',\n",
       " 'annual_payment_2016']"
      ]
     },
     "execution_count": 4,
     "metadata": {},
     "output_type": "execute_result"
    }
   ],
   "source": [
    "#Download and unzip\n",
    "df = download_file(remote_path,local_path,'empleabilidad_e_ingresos_todos_los_planteles_db.csv')\n",
    "df[['ingreso_promedio_4to_anio_id']] = df[['ingreso_promedio_4to_anio_id']].fillna(value=-1)\n",
    "df[['arancel_anual_2016']] = df[['arancel_anual_2016']].fillna(value=-1)\n",
    "df = df.astype({'institucion_id':'int','tipo_institucion_id':'int','acreditacion_id':'int','carrera_id':'int','ingreso_promedio_4to_anio_id':'int','arancel_anual_2016':'int'})\n",
    "df = df.rename(columns={'institucion_id':'higher_educational_institution_id','tipo_institucion_id':'higher_educational_institution_type_id','acreditacion_id':'accreditation_id','carrera_id':'career_id','ingreso_promedio_4to_anio_id':'avg_income_4th_id','arancel_anual_2016':'annual_payment_2016','pcent_subvencionados':'pcent_subsidized','retencion_1er_anio':'1st_year_retention','duracion_real_semestres':'duration_in_semester','empleabilidad_1er_anio':'1st_year_employability'});\n",
    "list(df)\n"
   ]
  },
  {
   "cell_type": "markdown",
   "metadata": {},
   "source": [
    "### Ingest"
   ]
  },
  {
   "cell_type": "code",
   "execution_count": 5,
   "metadata": {
    "collapsed": false
   },
   "outputs": [
    {
     "name": "stdout",
     "output_type": "stream",
     "text": [
      "DROP TABLE IF EXISTS education.fact_employability;\n",
      "CREATE TABLE \"education\".\"fact_employability\" (\n",
      "\"higher_educational_institution_id\" INTEGER,\n",
      "  \"higher_educational_institution_type_id\" INTEGER,\n",
      "  \"accreditation_id\" INTEGER,\n",
      "  \"career_id\" INTEGER,\n",
      "  \"avg_income_4th_id\" INTEGER,\n",
      "  \"pcent_subsidized\" REAL,\n",
      "  \"1st_year_retention\" REAL,\n",
      "  \"duration_in_semester\" REAL,\n",
      "  \"1st_year_employability\" REAL,\n",
      "  \"annual_payment_2016\" INTEGER\n",
      ")\n",
      "COPY \"education\".\"fact_employability\" (\"higher_educational_institution_id\",\"higher_educational_institution_type_id\",\"accreditation_id\",\"career_id\",\"avg_income_4th_id\",\"pcent_subsidized\",\"1st_year_retention\",\"duration_in_semester\",\"1st_year_employability\",\"annual_payment_2016\") FROM STDIN WITH CSV HEADER DELIMITER ',';\n"
     ]
    }
   ],
   "source": [
    "engine = create_engine(engine_path)\n",
    "db = postgres.PostgresDriver(engine)\n",
    "db.to_sql(df, 'education', 'fact_employability')"
   ]
  },
  {
   "cell_type": "markdown",
   "metadata": {},
   "source": [
    "### Updates"
   ]
  },
  {
   "cell_type": "code",
   "execution_count": 6,
   "metadata": {
    "collapsed": false
   },
   "outputs": [
    {
     "data": {
      "text/plain": [
       "<sqlalchemy.engine.result.ResultProxy at 0x11024b0f0>"
      ]
     },
     "execution_count": 6,
     "metadata": {},
     "output_type": "execute_result"
    }
   ],
   "source": [
    "engine.execute(\"\"\"\n",
    "UPDATE education.fact_employability SET annual_payment_2016 = NULL where annual_payment_2016 = -1;\n",
    "\"\"\")\n",
    "\n",
    "engine.execute(\"\"\"\n",
    "UPDATE education.fact_employability SET avg_income_4th_id = NULL where avg_income_4th_id = -1;\n",
    "\"\"\")"
   ]
  },
  {
   "cell_type": "markdown",
   "metadata": {},
   "source": [
    "### Dims"
   ]
  },
  {
   "cell_type": "code",
   "execution_count": 7,
   "metadata": {
    "collapsed": false
   },
   "outputs": [
    {
     "name": "stdout",
     "output_type": "stream",
     "text": [
      "Already downloaded. Using: ../data/anios_acreditacion.csv\n",
      "Encoding: utf-8\n",
      "\n",
      "<InlineTable alias=\"accreditation\">\n",
      "  <ColumnDefs>\n",
      "    <ColumnDef name=\"id\" type=\"Numeric\" />\n",
      "    <ColumnDef name=\"description\" type=\"String\" />\n",
      "    <ColumnDef name=\"es_description\" type=\"String\" />\n",
      "  </ColumnDefs>\n",
      "  <Rows>\n",
      "    <Row>\n",
      "      <Value column=\"id\">1</Value>\n",
      "      <Value column=\"description\">2 años</Value>\n",
      "      <Value column=\"es_description\">2 años</Value>\n",
      "    </Row>\n",
      "  <Row>\n",
      "      <Value column=\"id\">2</Value>\n",
      "      <Value column=\"description\">3 años</Value>\n",
      "      <Value column=\"es_description\">3 años</Value>\n",
      "    </Row>\n",
      "  <Row>\n",
      "      <Value column=\"id\">3</Value>\n",
      "      <Value column=\"description\">4 años</Value>\n",
      "      <Value column=\"es_description\">4 años</Value>\n",
      "    </Row>\n",
      "  <Row>\n",
      "      <Value column=\"id\">4</Value>\n",
      "      <Value column=\"description\">5 años</Value>\n",
      "      <Value column=\"es_description\">5 años</Value>\n",
      "    </Row>\n",
      "  <Row>\n",
      "      <Value column=\"id\">5</Value>\n",
      "      <Value column=\"description\">6 años</Value>\n",
      "      <Value column=\"es_description\">6 años</Value>\n",
      "    </Row>\n",
      "  <Row>\n",
      "      <Value column=\"id\">6</Value>\n",
      "      <Value column=\"description\">7 años</Value>\n",
      "      <Value column=\"es_description\">7 años</Value>\n",
      "    </Row>\n",
      "  <Row>\n",
      "      <Value column=\"id\">7</Value>\n",
      "      <Value column=\"description\">No</Value>\n",
      "      <Value column=\"es_description\">No</Value>\n",
      "    </Row>\n",
      "  </Rows>\n",
      "</InlineTable>\n",
      "    \n"
     ]
    }
   ],
   "source": [
    "d2 = download_file(remote_path+'ids/',local_path,'anios_acreditacion.csv')\n",
    "d2 = d2.rename(columns={'acreditacion':'accreditation','acreditacion_id':'accreditation_id'});\n",
    "print (inline_table_xml(d2, 'accreditation', 'accreditation_id', 'accreditation'))"
   ]
  },
  {
   "cell_type": "code",
   "execution_count": 8,
   "metadata": {
    "collapsed": false
   },
   "outputs": [
    {
     "name": "stdout",
     "output_type": "stream",
     "text": [
      "Already downloaded. Using: ../data/tipo_institucion.csv\n",
      "Encoding: ISO-8859-2\n",
      "\n",
      "<InlineTable alias=\"higher_educational_institution_type\">\n",
      "  <ColumnDefs>\n",
      "    <ColumnDef name=\"id\" type=\"Numeric\" />\n",
      "    <ColumnDef name=\"description\" type=\"String\" />\n",
      "    <ColumnDef name=\"es_description\" type=\"String\" />\n",
      "  </ColumnDefs>\n",
      "  <Rows>\n",
      "    <Row>\n",
      "      <Value column=\"id\">1</Value>\n",
      "      <Value column=\"description\">Centro de FormaciĂłn TĂŠcnica</Value>\n",
      "      <Value column=\"es_description\">Centro de FormaciĂłn TĂŠcnica</Value>\n",
      "    </Row>\n",
      "  <Row>\n",
      "      <Value column=\"id\">2</Value>\n",
      "      <Value column=\"description\">Instituto Profesional</Value>\n",
      "      <Value column=\"es_description\">Instituto Profesional</Value>\n",
      "    </Row>\n",
      "  <Row>\n",
      "      <Value column=\"id\">3</Value>\n",
      "      <Value column=\"description\">Universidad</Value>\n",
      "      <Value column=\"es_description\">Universidad</Value>\n",
      "    </Row>\n",
      "  </Rows>\n",
      "</InlineTable>\n",
      "    \n"
     ]
    }
   ],
   "source": [
    "d4 = download_file(remote_path+'ids/',local_path,'tipo_institucion.csv')\n",
    "d4 = d4.rename(columns={'tipo_institucion':'higher_educational_institution_type','tipo_institucion_id':'higher_educational_institution_type_id'});\n",
    "print (inline_table_xml(d4, 'higher_educational_institution_type', 'higher_educational_institution_type_id', 'higher_educational_institution_type'))\n"
   ]
  },
  {
   "cell_type": "code",
   "execution_count": 9,
   "metadata": {
    "collapsed": false
   },
   "outputs": [
    {
     "name": "stdout",
     "output_type": "stream",
     "text": [
      "Already downloaded. Using: ../data/ingreso_promedio_4to_anio.csv\n",
      "Encoding: utf-8\n",
      "\n",
      "<InlineTable alias=\"avg_income_4th_id\">\n",
      "  <ColumnDefs>\n",
      "    <ColumnDef name=\"id\" type=\"Numeric\" />\n",
      "    <ColumnDef name=\"description\" type=\"String\" />\n",
      "    <ColumnDef name=\"es_description\" type=\"String\" />\n",
      "  </ColumnDefs>\n",
      "  <Rows>\n",
      "    <Row>\n",
      "      <Value column=\"id\">1</Value>\n",
      "      <Value column=\"description\">De $1 millón 100 mil a $1 millón 200 mil</Value>\n",
      "      <Value column=\"es_description\">De $1 millón 100 mil a $1 millón 200 mil</Value>\n",
      "    </Row>\n",
      "  <Row>\n",
      "      <Value column=\"id\">2</Value>\n",
      "      <Value column=\"description\">De $1 millón 200 mil a $1 millón 300 mil</Value>\n",
      "      <Value column=\"es_description\">De $1 millón 200 mil a $1 millón 300 mil</Value>\n",
      "    </Row>\n",
      "  <Row>\n",
      "      <Value column=\"id\">3</Value>\n",
      "      <Value column=\"description\">De $1 millón 300 mil a $1 millón 400 mil</Value>\n",
      "      <Value column=\"es_description\">De $1 millón 300 mil a $1 millón 400 mil</Value>\n",
      "    </Row>\n",
      "  <Row>\n",
      "      <Value column=\"id\">4</Value>\n",
      "      <Value column=\"description\">De $1 millón 400 mil a $1 millón 500 mil</Value>\n",
      "      <Value column=\"es_description\">De $1 millón 400 mil a $1 millón 500 mil</Value>\n",
      "    </Row>\n",
      "  <Row>\n",
      "      <Value column=\"id\">5</Value>\n",
      "      <Value column=\"description\">De $1 millón 500 mil a $1 millón 600 mil</Value>\n",
      "      <Value column=\"es_description\">De $1 millón 500 mil a $1 millón 600 mil</Value>\n",
      "    </Row>\n",
      "  <Row>\n",
      "      <Value column=\"id\">6</Value>\n",
      "      <Value column=\"description\">De $1 millón 600 mil a $1 millón 700 mil</Value>\n",
      "      <Value column=\"es_description\">De $1 millón 600 mil a $1 millón 700 mil</Value>\n",
      "    </Row>\n",
      "  <Row>\n",
      "      <Value column=\"id\">7</Value>\n",
      "      <Value column=\"description\">De $1 millón 700 mil a $1 millón 800 mil</Value>\n",
      "      <Value column=\"es_description\">De $1 millón 700 mil a $1 millón 800 mil</Value>\n",
      "    </Row>\n",
      "  <Row>\n",
      "      <Value column=\"id\">8</Value>\n",
      "      <Value column=\"description\">De $1 millón 800 mil a $1 millón 900 mil</Value>\n",
      "      <Value column=\"es_description\">De $1 millón 800 mil a $1 millón 900 mil</Value>\n",
      "    </Row>\n",
      "  <Row>\n",
      "      <Value column=\"id\">9</Value>\n",
      "      <Value column=\"description\">De $1 millón 900 mil a $2 millones</Value>\n",
      "      <Value column=\"es_description\">De $1 millón 900 mil a $2 millones</Value>\n",
      "    </Row>\n",
      "  <Row>\n",
      "      <Value column=\"id\">10</Value>\n",
      "      <Value column=\"description\">De $1 millón a $1 millón 100 mil</Value>\n",
      "      <Value column=\"es_description\">De $1 millón a $1 millón 100 mil</Value>\n",
      "    </Row>\n",
      "  <Row>\n",
      "      <Value column=\"id\">11</Value>\n",
      "      <Value column=\"description\">De $2 millones 100 mil a $2 millones 200 mil</Value>\n",
      "      <Value column=\"es_description\">De $2 millones 100 mil a $2 millones 200 mil</Value>\n",
      "    </Row>\n",
      "  <Row>\n",
      "      <Value column=\"id\">12</Value>\n",
      "      <Value column=\"description\">De $2 millones 200 mil a $2 millones 300 mil</Value>\n",
      "      <Value column=\"es_description\">De $2 millones 200 mil a $2 millones 300 mil</Value>\n",
      "    </Row>\n",
      "  <Row>\n",
      "      <Value column=\"id\">13</Value>\n",
      "      <Value column=\"description\">De $2 millones 300 mil a $2 millones 400 mil</Value>\n",
      "      <Value column=\"es_description\">De $2 millones 300 mil a $2 millones 400 mil</Value>\n",
      "    </Row>\n",
      "  <Row>\n",
      "      <Value column=\"id\">14</Value>\n",
      "      <Value column=\"description\">De $2 millones 400 mil a $2 millones 500 mil</Value>\n",
      "      <Value column=\"es_description\">De $2 millones 400 mil a $2 millones 500 mil</Value>\n",
      "    </Row>\n",
      "  <Row>\n",
      "      <Value column=\"id\">15</Value>\n",
      "      <Value column=\"description\">De $2 millones a $2 millones 100 mil</Value>\n",
      "      <Value column=\"es_description\">De $2 millones a $2 millones 100 mil</Value>\n",
      "    </Row>\n",
      "  <Row>\n",
      "      <Value column=\"id\">16</Value>\n",
      "      <Value column=\"description\">De $300 mil a $400 mil</Value>\n",
      "      <Value column=\"es_description\">De $300 mil a $400 mil</Value>\n",
      "    </Row>\n",
      "  <Row>\n",
      "      <Value column=\"id\">17</Value>\n",
      "      <Value column=\"description\">De $400 mil a $500 mil</Value>\n",
      "      <Value column=\"es_description\">De $400 mil a $500 mil</Value>\n",
      "    </Row>\n",
      "  <Row>\n",
      "      <Value column=\"id\">18</Value>\n",
      "      <Value column=\"description\">De $500 mil a $600 mil</Value>\n",
      "      <Value column=\"es_description\">De $500 mil a $600 mil</Value>\n",
      "    </Row>\n",
      "  <Row>\n",
      "      <Value column=\"id\">19</Value>\n",
      "      <Value column=\"description\">De $600 mil a $700 mil</Value>\n",
      "      <Value column=\"es_description\">De $600 mil a $700 mil</Value>\n",
      "    </Row>\n",
      "  <Row>\n",
      "      <Value column=\"id\">20</Value>\n",
      "      <Value column=\"description\">De $700 mil a $800 mil</Value>\n",
      "      <Value column=\"es_description\">De $700 mil a $800 mil</Value>\n",
      "    </Row>\n",
      "  <Row>\n",
      "      <Value column=\"id\">21</Value>\n",
      "      <Value column=\"description\">De $800 mil a $900 mil</Value>\n",
      "      <Value column=\"es_description\">De $800 mil a $900 mil</Value>\n",
      "    </Row>\n",
      "  <Row>\n",
      "      <Value column=\"id\">22</Value>\n",
      "      <Value column=\"description\">De $900 mil a $1 millón</Value>\n",
      "      <Value column=\"es_description\">De $900 mil a $1 millón</Value>\n",
      "    </Row>\n",
      "  <Row>\n",
      "      <Value column=\"id\">23</Value>\n",
      "      <Value column=\"description\">Sobre $2 millones 500 mil</Value>\n",
      "      <Value column=\"es_description\">Sobre $2 millones 500 mil</Value>\n",
      "    </Row>\n",
      "  <Row>\n",
      "      <Value column=\"id\">24</Value>\n",
      "      <Value column=\"description\">nan</Value>\n",
      "      <Value column=\"es_description\">nan</Value>\n",
      "    </Row>\n",
      "  </Rows>\n",
      "</InlineTable>\n",
      "    \n"
     ]
    }
   ],
   "source": [
    "d3 = download_file(remote_path+'ids/',local_path,'ingreso_promedio_4to_anio.csv')\n",
    "d3 = d3.rename(columns={'ingreso_promedio_4to_anio':'avg_income_4th','ingreso_promedio_4to_anio_id':'avg_income_4th_id'});\n",
    "print (inline_table_xml(d3, 'avg_income_4th_id', 'avg_income_4th_id', 'avg_income_4th'))"
   ]
  }
 ],
 "metadata": {
  "kernelspec": {
   "display_name": "Python 3",
   "language": "python",
   "name": "python3"
  },
  "language_info": {
   "codemirror_mode": {
    "name": "ipython",
    "version": 3
   },
   "file_extension": ".py",
   "mimetype": "text/x-python",
   "name": "python",
   "nbconvert_exporter": "python",
   "pygments_lexer": "ipython3",
   "version": "3.6.0"
  }
 },
 "nbformat": 4,
 "nbformat_minor": 2
}
