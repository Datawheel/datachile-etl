{
 "cells": [
  {
   "cell_type": "code",
   "execution_count": 5,
   "metadata": {},
   "outputs": [],
   "source": [
    "import sys\n",
    "import configparser\n",
    "config = configparser.ConfigParser()\n",
    "config.read_file(open(\"../../settings.ini\"))\n",
    "\n",
    "sys.path.insert(0, config.get('PATHS','libs_path'))\n",
    "engine_path = config.get('DATABASE','engine_path')"
   ]
  },
  {
   "cell_type": "code",
   "execution_count": 6,
   "metadata": {},
   "outputs": [],
   "source": [
    "local_path = \"../data_final/\"\n",
    "remote_path = \"/\""
   ]
  },
  {
   "cell_type": "code",
   "execution_count": 7,
   "metadata": {},
   "outputs": [],
   "source": [
    "# from local file postgres.py\n",
    "import postgres\n",
    "# from local file commons.py\n",
    "from commons import inline_table_xml, inline_dimension_xml, download_file, download_zip_file, extract_zip_file\n",
    "\n",
    "import json\n",
    "import pandas as pd\n",
    "from sqlalchemy import create_engine"
   ]
  },
  {
   "cell_type": "code",
   "execution_count": 8,
   "metadata": {},
   "outputs": [
    {
     "name": "stdout",
     "output_type": "stream",
     "text": [
      "Already downloaded. Using: ../data_final/housing_census.csv\n"
     ]
    },
    {
     "data": {
      "text/plain": [
       "['area_id',\n",
       " 'district_id',\n",
       " 'housing_type',\n",
       " 'housing_occupation',\n",
       " 'walls_material',\n",
       " 'ceiling_material',\n",
       " 'floor_material',\n",
       " 'rooms',\n",
       " 'water_source',\n",
       " 'cant_viv',\n",
       " 'cant_hog',\n",
       " 'cant_per',\n",
       " 'comuna_datachile_id']"
      ]
     },
     "execution_count": 8,
     "metadata": {},
     "output_type": "execute_result"
    }
   ],
   "source": [
    "df1 = download_file(remote_path, local_path, \"housing_census.csv\")\n",
    "list(df1)"
   ]
  },
  {
   "cell_type": "code",
   "execution_count": 9,
   "metadata": {},
   "outputs": [
    {
     "data": {
      "text/html": [
       "<div>\n",
       "<style scoped>\n",
       "    .dataframe tbody tr th:only-of-type {\n",
       "        vertical-align: middle;\n",
       "    }\n",
       "\n",
       "    .dataframe tbody tr th {\n",
       "        vertical-align: top;\n",
       "    }\n",
       "\n",
       "    .dataframe thead th {\n",
       "        text-align: right;\n",
       "    }\n",
       "</style>\n",
       "<table border=\"1\" class=\"dataframe\">\n",
       "  <thead>\n",
       "    <tr style=\"text-align: right;\">\n",
       "      <th></th>\n",
       "      <th>area_id</th>\n",
       "      <th>district_id</th>\n",
       "      <th>housing_type</th>\n",
       "      <th>housing_occupation</th>\n",
       "      <th>walls_material</th>\n",
       "      <th>ceiling_material</th>\n",
       "      <th>floor_material</th>\n",
       "      <th>rooms</th>\n",
       "      <th>water_source</th>\n",
       "      <th>cant_viv</th>\n",
       "      <th>cant_hog</th>\n",
       "      <th>cant_per</th>\n",
       "      <th>comuna_datachile_id</th>\n",
       "    </tr>\n",
       "  </thead>\n",
       "  <tbody>\n",
       "    <tr>\n",
       "      <th>0</th>\n",
       "      <td>1</td>\n",
       "      <td>1</td>\n",
       "      <td>1</td>\n",
       "      <td>1</td>\n",
       "      <td>1</td>\n",
       "      <td>1</td>\n",
       "      <td>1</td>\n",
       "      <td>1</td>\n",
       "      <td>1</td>\n",
       "      <td>1</td>\n",
       "      <td>1</td>\n",
       "      <td>2</td>\n",
       "      <td>113</td>\n",
       "    </tr>\n",
       "    <tr>\n",
       "      <th>1</th>\n",
       "      <td>1</td>\n",
       "      <td>1</td>\n",
       "      <td>1</td>\n",
       "      <td>1</td>\n",
       "      <td>1</td>\n",
       "      <td>1</td>\n",
       "      <td>1</td>\n",
       "      <td>2</td>\n",
       "      <td>1</td>\n",
       "      <td>7</td>\n",
       "      <td>7</td>\n",
       "      <td>19</td>\n",
       "      <td>113</td>\n",
       "    </tr>\n",
       "    <tr>\n",
       "      <th>2</th>\n",
       "      <td>1</td>\n",
       "      <td>1</td>\n",
       "      <td>1</td>\n",
       "      <td>1</td>\n",
       "      <td>1</td>\n",
       "      <td>1</td>\n",
       "      <td>1</td>\n",
       "      <td>3</td>\n",
       "      <td>1</td>\n",
       "      <td>3</td>\n",
       "      <td>3</td>\n",
       "      <td>13</td>\n",
       "      <td>113</td>\n",
       "    </tr>\n",
       "    <tr>\n",
       "      <th>3</th>\n",
       "      <td>1</td>\n",
       "      <td>1</td>\n",
       "      <td>1</td>\n",
       "      <td>1</td>\n",
       "      <td>1</td>\n",
       "      <td>1</td>\n",
       "      <td>1</td>\n",
       "      <td>4</td>\n",
       "      <td>1</td>\n",
       "      <td>1</td>\n",
       "      <td>1</td>\n",
       "      <td>6</td>\n",
       "      <td>113</td>\n",
       "    </tr>\n",
       "    <tr>\n",
       "      <th>4</th>\n",
       "      <td>1</td>\n",
       "      <td>1</td>\n",
       "      <td>1</td>\n",
       "      <td>1</td>\n",
       "      <td>1</td>\n",
       "      <td>1</td>\n",
       "      <td>1</td>\n",
       "      <td>5</td>\n",
       "      <td>1</td>\n",
       "      <td>1</td>\n",
       "      <td>1</td>\n",
       "      <td>3</td>\n",
       "      <td>113</td>\n",
       "    </tr>\n",
       "  </tbody>\n",
       "</table>\n",
       "</div>"
      ],
      "text/plain": [
       "   area_id  district_id  housing_type  housing_occupation  walls_material  \\\n",
       "0        1            1             1                   1               1   \n",
       "1        1            1             1                   1               1   \n",
       "2        1            1             1                   1               1   \n",
       "3        1            1             1                   1               1   \n",
       "4        1            1             1                   1               1   \n",
       "\n",
       "   ceiling_material  floor_material  rooms  water_source  cant_viv  cant_hog  \\\n",
       "0                 1               1      1             1         1         1   \n",
       "1                 1               1      2             1         7         7   \n",
       "2                 1               1      3             1         3         3   \n",
       "3                 1               1      4             1         1         1   \n",
       "4                 1               1      5             1         1         1   \n",
       "\n",
       "   cant_per  comuna_datachile_id  \n",
       "0         2                  113  \n",
       "1        19                  113  \n",
       "2        13                  113  \n",
       "3         6                  113  \n",
       "4         3                  113  "
      ]
     },
     "execution_count": 9,
     "metadata": {},
     "output_type": "execute_result"
    }
   ],
   "source": [
    "df1.head()"
   ]
  },
  {
   "cell_type": "code",
   "execution_count": 10,
   "metadata": {},
   "outputs": [],
   "source": [
    "df1 = df1.rename(columns = {\"comuna_datachile_id\": \"comuna_id\"})"
   ]
  },
  {
   "cell_type": "code",
   "execution_count": 11,
   "metadata": {},
   "outputs": [
    {
     "name": "stdout",
     "output_type": "stream",
     "text": [
      "DROP TABLE IF EXISTS census.fact_housing_census;\n",
      "CREATE TABLE \"census\".\"fact_housing_census\" (\n",
      "\"area_id\" INTEGER,\n",
      "  \"district_id\" INTEGER,\n",
      "  \"housing_type\" INTEGER,\n",
      "  \"housing_occupation\" INTEGER,\n",
      "  \"walls_material\" INTEGER,\n",
      "  \"ceiling_material\" INTEGER,\n",
      "  \"floor_material\" INTEGER,\n",
      "  \"rooms\" INTEGER,\n",
      "  \"water_source\" INTEGER,\n",
      "  \"cant_viv\" INTEGER,\n",
      "  \"cant_hog\" INTEGER,\n",
      "  \"cant_per\" INTEGER,\n",
      "  \"comuna_id\" INTEGER\n",
      ")\n",
      "COPY \"census\".\"fact_housing_census\" (\"area_id\",\"district_id\",\"housing_type\",\"housing_occupation\",\"walls_material\",\"ceiling_material\",\"floor_material\",\"rooms\",\"water_source\",\"cant_viv\",\"cant_hog\",\"cant_per\",\"comuna_id\") FROM STDIN WITH CSV HEADER DELIMITER ',';\n"
     ]
    }
   ],
   "source": [
    "engine = create_engine(engine_path)\n",
    "db = postgres.PostgresDriver(engine)\n",
    "db.to_sql(df1, \"census\", \"fact_housing_census\")"
   ]
  },
  {
   "cell_type": "code",
   "execution_count": 12,
   "metadata": {},
   "outputs": [
    {
     "data": {
      "text/plain": [
       "<sqlalchemy.engine.result.ResultProxy at 0x10a053f60>"
      ]
     },
     "execution_count": 12,
     "metadata": {},
     "output_type": "execute_result"
    }
   ],
   "source": [
    "engine.execute(\"\"\"\n",
    "CREATE INDEX fact_housing_census_index \n",
    "ON census.fact_housing_census (comuna_id)\n",
    "\"\"\")"
   ]
  },
  {
   "cell_type": "code",
   "execution_count": 13,
   "metadata": {},
   "outputs": [
    {
     "name": "stdout",
     "output_type": "stream",
     "text": [
      "\n",
      "<Dimension name=\"Housing Type\" foreignKey=\"housing_type\">\n",
      "  <Hierarchy hasAll=\"true\">\n",
      "            \n",
      "<InlineTable alias=\"housing_type\">\n",
      "  <ColumnDefs>\n",
      "    <ColumnDef name=\"id\" type=\"Numeric\" />\n",
      "    <ColumnDef name=\"description\" type=\"String\" />\n",
      "    <ColumnDef name=\"es_description\" type=\"String\" />\n",
      "  </ColumnDefs>\n",
      "  <Rows>\n",
      "    <Row>\n",
      "      <Value column=\"id\">1</Value>\n",
      "      <Value column=\"description\">Casa</Value>\n",
      "      <Value column=\"es_description\">Casa</Value>\n",
      "    </Row>\n",
      "  <Row>\n",
      "      <Value column=\"id\">2</Value>\n",
      "      <Value column=\"description\">Departamento en edificio</Value>\n",
      "      <Value column=\"es_description\">Departamento en edificio</Value>\n",
      "    </Row>\n",
      "  <Row>\n",
      "      <Value column=\"id\">3</Value>\n",
      "      <Value column=\"description\">Vivienda tradicional indígena (ruka, pae pae u otras)</Value>\n",
      "      <Value column=\"es_description\">Vivienda tradicional indígena (ruka, pae pae u otras)</Value>\n",
      "    </Row>\n",
      "  <Row>\n",
      "      <Value column=\"id\">4</Value>\n",
      "      <Value column=\"description\">Pieza en casa antigua o en conventillo</Value>\n",
      "      <Value column=\"es_description\">Pieza en casa antigua o en conventillo</Value>\n",
      "    </Row>\n",
      "  <Row>\n",
      "      <Value column=\"id\">5</Value>\n",
      "      <Value column=\"description\">Mediagua, mejora, rancho o choza</Value>\n",
      "      <Value column=\"es_description\">Mediagua, mejora, rancho o choza</Value>\n",
      "    </Row>\n",
      "  <Row>\n",
      "      <Value column=\"id\">6</Value>\n",
      "      <Value column=\"description\">Móvil (carpa, casa rodante o similar)</Value>\n",
      "      <Value column=\"es_description\">Móvil (carpa, casa rodante o similar)</Value>\n",
      "    </Row>\n",
      "  <Row>\n",
      "      <Value column=\"id\">7</Value>\n",
      "      <Value column=\"description\">Otro tipo de vivienda particular</Value>\n",
      "      <Value column=\"es_description\">Otro tipo de vivienda particular</Value>\n",
      "    </Row>\n",
      "  <Row>\n",
      "      <Value column=\"id\">8</Value>\n",
      "      <Value column=\"description\">Vivienda colectiva</Value>\n",
      "      <Value column=\"es_description\">Vivienda colectiva</Value>\n",
      "    </Row>\n",
      "  <Row>\n",
      "      <Value column=\"id\">9</Value>\n",
      "      <Value column=\"description\">Operativo personas en tránsito (no es vivienda)</Value>\n",
      "      <Value column=\"es_description\">Operativo personas en tránsito (no es vivienda)</Value>\n",
      "    </Row>\n",
      "  <Row>\n",
      "      <Value column=\"id\">10</Value>\n",
      "      <Value column=\"description\">Operativo calle (no es vivienda)</Value>\n",
      "      <Value column=\"es_description\">Operativo calle (no es vivienda)</Value>\n",
      "    </Row>\n",
      "  <Row>\n",
      "      <Value column=\"id\">0</Value>\n",
      "      <Value column=\"description\">No Aplica</Value>\n",
      "      <Value column=\"es_description\">No Aplica</Value>\n",
      "    </Row>\n",
      "  <Row>\n",
      "      <Value column=\"id\">11</Value>\n",
      "      <Value column=\"description\">Missing</Value>\n",
      "      <Value column=\"es_description\">Missing</Value>\n",
      "    </Row>\n",
      "  </Rows>\n",
      "</InlineTable>\n",
      "    \n",
      "    <Level name=\"Housing Type\" column=\"id\" nameColumn=\"description\" uniqueMembers=\"true\">\n",
      "      <Annotations>\n",
      "        <Annotation name=\"es_caption\">Description ES</Annotation>\n",
      "      </Annotations>\n",
      "      <Property name=\"Description ES\" column=\"es_description\" />\n",
      "    </Level>\n",
      "  </Hierarchy>\n",
      "</Dimension>\n",
      "    \n"
     ]
    },
    {
     "ename": "KeyError",
     "evalue": "'name_es'",
     "output_type": "error",
     "traceback": [
      "\u001b[0;31m---------------------------------------------------------------------------\u001b[0m",
      "\u001b[0;31mKeyError\u001b[0m                                  Traceback (most recent call last)",
      "\u001b[0;32m<ipython-input-13-f795ead050ea>\u001b[0m in \u001b[0;36m<module>\u001b[0;34m()\u001b[0m\n\u001b[1;32m      9\u001b[0m     \u001b[0mdf\u001b[0m \u001b[0;34m=\u001b[0m \u001b[0mpd\u001b[0m\u001b[0;34m.\u001b[0m\u001b[0mread_excel\u001b[0m\u001b[0;34m(\u001b[0m\u001b[0mquestionnaire\u001b[0m\u001b[0;34m,\u001b[0m \u001b[0mq\u001b[0m\u001b[0;34m)\u001b[0m\u001b[0;34m\u001b[0m\u001b[0m\n\u001b[1;32m     10\u001b[0m     \u001b[0mlabel\u001b[0m \u001b[0;34m=\u001b[0m \u001b[0mlabels\u001b[0m\u001b[0;34m[\u001b[0m\u001b[0mlabels\u001b[0m\u001b[0;34m[\u001b[0m\u001b[0;34m\"id\"\u001b[0m\u001b[0;34m]\u001b[0m \u001b[0;34m==\u001b[0m \u001b[0mq\u001b[0m\u001b[0;34m]\u001b[0m\u001b[0;34m.\u001b[0m\u001b[0miloc\u001b[0m\u001b[0;34m[\u001b[0m\u001b[0;36m0\u001b[0m\u001b[0;34m]\u001b[0m\u001b[0;34m[\u001b[0m\u001b[0;34m\"label\"\u001b[0m\u001b[0;34m]\u001b[0m\u001b[0;34m\u001b[0m\u001b[0m\n\u001b[0;32m---> 11\u001b[0;31m     \u001b[0mprint\u001b[0m \u001b[0;34m(\u001b[0m\u001b[0minline_dimension_xml\u001b[0m\u001b[0;34m(\u001b[0m\u001b[0mdf\u001b[0m\u001b[0;34m,\u001b[0m \u001b[0mlabel\u001b[0m\u001b[0;34m,\u001b[0m \u001b[0;34m\"id\"\u001b[0m\u001b[0;34m,\u001b[0m \u001b[0;34m\"name_es\"\u001b[0m\u001b[0;34m,\u001b[0m \u001b[0mlabel\u001b[0m\u001b[0;34m)\u001b[0m\u001b[0;34m)\u001b[0m\u001b[0;34m\u001b[0m\u001b[0m\n\u001b[0m",
      "\u001b[0;32m~/Datawheel/datachile-etl/libs/commons.py\u001b[0m in \u001b[0;36minline_dimension_xml\u001b[0;34m(df, alias, id_column_name, desc_column_name, fk_field)\u001b[0m\n\u001b[1;32m     23\u001b[0m \u001b[0;32mdef\u001b[0m \u001b[0minline_dimension_xml\u001b[0m\u001b[0;34m(\u001b[0m\u001b[0mdf\u001b[0m\u001b[0;34m,\u001b[0m \u001b[0malias\u001b[0m\u001b[0;34m,\u001b[0m \u001b[0mid_column_name\u001b[0m\u001b[0;34m,\u001b[0m \u001b[0mdesc_column_name\u001b[0m\u001b[0;34m,\u001b[0m \u001b[0mfk_field\u001b[0m\u001b[0;34m)\u001b[0m\u001b[0;34m:\u001b[0m\u001b[0;34m\u001b[0m\u001b[0m\n\u001b[1;32m     24\u001b[0m \u001b[0;34m\u001b[0m\u001b[0m\n\u001b[0;32m---> 25\u001b[0;31m     \u001b[0minline_table\u001b[0m \u001b[0;34m=\u001b[0m \u001b[0minline_table_xml\u001b[0m\u001b[0;34m(\u001b[0m\u001b[0mdf\u001b[0m\u001b[0;34m,\u001b[0m \u001b[0malias\u001b[0m\u001b[0;34m,\u001b[0m \u001b[0mid_column_name\u001b[0m\u001b[0;34m,\u001b[0m \u001b[0mdesc_column_name\u001b[0m\u001b[0;34m)\u001b[0m\u001b[0;34m\u001b[0m\u001b[0m\n\u001b[0m\u001b[1;32m     26\u001b[0m \u001b[0;34m\u001b[0m\u001b[0m\n\u001b[1;32m     27\u001b[0m     xml = \"\"\"\n",
      "\u001b[0;32m~/Datawheel/datachile-etl/libs/commons.py\u001b[0m in \u001b[0;36minline_table_xml\u001b[0;34m(df, alias, id_column_name, desc_column_name)\u001b[0m\n\u001b[1;32m     17\u001b[0m \u001b[0;34m\u001b[0m\u001b[0m\n\u001b[1;32m     18\u001b[0m \u001b[0;34m\u001b[0m\u001b[0m\n\u001b[0;32m---> 19\u001b[0;31m     \u001b[0mrows\u001b[0m \u001b[0;34m=\u001b[0m \u001b[0;34m[\u001b[0m\u001b[0;34m(\u001b[0m\u001b[0;34m\"  <Row>\\n%s\\n    </Row>\"\u001b[0m \u001b[0;34m%\u001b[0m \u001b[0;34m(\u001b[0m\u001b[0;34m\"\\n\"\u001b[0m\u001b[0;34m.\u001b[0m\u001b[0mjoin\u001b[0m\u001b[0;34m(\u001b[0m\u001b[0;34m[\u001b[0m\u001b[0;34m\"      <Value column=\\\"%s\\\">%s</Value>\"\u001b[0m \u001b[0;34m%\u001b[0m \u001b[0;34m(\u001b[0m\u001b[0mcols\u001b[0m\u001b[0;34m[\u001b[0m\u001b[0mi\u001b[0m\u001b[0;34m]\u001b[0m\u001b[0;34m,\u001b[0m \u001b[0mr\u001b[0m\u001b[0;34m[\u001b[0m\u001b[0mk\u001b[0m\u001b[0;34m]\u001b[0m\u001b[0;34m)\u001b[0m \u001b[0;32mfor\u001b[0m \u001b[0mi\u001b[0m\u001b[0;34m,\u001b[0m \u001b[0mk\u001b[0m \u001b[0;32min\u001b[0m \u001b[0menumerate\u001b[0m\u001b[0;34m(\u001b[0m\u001b[0mkeys\u001b[0m\u001b[0;34m)\u001b[0m\u001b[0;34m]\u001b[0m\u001b[0;34m)\u001b[0m\u001b[0;34m)\u001b[0m\u001b[0;34m)\u001b[0m \u001b[0;32mfor\u001b[0m \u001b[0mr\u001b[0m \u001b[0;32min\u001b[0m \u001b[0mdf\u001b[0m\u001b[0;34m.\u001b[0m\u001b[0mto_dict\u001b[0m\u001b[0;34m(\u001b[0m\u001b[0;34m'records'\u001b[0m\u001b[0;34m)\u001b[0m\u001b[0;34m]\u001b[0m\u001b[0;34m\u001b[0m\u001b[0m\n\u001b[0m\u001b[1;32m     20\u001b[0m \u001b[0;34m\u001b[0m\u001b[0m\n\u001b[1;32m     21\u001b[0m     \u001b[0;32mreturn\u001b[0m \u001b[0mxml\u001b[0m \u001b[0;34m%\u001b[0m \u001b[0;34m{\u001b[0m \u001b[0;34m'alias'\u001b[0m\u001b[0;34m:\u001b[0m \u001b[0malias\u001b[0m\u001b[0;34m,\u001b[0m \u001b[0;34m'rows'\u001b[0m\u001b[0;34m:\u001b[0m \u001b[0;34m\"\\n\"\u001b[0m\u001b[0;34m.\u001b[0m\u001b[0mjoin\u001b[0m\u001b[0;34m(\u001b[0m\u001b[0mrows\u001b[0m\u001b[0;34m)\u001b[0m\u001b[0;34m}\u001b[0m\u001b[0;34m\u001b[0m\u001b[0m\n",
      "\u001b[0;32m~/Datawheel/datachile-etl/libs/commons.py\u001b[0m in \u001b[0;36m<listcomp>\u001b[0;34m(.0)\u001b[0m\n\u001b[1;32m     17\u001b[0m \u001b[0;34m\u001b[0m\u001b[0m\n\u001b[1;32m     18\u001b[0m \u001b[0;34m\u001b[0m\u001b[0m\n\u001b[0;32m---> 19\u001b[0;31m     \u001b[0mrows\u001b[0m \u001b[0;34m=\u001b[0m \u001b[0;34m[\u001b[0m\u001b[0;34m(\u001b[0m\u001b[0;34m\"  <Row>\\n%s\\n    </Row>\"\u001b[0m \u001b[0;34m%\u001b[0m \u001b[0;34m(\u001b[0m\u001b[0;34m\"\\n\"\u001b[0m\u001b[0;34m.\u001b[0m\u001b[0mjoin\u001b[0m\u001b[0;34m(\u001b[0m\u001b[0;34m[\u001b[0m\u001b[0;34m\"      <Value column=\\\"%s\\\">%s</Value>\"\u001b[0m \u001b[0;34m%\u001b[0m \u001b[0;34m(\u001b[0m\u001b[0mcols\u001b[0m\u001b[0;34m[\u001b[0m\u001b[0mi\u001b[0m\u001b[0;34m]\u001b[0m\u001b[0;34m,\u001b[0m \u001b[0mr\u001b[0m\u001b[0;34m[\u001b[0m\u001b[0mk\u001b[0m\u001b[0;34m]\u001b[0m\u001b[0;34m)\u001b[0m \u001b[0;32mfor\u001b[0m \u001b[0mi\u001b[0m\u001b[0;34m,\u001b[0m \u001b[0mk\u001b[0m \u001b[0;32min\u001b[0m \u001b[0menumerate\u001b[0m\u001b[0;34m(\u001b[0m\u001b[0mkeys\u001b[0m\u001b[0;34m)\u001b[0m\u001b[0;34m]\u001b[0m\u001b[0;34m)\u001b[0m\u001b[0;34m)\u001b[0m\u001b[0;34m)\u001b[0m \u001b[0;32mfor\u001b[0m \u001b[0mr\u001b[0m \u001b[0;32min\u001b[0m \u001b[0mdf\u001b[0m\u001b[0;34m.\u001b[0m\u001b[0mto_dict\u001b[0m\u001b[0;34m(\u001b[0m\u001b[0;34m'records'\u001b[0m\u001b[0;34m)\u001b[0m\u001b[0;34m]\u001b[0m\u001b[0;34m\u001b[0m\u001b[0m\n\u001b[0m\u001b[1;32m     20\u001b[0m \u001b[0;34m\u001b[0m\u001b[0m\n\u001b[1;32m     21\u001b[0m     \u001b[0;32mreturn\u001b[0m \u001b[0mxml\u001b[0m \u001b[0;34m%\u001b[0m \u001b[0;34m{\u001b[0m \u001b[0;34m'alias'\u001b[0m\u001b[0;34m:\u001b[0m \u001b[0malias\u001b[0m\u001b[0;34m,\u001b[0m \u001b[0;34m'rows'\u001b[0m\u001b[0;34m:\u001b[0m \u001b[0;34m\"\\n\"\u001b[0m\u001b[0;34m.\u001b[0m\u001b[0mjoin\u001b[0m\u001b[0;34m(\u001b[0m\u001b[0mrows\u001b[0m\u001b[0;34m)\u001b[0m\u001b[0;34m}\u001b[0m\u001b[0;34m\u001b[0m\u001b[0m\n",
      "\u001b[0;32m~/Datawheel/datachile-etl/libs/commons.py\u001b[0m in \u001b[0;36m<listcomp>\u001b[0;34m(.0)\u001b[0m\n\u001b[1;32m     17\u001b[0m \u001b[0;34m\u001b[0m\u001b[0m\n\u001b[1;32m     18\u001b[0m \u001b[0;34m\u001b[0m\u001b[0m\n\u001b[0;32m---> 19\u001b[0;31m     \u001b[0mrows\u001b[0m \u001b[0;34m=\u001b[0m \u001b[0;34m[\u001b[0m\u001b[0;34m(\u001b[0m\u001b[0;34m\"  <Row>\\n%s\\n    </Row>\"\u001b[0m \u001b[0;34m%\u001b[0m \u001b[0;34m(\u001b[0m\u001b[0;34m\"\\n\"\u001b[0m\u001b[0;34m.\u001b[0m\u001b[0mjoin\u001b[0m\u001b[0;34m(\u001b[0m\u001b[0;34m[\u001b[0m\u001b[0;34m\"      <Value column=\\\"%s\\\">%s</Value>\"\u001b[0m \u001b[0;34m%\u001b[0m \u001b[0;34m(\u001b[0m\u001b[0mcols\u001b[0m\u001b[0;34m[\u001b[0m\u001b[0mi\u001b[0m\u001b[0;34m]\u001b[0m\u001b[0;34m,\u001b[0m \u001b[0mr\u001b[0m\u001b[0;34m[\u001b[0m\u001b[0mk\u001b[0m\u001b[0;34m]\u001b[0m\u001b[0;34m)\u001b[0m \u001b[0;32mfor\u001b[0m \u001b[0mi\u001b[0m\u001b[0;34m,\u001b[0m \u001b[0mk\u001b[0m \u001b[0;32min\u001b[0m \u001b[0menumerate\u001b[0m\u001b[0;34m(\u001b[0m\u001b[0mkeys\u001b[0m\u001b[0;34m)\u001b[0m\u001b[0;34m]\u001b[0m\u001b[0;34m)\u001b[0m\u001b[0;34m)\u001b[0m\u001b[0;34m)\u001b[0m \u001b[0;32mfor\u001b[0m \u001b[0mr\u001b[0m \u001b[0;32min\u001b[0m \u001b[0mdf\u001b[0m\u001b[0;34m.\u001b[0m\u001b[0mto_dict\u001b[0m\u001b[0;34m(\u001b[0m\u001b[0;34m'records'\u001b[0m\u001b[0;34m)\u001b[0m\u001b[0;34m]\u001b[0m\u001b[0;34m\u001b[0m\u001b[0m\n\u001b[0m\u001b[1;32m     20\u001b[0m \u001b[0;34m\u001b[0m\u001b[0m\n\u001b[1;32m     21\u001b[0m     \u001b[0;32mreturn\u001b[0m \u001b[0mxml\u001b[0m \u001b[0;34m%\u001b[0m \u001b[0;34m{\u001b[0m \u001b[0;34m'alias'\u001b[0m\u001b[0;34m:\u001b[0m \u001b[0malias\u001b[0m\u001b[0;34m,\u001b[0m \u001b[0;34m'rows'\u001b[0m\u001b[0;34m:\u001b[0m \u001b[0;34m\"\\n\"\u001b[0m\u001b[0;34m.\u001b[0m\u001b[0mjoin\u001b[0m\u001b[0;34m(\u001b[0m\u001b[0mrows\u001b[0m\u001b[0;34m)\u001b[0m\u001b[0;34m}\u001b[0m\u001b[0;34m\u001b[0m\u001b[0m\n",
      "\u001b[0;31mKeyError\u001b[0m: 'name_es'"
     ]
    }
   ],
   "source": [
    "# Read questionnaire file\n",
    "questionnaire = pd.ExcelFile(\"https://docs.google.com/spreadsheets/d/e/2PACX-1vQ4xZxDpyDY4NursNbrsWlCqjREdmBbfC1EMlz4UGQe7M8wMA7Mqw8tZbAcBdkjgBzloyQdcnhiv10C/pub?output=xlsx\")\n",
    "labels = pd.read_excel(questionnaire, \"Labels\")\n",
    "\n",
    "# Questions related with this ingest\n",
    "questions = [\"P01\", \"P02\", \"P03A\", \"P03B\", \"P03C\", \"P04\", \"P05\"]\n",
    "\n",
    "for q in questions:\n",
    "    df = pd.read_excel(questionnaire, q)\n",
    "    label = labels[labels[\"id\"] == q].iloc[0][\"label\"]\n",
    "    print (inline_dimension_xml(df, label, \"id\", \"name_es\", label))"
   ]
  },
  {
   "cell_type": "code",
   "execution_count": null,
   "metadata": {},
   "outputs": [],
   "source": []
  }
 ],
 "metadata": {
  "kernelspec": {
   "display_name": "Python 3",
   "language": "python",
   "name": "python3"
  },
  "language_info": {
   "codemirror_mode": {
    "name": "ipython",
    "version": 3
   },
   "file_extension": ".py",
   "mimetype": "text/x-python",
   "name": "python",
   "nbconvert_exporter": "python",
   "pygments_lexer": "ipython3",
   "version": "3.6.5"
  }
 },
 "nbformat": 4,
 "nbformat_minor": 2
}
