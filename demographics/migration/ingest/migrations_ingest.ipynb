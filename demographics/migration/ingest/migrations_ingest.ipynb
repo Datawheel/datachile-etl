{
 "cells": [
  {
   "cell_type": "markdown",
   "metadata": {},
   "source": [
    "# Import & Load Inmigration data"
   ]
  },
  {
   "cell_type": "markdown",
   "metadata": {},
   "source": [
    "### Config"
   ]
  },
  {
   "cell_type": "code",
   "execution_count": null,
   "metadata": {},
   "outputs": [],
   "source": [
    "import sys\n",
    "import configparser\n",
    "config = configparser.ConfigParser()\n",
    "config.read_file(open('../../../settings.ini'))\n",
    "\n",
    "sys.path.insert(0, config.get('PATHS','libs_path'))\n",
    "engine_path = config.get('DATABASE','engine_path')"
   ]
  },
  {
   "cell_type": "markdown",
   "metadata": {},
   "source": [
    "### Main params"
   ]
  },
  {
   "cell_type": "code",
   "execution_count": null,
   "metadata": {},
   "outputs": [],
   "source": [
    "remote_path = 'http://pacha.datawheel.us/datachile/immigration/visas/3_clean_datasets/'\n",
    "local_path = '../data/'"
   ]
  },
  {
   "cell_type": "code",
   "execution_count": null,
   "metadata": {},
   "outputs": [],
   "source": [
    "import postgres #from local file postgres.py\n",
    "from commons import inline_table_xml, download_file, download_zip_file, extract_zip_file #from local file commons.py\n",
    "\n",
    "import json\n",
    "import pandas as pd\n",
    "from sqlalchemy import create_engine"
   ]
  },
  {
   "cell_type": "markdown",
   "metadata": {},
   "source": [
    "### Download & unzip file"
   ]
  },
  {
   "cell_type": "code",
   "execution_count": null,
   "metadata": {},
   "outputs": [],
   "source": [
    "#Download and unzip\n",
    "download_zip_file(remote_path,local_path,'visas.zip')\n",
    "extract_zip_file(local_path,'temp.zip')"
   ]
  },
  {
   "cell_type": "markdown",
   "metadata": {},
   "source": [
    "### Load file"
   ]
  },
  {
   "cell_type": "code",
   "execution_count": null,
   "metadata": {},
   "outputs": [],
   "source": [
    "#Open unzipped file\n",
    "df = pd.read_csv(local_path+'3_clean_datasets/visas.csv',delimiter=\",\")\n",
    "df = df[['year','comuna_datachile_id','sex_id','activity_id','birth_date','age','studies_id','country_code','visa_type_id']]\n",
    "df = df.astype({'year':'int','comuna_datachile_id':'int','sex_id':'int','activity_id':'int','studies_id':'int','age':'int','country_code':'int','visa_type_id':'int'})\n",
    "list(df)"
   ]
  },
  {
   "cell_type": "markdown",
   "metadata": {},
   "source": [
    "### Ingest"
   ]
  },
  {
   "cell_type": "code",
   "execution_count": null,
   "metadata": {},
   "outputs": [],
   "source": [
    "engine = create_engine(engine_path)\n",
    "db = postgres.PostgresDriver(engine)\n",
    "db.to_sql(df, 'demographics', 'fact_immigration_records')"
   ]
  },
  {
   "cell_type": "markdown",
   "metadata": {},
   "source": [
    "### Add Indices to foreign keys"
   ]
  },
  {
   "cell_type": "code",
   "execution_count": null,
   "metadata": {},
   "outputs": [],
   "source": [
    "engine.execute(\"\"\"\n",
    "CREATE INDEX fact_immigration_records_comuna_datachile_id_index \n",
    "ON demographics.fact_immigration_records (comuna_datachile_id)\n",
    "\"\"\")\n",
    "\n",
    "engine.execute(\"\"\"\n",
    "CREATE INDEX fact_immigration_records_year_index \n",
    "ON demographics.fact_immigration_records (\"year\");\n",
    "\"\"\")\n",
    "\n"
   ]
  },
  {
   "cell_type": "markdown",
   "metadata": {},
   "source": [
    "### Relation tables"
   ]
  },
  {
   "cell_type": "markdown",
   "metadata": {},
   "source": [
    "```xml\n",
    "<InlineTable alias=\"sex\">\n",
    "  <ColumnDefs>\n",
    "    <ColumnDef name=\"id\" type=\"Numeric\" />\n",
    "    <ColumnDef name=\"description\" type=\"String\" />\n",
    "    <ColumnDef name=\"es_description\" type=\"String\" />\n",
    "  </ColumnDefs>\n",
    "  <Rows>\n",
    "    <Row>\n",
    "      <Value column=\"id\">0</Value>\n",
    "      <Value column=\"description\">No informa</Value>\n",
    "      <Value column=\"es_description\">No informa</Value>\n",
    "    </Row>\n",
    "  <Row>\n",
    "      <Value column=\"id\">1</Value>\n",
    "      <Value column=\"description\">Women</Value>\n",
    "      <Value column=\"es_description\">Mujer</Value>\n",
    "    </Row>\n",
    "  <Row>\n",
    "      <Value column=\"id\">2</Value>\n",
    "      <Value column=\"description\">Men</Value>\n",
    "      <Value column=\"es_description\">Hombre</Value>\n",
    "    </Row>\n",
    "  </Rows>\n",
    "</InlineTable>\n",
    "```"
   ]
  },
  {
   "cell_type": "code",
   "execution_count": null,
   "metadata": {},
   "outputs": [],
   "source": [
    "d2 = download_file(remote_path,local_path,'activity_id.csv')\n",
    "print (inline_table_xml(d2, 'activity', 'activity_id', 'activity'))"
   ]
  },
  {
   "cell_type": "code",
   "execution_count": null,
   "metadata": {},
   "outputs": [],
   "source": [
    "d3 = download_file(remote_path,local_path,'studies_id.csv')\n",
    "print (inline_table_xml(d3, 'studies', 'studies_id', 'studies'))"
   ]
  },
  {
   "cell_type": "code",
   "execution_count": null,
   "metadata": {},
   "outputs": [],
   "source": [
    "d4 = download_file(remote_path,local_path,'visa_type.csv')\n",
    "print (inline_table_xml(d4, 'visa_type', 'visa_type_id', 'visa_type'))"
   ]
  }
 ],
 "metadata": {
  "kernelspec": {
   "display_name": "Python 3",
   "language": "python",
   "name": "python3"
  },
  "language_info": {
   "codemirror_mode": {
    "name": "ipython",
    "version": 3
   },
   "file_extension": ".py",
   "mimetype": "text/x-python",
   "name": "python",
   "nbconvert_exporter": "python",
   "pygments_lexer": "ipython3",
   "version": "3.6.3"
  }
 },
 "nbformat": 4,
 "nbformat_minor": 2
}
