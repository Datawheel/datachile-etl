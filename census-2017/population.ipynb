{
 "cells": [
  {
   "cell_type": "markdown",
   "metadata": {},
   "source": [
    "# CENSO 2017\n",
    "## Sección Población"
   ]
  },
  {
   "cell_type": "code",
   "execution_count": null,
   "metadata": {},
   "outputs": [],
   "source": [
    "import numpy as np\n",
    "import pandas as pd\n",
    "import os\n",
    "from google_drive_downloader import GoogleDriveDownloader as gdd\n",
    "# pip install googledrivedownloader\n",
    "\n",
    "pd.options.display.max_columns = 200"
   ]
  },
  {
   "cell_type": "code",
   "execution_count": null,
   "metadata": {},
   "outputs": [],
   "source": [
    "def _download_data(download=True):\n",
    "    if download:\n",
    "        gdd.download_file_from_google_drive(\n",
    "            file_id=\"17wl7P6G_xVY54htNy8tfffcTDTqvzDvD\",\n",
    "            dest_path=\"./data_temp/Microdato_Censo2017-Personas.zip\",\n",
    "            unzip=True\n",
    "        )\n",
    "    return True"
   ]
  },
  {
   "cell_type": "code",
   "execution_count": null,
   "metadata": {},
   "outputs": [],
   "source": [
    "_download_data(False)\n",
    "reader = pd.read_csv(\"./data_temp/Microdato_Censo2017-Personas.csv\", sep=\";\", low_memory=False, chunksize=10**3)\n",
    "df = pd.concat([x for x in reader], ignore_index=True)\n",
    "\n",
    "#reader = pd.read_csv(\"./data_temp/Microdato_Censo2017-Personas.csv\", sep=\";\", low_memory = False, iterator = True)\n",
    "#df = reader.get_chunk(2*10**5)"
   ]
  },
  {
   "cell_type": "code",
   "execution_count": null,
   "metadata": {},
   "outputs": [],
   "source": [
    "_questions = list(filter(lambda x: x[0] == \"P\" and x[1].isdigit(), list(df)))\n",
    "_questions_to_remove = [\n",
    "    \"P07\", \"P10PAIS_GRUPO\", \"P11PAIS_GRUPO\",\n",
    "    \"P12A_TRAMO\", \"P12PAIS_GRUPO\", \n",
    "    \"P15A\", \"P16A_GRUPO\", \n",
    "    \"P17\", \"P21A\", \"P21M\"\n",
    "]\n",
    "\n",
    "_drop = [\"REGION\", \"PROVINCIA\", \"ZC_LOC\", \"ID_ZONA_LOC\", \"NVIV\", \"NHOGAR\", \"PERSONAN\"] + _questions_to_remove\n",
    "_groupby = [\"COMUNA\", \"AREA\", \"DC\", \"ESCOLARIDAD\"] + list(set(_questions) - set(_questions_to_remove))"
   ]
  },
  {
   "cell_type": "code",
   "execution_count": null,
   "metadata": {},
   "outputs": [],
   "source": [
    "q = df.drop(columns=_drop).groupby(_groupby)\n",
    "_ = pd.DataFrame({\n",
    "    \"cant_per\" : q.size()\n",
    "}).reset_index()"
   ]
  },
  {
   "cell_type": "code",
   "execution_count": null,
   "metadata": {},
   "outputs": [],
   "source": [
    "questionnaire = pd.ExcelFile(\"https://docs.google.com/spreadsheets/d/e/2PACX-1vQ4xZxDpyDY4NursNbrsWlCqjREdmBbfC1EMlz4UGQe7M8wMA7Mqw8tZbAcBdkjgBzloyQdcnhiv10C/pub?output=xlsx\")\n",
    "labels = pd.read_excel(questionnaire, \"Labels\")"
   ]
  },
  {
   "cell_type": "code",
   "execution_count": null,
   "metadata": {},
   "outputs": [],
   "source": [
    "_ = _.rename(columns = { \n",
    "    key: labels[labels[\"id\"] == key].iloc[0][\"label\"] for key in _groupby\n",
    "})"
   ]
  },
  {
   "cell_type": "code",
   "execution_count": null,
   "metadata": {},
   "outputs": [],
   "source": [
    "geo_datachile_id = pd.read_csv(\"https://docs.google.com/spreadsheets/d/e/2PACX-1vQNfVYuzDbyPvvZkaY61MJBZ9nVkZqxD0RlsBarAv8fyqHzjdyhCQ1FPTLayNPhzR_7yUHTmR94pIl3/pub?gid=0&single=true&output=csv\")\n",
    "geo_datachile_id = geo_datachile_id.drop(columns=[\"region_id\", \"region_name\", \"comuna_tax_office_id\"])\n",
    "\n",
    "geo_datachile_id = geo_datachile_id.fillna(0).astype({\"comuna_census_id\": \"int\"})\n",
    "geo_datachile_id = geo_datachile_id.rename(columns={\"comuna_census_id\": \"comuna_id\"})"
   ]
  },
  {
   "cell_type": "code",
   "execution_count": null,
   "metadata": {},
   "outputs": [],
   "source": [
    "_ = pd.merge(_, geo_datachile_id, on=\"comuna_id\", how=\"inner\")\n",
    "_ = _.drop(columns=[\"comuna_id\", \"comuna_name\"])"
   ]
  },
  {
   "cell_type": "code",
   "execution_count": null,
   "metadata": {},
   "outputs": [],
   "source": [
    " # Convert Sex to Datachile Format\n",
    "# Change Sex (1 Hombre) to (2 Hombre)\n",
    "\n",
    "_[\"sex\"] = _[\"sex\"].map({1: 2, 2: 1})"
   ]
  },
  {
   "cell_type": "code",
   "execution_count": null,
   "metadata": {},
   "outputs": [],
   "source": [
    "aboriginal_people = []\n",
    "for (a, b) in list(zip(_[\"native_list\"],_[\"native_list_other\"])):\n",
    "    \n",
    "    aboriginal_people_id = a\n",
    "\n",
    "    if b > 20 and b < 98:\n",
    "        aboriginal_people_id = b\n",
    "    elif b in [3, 4, 5, 6]:\n",
    "        aboriginal_people_id = 10 + b\n",
    "    \n",
    "    aboriginal_people.append(aboriginal_people_id)\n",
    "\n",
    "_[\"aboriginal_people\"] = aboriginal_people"
   ]
  },
  {
   "cell_type": "code",
   "execution_count": null,
   "metadata": {},
   "outputs": [],
   "source": [
    "# Unused cols\n",
    "_ = _.drop(columns=[\"native_list\", \"native_list_other\"])"
   ]
  },
  {
   "cell_type": "code",
   "execution_count": null,
   "metadata": {},
   "outputs": [],
   "source": [
    "# Change Census country IDs for Datachile IDs\n",
    "country_cols = [\"residence_country\", \"residence_country_5_years_ago\", \"birth_country\"]\n",
    "geo_countries = pd.read_csv(\"datachile_census_country_id.csv\")\n",
    "\n",
    "for cc in country_cols:\n",
    "    _ = _.merge(geo_countries, how = \"left\", left_on = cc, right_on = \"census_country_code\")\n",
    "    _[cc] = pd.to_numeric(_[\"datachile_country_id\"].fillna(999), downcast = \"integer\")\n",
    "    _ = _.drop(columns = [\"census_country_code\", \"country_name\", \"datachile_country_id\"])\n",
    "    \n",
    "_[\"comuna_customs_id\"] = pd.to_numeric(_[\"comuna_customs_id\"], downcast = \"integer\", errors = \"coerce\")"
   ]
  },
  {
   "cell_type": "code",
   "execution_count": null,
   "metadata": {},
   "outputs": [],
   "source": [
    "# Save changes\n",
    "pd.DataFrame(_).to_csv(\"./data_final/population_census.csv\", index=False)"
   ]
  }
 ],
 "metadata": {
  "kernelspec": {
   "display_name": "Python 3",
   "language": "python",
   "name": "python3"
  },
  "language_info": {
   "codemirror_mode": {
    "name": "ipython",
    "version": 3
   },
   "file_extension": ".py",
   "mimetype": "text/x-python",
   "name": "python",
   "nbconvert_exporter": "python",
   "pygments_lexer": "ipython3",
   "version": "3.7.0"
  }
 },
 "nbformat": 4,
 "nbformat_minor": 2
}
