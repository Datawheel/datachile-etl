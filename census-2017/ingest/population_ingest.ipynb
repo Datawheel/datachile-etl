{
 "cells": [
  {
   "cell_type": "markdown",
   "metadata": {},
   "source": [
    "# Census 2017 - Population (Ingestion)"
   ]
  },
  {
   "cell_type": "code",
   "execution_count": null,
   "metadata": {},
   "outputs": [],
   "source": [
    "import sys\n",
    "import configparser\n",
    "config = configparser.ConfigParser()\n",
    "config.read_file(open(\"../../settings.ini\"))\n",
    "\n",
    "sys.path.insert(0, config.get('PATHS','libs_path'))\n",
    "engine_path = config.get('DATABASE','engine_path')"
   ]
  },
  {
   "cell_type": "code",
   "execution_count": null,
   "metadata": {},
   "outputs": [],
   "source": [
    "local_path = \"../data_final/\"\n",
    "remote_path = \"/\""
   ]
  },
  {
   "cell_type": "code",
   "execution_count": null,
   "metadata": {},
   "outputs": [],
   "source": [
    "# from local file postgres.py\n",
    "import postgres\n",
    "# from local file commons.py\n",
    "from commons import inline_table_xml, inline_dimension_xml, download_file, download_zip_file, extract_zip_file\n",
    "\n",
    "import json\n",
    "import pandas as pd\n",
    "from sqlalchemy import create_engine"
   ]
  },
  {
   "cell_type": "code",
   "execution_count": null,
   "metadata": {},
   "outputs": [],
   "source": [
    "df1 = download_file(remote_path, local_path, \"population_census.csv\")"
   ]
  },
  {
   "cell_type": "code",
   "execution_count": null,
   "metadata": {},
   "outputs": [],
   "source": [
    "df1.head()"
   ]
  },
  {
   "cell_type": "code",
   "execution_count": null,
   "metadata": {},
   "outputs": [],
   "source": [
    "df1 = df1.rename(columns = {\"comuna_datachile_id\": \"comuna_id\"})"
   ]
  },
  {
   "cell_type": "code",
   "execution_count": null,
   "metadata": {},
   "outputs": [],
   "source": [
    "engine = create_engine(engine_path)\n",
    "db = postgres.PostgresDriver(engine)\n",
    "db.to_sql(df1, \"census\", \"fact_population_census\")"
   ]
  },
  {
   "cell_type": "code",
   "execution_count": null,
   "metadata": {},
   "outputs": [],
   "source": [
    "engine.execute(\"\"\"\n",
    "CREATE INDEX fact_population_census_index \n",
    "ON census.fact_population_census (comuna_id)\n",
    "\"\"\")"
   ]
  },
  {
   "cell_type": "markdown",
   "metadata": {},
   "source": [
    "## Inline Tables"
   ]
  },
  {
   "cell_type": "code",
   "execution_count": null,
   "metadata": {},
   "outputs": [],
   "source": [
    "# Read questionnaire file\n",
    "questionnaire = pd.ExcelFile(\"https://docs.google.com/spreadsheets/d/e/2PACX-1vQ4xZxDpyDY4NursNbrsWlCqjREdmBbfC1EMlz4UGQe7M8wMA7Mqw8tZbAcBdkjgBzloyQdcnhiv10C/pub?output=xlsx\")\n",
    "labels = pd.read_excel(questionnaire, \"Labels\")\n",
    "\n",
    "id_labels = list(df1) - []\n",
    "for label in list(df1):\n",
    "    q = labels[labels[\"label\"] == label].iloc[0][\"id\"]\n",
    "    if q[0] == \"_\" or q[0] == \"P\":\n",
    "        df = pd.read_excel(questionnaire, q)\n",
    "        print (inline_dimension_xml(df, label, \"id\", \"es\", label))"
   ]
  },
  {
   "cell_type": "code",
   "execution_count": null,
   "metadata": {},
   "outputs": [],
   "source": [
    "df = pd.read_csv(\"datachile_census_country_id.csv\", index_col = 0)\n",
    "df = df[[\"my_country_code\", \"my_country_name\"]]\n",
    "df[\"my_country_code\"] = df[\"my_country_code\"].drop_duplicates()\n",
    "df = df.dropna()\n",
    "df[\"my_country_code\"] = df[\"my_country_code\"].astype(\"int\")\n",
    "df.iloc[7,1] = \"País no especificado\"\n",
    "\n",
    "print(inline_dimension_xml(df, \"Residence Country 5 Years Ago\", \"my_country_code\", \"my_country_name\", \"residence_country_5_years_ago\"))"
   ]
  },
  {
   "cell_type": "code",
   "execution_count": null,
   "metadata": {},
   "outputs": [],
   "source": [
    "df = pd.read_csv(\"datachile_comunas.csv\")\n",
    "df = df[[\"comuna_datachile_id\", \"comuna_name\"]]\n",
    "df = df.append({\"comuna_datachile_id\": 999, \"comuna_name\": \"Comuna no especificada\"}, ignore_index=True)\n",
    "\n",
    "print(inline_dimension_xml(df, \"Residence Comuna 5 Years Ago\", \"comuna_datachile_id\", \"comuna_name\", \"residence_comuna_5_years_ago\"))"
   ]
  },
  {
   "cell_type": "code",
   "execution_count": null,
   "metadata": {},
   "outputs": [],
   "source": [
    "econ = pd.read_csv(\"economic_activity.csv\", sep = \";\")\n",
    "econ[\"num_id\"] = econ.index\n",
    "econ.iloc[22] = pd.Series({\"id\": \"98\", \"es\": \"No aplica\", \"num_id\": \"98\"})\n",
    "econ.iloc[23] = pd.Series({\"id\": \"99\", \"es\": \"Missing\", \"num_id\": \"99\"})\n",
    "\n",
    "print(inline_dimension_xml(econ, \"Economic Activity\", \"num_id\", \"es\", \"economic_activity\"))"
   ]
  }
 ],
 "metadata": {
  "kernelspec": {
   "display_name": "Python 3",
   "language": "python",
   "name": "python3"
  },
  "language_info": {
   "codemirror_mode": {
    "name": "ipython",
    "version": 3
   },
   "file_extension": ".py",
   "mimetype": "text/x-python",
   "name": "python",
   "nbconvert_exporter": "python",
   "pygments_lexer": "ipython3",
   "version": "3.7.0"
  }
 },
 "nbformat": 4,
 "nbformat_minor": 2
}
