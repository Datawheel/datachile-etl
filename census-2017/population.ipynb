{
 "cells": [
  {
   "cell_type": "markdown",
   "metadata": {},
   "source": [
    "# CENSO 2017\n",
    "## Sección Población"
   ]
  },
  {
   "cell_type": "code",
   "execution_count": 15,
   "metadata": {},
   "outputs": [],
   "source": [
    "import numpy as np\n",
    "import pandas as pd\n",
    "import os\n",
    "from google_drive_downloader import GoogleDriveDownloader as gdd\n",
    "# pip install googledrivedownloader\n",
    "\n",
    "pd.options.display.max_columns = 200"
   ]
  },
  {
   "cell_type": "code",
   "execution_count": 16,
   "metadata": {},
   "outputs": [],
   "source": [
    "def _download_data(download=True):\n",
    "    if download:\n",
    "        gdd.download_file_from_google_drive(\n",
    "            file_id=\"17wl7P6G_xVY54htNy8tfffcTDTqvzDvD\",\n",
    "            dest_path=\"./data_temp/Microdato_Censo2017-Personas.zip\",\n",
    "            unzip=True\n",
    "        )\n",
    "    return True"
   ]
  },
  {
   "cell_type": "code",
   "execution_count": 17,
   "metadata": {},
   "outputs": [],
   "source": [
    "_download_data(False)\n",
    "reader = pd.read_csv(\"./data_temp/Microdato_Censo2017-Personas.csv\", sep=\";\", low_memory=False, chunksize=10**3)\n",
    "df = pd.concat([x for x in reader], ignore_index=True)\n",
    "\n",
    "#reader = pd.read_csv(\"./data_temp/Microdato_Censo2017-Personas.csv\", sep=\";\", low_memory = False, iterator = True)\n",
    "#df = reader.get_chunk(2*10**5)"
   ]
  },
  {
   "cell_type": "code",
   "execution_count": 18,
   "metadata": {},
   "outputs": [],
   "source": [
    "_questions = list(filter(lambda x: x[0] == \"P\" and x[1].isdigit(), list(df)))\n",
    "_questions_to_remove = [\n",
    "    \"P07\", \"P10PAIS_GRUPO\", \"P11PAIS_GRUPO\",\n",
    "    \"P12A_TRAMO\", \"P12PAIS_GRUPO\", \n",
    "    \"P15A\", \"P16A_GRUPO\", \n",
    "    \"P17\", \"P21A\", \"P21M\"\n",
    "]\n",
    "\n",
    "_drop = [\"REGION\", \"PROVINCIA\", \"ZC_LOC\", \"ID_ZONA_LOC\", \"NVIV\", \"NHOGAR\", \"PERSONAN\"] + _questions_to_remove\n",
    "_groupby = [\"COMUNA\", \"AREA\", \"DC\", \"ESCOLARIDAD\"] + list(set(_questions) - set(_questions_to_remove))"
   ]
  },
  {
   "cell_type": "code",
   "execution_count": 19,
   "metadata": {},
   "outputs": [],
   "source": [
    "q = df.drop(columns=_drop).groupby(_groupby)\n",
    "_ = pd.DataFrame({\n",
    "    \"cant_per\" : q.size()\n",
    "}).reset_index()"
   ]
  },
  {
   "cell_type": "code",
   "execution_count": 20,
   "metadata": {},
   "outputs": [],
   "source": [
    "questionnaire = pd.ExcelFile(\"https://docs.google.com/spreadsheets/d/e/2PACX-1vQ4xZxDpyDY4NursNbrsWlCqjREdmBbfC1EMlz4UGQe7M8wMA7Mqw8tZbAcBdkjgBzloyQdcnhiv10C/pub?output=xlsx\")\n",
    "labels = pd.read_excel(questionnaire, \"Labels\")"
   ]
  },
  {
   "cell_type": "code",
   "execution_count": 21,
   "metadata": {},
   "outputs": [],
   "source": [
    "_ = _.rename(columns = { \n",
    "    key: labels[labels[\"id\"] == key].iloc[0][\"label\"] for key in _groupby\n",
    "})"
   ]
  },
  {
   "cell_type": "code",
   "execution_count": 22,
   "metadata": {},
   "outputs": [],
   "source": [
    "geo_datachile_id = pd.read_csv(\"https://docs.google.com/spreadsheets/d/e/2PACX-1vQNfVYuzDbyPvvZkaY61MJBZ9nVkZqxD0RlsBarAv8fyqHzjdyhCQ1FPTLayNPhzR_7yUHTmR94pIl3/pub?gid=0&single=true&output=csv\")\n",
    "geo_datachile_id = geo_datachile_id.drop(columns=[\"region_id\", \"region_name\", \"comuna_tax_office_id\"])\n",
    "\n",
    "geo_datachile_id = geo_datachile_id.fillna(0).astype({\"comuna_census_id\": \"int\"})\n",
    "geo_datachile_id = geo_datachile_id.rename(columns={\"comuna_census_id\": \"comuna_id\"})"
   ]
  },
  {
   "cell_type": "code",
   "execution_count": 23,
   "metadata": {},
   "outputs": [],
   "source": [
    "_ = pd.merge(_, geo_datachile_id, on=\"comuna_id\", how=\"inner\")\n",
    "_ = _.drop(columns=[\"comuna_id\", \"comuna_name\"])"
   ]
  },
  {
   "cell_type": "code",
   "execution_count": 24,
   "metadata": {},
   "outputs": [],
   "source": [
    " # Convert Sex to Datachile Format\n",
    "# Change Sex (1 Hombre) to (2 Hombre)\n",
    "\n",
    "_[\"sex\"] = _[\"sex\"].map({1: 2, 2: 1})"
   ]
  },
  {
   "cell_type": "code",
   "execution_count": 25,
   "metadata": {},
   "outputs": [],
   "source": [
    "aboriginal_people = []\n",
    "for (a, b) in list(zip(_[\"native_list\"],_[\"native_list_other\"])):\n",
    "    \n",
    "    aboriginal_people_id = a\n",
    "\n",
    "    if b > 20 and b < 98:\n",
    "        aboriginal_people_id = b\n",
    "    elif b in [3, 4, 5, 6]:\n",
    "        aboriginal_people_id = 10 + b\n",
    "    \n",
    "    aboriginal_people.append(aboriginal_people_id)\n",
    "\n",
    "_[\"aboriginal_people\"] = aboriginal_people"
   ]
  },
  {
   "cell_type": "code",
   "execution_count": 26,
   "metadata": {},
   "outputs": [],
   "source": [
    "# Unused cols\n",
    "_ = _.drop(columns=[\"native_list\", \"native_list_other\"])"
   ]
  },
  {
   "cell_type": "code",
   "execution_count": 30,
   "metadata": {},
   "outputs": [
    {
     "name": "stdout",
     "output_type": "stream",
     "text": [
      "   area_id  district_id  scholarship  birth_place  residence_country  \\\n",
      "0        1            1            0            1                998   \n",
      "1        1            1            0            1                998   \n",
      "2        1            1            0            1                998   \n",
      "3        1            1            0            1                998   \n",
      "4        1            1            0            1                998   \n",
      "\n",
      "   highest_course_approved  children_born_alive  age  residence_comuna  \\\n",
      "0                        0                    0   67                98   \n",
      "1                        0                   98    0                98   \n",
      "2                        0                   98    0                98   \n",
      "3                        0                   98    0                98   \n",
      "4                        0                   98    1                98   \n",
      "\n",
      "   residence_5_years_ago  residence_comuna_5_years_ago  habitual_residence  \\\n",
      "0                      2                            98                   1   \n",
      "1                      1                            98                   1   \n",
      "2                      1                            98                   1   \n",
      "3                      1                            98                   1   \n",
      "4                      1                            98                   1   \n",
      "\n",
      "   sex  formal_education  birth_country  residence_country_5_years_ago  \\\n",
      "0    1                 2            998                            998   \n",
      "1    2                 2            998                            998   \n",
      "2    2                 1            998                            998   \n",
      "3    1                 1            998                            998   \n",
      "4    1                 1            998                            998   \n",
      "\n",
      "   year_of_arrival_to_chile  children_currently_alive  highest_level_approved  \\\n",
      "0                      9998                        98                       4   \n",
      "1                      9998                        98                       1   \n",
      "2                      9998                        98                       1   \n",
      "3                      9998                        98                       1   \n",
      "4                      9998                        98                       1   \n",
      "\n",
      "   birth_comuna  native_people economy_activity  cant_per  \\\n",
      "0            98              2               98         1   \n",
      "1            98              1               98         1   \n",
      "2            98              2               98         6   \n",
      "3            98              2               98         3   \n",
      "4            98              1               98         1   \n",
      "\n",
      "   comuna_datachile_id  comuna_customs_id  aboriginal_people  Unnamed: 0_x  \\\n",
      "0                  113             1101.0                 98           NaN   \n",
      "1                  113             1101.0                  1           NaN   \n",
      "2                  113             1101.0                 98           NaN   \n",
      "3                  113             1101.0                 98           NaN   \n",
      "4                  113             1101.0                  1           NaN   \n",
      "\n",
      "   census_country_code_x country_name_x_x  country_code_x  Unnamed: 0_y  \\\n",
      "0                    NaN              NaN             NaN           NaN   \n",
      "1                    NaN              NaN             NaN           NaN   \n",
      "2                    NaN              NaN             NaN           NaN   \n",
      "3                    NaN              NaN             NaN           NaN   \n",
      "4                    NaN              NaN             NaN           NaN   \n",
      "\n",
      "   census_country_code_y country_name_x_y  country_code_y  Unnamed: 0  \\\n",
      "0                    NaN              NaN             NaN         NaN   \n",
      "1                    NaN              NaN             NaN         NaN   \n",
      "2                    NaN              NaN             NaN         NaN   \n",
      "3                    NaN              NaN             NaN         NaN   \n",
      "4                    NaN              NaN             NaN         NaN   \n",
      "\n",
      "   census_country_code country_name_x  country_code  \n",
      "0                  NaN            NaN           NaN  \n",
      "1                  NaN            NaN           NaN  \n",
      "2                  NaN            NaN           NaN  \n",
      "3                  NaN            NaN           NaN  \n",
      "4                  NaN            NaN           NaN  \n"
     ]
    }
   ],
   "source": [
    "# Change Census country IDs for Datachile IDs\n",
    "country_cols = [\"residence_country\", \"residence_country_5_years_ago\", \"birth_country\"]\n",
    "geo_countries = pd.read_csv(\"datachile_census_country_id.csv\")\n",
    "\n",
    "_ = _.merge(geo_countries, how = \"left\", left_on = \"birth_country\", right_on = \"census_country_code\")\n",
    "print(_.head())\n",
    "#for cc in country_cols:\n",
    "#    _ = _.merge(geo_countries, how = \"left\", left_on = cc, right_on = \"census_country_code\")\n",
    "#    _[cc] = pd.to_numeric(_[\"country_code\"].fillna(256), downcast = \"integer\")\n",
    "#    _ = _.drop(columns = [\"census_country_code\", \"country_name\", \"country_code\"])\n",
    "    \n",
    "_[\"comuna_customs_id\"] = pd.to_numeric(_[\"comuna_customs_id\"], downcast = \"integer\", errors = \"coerce\")"
   ]
  },
  {
   "cell_type": "code",
   "execution_count": null,
   "metadata": {},
   "outputs": [],
   "source": [
    "# Save changes\n",
    "pd.DataFrame(_).to_csv(\"./data_final/population_census.csv\", index=False)"
   ]
  },
  {
   "cell_type": "code",
   "execution_count": null,
   "metadata": {},
   "outputs": [],
   "source": [
    "_ = pd.read_csv(\"./data_final/population_census.csv\")\n",
    "_.head(10)"
   ]
  }
 ],
 "metadata": {
  "kernelspec": {
   "display_name": "Python 3",
   "language": "python",
   "name": "python3"
  },
  "language_info": {
   "codemirror_mode": {
    "name": "ipython",
    "version": 3
   },
   "file_extension": ".py",
   "mimetype": "text/x-python",
   "name": "python",
   "nbconvert_exporter": "python",
   "pygments_lexer": "ipython3",
   "version": "3.7.0"
  }
 },
 "nbformat": 4,
 "nbformat_minor": 2
}
