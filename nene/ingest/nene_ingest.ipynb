{
 "cells": [
  {
   "cell_type": "markdown",
   "metadata": {},
   "source": [
    "### Main params"
   ]
  },
  {
   "cell_type": "code",
   "execution_count": 13,
   "metadata": {
    "collapsed": true
   },
   "outputs": [],
   "source": [
    "remote_path = 'http://pacha.datawheel.us/economia/nene/occupational_status/'\n",
    "\n",
    "local_path = '../data/'\n",
    "\n",
    "engine_path = 'postgresql://localhost:5433/datachile'"
   ]
  },
  {
   "cell_type": "markdown",
   "metadata": {},
   "source": [
    "### Imports"
   ]
  },
  {
   "cell_type": "code",
   "execution_count": 8,
   "metadata": {
    "collapsed": true
   },
   "outputs": [],
   "source": [
    "from urllib import request\n",
    "import zipfile\n",
    "import shutil\n",
    "import os.path\n",
    "\n",
    "import json\n",
    "import pandas as pd\n",
    "from sqlalchemy import create_engine"
   ]
  },
  {
   "cell_type": "markdown",
   "metadata": {},
   "source": [
    "### Open file function"
   ]
  },
  {
   "cell_type": "code",
   "execution_count": 9,
   "metadata": {
    "collapsed": true
   },
   "outputs": [],
   "source": [
    "def loadFile(file_name):\n",
    "    remote_file = remote_path + file_name\n",
    "    local_file = local_path + file_name\n",
    "\n",
    "    if not os.path.isfile(local_file):\n",
    "        with request.urlopen(remote_file) as remote_csv,open(local_file, 'wb') as local_csv:\n",
    "            shutil.copyfileobj(remote_csv, local_csv)\n",
    "    \n",
    "    return pd.read_csv(local_file,delimiter=\",\")"
   ]
  },
  {
   "cell_type": "markdown",
   "metadata": {},
   "source": [
    "### Load file"
   ]
  },
  {
   "cell_type": "code",
   "execution_count": 10,
   "metadata": {},
   "outputs": [
    {
     "data": {
      "text/plain": [
       "['ano_encuesta',\n",
       " 'mes_encuesta',\n",
       " 'region_id',\n",
       " 'age',\n",
       " 'age_range_id',\n",
       " 'sex_id',\n",
       " 'icse_id',\n",
       " 'isco_id',\n",
       " 'isced_id',\n",
       " 'occupied_id',\n",
       " 'general_economic_condition',\n",
       " 'fact']"
      ]
     },
     "execution_count": 10,
     "metadata": {},
     "output_type": "execute_result"
    }
   ],
   "source": [
    "df = loadFile('occupational_status.csv')\n",
    "list(df)"
   ]
  },
  {
   "cell_type": "markdown",
   "metadata": {},
   "source": [
    "### Complete NaN"
   ]
  },
  {
   "cell_type": "code",
   "execution_count": 11,
   "metadata": {
    "collapsed": true
   },
   "outputs": [],
   "source": [
    "df['isco_id'] = df['isco_id'].fillna('0')\n",
    "df['icse_id'] = df['icse_id'].fillna('0')\n",
    "df['isced_id'] = df['isced_id'].fillna('0')"
   ]
  },
  {
   "cell_type": "markdown",
   "metadata": {},
   "source": [
    "### Rename, to int & load"
   ]
  },
  {
   "cell_type": "code",
   "execution_count": 14,
   "metadata": {},
   "outputs": [],
   "source": [
    "df = df.rename(columns={'ano_encuesta':'year','mes_encuesta':'month'});\n",
    "df = df.astype({'year':'int','month':'int','region_id':'int','age':'int','age_range_id':'int','icse_id':'int','sex_id':'int','isced_id':'int','isco_id':'int','occupied_id':'int','icse_id':'int','general_economic_condition':'int'})\n",
    "\n",
    "engine = create_engine(engine_path)\n",
    "df.to_sql('fact_occupational_status_nene', engine, schema='economy', if_exists='replace', index=False)"
   ]
  },
  {
   "cell_type": "markdown",
   "metadata": {},
   "source": [
    "### Indexes & FK"
   ]
  },
  {
   "cell_type": "code",
   "execution_count": 15,
   "metadata": {},
   "outputs": [
    {
     "data": {
      "text/plain": [
       "<sqlalchemy.engine.result.ResultProxy at 0x7f761acf9908>"
      ]
     },
     "execution_count": 15,
     "metadata": {},
     "output_type": "execute_result"
    }
   ],
   "source": [
    "engine.execute(\"\"\"\n",
    "ALTER TABLE economy.fact_occupational_status_nene\n",
    "  ADD COLUMN date_id INTEGER; \n",
    "\"\"\")\n",
    "\n",
    "engine.execute(\"\"\"\n",
    "UPDATE economy.fact_occupational_status_nene\n",
    "SET date_id = dim_date.id\n",
    "FROM public.dim_date\n",
    "WHERE dim_date.the_year = economy.fact_occupational_status_nene.year\n",
    "      AND dim_date.month_of_year = economy.fact_occupational_status_nene.month\n",
    "      AND dim_date.day_of_month = 1\n",
    "\"\"\")\n",
    "\n",
    "engine.execute(\"\"\"\n",
    "CREATE INDEX fact_occupational_status_nene_region_id \n",
    "ON economy.fact_occupational_status_nene (region_id)\n",
    "\"\"\")"
   ]
  },
  {
   "cell_type": "code",
   "execution_count": 52,
   "metadata": {},
   "outputs": [],
   "source": [
    "def inline_table_xml(df, alias, id_column_name, desc_column_name):\n",
    "    xml = \"\"\"\n",
    "<InlineTable alias=\"%(alias)s\">\n",
    "  <ColumnDefs>\n",
    "    <ColumnDef name=\"id\" type=\"Numeric\" />\n",
    "    <ColumnDef name=\"description\" type=\"String\" />\n",
    "    <ColumnDef name=\"es_description\" type=\"String\" />\n",
    "  </ColumnDefs>\n",
    "  <Rows>\n",
    "  %(rows)s\n",
    "  </Rows>\n",
    "</InlineTable>\n",
    "    \"\"\"\n",
    "    \n",
    "    keys = [id_column_name, desc_column_name, desc_column_name]\n",
    "    cols = ['id', 'description', 'es_description']\n",
    "    \n",
    "    \n",
    "    rows = [(\"  <Row>\\n%s\\n    </Row>\" % (\"\\n\".join([\"      <Value column=\\\"%s\\\">%s</Value>\" % (cols[i], r[k]) for i, k in enumerate(keys)]))) for r in df.to_dict('records')]\n",
    "    \n",
    "    return xml % { 'alias': alias, 'rows': \"\\n\".join(rows)}\n",
    "    "
   ]
  },
  {
   "cell_type": "markdown",
   "metadata": {},
   "source": [
    "### Related dim"
   ]
  },
  {
   "cell_type": "code",
   "execution_count": 54,
   "metadata": {},
   "outputs": [
    {
     "name": "stdout",
     "output_type": "stream",
     "text": [
      "\n",
      "<InlineTable alias=\"isced\">\n",
      "  <ColumnDefs>\n",
      "    <ColumnDef name=\"id\" type=\"Numeric\" />\n",
      "    <ColumnDef name=\"description\" type=\"String\" />\n",
      "    <ColumnDef name=\"es_description\" type=\"String\" />\n",
      "  </ColumnDefs>\n",
      "  <Rows>\n",
      "    <Row>\n",
      "      <Value column=\"id\">1</Value>\n",
      "      <Value column=\"description\">Doctorado</Value>\n",
      "      <Value column=\"es_description\">Doctorado</Value>\n",
      "    </Row>\n",
      "  <Row>\n",
      "      <Value column=\"id\">2</Value>\n",
      "      <Value column=\"description\">Educación Preescolar</Value>\n",
      "      <Value column=\"es_description\">Educación Preescolar</Value>\n",
      "    </Row>\n",
      "  <Row>\n",
      "      <Value column=\"id\">3</Value>\n",
      "      <Value column=\"description\">Educación Primaria (nivel 1)</Value>\n",
      "      <Value column=\"es_description\">Educación Primaria (nivel 1)</Value>\n",
      "    </Row>\n",
      "  <Row>\n",
      "      <Value column=\"id\">4</Value>\n",
      "      <Value column=\"description\">Educación Primaria (nivel 2)</Value>\n",
      "      <Value column=\"es_description\">Educación Primaria (nivel 2)</Value>\n",
      "    </Row>\n",
      "  <Row>\n",
      "      <Value column=\"id\">5</Value>\n",
      "      <Value column=\"description\">Educación Secundaria</Value>\n",
      "      <Value column=\"es_description\">Educación Secundaria</Value>\n",
      "    </Row>\n",
      "  <Row>\n",
      "      <Value column=\"id\">6</Value>\n",
      "      <Value column=\"description\">Educación Técnica (Educación Superior no Universitaria)</Value>\n",
      "      <Value column=\"es_description\">Educación Técnica (Educación Superior no Universitaria)</Value>\n",
      "    </Row>\n",
      "  <Row>\n",
      "      <Value column=\"id\">7</Value>\n",
      "      <Value column=\"description\">Educación Universitaria</Value>\n",
      "      <Value column=\"es_description\">Educación Universitaria</Value>\n",
      "    </Row>\n",
      "  <Row>\n",
      "      <Value column=\"id\">8</Value>\n",
      "      <Value column=\"description\">Nivel ignorado</Value>\n",
      "      <Value column=\"es_description\">Nivel ignorado</Value>\n",
      "    </Row>\n",
      "  <Row>\n",
      "      <Value column=\"id\">9</Value>\n",
      "      <Value column=\"description\">Nunca estudió</Value>\n",
      "      <Value column=\"es_description\">Nunca estudió</Value>\n",
      "    </Row>\n",
      "  <Row>\n",
      "      <Value column=\"id\">10</Value>\n",
      "      <Value column=\"description\">Postítulo y Maestría</Value>\n",
      "      <Value column=\"es_description\">Postítulo y Maestría</Value>\n",
      "    </Row>\n",
      "  <Row>\n",
      "      <Value column=\"id\">0</Value>\n",
      "      <Value column=\"description\">No sabe/No responde</Value>\n",
      "      <Value column=\"es_description\">No sabe/No responde</Value>\n",
      "    </Row>\n",
      "  </Rows>\n",
      "</InlineTable>\n",
      "    \n"
     ]
    }
   ],
   "source": [
    "remote_path = 'http://pacha.datawheel.us/ids_oficiales/'\n",
    "d1 = loadFile('cine_isced.csv')\n",
    "print (inline_table_xml(d1, 'isced', 'isced_id', 'isced'))"
   ]
  },
  {
   "cell_type": "code",
   "execution_count": 55,
   "metadata": {},
   "outputs": [
    {
     "name": "stdout",
     "output_type": "stream",
     "text": [
      "\n",
      "<InlineTable alias=\"icse\">\n",
      "  <ColumnDefs>\n",
      "    <ColumnDef name=\"id\" type=\"Numeric\" />\n",
      "    <ColumnDef name=\"description\" type=\"String\" />\n",
      "    <ColumnDef name=\"es_description\" type=\"String\" />\n",
      "  </ColumnDefs>\n",
      "  <Rows>\n",
      "    <Row>\n",
      "      <Value column=\"id\">1</Value>\n",
      "      <Value column=\"description\">Asalariado Sector Privado</Value>\n",
      "      <Value column=\"es_description\">Asalariado Sector Privado</Value>\n",
      "    </Row>\n",
      "  <Row>\n",
      "      <Value column=\"id\">2</Value>\n",
      "      <Value column=\"description\">Asalariado Sector Público</Value>\n",
      "      <Value column=\"es_description\">Asalariado Sector Público</Value>\n",
      "    </Row>\n",
      "  <Row>\n",
      "      <Value column=\"id\">3</Value>\n",
      "      <Value column=\"description\">Cuenta Propia</Value>\n",
      "      <Value column=\"es_description\">Cuenta Propia</Value>\n",
      "    </Row>\n",
      "  <Row>\n",
      "      <Value column=\"id\">4</Value>\n",
      "      <Value column=\"description\">Empleador</Value>\n",
      "      <Value column=\"es_description\">Empleador</Value>\n",
      "    </Row>\n",
      "  <Row>\n",
      "      <Value column=\"id\">5</Value>\n",
      "      <Value column=\"description\">Personal de Servicio Doméstico Puertas Adentro</Value>\n",
      "      <Value column=\"es_description\">Personal de Servicio Doméstico Puertas Adentro</Value>\n",
      "    </Row>\n",
      "  <Row>\n",
      "      <Value column=\"id\">6</Value>\n",
      "      <Value column=\"description\">Personal de Servicio Doméstico Puertas Afuera</Value>\n",
      "      <Value column=\"es_description\">Personal de Servicio Doméstico Puertas Afuera</Value>\n",
      "    </Row>\n",
      "  <Row>\n",
      "      <Value column=\"id\">0</Value>\n",
      "      <Value column=\"description\">No sabe/No responde</Value>\n",
      "      <Value column=\"es_description\">No sabe/No responde</Value>\n",
      "    </Row>\n",
      "  </Rows>\n",
      "</InlineTable>\n",
      "    \n"
     ]
    }
   ],
   "source": [
    "d2 = loadFile('cise_icse.csv')\n",
    "print (inline_table_xml(d2, 'icse', 'icse_id', 'icse'))"
   ]
  },
  {
   "cell_type": "code",
   "execution_count": 56,
   "metadata": {},
   "outputs": [
    {
     "name": "stdout",
     "output_type": "stream",
     "text": [
      "\n",
      "<InlineTable alias=\"isco\">\n",
      "  <ColumnDefs>\n",
      "    <ColumnDef name=\"id\" type=\"Numeric\" />\n",
      "    <ColumnDef name=\"description\" type=\"String\" />\n",
      "    <ColumnDef name=\"es_description\" type=\"String\" />\n",
      "  </ColumnDefs>\n",
      "  <Rows>\n",
      "    <Row>\n",
      "      <Value column=\"id\">1</Value>\n",
      "      <Value column=\"description\">Agricultores y trabajadores calificados agropecuarios y pesqueros</Value>\n",
      "      <Value column=\"es_description\">Agricultores y trabajadores calificados agropecuarios y pesqueros</Value>\n",
      "    </Row>\n",
      "  <Row>\n",
      "      <Value column=\"id\">2</Value>\n",
      "      <Value column=\"description\">Empleados de oficina</Value>\n",
      "      <Value column=\"es_description\">Empleados de oficina</Value>\n",
      "    </Row>\n",
      "  <Row>\n",
      "      <Value column=\"id\">3</Value>\n",
      "      <Value column=\"description\">Funcionarios públicos y personal directivo de la administración pública y empresas</Value>\n",
      "      <Value column=\"es_description\">Funcionarios públicos y personal directivo de la administración pública y empresas</Value>\n",
      "    </Row>\n",
      "  <Row>\n",
      "      <Value column=\"id\">4</Value>\n",
      "      <Value column=\"description\">Oficiales, operarios y artesanos de artes mecánicas y de otros oficios</Value>\n",
      "      <Value column=\"es_description\">Oficiales, operarios y artesanos de artes mecánicas y de otros oficios</Value>\n",
      "    </Row>\n",
      "  <Row>\n",
      "      <Value column=\"id\">5</Value>\n",
      "      <Value column=\"description\">Operadores de instalaciones y máquinas y montadores</Value>\n",
      "      <Value column=\"es_description\">Operadores de instalaciones y máquinas y montadores</Value>\n",
      "    </Row>\n",
      "  <Row>\n",
      "      <Value column=\"id\">6</Value>\n",
      "      <Value column=\"description\">Otros no identificados</Value>\n",
      "      <Value column=\"es_description\">Otros no identificados</Value>\n",
      "    </Row>\n",
      "  <Row>\n",
      "      <Value column=\"id\">7</Value>\n",
      "      <Value column=\"description\">Profesionales científicos e intelectuales</Value>\n",
      "      <Value column=\"es_description\">Profesionales científicos e intelectuales</Value>\n",
      "    </Row>\n",
      "  <Row>\n",
      "      <Value column=\"id\">8</Value>\n",
      "      <Value column=\"description\">Técnicos y profesionales de nivel medio</Value>\n",
      "      <Value column=\"es_description\">Técnicos y profesionales de nivel medio</Value>\n",
      "    </Row>\n",
      "  <Row>\n",
      "      <Value column=\"id\">9</Value>\n",
      "      <Value column=\"description\">Trabajadores de los servicios y vendedores de comercios y mercados</Value>\n",
      "      <Value column=\"es_description\">Trabajadores de los servicios y vendedores de comercios y mercados</Value>\n",
      "    </Row>\n",
      "  <Row>\n",
      "      <Value column=\"id\">10</Value>\n",
      "      <Value column=\"description\">Trabajadores no calificados</Value>\n",
      "      <Value column=\"es_description\">Trabajadores no calificados</Value>\n",
      "    </Row>\n",
      "  <Row>\n",
      "      <Value column=\"id\">0</Value>\n",
      "      <Value column=\"description\">No sabe/No responde</Value>\n",
      "      <Value column=\"es_description\">No sabe/No responde</Value>\n",
      "    </Row>\n",
      "  </Rows>\n",
      "</InlineTable>\n",
      "    \n"
     ]
    }
   ],
   "source": [
    "d3 = loadFile('ciuo_isco.csv')\n",
    "print (inline_table_xml(d3, 'isco', 'isco_id', 'isco'))"
   ]
  },
  {
   "cell_type": "code",
   "execution_count": 57,
   "metadata": {},
   "outputs": [
    {
     "name": "stdout",
     "output_type": "stream",
     "text": [
      "\n",
      "<InlineTable alias=\"age_ranges\">\n",
      "  <ColumnDefs>\n",
      "    <ColumnDef name=\"id\" type=\"Numeric\" />\n",
      "    <ColumnDef name=\"description\" type=\"String\" />\n",
      "    <ColumnDef name=\"es_description\" type=\"String\" />\n",
      "  </ColumnDefs>\n",
      "  <Rows>\n",
      "    <Row>\n",
      "      <Value column=\"id\">1</Value>\n",
      "      <Value column=\"description\">15 a 19</Value>\n",
      "      <Value column=\"es_description\">15 a 19</Value>\n",
      "    </Row>\n",
      "  <Row>\n",
      "      <Value column=\"id\">2</Value>\n",
      "      <Value column=\"description\">20 a 24</Value>\n",
      "      <Value column=\"es_description\">20 a 24</Value>\n",
      "    </Row>\n",
      "  <Row>\n",
      "      <Value column=\"id\">3</Value>\n",
      "      <Value column=\"description\">25 a 29</Value>\n",
      "      <Value column=\"es_description\">25 a 29</Value>\n",
      "    </Row>\n",
      "  <Row>\n",
      "      <Value column=\"id\">4</Value>\n",
      "      <Value column=\"description\">30 a 65</Value>\n",
      "      <Value column=\"es_description\">30 a 65</Value>\n",
      "    </Row>\n",
      "  <Row>\n",
      "      <Value column=\"id\">5</Value>\n",
      "      <Value column=\"description\">65 a maxima edad de encuestados</Value>\n",
      "      <Value column=\"es_description\">65 a maxima edad de encuestados</Value>\n",
      "    </Row>\n",
      "  </Rows>\n",
      "</InlineTable>\n",
      "    \n"
     ]
    }
   ],
   "source": [
    "d4 = loadFile('age_ranges.csv')\n",
    "print (inline_table_xml(d4, 'age_ranges', 'age_range_id', 'age_range'))"
   ]
  },
  {
   "cell_type": "code",
   "execution_count": 16,
   "metadata": {},
   "outputs": [
    {
     "data": {
      "text/html": [
       "<div>\n",
       "<table border=\"1\" class=\"dataframe\">\n",
       "  <thead>\n",
       "    <tr style=\"text-align: right;\">\n",
       "      <th></th>\n",
       "      <th>sex_id</th>\n",
       "      <th>sex</th>\n",
       "    </tr>\n",
       "  </thead>\n",
       "  <tbody>\n",
       "    <tr>\n",
       "      <th>0</th>\n",
       "      <td>0</td>\n",
       "      <td>Hombre</td>\n",
       "    </tr>\n",
       "    <tr>\n",
       "      <th>1</th>\n",
       "      <td>1</td>\n",
       "      <td>Mujer</td>\n",
       "    </tr>\n",
       "  </tbody>\n",
       "</table>\n",
       "</div>"
      ],
      "text/plain": [
       "   sex_id     sex\n",
       "0       0  Hombre\n",
       "1       1   Mujer"
      ]
     },
     "execution_count": 16,
     "metadata": {},
     "output_type": "execute_result"
    }
   ],
   "source": [
    "d5 = loadFile('sex.csv')\n",
    "d5"
   ]
  },
  {
   "cell_type": "code",
   "execution_count": 58,
   "metadata": {},
   "outputs": [
    {
     "name": "stdout",
     "output_type": "stream",
     "text": [
      "\n",
      "<InlineTable alias=\"occupational_situation\">\n",
      "  <ColumnDefs>\n",
      "    <ColumnDef name=\"id\" type=\"Numeric\" />\n",
      "    <ColumnDef name=\"description\" type=\"String\" />\n",
      "    <ColumnDef name=\"es_description\" type=\"String\" />\n",
      "  </ColumnDefs>\n",
      "  <Rows>\n",
      "    <Row>\n",
      "      <Value column=\"id\">1</Value>\n",
      "      <Value column=\"description\">Ocupado</Value>\n",
      "      <Value column=\"es_description\">Ocupado</Value>\n",
      "    </Row>\n",
      "  <Row>\n",
      "      <Value column=\"id\">2</Value>\n",
      "      <Value column=\"description\">Desocupado</Value>\n",
      "      <Value column=\"es_description\">Desocupado</Value>\n",
      "    </Row>\n",
      "  <Row>\n",
      "      <Value column=\"id\">3</Value>\n",
      "      <Value column=\"description\">Inactivo</Value>\n",
      "      <Value column=\"es_description\">Inactivo</Value>\n",
      "    </Row>\n",
      "  </Rows>\n",
      "</InlineTable>\n",
      "    \n"
     ]
    }
   ],
   "source": [
    "d6 = loadFile('occupational_situation.csv')\n",
    "print (inline_table_xml(d6, 'occupational_situation', 'occupied_id', 'occupied'))"
   ]
  },
  {
   "cell_type": "code",
   "execution_count": 59,
   "metadata": {},
   "outputs": [
    {
     "name": "stdout",
     "output_type": "stream",
     "text": [
      "\n",
      "<InlineTable alias=\"general_economic_condition\">\n",
      "  <ColumnDefs>\n",
      "    <ColumnDef name=\"id\" type=\"Numeric\" />\n",
      "    <ColumnDef name=\"description\" type=\"String\" />\n",
      "    <ColumnDef name=\"es_description\" type=\"String\" />\n",
      "  </ColumnDefs>\n",
      "  <Rows>\n",
      "    <Row>\n",
      "      <Value column=\"id\">0</Value>\n",
      "      <Value column=\"description\">Menor de 15 años</Value>\n",
      "      <Value column=\"es_description\">Menor de 15 años</Value>\n",
      "    </Row>\n",
      "  <Row>\n",
      "      <Value column=\"id\">1</Value>\n",
      "      <Value column=\"description\">Ocupado tradicional</Value>\n",
      "      <Value column=\"es_description\">Ocupado tradicional</Value>\n",
      "    </Row>\n",
      "  <Row>\n",
      "      <Value column=\"id\">2</Value>\n",
      "      <Value column=\"description\">Ocupado notradicional</Value>\n",
      "      <Value column=\"es_description\">Ocupado notradicional</Value>\n",
      "    </Row>\n",
      "  <Row>\n",
      "      <Value column=\"id\">3</Value>\n",
      "      <Value column=\"description\">Ocupado ausente</Value>\n",
      "      <Value column=\"es_description\">Ocupado ausente</Value>\n",
      "    </Row>\n",
      "  <Row>\n",
      "      <Value column=\"id\">4</Value>\n",
      "      <Value column=\"description\">Cesante</Value>\n",
      "      <Value column=\"es_description\">Cesante</Value>\n",
      "    </Row>\n",
      "  <Row>\n",
      "      <Value column=\"id\">5</Value>\n",
      "      <Value column=\"description\">Busca trabajo por primera vez</Value>\n",
      "      <Value column=\"es_description\">Busca trabajo por primera vez</Value>\n",
      "    </Row>\n",
      "  <Row>\n",
      "      <Value column=\"id\">6</Value>\n",
      "      <Value column=\"description\">Iniciador</Value>\n",
      "      <Value column=\"es_description\">Iniciador</Value>\n",
      "    </Row>\n",
      "  <Row>\n",
      "      <Value column=\"id\">7</Value>\n",
      "      <Value column=\"description\">Inactivos que buscaron trabajo</Value>\n",
      "      <Value column=\"es_description\">Inactivos que buscaron trabajo</Value>\n",
      "    </Row>\n",
      "  <Row>\n",
      "      <Value column=\"id\">8</Value>\n",
      "      <Value column=\"description\">Inactivos que estuvieron disponibles para trabajar</Value>\n",
      "      <Value column=\"es_description\">Inactivos que estuvieron disponibles para trabajar</Value>\n",
      "    </Row>\n",
      "  <Row>\n",
      "      <Value column=\"id\">9</Value>\n",
      "      <Value column=\"description\">Inactivos que no buscaron trabajo ni estuvieron disponibles</Value>\n",
      "      <Value column=\"es_description\">Inactivos que no buscaron trabajo ni estuvieron disponibles</Value>\n",
      "    </Row>\n",
      "  </Rows>\n",
      "</InlineTable>\n",
      "    \n"
     ]
    }
   ],
   "source": [
    "d7 = loadFile('general_economic_condition.csv')\n",
    "print (inline_table_xml(d7, 'general_economic_condition', 'general_economic_condition_id', 'general_economic_condition'))"
   ]
  }
 ],
 "metadata": {
  "kernelspec": {
   "display_name": "Python 3",
   "language": "python",
   "name": "python3"
  },
  "language_info": {
   "codemirror_mode": {
    "name": "ipython",
    "version": 3
   },
   "file_extension": ".py",
   "mimetype": "text/x-python",
   "name": "python",
   "nbconvert_exporter": "python",
   "pygments_lexer": "ipython3",
   "version": "3.5.2"
  }
 },
 "nbformat": 4,
 "nbformat_minor": 2
}
