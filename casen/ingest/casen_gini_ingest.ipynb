{
 "cells": [
  {
   "cell_type": "markdown",
   "metadata": {},
   "source": [
    "# Import & Load CASEN gini data"
   ]
  },
  {
   "cell_type": "markdown",
   "metadata": {},
   "source": [
    "### Config"
   ]
  },
  {
   "cell_type": "code",
   "execution_count": 1,
   "metadata": {
    "collapsed": false
   },
   "outputs": [],
   "source": [
    "import sys\n",
    "import configparser\n",
    "config = configparser.ConfigParser()\n",
    "config.read_file(open('../../settings.ini'))\n",
    "\n",
    "sys.path.insert(0, config.get('PATHS','libs_path'))\n",
    "engine_path = config.get('DATABASE','engine_path')"
   ]
  },
  {
   "cell_type": "code",
   "execution_count": 2,
   "metadata": {
    "collapsed": true
   },
   "outputs": [],
   "source": [
    "remote_path = 'http://pacha.datawheel.us/economia/casen/analysis/2_household_income/5_final_tables/'\n",
    "local_path = '../data/'"
   ]
  },
  {
   "cell_type": "code",
   "execution_count": 3,
   "metadata": {
    "collapsed": false
   },
   "outputs": [],
   "source": [
    "import postgres #from local file postgres.py\n",
    "from commons import inline_table_xml, download_file, download_zip_file, extract_zip_file #from local file commons.py\n",
    "\n",
    "import json\n",
    "import pandas as pd\n",
    "from sqlalchemy import create_engine"
   ]
  },
  {
   "cell_type": "markdown",
   "metadata": {},
   "source": [
    "### Country data"
   ]
  },
  {
   "cell_type": "code",
   "execution_count": 4,
   "metadata": {
    "collapsed": false
   },
   "outputs": [
    {
     "name": "stdout",
     "output_type": "stream",
     "text": [
      "Already downloaded. Using: ../data/country_data_all.csv\n",
      "Encoding: ascii\n"
     ]
    },
    {
     "data": {
      "text/plain": [
       "['year',\n",
       " 'geography_unit',\n",
       " 'geography_id',\n",
       " 'weighted_mean_income',\n",
       " 'weighted_median_income',\n",
       " 'weighted_gini_income',\n",
       " 'lb_weighted_mean_income',\n",
       " 'ub_weighted_mean_income',\n",
       " 'lb_weighted_median_income',\n",
       " 'ub_weighted_median_income',\n",
       " 'lb_weighted_gini_income',\n",
       " 'ub_weighted_gini_income']"
      ]
     },
     "execution_count": 4,
     "metadata": {},
     "output_type": "execute_result"
    }
   ],
   "source": [
    "df1 = download_file(remote_path,local_path,'country_data_all.csv')\n",
    "list(df1)"
   ]
  },
  {
   "cell_type": "code",
   "execution_count": 5,
   "metadata": {
    "collapsed": false
   },
   "outputs": [],
   "source": [
    "df1 = df1.astype({'year':'int','geography_id':'int','weighted_mean_income':'int','weighted_median_income':'int','lb_weighted_mean_income':'int','ub_weighted_mean_income':'int','lb_weighted_median_income':'int','ub_weighted_median_income':'int'})\n",
    "\n",
    "engine = create_engine(engine_path)\n",
    "df1.to_sql('fact_income_gini_country_casen', engine, schema='economy', if_exists='replace', index=False)"
   ]
  },
  {
   "cell_type": "code",
   "execution_count": 6,
   "metadata": {
    "collapsed": false
   },
   "outputs": [
    {
     "data": {
      "text/plain": [
       "<sqlalchemy.engine.result.ResultProxy at 0x110c57828>"
      ]
     },
     "execution_count": 6,
     "metadata": {},
     "output_type": "execute_result"
    }
   ],
   "source": [
    "engine.execute(\"\"\"\n",
    "ALTER TABLE economy.fact_income_gini_country_casen\n",
    "  ADD COLUMN date_id INTEGER; \n",
    "\"\"\")\n",
    "\n",
    "engine.execute(\"\"\"\n",
    "UPDATE economy.fact_income_gini_country_casen\n",
    "SET date_id = dim_date.id\n",
    "FROM public.dim_date\n",
    "WHERE dim_date.the_year = economy.fact_income_gini_country_casen.year\n",
    "      AND dim_date.month_of_year = 1\n",
    "      AND dim_date.day_of_month = 1\n",
    "\"\"\")\n"
   ]
  },
  {
   "cell_type": "markdown",
   "metadata": {},
   "source": [
    "## Region data"
   ]
  },
  {
   "cell_type": "code",
   "execution_count": 7,
   "metadata": {
    "collapsed": false
   },
   "outputs": [
    {
     "name": "stdout",
     "output_type": "stream",
     "text": [
      "Already downloaded. Using: ../data/region_data_all.csv\n",
      "Encoding: ascii\n"
     ]
    },
    {
     "data": {
      "text/plain": [
       "['year',\n",
       " 'geography_unit',\n",
       " 'geography_id',\n",
       " 'weighted_mean_income',\n",
       " 'weighted_median_income',\n",
       " 'weighted_gini_income',\n",
       " 'lb_weighted_mean_income',\n",
       " 'ub_weighted_mean_income',\n",
       " 'lb_weighted_median_income',\n",
       " 'ub_weighted_median_income',\n",
       " 'lb_weighted_gini_income',\n",
       " 'ub_weighted_gini_income']"
      ]
     },
     "execution_count": 7,
     "metadata": {},
     "output_type": "execute_result"
    }
   ],
   "source": [
    "df2 = download_file(remote_path,local_path,'region_data_all.csv')\n",
    "list(df2)"
   ]
  },
  {
   "cell_type": "code",
   "execution_count": 8,
   "metadata": {
    "collapsed": false
   },
   "outputs": [],
   "source": [
    "df2 = df2.astype({'year':'int','geography_id':'int','weighted_mean_income':'int','weighted_median_income':'int','lb_weighted_mean_income':'int','ub_weighted_mean_income':'int','lb_weighted_median_income':'int','ub_weighted_median_income':'int'})\n",
    "\n",
    "engine = create_engine(engine_path)\n",
    "df2.to_sql('fact_income_gini_region_casen', engine, schema='economy', if_exists='replace', index=False)"
   ]
  },
  {
   "cell_type": "code",
   "execution_count": 9,
   "metadata": {
    "collapsed": false
   },
   "outputs": [
    {
     "data": {
      "text/plain": [
       "<sqlalchemy.engine.result.ResultProxy at 0x110c57a90>"
      ]
     },
     "execution_count": 9,
     "metadata": {},
     "output_type": "execute_result"
    }
   ],
   "source": [
    "engine.execute(\"\"\"\n",
    "ALTER TABLE economy.fact_income_gini_region_casen\n",
    "  ADD COLUMN date_id INTEGER; \n",
    "\"\"\")\n",
    "\n",
    "engine.execute(\"\"\"\n",
    "UPDATE economy.fact_income_gini_region_casen\n",
    "SET date_id = dim_date.id\n",
    "FROM public.dim_date\n",
    "WHERE dim_date.the_year = economy.fact_income_gini_region_casen.year\n",
    "      AND dim_date.month_of_year = 1\n",
    "      AND dim_date.day_of_month = 1\n",
    "\"\"\")\n",
    "\n",
    "engine.execute(\"\"\"\n",
    "CREATE INDEX fact_income_gini_region_casen_ix \n",
    "ON economy.fact_income_gini_region_casen (geography_id)\n",
    "\"\"\")"
   ]
  },
  {
   "cell_type": "markdown",
   "metadata": {},
   "source": [
    "### Comuna data"
   ]
  },
  {
   "cell_type": "code",
   "execution_count": 10,
   "metadata": {
    "collapsed": false
   },
   "outputs": [
    {
     "name": "stdout",
     "output_type": "stream",
     "text": [
      "Already downloaded. Using: ../data/comuna_data_all.csv\n",
      "Encoding: ascii\n"
     ]
    },
    {
     "data": {
      "text/plain": [
       "['year',\n",
       " 'geography_unit',\n",
       " 'geography_id',\n",
       " 'weighted_mean_income',\n",
       " 'weighted_median_income',\n",
       " 'weighted_gini_income',\n",
       " 'lb_weighted_mean_income',\n",
       " 'ub_weighted_mean_income',\n",
       " 'lb_weighted_median_income',\n",
       " 'ub_weighted_median_income',\n",
       " 'lb_weighted_gini_income',\n",
       " 'ub_weighted_gini_income']"
      ]
     },
     "execution_count": 10,
     "metadata": {},
     "output_type": "execute_result"
    }
   ],
   "source": [
    "df3 = download_file(remote_path,local_path,'comuna_data_all.csv')\n",
    "list(df3)"
   ]
  },
  {
   "cell_type": "code",
   "execution_count": 11,
   "metadata": {
    "collapsed": false
   },
   "outputs": [],
   "source": [
    "df3 = df3.astype({'year':'int','geography_id':'int','weighted_mean_income':'int','weighted_median_income':'int','lb_weighted_mean_income':'int','ub_weighted_mean_income':'int','lb_weighted_median_income':'int','ub_weighted_median_income':'int'})\n",
    "\n",
    "engine = create_engine(engine_path)\n",
    "df3.to_sql('fact_income_gini_comuna_casen', engine, schema='economy', if_exists='replace', index=False)"
   ]
  },
  {
   "cell_type": "code",
   "execution_count": 12,
   "metadata": {
    "collapsed": false
   },
   "outputs": [
    {
     "data": {
      "text/plain": [
       "<sqlalchemy.engine.result.ResultProxy at 0x110c57898>"
      ]
     },
     "execution_count": 12,
     "metadata": {},
     "output_type": "execute_result"
    }
   ],
   "source": [
    "engine.execute(\"\"\"\n",
    "ALTER TABLE economy.fact_income_gini_comuna_casen\n",
    "  ADD COLUMN date_id INTEGER; \n",
    "\"\"\")\n",
    "\n",
    "engine.execute(\"\"\"\n",
    "UPDATE economy.fact_income_gini_comuna_casen\n",
    "SET date_id = dim_date.id\n",
    "FROM public.dim_date\n",
    "WHERE dim_date.the_year = economy.fact_income_gini_comuna_casen.year\n",
    "      AND dim_date.month_of_year = 1\n",
    "      AND dim_date.day_of_month = 1\n",
    "\"\"\")\n",
    "\n",
    "engine.execute(\"\"\"\n",
    "CREATE INDEX fact_income_gini_comuna_casen_ix \n",
    "ON economy.fact_income_gini_comuna_casen (geography_id)\n",
    "\"\"\")"
   ]
  }
 ],
 "metadata": {
  "kernelspec": {
   "display_name": "Python 3",
   "language": "python",
   "name": "python3"
  },
  "language_info": {
   "codemirror_mode": {
    "name": "ipython",
    "version": 3
   },
   "file_extension": ".py",
   "mimetype": "text/x-python",
   "name": "python",
   "nbconvert_exporter": "python",
   "pygments_lexer": "ipython3",
   "version": "3.6.0"
  }
 },
 "nbformat": 4,
 "nbformat_minor": 2
}
