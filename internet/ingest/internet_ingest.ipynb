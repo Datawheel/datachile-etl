{
 "cells": [
  {
   "cell_type": "markdown",
   "metadata": {},
   "source": [
    "# Import & Load Internet access Survey"
   ]
  },
  {
   "cell_type": "markdown",
   "metadata": {},
   "source": [
    "### Config"
   ]
  },
  {
   "cell_type": "code",
   "execution_count": 16,
   "metadata": {
    "collapsed": false
   },
   "outputs": [],
   "source": [
    "import sys\n",
    "import configparser\n",
    "config = configparser.ConfigParser()\n",
    "config.read_file(open('../../settings.ini'))\n",
    "\n",
    "sys.path.insert(0, config.get('PATHS','libs_path'))\n",
    "engine_path = config.get('DATABASE','engine_path')"
   ]
  },
  {
   "cell_type": "markdown",
   "metadata": {},
   "source": [
    "### Main params"
   ]
  },
  {
   "cell_type": "code",
   "execution_count": 17,
   "metadata": {
    "collapsed": false
   },
   "outputs": [],
   "source": [
    "remote_path = 'http://pacha.datawheel.us/telecomunicaciones/encuesta_internet/'\n",
    "local_path = '../data/'"
   ]
  },
  {
   "cell_type": "markdown",
   "metadata": {},
   "source": [
    "### Imports"
   ]
  },
  {
   "cell_type": "code",
   "execution_count": 18,
   "metadata": {
    "collapsed": true
   },
   "outputs": [],
   "source": [
    "import postgres #from local file postgres.py\n",
    "from commons import inline_table_xml, download_file #from local file commons.py\n",
    "\n",
    "import json\n",
    "import pandas as pd\n",
    "from sqlalchemy import create_engine"
   ]
  },
  {
   "cell_type": "markdown",
   "metadata": {},
   "source": [
    "### Load file"
   ]
  },
  {
   "cell_type": "code",
   "execution_count": 21,
   "metadata": {
    "collapsed": false
   },
   "outputs": [
    {
     "data": {
      "text/plain": [
       "['year',\n",
       " 'zone_id',\n",
       " 'region_id',\n",
       " 'home_access_id',\n",
       " 'internet_plan_id',\n",
       " 'desktop_access_id',\n",
       " 'laptop_access_id',\n",
       " 'tablet_access_id',\n",
       " 'cellphone_access_id',\n",
       " 'games_consoles_access_id',\n",
       " 'tv_access_id',\n",
       " 'weights']"
      ]
     },
     "execution_count": 21,
     "metadata": {},
     "output_type": "execute_result"
    }
   ],
   "source": [
    "df = download_file(remote_path,local_path,'seventh_internet_access_survey_processed.csv')\n",
    "df = df.rename(columns={'zona':'zone_id','region':'region_id','household_weights':'weights'});\n",
    "df = df.astype({'year':'int','zone_id':'int','region_id':'int','home_access_id':'int','internet_plan_id':'int','desktop_access_id':'int','laptop_access_id':'int','tablet_access_id':'int','cellphone_access_id':'int','games_consoles_access_id':'int','tv_access_id':'int'})\n",
    "list(df)"
   ]
  },
  {
   "cell_type": "markdown",
   "metadata": {},
   "source": [
    "### Ingest"
   ]
  },
  {
   "cell_type": "code",
   "execution_count": 24,
   "metadata": {
    "collapsed": false
   },
   "outputs": [
    {
     "name": "stdout",
     "output_type": "stream",
     "text": [
      "CREATE SCHEMA IF NOT EXISTS environment;\n",
      "DROP TABLE IF EXISTS environment.fact_internet_access_survey;\n",
      "CREATE TABLE \"environment\".\"fact_internet_access_survey\" (\n",
      "\"year\" INTEGER,\n",
      "  \"zone_id\" INTEGER,\n",
      "  \"region_id\" INTEGER,\n",
      "  \"home_access_id\" INTEGER,\n",
      "  \"internet_plan_id\" INTEGER,\n",
      "  \"desktop_access_id\" INTEGER,\n",
      "  \"laptop_access_id\" INTEGER,\n",
      "  \"tablet_access_id\" INTEGER,\n",
      "  \"cellphone_access_id\" INTEGER,\n",
      "  \"games_consoles_access_id\" INTEGER,\n",
      "  \"tv_access_id\" INTEGER,\n",
      "  \"weights\" REAL\n",
      ")\n",
      "COPY \"environment\".\"fact_internet_access_survey\" (\"year\",\"zone_id\",\"region_id\",\"home_access_id\",\"internet_plan_id\",\"desktop_access_id\",\"laptop_access_id\",\"tablet_access_id\",\"cellphone_access_id\",\"games_consoles_access_id\",\"tv_access_id\",\"weights\") FROM STDIN WITH CSV HEADER DELIMITER ',';\n"
     ]
    }
   ],
   "source": [
    "engine = create_engine(engine_path)\n",
    "db = postgres.PostgresDriver(engine)\n",
    "db.to_sql(df, 'environment', 'fact_internet_access_survey')"
   ]
  },
  {
   "cell_type": "markdown",
   "metadata": {},
   "source": [
    "### Indexes & FK"
   ]
  },
  {
   "cell_type": "code",
   "execution_count": 25,
   "metadata": {
    "collapsed": false
   },
   "outputs": [
    {
     "data": {
      "text/plain": [
       "<sqlalchemy.engine.result.ResultProxy at 0x1106a9c50>"
      ]
     },
     "execution_count": 25,
     "metadata": {},
     "output_type": "execute_result"
    }
   ],
   "source": [
    "engine.execute(\"\"\"\n",
    "CREATE INDEX fact_internet_access_survey_region_id \n",
    "ON environment.fact_internet_access_survey (region_id)\n",
    "\"\"\")\n",
    "\n",
    "engine.execute(\"\"\"\n",
    "ALTER TABLE environment.fact_internet_access_survey\n",
    "  ADD COLUMN date_id INTEGER; \n",
    "\"\"\")\n",
    "\n",
    "engine.execute(\"\"\"\n",
    "UPDATE environment.fact_internet_access_survey\n",
    "SET date_id = dim_date.id\n",
    "FROM public.dim_date\n",
    "WHERE dim_date.the_year = environment.fact_internet_access_survey.year\n",
    "      AND dim_date.month_of_year = 1\n",
    "      AND dim_date.day_of_month = 1\n",
    "\"\"\")"
   ]
  },
  {
   "cell_type": "markdown",
   "metadata": {},
   "source": [
    "### Related dim zone"
   ]
  },
  {
   "cell_type": "code",
   "execution_count": 7,
   "metadata": {
    "collapsed": false
   },
   "outputs": [
    {
     "name": "stdout",
     "output_type": "stream",
     "text": [
      "\n",
      "<InlineTable alias=\"zone\">\n",
      "  <ColumnDefs>\n",
      "    <ColumnDef name=\"id\" type=\"Numeric\" />\n",
      "    <ColumnDef name=\"description\" type=\"String\" />\n",
      "    <ColumnDef name=\"es_description\" type=\"String\" />\n",
      "  </ColumnDefs>\n",
      "  <Rows>\n",
      "    <Row>\n",
      "      <Value column=\"id\">0</Value>\n",
      "      <Value column=\"description\">nan</Value>\n",
      "      <Value column=\"es_description\">nan</Value>\n",
      "    </Row>\n",
      "  <Row>\n",
      "      <Value column=\"id\">1</Value>\n",
      "      <Value column=\"description\">URBANO</Value>\n",
      "      <Value column=\"es_description\">URBANO</Value>\n",
      "    </Row>\n",
      "  <Row>\n",
      "      <Value column=\"id\">2</Value>\n",
      "      <Value column=\"description\">RURAL</Value>\n",
      "      <Value column=\"es_description\">RURAL</Value>\n",
      "    </Row>\n",
      "  </Rows>\n",
      "</InlineTable>\n",
      "    \n"
     ]
    }
   ],
   "source": [
    "d0 = download_file(remote_path,local_path,'zona_id.csv')\n",
    "d0 = d0.rename(columns={'zona_id':'zone_id','zona':'zone'});\n",
    "print (inline_table_xml(d0, 'zone', 'zone_id', 'zone'))"
   ]
  },
  {
   "cell_type": "markdown",
   "metadata": {},
   "source": [
    "### About *_access_id cols"
   ]
  },
  {
   "cell_type": "markdown",
   "metadata": {},
   "source": [
    "List:\n",
    "* home_access_id\n",
    "* internet_plan_id\n",
    "* desktop_access_id\n",
    "* laptop_access_id\n",
    "* tablet_access_id\n",
    "* cellphone_access_id\n",
    "* games_consoles_access_id\n",
    "* tv_access_id"
   ]
  },
  {
   "cell_type": "markdown",
   "metadata": {},
   "source": [
    "Every *_access_id column has the same options available, consider to create just one dimension in the mapping xml: access."
   ]
  },
  {
   "cell_type": "markdown",
   "metadata": {},
   "source": [
    "```xml\n",
    "<InlineTable alias=\"access\">\n",
    "  <ColumnDefs>\n",
    "    <ColumnDef name=\"id\" type=\"Numeric\" />\n",
    "    <ColumnDef name=\"description\" type=\"String\" />\n",
    "    <ColumnDef name=\"es_description\" type=\"String\" />\n",
    "  </ColumnDefs>\n",
    "  <Rows>\n",
    "    <Row>\n",
    "      <Value column=\"id\">0</Value>\n",
    "      <Value column=\"description\">nan</Value>\n",
    "      <Value column=\"es_description\">nan</Value>\n",
    "    </Row>\n",
    "  <Row>\n",
    "      <Value column=\"id\">1</Value>\n",
    "      <Value column=\"description\">NO</Value>\n",
    "      <Value column=\"es_description\">NO</Value>\n",
    "    </Row>\n",
    "  <Row>\n",
    "      <Value column=\"id\">2</Value>\n",
    "      <Value column=\"description\">YES</Value>\n",
    "      <Value column=\"es_description\">SI</Value>\n",
    "    </Row>\n",
    "  </Rows>\n",
    "</InlineTable>\n",
    "```"
   ]
  },
  {
   "cell_type": "code",
   "execution_count": 8,
   "metadata": {
    "collapsed": false
   },
   "outputs": [
    {
     "name": "stdout",
     "output_type": "stream",
     "text": [
      "\n",
      "<InlineTable alias=\"home_access\">\n",
      "  <ColumnDefs>\n",
      "    <ColumnDef name=\"id\" type=\"Numeric\" />\n",
      "    <ColumnDef name=\"description\" type=\"String\" />\n",
      "    <ColumnDef name=\"es_description\" type=\"String\" />\n",
      "  </ColumnDefs>\n",
      "  <Rows>\n",
      "    <Row>\n",
      "      <Value column=\"id\">0</Value>\n",
      "      <Value column=\"description\">nan</Value>\n",
      "      <Value column=\"es_description\">nan</Value>\n",
      "    </Row>\n",
      "  <Row>\n",
      "      <Value column=\"id\">1</Value>\n",
      "      <Value column=\"description\">No</Value>\n",
      "      <Value column=\"es_description\">No</Value>\n",
      "    </Row>\n",
      "  <Row>\n",
      "      <Value column=\"id\">2</Value>\n",
      "      <Value column=\"description\">Yes</Value>\n",
      "      <Value column=\"es_description\">Yes</Value>\n",
      "    </Row>\n",
      "  </Rows>\n",
      "</InlineTable>\n",
      "    \n"
     ]
    }
   ],
   "source": [
    "d1 = download_file(remote_path,local_path,'home_access_id.csv')\n",
    "list(d1)\n",
    "print (inline_table_xml(d1, 'home_access', 'home_access_id', 'home_access'))"
   ]
  },
  {
   "cell_type": "code",
   "execution_count": 9,
   "metadata": {
    "collapsed": false
   },
   "outputs": [
    {
     "name": "stdout",
     "output_type": "stream",
     "text": [
      "\n",
      "<InlineTable alias=\"internet_plan\">\n",
      "  <ColumnDefs>\n",
      "    <ColumnDef name=\"id\" type=\"Numeric\" />\n",
      "    <ColumnDef name=\"description\" type=\"String\" />\n",
      "    <ColumnDef name=\"es_description\" type=\"String\" />\n",
      "  </ColumnDefs>\n",
      "  <Rows>\n",
      "    <Row>\n",
      "      <Value column=\"id\">0</Value>\n",
      "      <Value column=\"description\">nan</Value>\n",
      "      <Value column=\"es_description\">nan</Value>\n",
      "    </Row>\n",
      "  <Row>\n",
      "      <Value column=\"id\">1</Value>\n",
      "      <Value column=\"description\">No</Value>\n",
      "      <Value column=\"es_description\">No</Value>\n",
      "    </Row>\n",
      "  <Row>\n",
      "      <Value column=\"id\">2</Value>\n",
      "      <Value column=\"description\">Yes</Value>\n",
      "      <Value column=\"es_description\">Yes</Value>\n",
      "    </Row>\n",
      "  </Rows>\n",
      "</InlineTable>\n",
      "    \n"
     ]
    }
   ],
   "source": [
    "d2 = download_file(remote_path,local_path,'internet_plan_id.csv')\n",
    "print (inline_table_xml(d2, 'internet_plan', 'internet_plan_id', 'internet_plan'))"
   ]
  },
  {
   "cell_type": "code",
   "execution_count": 10,
   "metadata": {
    "collapsed": false
   },
   "outputs": [
    {
     "name": "stdout",
     "output_type": "stream",
     "text": [
      "\n",
      "<InlineTable alias=\"desktop_access\">\n",
      "  <ColumnDefs>\n",
      "    <ColumnDef name=\"id\" type=\"Numeric\" />\n",
      "    <ColumnDef name=\"description\" type=\"String\" />\n",
      "    <ColumnDef name=\"es_description\" type=\"String\" />\n",
      "  </ColumnDefs>\n",
      "  <Rows>\n",
      "    <Row>\n",
      "      <Value column=\"id\">0</Value>\n",
      "      <Value column=\"description\">nan</Value>\n",
      "      <Value column=\"es_description\">nan</Value>\n",
      "    </Row>\n",
      "  <Row>\n",
      "      <Value column=\"id\">1</Value>\n",
      "      <Value column=\"description\">No</Value>\n",
      "      <Value column=\"es_description\">No</Value>\n",
      "    </Row>\n",
      "  <Row>\n",
      "      <Value column=\"id\">2</Value>\n",
      "      <Value column=\"description\">Yes</Value>\n",
      "      <Value column=\"es_description\">Yes</Value>\n",
      "    </Row>\n",
      "  </Rows>\n",
      "</InlineTable>\n",
      "    \n"
     ]
    }
   ],
   "source": [
    "d3 = download_file(remote_path,local_path,'desktop_access_id.csv')\n",
    "print (inline_table_xml(d3, 'desktop_access', 'desktop_access_id', 'desktop_access'))"
   ]
  },
  {
   "cell_type": "code",
   "execution_count": 11,
   "metadata": {
    "collapsed": false
   },
   "outputs": [
    {
     "name": "stdout",
     "output_type": "stream",
     "text": [
      "\n",
      "<InlineTable alias=\"laptop_access\">\n",
      "  <ColumnDefs>\n",
      "    <ColumnDef name=\"id\" type=\"Numeric\" />\n",
      "    <ColumnDef name=\"description\" type=\"String\" />\n",
      "    <ColumnDef name=\"es_description\" type=\"String\" />\n",
      "  </ColumnDefs>\n",
      "  <Rows>\n",
      "    <Row>\n",
      "      <Value column=\"id\">0</Value>\n",
      "      <Value column=\"description\">nan</Value>\n",
      "      <Value column=\"es_description\">nan</Value>\n",
      "    </Row>\n",
      "  <Row>\n",
      "      <Value column=\"id\">1</Value>\n",
      "      <Value column=\"description\">No</Value>\n",
      "      <Value column=\"es_description\">No</Value>\n",
      "    </Row>\n",
      "  <Row>\n",
      "      <Value column=\"id\">2</Value>\n",
      "      <Value column=\"description\">Yes</Value>\n",
      "      <Value column=\"es_description\">Yes</Value>\n",
      "    </Row>\n",
      "  </Rows>\n",
      "</InlineTable>\n",
      "    \n"
     ]
    }
   ],
   "source": [
    "d4 = download_file(remote_path,local_path,'laptop_access_id.csv')\n",
    "print (inline_table_xml(d4, 'laptop_access', 'laptop_access_id', 'laptop_access'))"
   ]
  },
  {
   "cell_type": "code",
   "execution_count": 12,
   "metadata": {
    "collapsed": false
   },
   "outputs": [
    {
     "name": "stdout",
     "output_type": "stream",
     "text": [
      "\n",
      "<InlineTable alias=\"tablet_access\">\n",
      "  <ColumnDefs>\n",
      "    <ColumnDef name=\"id\" type=\"Numeric\" />\n",
      "    <ColumnDef name=\"description\" type=\"String\" />\n",
      "    <ColumnDef name=\"es_description\" type=\"String\" />\n",
      "  </ColumnDefs>\n",
      "  <Rows>\n",
      "    <Row>\n",
      "      <Value column=\"id\">0</Value>\n",
      "      <Value column=\"description\">nan</Value>\n",
      "      <Value column=\"es_description\">nan</Value>\n",
      "    </Row>\n",
      "  <Row>\n",
      "      <Value column=\"id\">1</Value>\n",
      "      <Value column=\"description\">No</Value>\n",
      "      <Value column=\"es_description\">No</Value>\n",
      "    </Row>\n",
      "  <Row>\n",
      "      <Value column=\"id\">2</Value>\n",
      "      <Value column=\"description\">Yes</Value>\n",
      "      <Value column=\"es_description\">Yes</Value>\n",
      "    </Row>\n",
      "  </Rows>\n",
      "</InlineTable>\n",
      "    \n"
     ]
    }
   ],
   "source": [
    "d5 = download_file(remote_path,local_path,'tablet_access_id.csv')\n",
    "print (inline_table_xml(d5, 'tablet_access', 'tablet_access_id', 'tablet_access'))"
   ]
  },
  {
   "cell_type": "code",
   "execution_count": 13,
   "metadata": {
    "collapsed": false
   },
   "outputs": [
    {
     "name": "stdout",
     "output_type": "stream",
     "text": [
      "\n",
      "<InlineTable alias=\"cellphone_access\">\n",
      "  <ColumnDefs>\n",
      "    <ColumnDef name=\"id\" type=\"Numeric\" />\n",
      "    <ColumnDef name=\"description\" type=\"String\" />\n",
      "    <ColumnDef name=\"es_description\" type=\"String\" />\n",
      "  </ColumnDefs>\n",
      "  <Rows>\n",
      "    <Row>\n",
      "      <Value column=\"id\">0</Value>\n",
      "      <Value column=\"description\">nan</Value>\n",
      "      <Value column=\"es_description\">nan</Value>\n",
      "    </Row>\n",
      "  <Row>\n",
      "      <Value column=\"id\">1</Value>\n",
      "      <Value column=\"description\">No</Value>\n",
      "      <Value column=\"es_description\">No</Value>\n",
      "    </Row>\n",
      "  <Row>\n",
      "      <Value column=\"id\">2</Value>\n",
      "      <Value column=\"description\">Yes</Value>\n",
      "      <Value column=\"es_description\">Yes</Value>\n",
      "    </Row>\n",
      "  </Rows>\n",
      "</InlineTable>\n",
      "    \n"
     ]
    }
   ],
   "source": [
    "d6 = download_file(remote_path,local_path,'cellphone_access_id.csv')\n",
    "print (inline_table_xml(d6, 'cellphone_access', 'cellphone_access_id', 'cellphone_access'))"
   ]
  },
  {
   "cell_type": "code",
   "execution_count": 14,
   "metadata": {
    "collapsed": false
   },
   "outputs": [
    {
     "name": "stdout",
     "output_type": "stream",
     "text": [
      "\n",
      "<InlineTable alias=\"games_consoles_access\">\n",
      "  <ColumnDefs>\n",
      "    <ColumnDef name=\"id\" type=\"Numeric\" />\n",
      "    <ColumnDef name=\"description\" type=\"String\" />\n",
      "    <ColumnDef name=\"es_description\" type=\"String\" />\n",
      "  </ColumnDefs>\n",
      "  <Rows>\n",
      "    <Row>\n",
      "      <Value column=\"id\">0</Value>\n",
      "      <Value column=\"description\">nan</Value>\n",
      "      <Value column=\"es_description\">nan</Value>\n",
      "    </Row>\n",
      "  <Row>\n",
      "      <Value column=\"id\">1</Value>\n",
      "      <Value column=\"description\">No</Value>\n",
      "      <Value column=\"es_description\">No</Value>\n",
      "    </Row>\n",
      "  <Row>\n",
      "      <Value column=\"id\">2</Value>\n",
      "      <Value column=\"description\">Yes</Value>\n",
      "      <Value column=\"es_description\">Yes</Value>\n",
      "    </Row>\n",
      "  </Rows>\n",
      "</InlineTable>\n",
      "    \n"
     ]
    }
   ],
   "source": [
    "d7 = download_file(remote_path,local_path,'games_consoles_access_id.csv')\n",
    "print (inline_table_xml(d7, 'games_consoles_access', 'games_consoles_access_id', 'games_consoles_access'))"
   ]
  },
  {
   "cell_type": "code",
   "execution_count": 15,
   "metadata": {
    "collapsed": false
   },
   "outputs": [
    {
     "name": "stdout",
     "output_type": "stream",
     "text": [
      "\n",
      "<InlineTable alias=\"tv_access\">\n",
      "  <ColumnDefs>\n",
      "    <ColumnDef name=\"id\" type=\"Numeric\" />\n",
      "    <ColumnDef name=\"description\" type=\"String\" />\n",
      "    <ColumnDef name=\"es_description\" type=\"String\" />\n",
      "  </ColumnDefs>\n",
      "  <Rows>\n",
      "    <Row>\n",
      "      <Value column=\"id\">0</Value>\n",
      "      <Value column=\"description\">nan</Value>\n",
      "      <Value column=\"es_description\">nan</Value>\n",
      "    </Row>\n",
      "  <Row>\n",
      "      <Value column=\"id\">1</Value>\n",
      "      <Value column=\"description\">No</Value>\n",
      "      <Value column=\"es_description\">No</Value>\n",
      "    </Row>\n",
      "  <Row>\n",
      "      <Value column=\"id\">2</Value>\n",
      "      <Value column=\"description\">Yes</Value>\n",
      "      <Value column=\"es_description\">Yes</Value>\n",
      "    </Row>\n",
      "  </Rows>\n",
      "</InlineTable>\n",
      "    \n"
     ]
    }
   ],
   "source": [
    "d8 = download_file(remote_path,local_path,'tv_access_id.csv')\n",
    "print (inline_table_xml(d8, 'tv_access', 'tv_access_id', 'tv_access'))"
   ]
  }
 ],
 "metadata": {
  "kernelspec": {
   "display_name": "Python 3",
   "language": "python",
   "name": "python3"
  },
  "language_info": {
   "codemirror_mode": {
    "name": "ipython",
    "version": 3
   },
   "file_extension": ".py",
   "mimetype": "text/x-python",
   "name": "python",
   "nbconvert_exporter": "python",
   "pygments_lexer": "ipython3",
   "version": "3.6.0"
  }
 },
 "nbformat": 4,
 "nbformat_minor": 2
}
