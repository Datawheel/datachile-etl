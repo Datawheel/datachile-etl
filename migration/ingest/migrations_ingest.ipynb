{
 "cells": [
  {
   "cell_type": "markdown",
   "metadata": {},
   "source": [
    "# Import & Load Inmigration data"
   ]
  },
  {
   "cell_type": "markdown",
   "metadata": {},
   "source": [
    "### Main params"
   ]
  },
  {
   "cell_type": "code",
   "execution_count": 9,
   "metadata": {
    "collapsed": true
   },
   "outputs": [],
   "source": [
    "remote_url = 'http://pacha.datawheel.us/inmigracion/visas/3_archivo_limpio/visas.zip'\n",
    "local_path = '../data'\n",
    "local_file = local_path+'/temp.zip'\n",
    "data_file = local_path+'/visas.csv'\n",
    "\n",
    "engine_path = 'postgresql://localhost:5432/datachile'"
   ]
  },
  {
   "cell_type": "markdown",
   "metadata": {},
   "source": [
    "### Download & unzip file"
   ]
  },
  {
   "cell_type": "code",
   "execution_count": 2,
   "metadata": {
    "collapsed": false
   },
   "outputs": [],
   "source": [
    "from urllib import request\n",
    "import zipfile\n",
    "import shutil\n",
    "\n",
    "with request.urlopen(remote_url) as remote_zip,open(local_file, 'wb') as local_zip:\n",
    "    shutil.copyfileobj(remote_zip, local_zip)\n",
    "    zip_ref = zipfile.ZipFile(local_file, 'r')\n",
    "    zip_ref.extractall(local_path)\n",
    "    zip_ref.close()\n"
   ]
  },
  {
   "cell_type": "markdown",
   "metadata": {},
   "source": [
    "### Load file & database connect"
   ]
  },
  {
   "cell_type": "code",
   "execution_count": 76,
   "metadata": {
    "collapsed": false
   },
   "outputs": [],
   "source": [
    "import json\n",
    "import pandas as pd\n",
    "from sqlalchemy import create_engine\n",
    "\n",
    "engine = create_engine(engine_path)\n",
    "df = pd.read_csv(data_file,delimiter=\",\")\n"
   ]
  },
  {
   "cell_type": "markdown",
   "metadata": {},
   "source": [
    "### Relation tables"
   ]
  },
  {
   "cell_type": "code",
   "execution_count": 73,
   "metadata": {
    "collapsed": false
   },
   "outputs": [
    {
     "name": "stdout",
     "output_type": "stream",
     "text": [
      "   sexo_id       sexo\n",
      "2      0.0  Masculino\n",
      "0      1.0   Femenino\n"
     ]
    }
   ],
   "source": [
    "sexo_table = df.drop_duplicates(subset = ['sexo_id'])\n",
    "print(sexo_table[['sexo_id','sexo']].sort_values('sexo_id'))"
   ]
  },
  {
   "cell_type": "code",
   "execution_count": 55,
   "metadata": {
    "collapsed": false
   },
   "outputs": [
    {
     "name": "stdout",
     "output_type": "stream",
     "text": [
      "       actividad_id                     actividad\n",
      "0                 1                      Empleado\n",
      "3                 2                    Estudiante\n",
      "8                 3                 Dueña de Casa\n",
      "9                 4                      Inactivo\n",
      "10                5            Empleado Doméstico\n",
      "87                6                    No Informa\n",
      "92                7             Otras Actividades\n",
      "150               8                     Religioso\n",
      "182               9  Trabajador por Cuenta Propia\n",
      "345              10                 Sin Actividad\n",
      "481              11            Obrero o Jornalero\n",
      "752              12                      Rentista\n",
      "7773             13                    Tripulante\n",
      "9738             14           Empresario o Patrón\n",
      "12317            15         Jubilado o Pensionado\n"
     ]
    }
   ],
   "source": [
    "actividad_table = df.drop_duplicates(subset = ['actividad_id'])\n",
    "print(actividad_table[['actividad_id','actividad']].sort_values('actividad_id'))"
   ]
  },
  {
   "cell_type": "code",
   "execution_count": 77,
   "metadata": {
    "collapsed": false
   },
   "outputs": [
    {
     "name": "stdout",
     "output_type": "stream",
     "text": [
      "      estudios_id                 estudios\n",
      "0               1               No Informa\n",
      "1               2  Educación Universitaria\n",
      "44              4          Educación Media\n",
      "122             5         Educación Básica\n",
      "437             6        Educación Técnica\n",
      "5514            7     Educación Pre-Básica\n",
      "6087            8                  Ninguno\n"
     ]
    }
   ],
   "source": [
    "df.loc[df['estudios_id'] == 3, 'estudios_id'] = 1\n",
    "df.loc[df['estudios'] == 'No Indica', 'estudios'] = 'No Informa'\n",
    "estudios_table = df.drop_duplicates(subset = ['estudios_id'])\n",
    "print(estudios_table[['estudios_id','estudios']].sort_values('estudios_id'))"
   ]
  },
  {
   "cell_type": "markdown",
   "metadata": {},
   "source": [
    "### Insert to DB"
   ]
  },
  {
   "cell_type": "code",
   "execution_count": null,
   "metadata": {
    "collapsed": false
   },
   "outputs": [],
   "source": [
    "df = df[['anio','sexo_id','nacimiento','edad','actividad_id','estudios_id','comuna_datachile_id','region_id','country_code']]\n",
    "df = df.rename(columns={'anio':'year','sexo_id':'gender_id','nacimiento':'birth_date','edad':'age','actividad_id':'activity','estudios_id':'study_id'})\n",
    "df.to_sql('fact_immigration_records', engine, schema='public', if_exists='replace', index=False)"
   ]
  },
  {
   "cell_type": "markdown",
   "metadata": {
    "collapsed": true
   },
   "source": [
    "### Add date relation"
   ]
  },
  {
   "cell_type": "code",
   "execution_count": 70,
   "metadata": {
    "collapsed": false
   },
   "outputs": [
    {
     "data": {
      "text/plain": [
       "<sqlalchemy.engine.result.ResultProxy at 0x124c5ea20>"
      ]
     },
     "execution_count": 70,
     "metadata": {},
     "output_type": "execute_result"
    }
   ],
   "source": [
    "engine.execute(\"\"\"\n",
    "ALTER TABLE public.fact_immigration_records\n",
    "  ADD COLUMN date_id INTEGER; \n",
    "\"\"\")\n",
    "\n",
    "engine.execute(\"\"\"\n",
    "UPDATE public.fact_immigration_records\n",
    "SET date_id = dim_date.id\n",
    "FROM dim_date\n",
    "WHERE dim_date.the_year = public.fact_immigration_records.year\n",
    "      AND dim_date.month_of_year = 1\n",
    "      AND dim_date.day_of_month = 1\n",
    "\"\"\")"
   ]
  }
 ],
 "metadata": {
  "kernelspec": {
   "display_name": "Python 3",
   "language": "python",
   "name": "python3"
  },
  "language_info": {
   "codemirror_mode": {
    "name": "ipython",
    "version": 3
   },
   "file_extension": ".py",
   "mimetype": "text/x-python",
   "name": "python",
   "nbconvert_exporter": "python",
   "pygments_lexer": "ipython3",
   "version": "3.6.0"
  }
 },
 "nbformat": 4,
 "nbformat_minor": 2
}
