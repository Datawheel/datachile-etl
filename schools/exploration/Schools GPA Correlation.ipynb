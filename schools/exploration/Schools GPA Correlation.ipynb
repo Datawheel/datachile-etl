{
 "cells": [
  {
   "cell_type": "markdown",
   "metadata": {},
   "source": [
    "# Exploration of School Data\n",
    "\n",
    "## Import csv into pandas dataframe"
   ]
  },
  {
   "cell_type": "code",
   "execution_count": 61,
   "metadata": {
    "collapsed": false,
    "scrolled": true
   },
   "outputs": [
    {
     "name": "stdout",
     "output_type": "stream",
     "text": [
      "   AGNO  RBD  DGV_RBD                  NOM_RBD  COD_REG_RBD  COD_PRO_RBD  \\\n",
      "0  2015    1        9  LICEO POLITECNICO ARICA           15          151   \n",
      "1  2015    1        9  LICEO POLITECNICO ARICA           15          151   \n",
      "2  2015    1        9  LICEO POLITECNICO ARICA           15          151   \n",
      "3  2015    1        9  LICEO POLITECNICO ARICA           15          151   \n",
      "4  2015    1        9  LICEO POLITECNICO ARICA           15          151   \n",
      "\n",
      "   COD_COM_RBD NOM_COM_RBD  COD_DEPROV_RBD NOM_DEPROV_RBD    ...      \\\n",
      "0        15101       ARICA             151          ARICA    ...       \n",
      "1        15101       ARICA             151          ARICA    ...       \n",
      "2        15101       ARICA             151          ARICA    ...       \n",
      "3        15101       ARICA             151          ARICA    ...       \n",
      "4        15101       ARICA             151          ARICA    ...       \n",
      "\n",
      "   COD_REG_ALU  COD_COM_ALU  NOM_COM_ALU  COD_RAMA  COD_SEC  COD_ESPE  \\\n",
      "0           15        15101        ARICA       400      410     41001   \n",
      "1           15        15101        ARICA       400      410     41001   \n",
      "2           15        15101        ARICA       400      410     41001   \n",
      "3           15        15101        ARICA       400      410     41001   \n",
      "4           15        15101        ARICA       400      410     41001   \n",
      "\n",
      "   PROM_GRAL ASISTENCIA  SIT_FIN  SIT_FIN_R  \n",
      "0        5,3         85        P          P  \n",
      "1        5,2         85        P          P  \n",
      "2          0          0        Y          T  \n",
      "3          0          0        Y          Y  \n",
      "4          0          0        Y          Y  \n",
      "\n",
      "[5 rows x 34 columns]\n"
     ]
    }
   ],
   "source": [
    "import pandas as pd\n",
    "import numpy as np\n",
    "\n",
    "df = pd.read_csv('../raw/schools/rendimiento/20160212_Rendimiento_2015_20160131_PUBL.csv', sep=';')\n",
    "print df.head()"
   ]
  },
  {
   "cell_type": "markdown",
   "metadata": {},
   "source": [
    "## Basic Cleaning\n",
    "Since we're aggregating to the school level we can disregard many of the columns in the raw data.\n",
    "\n",
    "| Column ID        | Description              |\n",
    "|------------------|--------------------------|\n",
    "| MRUN             | Unique ID of student     |\n",
    "| NOM_RBD          | Name of School           |\n",
    "| NOM_COM_RBD      | Name of Comuna of school |\n",
    "| RURAL_RBD        | Rural or urban           |\n",
    "| GEN_ALU          | Gender of student        |\n",
    "| PROM_GRAL        | GPA                      |\n",
    "| ASISTENCIA       | Attendance               |"
   ]
  },
  {
   "cell_type": "code",
   "execution_count": 62,
   "metadata": {
    "collapsed": false
   },
   "outputs": [
    {
     "name": "stdout",
     "output_type": "stream",
     "text": [
      "      MRUN                  NOM_RBD NOM_COM_RBD  RURAL_RBD  GEN_ALU PROM_GRAL  \\\n",
      "0  1073085  LICEO POLITECNICO ARICA       ARICA          0        2       5,3   \n",
      "1  3940367  LICEO POLITECNICO ARICA       ARICA          0        1       5,2   \n",
      "2  5555531  LICEO POLITECNICO ARICA       ARICA          0        1         0   \n",
      "3  7745740  LICEO POLITECNICO ARICA       ARICA          0        2         0   \n",
      "4  8948160  LICEO POLITECNICO ARICA       ARICA          0        2         0   \n",
      "\n",
      "   ASISTENCIA  \n",
      "0          85  \n",
      "1          85  \n",
      "2           0  \n",
      "3           0  \n",
      "4           0  \n"
     ]
    }
   ],
   "source": [
    "cols_for_school_agg = ['MRUN', 'NOM_RBD', 'NOM_COM_RBD', 'RURAL_RBD', 'GEN_ALU', 'PROM_GRAL', 'ASISTENCIA']\n",
    "df_schools = df[cols_for_school_agg]\n",
    "print df_schools.head()"
   ]
  },
  {
   "cell_type": "markdown",
   "metadata": {},
   "source": [
    "## Calculate columns\n",
    "\n",
    "### Gender\n",
    "Once we do the aggregation to the level of schools, we'll want to calculate columns of the number students broken out by gender.\n",
    "\n",
    "| Gender               | Description |\n",
    "|----------------------|-------------|\n",
    "| 0                    | unknown     |\n",
    "| 1                    | male        |\n",
    "| 2                    | female      |"
   ]
  },
  {
   "cell_type": "code",
   "execution_count": 63,
   "metadata": {
    "collapsed": true
   },
   "outputs": [],
   "source": [
    "# drop unknown gender\n",
    "df_schools = df_schools[df_schools['GEN_ALU'] != 0]\n",
    "# transform gender to binary\n",
    "# 0 = male\n",
    "# 1 = female\n",
    "df_schools['GEN_ALU'] = df_schools['GEN_ALU'] - 1\n",
    "df_schools['female_num'] = df_schools['GEN_ALU']\n",
    "# flip gender (for summing purposes)\n",
    "# 0 = female\n",
    "# 1 = male\n",
    "df_schools['male_num'] = 1 - df_schools['GEN_ALU']\n",
    "# drop raw gender column\n",
    "df_schools.drop('GEN_ALU', axis=1, inplace=True)"
   ]
  },
  {
   "cell_type": "markdown",
   "metadata": {},
   "source": [
    "### GPA\n",
    "We need to do some simple manipulation here to make this a decimal value"
   ]
  },
  {
   "cell_type": "code",
   "execution_count": 64,
   "metadata": {
    "collapsed": true
   },
   "outputs": [],
   "source": [
    "df_schools['PROM_GRAL'] = df_schools['PROM_GRAL'].str.replace(',', '.')\n",
    "df_schools['PROM_GRAL'] = pd.to_numeric(df_schools['PROM_GRAL'], errors='coerce')\n",
    "df_schools['PROM_GRAL'] = df['PROM_GRAL'].fillna(df['PROM_GRAL'].mean())"
   ]
  },
  {
   "cell_type": "markdown",
   "metadata": {},
   "source": [
    "## Perform aggregations\n",
    "Now we'll do the aggregations, setting a specific function per column."
   ]
  },
  {
   "cell_type": "code",
   "execution_count": 65,
   "metadata": {
    "collapsed": false
   },
   "outputs": [
    {
     "name": "stdout",
     "output_type": "stream",
     "text": [
      "                                                  male_num       gpa  \\\n",
      "NOM_COM_RBD NOM_RBD                                                    \n",
      "AISEN       CENTRODE ESTUDIOS PATAGONIA DE AYSEN       188  2.815663   \n",
      "            COLEGIO KALEM                              361  5.621914   \n",
      "            COLEGIO SAGRADA FAMILIA                    309  5.295611   \n",
      "            COLEGIO SANTA TERESA DE LOS ANDES          183  5.514921   \n",
      "            COLEGIO SINAI                               84  5.385417   \n",
      "\n",
      "                                                  female_num  num_students  \\\n",
      "NOM_COM_RBD NOM_RBD                                                          \n",
      "AISEN       CENTRODE ESTUDIOS PATAGONIA DE AYSEN         227           415   \n",
      "            COLEGIO KALEM                                360           721   \n",
      "            COLEGIO SAGRADA FAMILIA                      329           638   \n",
      "            COLEGIO SANTA TERESA DE LOS ANDES            199           382   \n",
      "            COLEGIO SINAI                                 60           144   \n",
      "\n",
      "                                                  avg_attendance  urban_rural  \n",
      "NOM_COM_RBD NOM_RBD                                                            \n",
      "AISEN       CENTRODE ESTUDIOS PATAGONIA DE AYSEN       47.330120          0.0  \n",
      "            COLEGIO KALEM                              89.380028          0.0  \n",
      "            COLEGIO SAGRADA FAMILIA                    85.103448          0.0  \n",
      "            COLEGIO SANTA TERESA DE LOS ANDES          86.929319          0.0  \n",
      "            COLEGIO SINAI                              86.326389          0.0  \n"
     ]
    }
   ],
   "source": [
    "aggs = {\n",
    "    'MRUN':'count', \n",
    "    \"RURAL_RBD\": np.mean, \n",
    "    \"PROM_GRAL\":np.mean, \n",
    "    \"ASISTENCIA\":np.mean, \n",
    "    \"female_num\":np.sum, \n",
    "    \"male_num\":np.sum\n",
    "}\n",
    "df_schools = df_schools.groupby([\"NOM_COM_RBD\", \"NOM_RBD\"]).agg(aggs)\n",
    "# rename columns\n",
    "df_schools = df_schools.rename(columns={'MRUN':'num_students', 'PROM_GRAL':'gpa', 'ASISTENCIA':'avg_attendance', 'RURAL_RBD':'urban_rural'})\n",
    "print df_schools.head()"
   ]
  },
  {
   "cell_type": "markdown",
   "metadata": {},
   "source": [
    "Calculate percentage of male/female students per school."
   ]
  },
  {
   "cell_type": "code",
   "execution_count": 66,
   "metadata": {
    "collapsed": true
   },
   "outputs": [],
   "source": [
    "df_schools['male_pct'] = df_schools['male_num'] / df_schools['num_students']\n",
    "df_schools['female_pct'] = df_schools['female_num'] / df_schools['num_students']"
   ]
  },
  {
   "cell_type": "markdown",
   "metadata": {},
   "source": [
    "## Determine correlations\n",
    "\n",
    "The closer to 0 the correlation, the weaker the connection. The closer to 1, the stronger the positive correlation, and the closer to -1, the stronger the negative correlation. This will help us determine which factors to investigate further."
   ]
  },
  {
   "cell_type": "code",
   "execution_count": 67,
   "metadata": {
    "collapsed": false
   },
   "outputs": [
    {
     "name": "stdout",
     "output_type": "stream",
     "text": [
      "male_num         -0.035287\n",
      "gpa               1.000000\n",
      "female_num        0.030368\n",
      "num_students     -0.003157\n",
      "avg_attendance    0.939214\n",
      "urban_rural       0.172320\n",
      "male_pct         -0.131191\n",
      "female_pct        0.131191\n",
      "Name: gpa, dtype: float64\n"
     ]
    }
   ],
   "source": [
    "print df_schools.corr()['gpa']"
   ]
  }
 ],
 "metadata": {
  "kernelspec": {
   "display_name": "Python 2",
   "language": "python",
   "name": "python2"
  },
  "language_info": {
   "codemirror_mode": {
    "name": "ipython",
    "version": 2
   },
   "file_extension": ".py",
   "mimetype": "text/x-python",
   "name": "python",
   "nbconvert_exporter": "python",
   "pygments_lexer": "ipython2",
   "version": "2.7.11"
  }
 },
 "nbformat": 4,
 "nbformat_minor": 0
}
