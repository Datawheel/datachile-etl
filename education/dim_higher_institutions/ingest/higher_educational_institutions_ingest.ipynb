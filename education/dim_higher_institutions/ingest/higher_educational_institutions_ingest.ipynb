{
 "cells": [
  {
   "cell_type": "markdown",
   "metadata": {},
   "source": [
    "# Ingest Higher Educational Institutions for fact_employability"
   ]
  },
  {
   "cell_type": "markdown",
   "metadata": {},
   "source": [
    "### Config"
   ]
  },
  {
   "cell_type": "code",
   "execution_count": 1,
   "metadata": {
    "collapsed": false
   },
   "outputs": [],
   "source": [
    "import sys\n",
    "import configparser\n",
    "config = configparser.ConfigParser()\n",
    "config.read_file(open('../../../settings.ini'))\n",
    "\n",
    "sys.path.insert(0, config.get('PATHS','libs_path'))\n",
    "engine_path = config.get('DATABASE','engine_path')"
   ]
  },
  {
   "cell_type": "markdown",
   "metadata": {},
   "source": [
    "### Main params"
   ]
  },
  {
   "cell_type": "code",
   "execution_count": 2,
   "metadata": {
    "collapsed": true
   },
   "outputs": [],
   "source": [
    "remote_path = 'http://pacha.datawheel.us/educacion/empleabilidad/'\n",
    "local_path = '../data/'"
   ]
  },
  {
   "cell_type": "markdown",
   "metadata": {},
   "source": [
    "### Imports"
   ]
  },
  {
   "cell_type": "code",
   "execution_count": 3,
   "metadata": {
    "collapsed": true
   },
   "outputs": [],
   "source": [
    "import postgres #from local file postgres.py\n",
    "from commons import inline_table_xml, download_file, download_zip_file, extract_zip_file #from local file commons.py\n",
    "\n",
    "import json\n",
    "import pandas as pd\n",
    "from sqlalchemy import create_engine"
   ]
  },
  {
   "cell_type": "code",
   "execution_count": 4,
   "metadata": {
    "collapsed": false
   },
   "outputs": [
    {
     "name": "stdout",
     "output_type": "stream",
     "text": [
      "Already downloaded. Using: ../data/listado_instituciones.csv\n",
      "Encoding: utf-8\n"
     ]
    },
    {
     "data": {
      "text/plain": [
       "['higher_educational_institution', 'higher_educational_institution_id']"
      ]
     },
     "execution_count": 4,
     "metadata": {},
     "output_type": "execute_result"
    }
   ],
   "source": [
    "df = download_file(remote_path+'ids/',local_path,'listado_instituciones.csv')\n",
    "df = df.rename(columns={'institucion':'higher_educational_institution','institucion_id':'higher_educational_institution_id'});\n",
    "df = df.astype({'higher_educational_institution_id':'int'})\n",
    "list(df)"
   ]
  },
  {
   "cell_type": "markdown",
   "metadata": {},
   "source": [
    "### Gruoping by institutions type"
   ]
  },
  {
   "cell_type": "code",
   "execution_count": 5,
   "metadata": {
    "collapsed": false
   },
   "outputs": [
    {
     "data": {
      "text/plain": [
       "['higher_educational_institution',\n",
       " 'higher_educational_institution_id',\n",
       " 'higher_educational_institution_group_id',\n",
       " 'higher_educational_institution_group_name',\n",
       " 'higher_educational_institution_group_name_es',\n",
       " 'educational_institution_group_name_es']"
      ]
     },
     "execution_count": 5,
     "metadata": {},
     "output_type": "execute_result"
    }
   ],
   "source": [
    "df['higher_educational_institution_group_id'] = 1\n",
    "df['higher_educational_institution_group_name'] = 'Universities'\n",
    "df['higher_educational_institution_group_name_es'] = 'Universidades'\n",
    "\n",
    "df.loc[df['higher_educational_institution'].str.startswith('IP'), 'higher_educational_institution_group_id'] = 2\n",
    "df.loc[df['higher_educational_institution'].str.startswith('IP'), 'higher_educational_institution_group_name'] = 'Professional Institute'\n",
    "df.loc[df['higher_educational_institution'].str.startswith('IP'), 'educational_institution_group_name_es'] = 'Instituto Profesional'\n",
    "\n",
    "\n",
    "df.loc[df['higher_educational_institution'].str.startswith('CFT'), 'higher_educational_institution_group_id'] = 3\n",
    "df.loc[df['higher_educational_institution'].str.startswith('CFT'), 'higher_educational_institution_group_name'] = 'Technical Training Center'\n",
    "df.loc[df['higher_educational_institution'].str.startswith('CFT'), 'higher_educational_institution_group_name_es'] = 'Centros de Formación Técnica'\n",
    "    \n",
    "list(df)"
   ]
  },
  {
   "cell_type": "markdown",
   "metadata": {},
   "source": [
    "### Ingest"
   ]
  },
  {
   "cell_type": "code",
   "execution_count": 6,
   "metadata": {
    "collapsed": false
   },
   "outputs": [
    {
     "name": "stdout",
     "output_type": "stream",
     "text": [
      "DROP TABLE IF EXISTS education.dim_higher_educational_institutions;\n",
      "CREATE TABLE \"education\".\"dim_higher_educational_institutions\" (\n",
      "\"higher_educational_institution\" TEXT,\n",
      "  \"higher_educational_institution_id\" INTEGER,\n",
      "  \"higher_educational_institution_group_id\" INTEGER,\n",
      "  \"higher_educational_institution_group_name\" TEXT,\n",
      "  \"higher_educational_institution_group_name_es\" TEXT,\n",
      "  \"educational_institution_group_name_es\" TEXT\n",
      ")\n",
      "COPY \"education\".\"dim_higher_educational_institutions\" (\"higher_educational_institution\",\"higher_educational_institution_id\",\"higher_educational_institution_group_id\",\"higher_educational_institution_group_name\",\"higher_educational_institution_group_name_es\",\"educational_institution_group_name_es\") FROM STDIN WITH CSV HEADER DELIMITER ',';\n"
     ]
    }
   ],
   "source": [
    "engine = create_engine(engine_path)\n",
    "db = postgres.PostgresDriver(engine)\n",
    "db.to_sql(df, 'education', 'dim_higher_educational_institutions')"
   ]
  }
 ],
 "metadata": {
  "kernelspec": {
   "display_name": "Python 3",
   "language": "python",
   "name": "python3"
  },
  "language_info": {
   "codemirror_mode": {
    "name": "ipython",
    "version": 3
   },
   "file_extension": ".py",
   "mimetype": "text/x-python",
   "name": "python",
   "nbconvert_exporter": "python",
   "pygments_lexer": "ipython3",
   "version": "3.6.0"
  }
 },
 "nbformat": 4,
 "nbformat_minor": 2
}
