{
 "cells": [
  {
   "cell_type": "code",
   "execution_count": 1,
   "metadata": {},
   "outputs": [],
   "source": [
    "# Import libraries\n",
    "import pandas as pd\n",
    "import json"
   ]
  },
  {
   "cell_type": "code",
   "execution_count": 2,
   "metadata": {},
   "outputs": [],
   "source": [
    "# Datasets to import\n",
    "# Tested: May, 22th\n",
    "URL_BASE = \"http://www.deis.cl/wp-content/uploads\"\n",
    "datasets = [\n",
    "    {\n",
    "        \"source_link\": \"/2015/05/6.-Defunciones-y-mortalidad-infantil-y-sus-componentes-por-regi%C3%B3n-y-comuna-de-residencia.-Chile-2012.xlsx\",\n",
    "        \"year\": 2012\n",
    "    },\n",
    "    {\n",
    "        \"source_link\": \"/2016/08/6.-Defunciones-y-mortalidad-infantil-y-sus-componentes-por-regi%C3%B3n-y-comuna-de-residencia.-Chile-2013.xlsx\",\n",
    "        \"year\": 2013\n",
    "    },\n",
    "    {\n",
    "        \"source_link\": \"/2016/08/6.-Defunciones-y-mortalidad-infantil-y-sus-componentes-por-regi%C3%B3n-y-comuna-de-residencia.-Chile-2014.xlsx\",\n",
    "        \"year\": 2014\n",
    "    }\n",
    "]\n",
    "\n",
    "# Read Comunas\n",
    "URL = \"https://raw.githubusercontent.com/datachile/datachile-etl/master/official_ids/2017_06_27_comunas_datachile_fixed.csv\""
   ]
  },
  {
   "cell_type": "code",
   "execution_count": 3,
   "metadata": {},
   "outputs": [],
   "source": [
    "def search_comuna_id(name):\n",
    "    name = name.upper().strip().replace(u\"\\xa0\", u\" \")\n",
    "    if name in comuna_datachile_id:\n",
    "        return comuna_datachile_id[name]\n",
    "    else:\n",
    "        return comuna_thesauro_id[name]\n",
    "    \n",
    "\n",
    "def get_values(d):\n",
    "    return [ value for key, value in d.items() ]"
   ]
  },
  {
   "cell_type": "code",
   "execution_count": 4,
   "metadata": {},
   "outputs": [],
   "source": [
    "geo_datachile_id = pd.read_csv(URL)\n",
    "\n",
    "comuna_datachile_id = dict(\n",
    "    zip([elm.upper() for elm in geo_datachile_id[\"comuna_name\"]], geo_datachile_id[\"comuna_datachile_id\"])\n",
    ")\n",
    "\n",
    "age_range = pd.read_csv(\"https://docs.google.com/spreadsheets/d/\" + \n",
    "                   \"152kELSLYe4oiCiH7-Wmt-FWvSYavT0LUQt1C_qXnXVM\" +\n",
    "                   \"/export?gid=0&format=csv\"\n",
    "                  )\n",
    "\n",
    "age_range.to_csv(\"data/age_range_id.csv\", index=False)\n",
    "\n",
    "formatted_df = pd.melt(age_range, id_vars=[\"id\"], value_vars=[\"es\"])\n",
    "q = formatted_df.to_dict()\n",
    "\n",
    "age_range_ids = dict(zip(get_values(q[\"value\"]), get_values(q[\"id\"])))\n",
    "\n",
    "thesauro_comunas = pd.read_csv(\"https://docs.google.com/spreadsheets/d/\" + \n",
    "                   \"1ccZd25Q5BfeL2w-KCbe1k7ZJIuskJa0gwoTZsillBGk\" +\n",
    "                   \"/export?gid=0&format=csv\"\n",
    "                  )\n",
    "\n",
    "comuna_thesauro_id = dict(zip([elm.upper() for elm in thesauro_comunas[\"nombre\"]], thesauro_comunas[\"id\"]))"
   ]
  },
  {
   "cell_type": "code",
   "execution_count": 5,
   "metadata": {
    "scrolled": true
   },
   "outputs": [],
   "source": [
    "tidy = []\n",
    "\n",
    "for dataset in datasets:\n",
    "    data = pd.read_excel(URL_BASE + dataset[\"source_link\"])\n",
    "    \n",
    "    # Read title/subtitle of Excel\n",
    "    title = [ str(item).strip() for item in data.iloc[2] ]\n",
    "    subtitle = [ str(item).strip() for item in data.iloc[3] ]\n",
    "\n",
    "    # Preprocess excel\n",
    "    output = []\n",
    "    for i in range(4, len(data) - 2):\n",
    "        frame = data.iloc[i]\n",
    "        tuples = list(zip(subtitle, frame))\n",
    "        geo = { \"comuna\": str(frame[1]).strip() } if str(frame[0]).strip() == \"nan\" else { \"country\": str(frame[0]).strip() }  if str(frame[0]).strip() == \"Total País\" else { \"region\": str(frame[0]).strip() } \n",
    "\n",
    "        tuples = list(filter(lambda x: x[0] != \"nan\", tuples))\n",
    "\n",
    "        age_range = \"\"\n",
    "\n",
    "        query = []\n",
    "        for key, tup in enumerate(tuples):\n",
    "            if tup[0] != \"Tasa*\":\n",
    "                age_range = tup[0]\n",
    "                count = tup[1]\n",
    "\n",
    "            if key % 2 != 0:\n",
    "                item = {\n",
    "                    \"age_range\": age_range,\n",
    "                    \"count\": count,\n",
    "                    \"rate\": tup[1]\n",
    "                }\n",
    "                query.append(item)\n",
    "\n",
    "        tuples = {**geo, \"children\": query}\n",
    "        output.append(tuples)\n",
    "\n",
    "    # Process data\n",
    "    country_data = {}\n",
    "    region_data = {}\n",
    "    for key, item in enumerate(output):\n",
    "        if \"country\" in item:\n",
    "            country_data = { d[\"age_range\"]: d[\"rate\"] for d in item[\"children\"] }\n",
    "\n",
    "        if \"region\" in item:\n",
    "            region_data = { d[\"age_range\"]: d[\"rate\"] for d in item[\"children\"] }\n",
    "\n",
    "        if \"comuna\" in item:\n",
    "            for d in item[\"children\"]:\n",
    "                out = {\n",
    "                    \"comuna_id\": search_comuna_id(item[\"comuna\"]),\n",
    "                    \"year\": dataset[\"year\"],\n",
    "                    #\"age_range\": d[\"age_range\"],\n",
    "                    \"age_range_id\": age_range_ids[d[\"age_range\"]],\n",
    "                    \"rate_country\": country_data[d[\"age_range\"]],\n",
    "                    \"rate_region\": region_data[d[\"age_range\"]],\n",
    "                    \"rate_comuna\": 0 if d[\"rate\"] == \"-\" else d[\"rate\"],\n",
    "                    \"count\": 0 if d[\"count\"] == \"-\" else d[\"count\"]\n",
    "                }\n",
    "                tidy.append(out)"
   ]
  },
  {
   "cell_type": "code",
   "execution_count": 6,
   "metadata": {},
   "outputs": [],
   "source": [
    "# Save tidy in /data/ folder\n",
    "pd.DataFrame(tidy).to_csv(\"data/under_one.csv\", index=False)"
   ]
  },
  {
   "cell_type": "code",
   "execution_count": null,
   "metadata": {},
   "outputs": [],
   "source": []
  }
 ],
 "metadata": {
  "kernelspec": {
   "display_name": "Python 3",
   "language": "python",
   "name": "python3"
  },
  "language_info": {
   "codemirror_mode": {
    "name": "ipython",
    "version": 3
   },
   "file_extension": ".py",
   "mimetype": "text/x-python",
   "name": "python",
   "nbconvert_exporter": "python",
   "pygments_lexer": "ipython3",
   "version": "3.6.4"
  }
 },
 "nbformat": 4,
 "nbformat_minor": 2
}
