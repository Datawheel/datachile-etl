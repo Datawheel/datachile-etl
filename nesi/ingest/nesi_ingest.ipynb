{
 "cells": [
  {
   "cell_type": "markdown",
   "metadata": {},
   "source": [
    "# Import & Load NESI data"
   ]
  },
  {
   "cell_type": "markdown",
   "metadata": {},
   "source": [
    "### Config"
   ]
  },
  {
   "cell_type": "code",
   "execution_count": 1,
   "metadata": {
    "collapsed": false
   },
   "outputs": [],
   "source": [
    "import sys\n",
    "import configparser\n",
    "config = configparser.ConfigParser()\n",
    "config.read_file(open('../../settings.ini'))\n",
    "\n",
    "sys.path.insert(0, config.get('PATHS','libs_path'))\n",
    "engine_path = config.get('DATABASE','engine_path')"
   ]
  },
  {
   "cell_type": "markdown",
   "metadata": {},
   "source": [
    "### Main params"
   ]
  },
  {
   "cell_type": "code",
   "execution_count": 2,
   "metadata": {
    "collapsed": true
   },
   "outputs": [],
   "source": [
    "remote_path = 'http://pacha.datawheel.us/economia/nesi/analysis/2_wages_by_categories/2_csv/'\n",
    "local_path = '../data/'"
   ]
  },
  {
   "cell_type": "markdown",
   "metadata": {},
   "source": [
    "### Imports"
   ]
  },
  {
   "cell_type": "code",
   "execution_count": 3,
   "metadata": {
    "collapsed": false
   },
   "outputs": [],
   "source": [
    "import postgres #from local file postgres.py\n",
    "from commons import inline_table_xml, download_file #from local file commons.py\n",
    "\n",
    "import json\n",
    "import pandas as pd\n",
    "from sqlalchemy import create_engine"
   ]
  },
  {
   "cell_type": "markdown",
   "metadata": {},
   "source": [
    "### Load & rename"
   ]
  },
  {
   "cell_type": "code",
   "execution_count": 4,
   "metadata": {
    "collapsed": false
   },
   "outputs": [
    {
     "data": {
      "text/plain": [
       "['year',\n",
       " 'comuna_datachile_id',\n",
       " 'age',\n",
       " 'occupation_id',\n",
       " 'sex_id',\n",
       " 'icse_id',\n",
       " 'isced_id',\n",
       " 'isco_id',\n",
       " 'journey_id',\n",
       " 'age_range_id',\n",
       " 'income',\n",
       " 'weight']"
      ]
     },
     "execution_count": 4,
     "metadata": {},
     "output_type": "execute_result"
    }
   ],
   "source": [
    "df = download_file(remote_path,local_path,'wages_by_categories.csv')\n",
    "df = df.rename(columns={'occupation': 'occupation_id', 'icse': 'icse_id','isced':'isced_id','isco':'isco_id','journey':'journey_id','sex':'sex_id'})\n",
    "df = df[['year','comuna_datachile_id','age','occupation_id','sex_id','icse_id','isced_id','isco_id','journey_id','age_range_id','income','weight']]\n",
    "\n",
    "df = df.astype({'year':'int','comuna_datachile_id':'int','age':'int','occupation_id':'int','sex_id':'int','icse_id':'int','isced_id':'int','isco_id':'int','journey_id':'int','age_range_id':'int','income':'int'})\n",
    "list(df)"
   ]
  },
  {
   "cell_type": "markdown",
   "metadata": {},
   "source": [
    "### Ingest"
   ]
  },
  {
   "cell_type": "code",
   "execution_count": 5,
   "metadata": {
    "collapsed": false,
    "scrolled": true
   },
   "outputs": [
    {
     "name": "stdout",
     "output_type": "stream",
     "text": [
      "CREATE SCHEMA IF NOT EXISTS economy;\n",
      "DROP TABLE IF EXISTS economy.fact_income_nesi;\n",
      "CREATE TABLE \"economy\".\"fact_income_nesi\" (\n",
      "\"year\" INTEGER,\n",
      "  \"comuna_datachile_id\" INTEGER,\n",
      "  \"age\" INTEGER,\n",
      "  \"occupation_id\" INTEGER,\n",
      "  \"sex_id\" INTEGER,\n",
      "  \"icse_id\" INTEGER,\n",
      "  \"isced_id\" INTEGER,\n",
      "  \"isco_id\" INTEGER,\n",
      "  \"journey_id\" INTEGER,\n",
      "  \"age_range_id\" INTEGER,\n",
      "  \"income\" INTEGER,\n",
      "  \"weight\" REAL\n",
      ")\n",
      "COPY \"economy\".\"fact_income_nesi\" (\"year\",\"comuna_datachile_id\",\"age\",\"occupation_id\",\"sex_id\",\"icse_id\",\"isced_id\",\"isco_id\",\"journey_id\",\"age_range_id\",\"income\",\"weight\") FROM STDIN WITH CSV HEADER DELIMITER ',';\n"
     ]
    }
   ],
   "source": [
    "engine = create_engine(engine_path)\n",
    "db = postgres.PostgresDriver(engine)\n",
    "db.to_sql(df, 'economy', 'fact_income_nesi')"
   ]
  },
  {
   "cell_type": "code",
   "execution_count": 6,
   "metadata": {
    "collapsed": true
   },
   "outputs": [],
   "source": [
    "### Foreign & indexes"
   ]
  },
  {
   "cell_type": "code",
   "execution_count": 7,
   "metadata": {
    "collapsed": false
   },
   "outputs": [
    {
     "data": {
      "text/plain": [
       "<sqlalchemy.engine.result.ResultProxy at 0x10bceddd8>"
      ]
     },
     "execution_count": 7,
     "metadata": {},
     "output_type": "execute_result"
    }
   ],
   "source": [
    "engine.execute(\"\"\"\n",
    "ALTER TABLE economy.fact_income_nesi\n",
    "  ADD COLUMN date_id INTEGER; \n",
    "\"\"\")\n",
    "\n",
    "engine.execute(\"\"\"\n",
    "UPDATE economy.fact_income_nesi\n",
    "SET date_id = dim_date.id\n",
    "FROM public.dim_date\n",
    "WHERE dim_date.the_year = economy.fact_income_nesi.year\n",
    "      AND dim_date.month_of_year = 1\n",
    "      AND dim_date.day_of_month = 1\n",
    "\"\"\")\n",
    "\n",
    "engine.execute(\"\"\"\n",
    "CREATE INDEX fact_income_nesi_comuna_datachile_id\n",
    "ON economy.fact_income_nesi (comuna_datachile_id)\n",
    "\"\"\")"
   ]
  },
  {
   "cell_type": "markdown",
   "metadata": {},
   "source": [
    "### Related dim"
   ]
  },
  {
   "cell_type": "code",
   "execution_count": 8,
   "metadata": {
    "collapsed": false
   },
   "outputs": [
    {
     "name": "stdout",
     "output_type": "stream",
     "text": [
      "\n",
      "<InlineTable alias=\"age_range\">\n",
      "  <ColumnDefs>\n",
      "    <ColumnDef name=\"id\" type=\"Numeric\" />\n",
      "    <ColumnDef name=\"description\" type=\"String\" />\n",
      "    <ColumnDef name=\"es_description\" type=\"String\" />\n",
      "  </ColumnDefs>\n",
      "  <Rows>\n",
      "    <Row>\n",
      "      <Value column=\"id\">1</Value>\n",
      "      <Value column=\"description\">15 a 19</Value>\n",
      "      <Value column=\"es_description\">15 a 19</Value>\n",
      "    </Row>\n",
      "  <Row>\n",
      "      <Value column=\"id\">2</Value>\n",
      "      <Value column=\"description\">20 a 24</Value>\n",
      "      <Value column=\"es_description\">20 a 24</Value>\n",
      "    </Row>\n",
      "  <Row>\n",
      "      <Value column=\"id\">3</Value>\n",
      "      <Value column=\"description\">25 a 29</Value>\n",
      "      <Value column=\"es_description\">25 a 29</Value>\n",
      "    </Row>\n",
      "  <Row>\n",
      "      <Value column=\"id\">4</Value>\n",
      "      <Value column=\"description\">30 a 65</Value>\n",
      "      <Value column=\"es_description\">30 a 65</Value>\n",
      "    </Row>\n",
      "  <Row>\n",
      "      <Value column=\"id\">5</Value>\n",
      "      <Value column=\"description\">65 a edad max</Value>\n",
      "      <Value column=\"es_description\">65 a edad max</Value>\n",
      "    </Row>\n",
      "  </Rows>\n",
      "</InlineTable>\n",
      "    \n"
     ]
    }
   ],
   "source": [
    "d1 = download_file(remote_path,local_path,'age_range_id.csv')\n",
    "print (inline_table_xml(d1, 'age_range', 'age_range_id', 'age_range'))"
   ]
  },
  {
   "cell_type": "code",
   "execution_count": 9,
   "metadata": {
    "collapsed": false
   },
   "outputs": [
    {
     "name": "stdout",
     "output_type": "stream",
     "text": [
      "\n",
      "<InlineTable alias=\"icse\">\n",
      "  <ColumnDefs>\n",
      "    <ColumnDef name=\"id\" type=\"Numeric\" />\n",
      "    <ColumnDef name=\"description\" type=\"String\" />\n",
      "    <ColumnDef name=\"es_description\" type=\"String\" />\n",
      "  </ColumnDefs>\n",
      "  <Rows>\n",
      "    <Row>\n",
      "      <Value column=\"id\">0</Value>\n",
      "      <Value column=\"description\">No corresponde</Value>\n",
      "      <Value column=\"es_description\">No corresponde</Value>\n",
      "    </Row>\n",
      "  <Row>\n",
      "      <Value column=\"id\">1</Value>\n",
      "      <Value column=\"description\">Empleador</Value>\n",
      "      <Value column=\"es_description\">Empleador</Value>\n",
      "    </Row>\n",
      "  <Row>\n",
      "      <Value column=\"id\">2</Value>\n",
      "      <Value column=\"description\">Cuenta Propia</Value>\n",
      "      <Value column=\"es_description\">Cuenta Propia</Value>\n",
      "    </Row>\n",
      "  <Row>\n",
      "      <Value column=\"id\">3</Value>\n",
      "      <Value column=\"description\">Asalariado Sector Privado</Value>\n",
      "      <Value column=\"es_description\">Asalariado Sector Privado</Value>\n",
      "    </Row>\n",
      "  <Row>\n",
      "      <Value column=\"id\">4</Value>\n",
      "      <Value column=\"description\">Asalariado Sector Público</Value>\n",
      "      <Value column=\"es_description\">Asalariado Sector Público</Value>\n",
      "    </Row>\n",
      "  <Row>\n",
      "      <Value column=\"id\">5</Value>\n",
      "      <Value column=\"description\">Personal de Servicio Doméstico Puertas Afuera</Value>\n",
      "      <Value column=\"es_description\">Personal de Servicio Doméstico Puertas Afuera</Value>\n",
      "    </Row>\n",
      "  <Row>\n",
      "      <Value column=\"id\">6</Value>\n",
      "      <Value column=\"description\">Personal de Servicio Doméstico Puertas Adentro</Value>\n",
      "      <Value column=\"es_description\">Personal de Servicio Doméstico Puertas Adentro</Value>\n",
      "    </Row>\n",
      "  <Row>\n",
      "      <Value column=\"id\">7</Value>\n",
      "      <Value column=\"description\">Familiar o Personal no Remunerado</Value>\n",
      "      <Value column=\"es_description\">Familiar o Personal no Remunerado</Value>\n",
      "    </Row>\n",
      "  </Rows>\n",
      "</InlineTable>\n",
      "    \n"
     ]
    }
   ],
   "source": [
    "d2 = download_file(remote_path,local_path,'icse_id.csv')\n",
    "print (inline_table_xml(d2, 'icse', 'icse_id', 'icse'))"
   ]
  },
  {
   "cell_type": "code",
   "execution_count": 10,
   "metadata": {
    "collapsed": false
   },
   "outputs": [
    {
     "name": "stdout",
     "output_type": "stream",
     "text": [
      "\n",
      "<InlineTable alias=\"isced\">\n",
      "  <ColumnDefs>\n",
      "    <ColumnDef name=\"id\" type=\"Numeric\" />\n",
      "    <ColumnDef name=\"description\" type=\"String\" />\n",
      "    <ColumnDef name=\"es_description\" type=\"String\" />\n",
      "  </ColumnDefs>\n",
      "  <Rows>\n",
      "    <Row>\n",
      "      <Value column=\"id\">1</Value>\n",
      "      <Value column=\"description\">Nunca estudió</Value>\n",
      "      <Value column=\"es_description\">Nunca estudió</Value>\n",
      "    </Row>\n",
      "  <Row>\n",
      "      <Value column=\"id\">2</Value>\n",
      "      <Value column=\"description\">Educación Preescolar</Value>\n",
      "      <Value column=\"es_description\">Educación Preescolar</Value>\n",
      "    </Row>\n",
      "  <Row>\n",
      "      <Value column=\"id\">3</Value>\n",
      "      <Value column=\"description\">Educación Primaria (nivel 1)</Value>\n",
      "      <Value column=\"es_description\">Educación Primaria (nivel 1)</Value>\n",
      "    </Row>\n",
      "  <Row>\n",
      "      <Value column=\"id\">4</Value>\n",
      "      <Value column=\"description\">Educación Primaria (nivel 2)</Value>\n",
      "      <Value column=\"es_description\">Educación Primaria (nivel 2)</Value>\n",
      "    </Row>\n",
      "  <Row>\n",
      "      <Value column=\"id\">5</Value>\n",
      "      <Value column=\"description\">Educación Secundaria</Value>\n",
      "      <Value column=\"es_description\">Educación Secundaria</Value>\n",
      "    </Row>\n",
      "  <Row>\n",
      "      <Value column=\"id\">6</Value>\n",
      "      <Value column=\"description\">Educación Técnica (Educación Superior no Universitaria)</Value>\n",
      "      <Value column=\"es_description\">Educación Técnica (Educación Superior no Universitaria)</Value>\n",
      "    </Row>\n",
      "  <Row>\n",
      "      <Value column=\"id\">7</Value>\n",
      "      <Value column=\"description\">Educación Universitaria</Value>\n",
      "      <Value column=\"es_description\">Educación Universitaria</Value>\n",
      "    </Row>\n",
      "  <Row>\n",
      "      <Value column=\"id\">8</Value>\n",
      "      <Value column=\"description\">Postítulo y Maestría</Value>\n",
      "      <Value column=\"es_description\">Postítulo y Maestría</Value>\n",
      "    </Row>\n",
      "  <Row>\n",
      "      <Value column=\"id\">9</Value>\n",
      "      <Value column=\"description\">Doctorado</Value>\n",
      "      <Value column=\"es_description\">Doctorado</Value>\n",
      "    </Row>\n",
      "  <Row>\n",
      "      <Value column=\"id\">999</Value>\n",
      "      <Value column=\"description\">Nivel ignorado</Value>\n",
      "      <Value column=\"es_description\">Nivel ignorado</Value>\n",
      "    </Row>\n",
      "  </Rows>\n",
      "</InlineTable>\n",
      "    \n"
     ]
    }
   ],
   "source": [
    "d3 = download_file(remote_path,local_path,'isced_id.csv')\n",
    "print (inline_table_xml(d3, 'isced', 'isced_id', 'isced'))"
   ]
  },
  {
   "cell_type": "code",
   "execution_count": 11,
   "metadata": {
    "collapsed": false
   },
   "outputs": [
    {
     "name": "stdout",
     "output_type": "stream",
     "text": [
      "\n",
      "<InlineTable alias=\"isco\">\n",
      "  <ColumnDefs>\n",
      "    <ColumnDef name=\"id\" type=\"Numeric\" />\n",
      "    <ColumnDef name=\"description\" type=\"String\" />\n",
      "    <ColumnDef name=\"es_description\" type=\"String\" />\n",
      "  </ColumnDefs>\n",
      "  <Rows>\n",
      "    <Row>\n",
      "      <Value column=\"id\">0</Value>\n",
      "      <Value column=\"description\">nan</Value>\n",
      "      <Value column=\"es_description\">nan</Value>\n",
      "    </Row>\n",
      "  <Row>\n",
      "      <Value column=\"id\">1</Value>\n",
      "      <Value column=\"description\">Miembros del poder ejecutivo, legislativo y de la administración pública y de empresas públicas</Value>\n",
      "      <Value column=\"es_description\">Miembros del poder ejecutivo, legislativo y de la administración pública y de empresas públicas</Value>\n",
      "    </Row>\n",
      "  <Row>\n",
      "      <Value column=\"id\">2</Value>\n",
      "      <Value column=\"description\">Profesionales científicos e intelectuales</Value>\n",
      "      <Value column=\"es_description\">Profesionales científicos e intelectuales</Value>\n",
      "    </Row>\n",
      "  <Row>\n",
      "      <Value column=\"id\">3</Value>\n",
      "      <Value column=\"description\">Técnicos y profesionales de nivel medio</Value>\n",
      "      <Value column=\"es_description\">Técnicos y profesionales de nivel medio</Value>\n",
      "    </Row>\n",
      "  <Row>\n",
      "      <Value column=\"id\">4</Value>\n",
      "      <Value column=\"description\">Empleados de oficina</Value>\n",
      "      <Value column=\"es_description\">Empleados de oficina</Value>\n",
      "    </Row>\n",
      "  <Row>\n",
      "      <Value column=\"id\">5</Value>\n",
      "      <Value column=\"description\">Trabajadores de los servicios y vendedores de comercios y mercados</Value>\n",
      "      <Value column=\"es_description\">Trabajadores de los servicios y vendedores de comercios y mercados</Value>\n",
      "    </Row>\n",
      "  <Row>\n",
      "      <Value column=\"id\">6</Value>\n",
      "      <Value column=\"description\">Agricultores y trabajadores calificados agropecuarios y pesqueros</Value>\n",
      "      <Value column=\"es_description\">Agricultores y trabajadores calificados agropecuarios y pesqueros</Value>\n",
      "    </Row>\n",
      "  <Row>\n",
      "      <Value column=\"id\">7</Value>\n",
      "      <Value column=\"description\">Oficiales, operarios y artesanos de artes mecánicas y de otros oficios</Value>\n",
      "      <Value column=\"es_description\">Oficiales, operarios y artesanos de artes mecánicas y de otros oficios</Value>\n",
      "    </Row>\n",
      "  <Row>\n",
      "      <Value column=\"id\">8</Value>\n",
      "      <Value column=\"description\">Operadores de instalaciones, máquinas y montadores</Value>\n",
      "      <Value column=\"es_description\">Operadores de instalaciones, máquinas y montadores</Value>\n",
      "    </Row>\n",
      "  <Row>\n",
      "      <Value column=\"id\">9</Value>\n",
      "      <Value column=\"description\">Trabajadores no calificados</Value>\n",
      "      <Value column=\"es_description\">Trabajadores no calificados</Value>\n",
      "    </Row>\n",
      "  <Row>\n",
      "      <Value column=\"id\">10</Value>\n",
      "      <Value column=\"description\">Otros no identificados</Value>\n",
      "      <Value column=\"es_description\">Otros no identificados</Value>\n",
      "    </Row>\n",
      "  </Rows>\n",
      "</InlineTable>\n",
      "    \n"
     ]
    }
   ],
   "source": [
    "d4 = download_file(remote_path,local_path,'isco_id.csv')\n",
    "print (inline_table_xml(d4, 'isco', 'isco_id', 'isco'))"
   ]
  },
  {
   "cell_type": "code",
   "execution_count": 12,
   "metadata": {
    "collapsed": false
   },
   "outputs": [
    {
     "name": "stdout",
     "output_type": "stream",
     "text": [
      "\n",
      "<InlineTable alias=\"isic\">\n",
      "  <ColumnDefs>\n",
      "    <ColumnDef name=\"id\" type=\"Numeric\" />\n",
      "    <ColumnDef name=\"description\" type=\"String\" />\n",
      "    <ColumnDef name=\"es_description\" type=\"String\" />\n",
      "  </ColumnDefs>\n",
      "  <Rows>\n",
      "    <Row>\n",
      "      <Value column=\"id\">0</Value>\n",
      "      <Value column=\"description\">nan</Value>\n",
      "      <Value column=\"es_description\">nan</Value>\n",
      "    </Row>\n",
      "  <Row>\n",
      "      <Value column=\"id\">1</Value>\n",
      "      <Value column=\"description\">Agricultura, ganadería, caza y silvicultura</Value>\n",
      "      <Value column=\"es_description\">Agricultura, ganadería, caza y silvicultura</Value>\n",
      "    </Row>\n",
      "  <Row>\n",
      "      <Value column=\"id\">2</Value>\n",
      "      <Value column=\"description\">Pesca</Value>\n",
      "      <Value column=\"es_description\">Pesca</Value>\n",
      "    </Row>\n",
      "  <Row>\n",
      "      <Value column=\"id\">3</Value>\n",
      "      <Value column=\"description\">Explotación de minas y canteras</Value>\n",
      "      <Value column=\"es_description\">Explotación de minas y canteras</Value>\n",
      "    </Row>\n",
      "  <Row>\n",
      "      <Value column=\"id\">4</Value>\n",
      "      <Value column=\"description\">Industrias manufactureras</Value>\n",
      "      <Value column=\"es_description\">Industrias manufactureras</Value>\n",
      "    </Row>\n",
      "  <Row>\n",
      "      <Value column=\"id\">5</Value>\n",
      "      <Value column=\"description\">Suministro de electricidad, gas y agua</Value>\n",
      "      <Value column=\"es_description\">Suministro de electricidad, gas y agua</Value>\n",
      "    </Row>\n",
      "  <Row>\n",
      "      <Value column=\"id\">6</Value>\n",
      "      <Value column=\"description\">Construcción</Value>\n",
      "      <Value column=\"es_description\">Construcción</Value>\n",
      "    </Row>\n",
      "  <Row>\n",
      "      <Value column=\"id\">7</Value>\n",
      "      <Value column=\"description\">Comercio al por mayor y al por menor; reparación de vehículos automotores, motocicletas, efectos personales y enseres</Value>\n",
      "      <Value column=\"es_description\">Comercio al por mayor y al por menor; reparación de vehículos automotores, motocicletas, efectos personales y enseres</Value>\n",
      "    </Row>\n",
      "  <Row>\n",
      "      <Value column=\"id\">8</Value>\n",
      "      <Value column=\"description\">Hoteles y restaurantes</Value>\n",
      "      <Value column=\"es_description\">Hoteles y restaurantes</Value>\n",
      "    </Row>\n",
      "  <Row>\n",
      "      <Value column=\"id\">9</Value>\n",
      "      <Value column=\"description\">Transporte, almacenamiento y comunicaciones</Value>\n",
      "      <Value column=\"es_description\">Transporte, almacenamiento y comunicaciones</Value>\n",
      "    </Row>\n",
      "  <Row>\n",
      "      <Value column=\"id\">10</Value>\n",
      "      <Value column=\"description\">Intermediación financiera</Value>\n",
      "      <Value column=\"es_description\">Intermediación financiera</Value>\n",
      "    </Row>\n",
      "  <Row>\n",
      "      <Value column=\"id\">11</Value>\n",
      "      <Value column=\"description\">Actividades inmobiliarias, empresariales y de alquiler</Value>\n",
      "      <Value column=\"es_description\">Actividades inmobiliarias, empresariales y de alquiler</Value>\n",
      "    </Row>\n",
      "  <Row>\n",
      "      <Value column=\"id\">12</Value>\n",
      "      <Value column=\"description\">Administración pública y defensa; planes de seguridad social de afiliación obligatoria</Value>\n",
      "      <Value column=\"es_description\">Administración pública y defensa; planes de seguridad social de afiliación obligatoria</Value>\n",
      "    </Row>\n",
      "  <Row>\n",
      "      <Value column=\"id\">13</Value>\n",
      "      <Value column=\"description\">Enseñanza</Value>\n",
      "      <Value column=\"es_description\">Enseñanza</Value>\n",
      "    </Row>\n",
      "  <Row>\n",
      "      <Value column=\"id\">14</Value>\n",
      "      <Value column=\"description\">Servicios sociales y de salud</Value>\n",
      "      <Value column=\"es_description\">Servicios sociales y de salud</Value>\n",
      "    </Row>\n",
      "  <Row>\n",
      "      <Value column=\"id\">15</Value>\n",
      "      <Value column=\"description\">Otras actividades de servicios comunitarios, sociales y personales</Value>\n",
      "      <Value column=\"es_description\">Otras actividades de servicios comunitarios, sociales y personales</Value>\n",
      "    </Row>\n",
      "  <Row>\n",
      "      <Value column=\"id\">16</Value>\n",
      "      <Value column=\"description\">Hogares privados con servicio doméstico</Value>\n",
      "      <Value column=\"es_description\">Hogares privados con servicio doméstico</Value>\n",
      "    </Row>\n",
      "  <Row>\n",
      "      <Value column=\"id\">17</Value>\n",
      "      <Value column=\"description\">Organizaciones y órganos extraterritoriales</Value>\n",
      "      <Value column=\"es_description\">Organizaciones y órganos extraterritoriales</Value>\n",
      "    </Row>\n",
      "  </Rows>\n",
      "</InlineTable>\n",
      "    \n"
     ]
    }
   ],
   "source": [
    "d5 = download_file(remote_path,local_path,'isic_id.csv')\n",
    "print (inline_table_xml(d5, 'isic', 'isic_id', 'isic'))"
   ]
  },
  {
   "cell_type": "code",
   "execution_count": 13,
   "metadata": {
    "collapsed": false
   },
   "outputs": [
    {
     "name": "stdout",
     "output_type": "stream",
     "text": [
      "\n",
      "<InlineTable alias=\"journey\">\n",
      "  <ColumnDefs>\n",
      "    <ColumnDef name=\"id\" type=\"Numeric\" />\n",
      "    <ColumnDef name=\"description\" type=\"String\" />\n",
      "    <ColumnDef name=\"es_description\" type=\"String\" />\n",
      "  </ColumnDefs>\n",
      "  <Rows>\n",
      "    <Row>\n",
      "      <Value column=\"id\">0</Value>\n",
      "      <Value column=\"description\">nan</Value>\n",
      "      <Value column=\"es_description\">nan</Value>\n",
      "    </Row>\n",
      "  <Row>\n",
      "      <Value column=\"id\">1</Value>\n",
      "      <Value column=\"description\">Completa</Value>\n",
      "      <Value column=\"es_description\">Completa</Value>\n",
      "    </Row>\n",
      "  <Row>\n",
      "      <Value column=\"id\">2</Value>\n",
      "      <Value column=\"description\">Parcial</Value>\n",
      "      <Value column=\"es_description\">Parcial</Value>\n",
      "    </Row>\n",
      "  </Rows>\n",
      "</InlineTable>\n",
      "    \n"
     ]
    }
   ],
   "source": [
    "d6 = download_file(remote_path,local_path,'journey_id.csv')\n",
    "print (inline_table_xml(d6, 'journey', 'journey_id', 'journey'))"
   ]
  },
  {
   "cell_type": "code",
   "execution_count": 14,
   "metadata": {
    "collapsed": false
   },
   "outputs": [
    {
     "name": "stdout",
     "output_type": "stream",
     "text": [
      "\n",
      "<InlineTable alias=\"occupation\">\n",
      "  <ColumnDefs>\n",
      "    <ColumnDef name=\"id\" type=\"Numeric\" />\n",
      "    <ColumnDef name=\"description\" type=\"String\" />\n",
      "    <ColumnDef name=\"es_description\" type=\"String\" />\n",
      "  </ColumnDefs>\n",
      "  <Rows>\n",
      "    <Row>\n",
      "      <Value column=\"id\">0</Value>\n",
      "      <Value column=\"description\">nan</Value>\n",
      "      <Value column=\"es_description\">nan</Value>\n",
      "    </Row>\n",
      "  <Row>\n",
      "      <Value column=\"id\">0</Value>\n",
      "      <Value column=\"description\">Ocupados con menos de 1 mes en el empleo actual</Value>\n",
      "      <Value column=\"es_description\">Ocupados con menos de 1 mes en el empleo actual</Value>\n",
      "    </Row>\n",
      "  <Row>\n",
      "      <Value column=\"id\">1</Value>\n",
      "      <Value column=\"description\">Ocupados con más de 1 mes en el empleo actual</Value>\n",
      "      <Value column=\"es_description\">Ocupados con más de 1 mes en el empleo actual</Value>\n",
      "    </Row>\n",
      "  </Rows>\n",
      "</InlineTable>\n",
      "    \n"
     ]
    }
   ],
   "source": [
    "d7 = download_file(remote_path,local_path,'occupation_id.csv')\n",
    "print (inline_table_xml(d7, 'occupation', 'occupation_id', 'occupation'))"
   ]
  },
  {
   "cell_type": "code",
   "execution_count": 15,
   "metadata": {
    "collapsed": false
   },
   "outputs": [
    {
     "name": "stdout",
     "output_type": "stream",
     "text": [
      "\n",
      "<InlineTable alias=\"sex\">\n",
      "  <ColumnDefs>\n",
      "    <ColumnDef name=\"id\" type=\"Numeric\" />\n",
      "    <ColumnDef name=\"description\" type=\"String\" />\n",
      "    <ColumnDef name=\"es_description\" type=\"String\" />\n",
      "  </ColumnDefs>\n",
      "  <Rows>\n",
      "    <Row>\n",
      "      <Value column=\"id\">1</Value>\n",
      "      <Value column=\"description\">Hombre</Value>\n",
      "      <Value column=\"es_description\">Hombre</Value>\n",
      "    </Row>\n",
      "  <Row>\n",
      "      <Value column=\"id\">2</Value>\n",
      "      <Value column=\"description\">Mujer</Value>\n",
      "      <Value column=\"es_description\">Mujer</Value>\n",
      "    </Row>\n",
      "  </Rows>\n",
      "</InlineTable>\n",
      "    \n"
     ]
    }
   ],
   "source": [
    "d8 = download_file(remote_path,local_path,'sex_id.csv')\n",
    "print (inline_table_xml(d8, 'sex', 'sex_id', 'sex'))"
   ]
  }
 ],
 "metadata": {
  "kernelspec": {
   "display_name": "Python 3",
   "language": "python",
   "name": "python3"
  },
  "language_info": {
   "codemirror_mode": {
    "name": "ipython",
    "version": 3
   },
   "file_extension": ".py",
   "mimetype": "text/x-python",
   "name": "python",
   "nbconvert_exporter": "python",
   "pygments_lexer": "ipython3",
   "version": "3.6.0"
  }
 },
 "nbformat": 4,
 "nbformat_minor": 2
}
