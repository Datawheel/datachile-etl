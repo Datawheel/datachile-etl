{
 "cells": [
  {
   "cell_type": "markdown",
   "metadata": {},
   "source": [
    "###Main params"
   ]
  },
  {
   "cell_type": "code",
   "execution_count": 1,
   "metadata": {
    "collapsed": true
   },
   "outputs": [],
   "source": [
    "remote_path = 'http://pacha.datawheel.us/economia/nene/occupational_status/'\n",
    "\n",
    "local_path = '../data/'\n",
    "\n",
    "engine_path = 'postgresql://localhost:5432/datachile'"
   ]
  },
  {
   "cell_type": "markdown",
   "metadata": {},
   "source": [
    "###Imports"
   ]
  },
  {
   "cell_type": "code",
   "execution_count": 2,
   "metadata": {
    "collapsed": true
   },
   "outputs": [],
   "source": [
    "from urllib import request\n",
    "import zipfile\n",
    "import shutil\n",
    "import os.path\n",
    "\n",
    "import json\n",
    "import pandas as pd\n",
    "from sqlalchemy import create_engine"
   ]
  },
  {
   "cell_type": "markdown",
   "metadata": {},
   "source": [
    "###Open file function"
   ]
  },
  {
   "cell_type": "code",
   "execution_count": 3,
   "metadata": {
    "collapsed": false
   },
   "outputs": [],
   "source": [
    "def loadFile(file_name):\n",
    "    remote_file = remote_path + file_name\n",
    "    local_file = local_path + file_name\n",
    "\n",
    "    if not os.path.isfile(local_file):\n",
    "        with request.urlopen(remote_file) as remote_csv,open(local_file, 'wb') as local_csv:\n",
    "            shutil.copyfileobj(remote_csv, local_csv)\n",
    "    \n",
    "    return pd.read_csv(local_file,delimiter=\",\")"
   ]
  },
  {
   "cell_type": "markdown",
   "metadata": {},
   "source": [
    "###Load file"
   ]
  },
  {
   "cell_type": "code",
   "execution_count": 4,
   "metadata": {
    "collapsed": false
   },
   "outputs": [
    {
     "data": {
      "text/plain": [
       "['ano_encuesta',\n",
       " 'mes_encuesta',\n",
       " 'region_id',\n",
       " 'age',\n",
       " 'age_range_id',\n",
       " 'sex_id',\n",
       " 'icse_id',\n",
       " 'isco_id',\n",
       " 'isced_id',\n",
       " 'occupied_id',\n",
       " 'general_economic_condition',\n",
       " 'fact']"
      ]
     },
     "execution_count": 4,
     "metadata": {},
     "output_type": "execute_result"
    }
   ],
   "source": [
    "df = loadFile('occupational_status.csv')\n",
    "list(df)"
   ]
  },
  {
   "cell_type": "markdown",
   "metadata": {},
   "source": [
    "###Complete NaN"
   ]
  },
  {
   "cell_type": "code",
   "execution_count": 5,
   "metadata": {
    "collapsed": false
   },
   "outputs": [],
   "source": [
    "df['isco_id'] = df['isco_id'].fillna('0')\n",
    "df['icse_id'] = df['icse_id'].fillna('0')\n",
    "df['isced_id'] = df['isced_id'].fillna('0')"
   ]
  },
  {
   "cell_type": "markdown",
   "metadata": {},
   "source": [
    "###Rename, to int & load"
   ]
  },
  {
   "cell_type": "code",
   "execution_count": 6,
   "metadata": {
    "collapsed": false
   },
   "outputs": [],
   "source": [
    "df = df.rename(columns={'ano_encuesta':'year','mes_encuesta':'month'});\n",
    "df = df.astype({'year':'int','month':'int','region_id':'int','age':'int','age_range_id':'int','icse_id':'int','sex_id':'int','isced_id':'int','isco_id':'int','occupied_id':'int','icse_id':'int','general_economic_condition':'int'})\n",
    "\n",
    "engine = create_engine(engine_path)\n",
    "df.to_sql('fact_occupational_status_nene', engine, schema='economy', if_exists='replace', index=False)"
   ]
  },
  {
   "cell_type": "markdown",
   "metadata": {},
   "source": [
    "###Indexes & FK"
   ]
  },
  {
   "cell_type": "code",
   "execution_count": 7,
   "metadata": {
    "collapsed": false
   },
   "outputs": [
    {
     "data": {
      "text/plain": [
       "<sqlalchemy.engine.result.ResultProxy at 0x11000dc88>"
      ]
     },
     "execution_count": 7,
     "metadata": {},
     "output_type": "execute_result"
    }
   ],
   "source": [
    "engine.execute(\"\"\"\n",
    "ALTER TABLE economy.fact_occupational_status_nene\n",
    "  ADD COLUMN date_id INTEGER; \n",
    "\"\"\")\n",
    "\n",
    "engine.execute(\"\"\"\n",
    "UPDATE economy.fact_occupational_status_nene\n",
    "SET date_id = dim_date.id\n",
    "FROM public.dim_date\n",
    "WHERE dim_date.the_year = economy.fact_occupational_status_nene.year\n",
    "      AND dim_date.month_of_year = economy.fact_occupational_status_nene.month\n",
    "      AND dim_date.day_of_month = 1\n",
    "\"\"\")\n",
    "\n",
    "engine.execute(\"\"\"\n",
    "CREATE INDEX fact_occupational_status_nene_region_id \n",
    "ON economy.fact_occupational_status_nene (region_id)\n",
    "\"\"\")"
   ]
  }
 ],
 "metadata": {
  "kernelspec": {
   "display_name": "Python 3",
   "language": "python",
   "name": "python3"
  },
  "language_info": {
   "codemirror_mode": {
    "name": "ipython",
    "version": 3
   },
   "file_extension": ".py",
   "mimetype": "text/x-python",
   "name": "python",
   "nbconvert_exporter": "python",
   "pygments_lexer": "ipython3",
   "version": "3.6.0"
  }
 },
 "nbformat": 4,
 "nbformat_minor": 2
}
