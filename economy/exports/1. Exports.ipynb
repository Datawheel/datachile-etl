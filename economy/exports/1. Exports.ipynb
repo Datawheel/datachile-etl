{
 "cells": [
  {
   "cell_type": "code",
   "execution_count": 2,
   "metadata": {},
   "outputs": [],
   "source": [
    "URL = \"http://datos.gob.cl/dataset/a5732da8-86f6-4293-a632-f9861561a24b/resource/a8d8d55e-5635-40ff-a2b6-1cc6e7e68d67/download/dic-2017---exportaciones.rar\""
   ]
  },
  {
   "cell_type": "code",
   "execution_count": null,
   "metadata": {},
   "outputs": [],
   "source": [
    "# Create folder /data\n",
    "if not os.path.exists(\"/data\"):\n",
    "    os.makedirs(\"/data\")"
   ]
  },
  {
   "cell_type": "code",
   "execution_count": null,
   "metadata": {},
   "outputs": [],
   "source": [
    "import os\n",
    "import rarfile"
   ]
  },
  {
   "cell_type": "code",
   "execution_count": null,
   "metadata": {},
   "outputs": [],
   "source": [
    "rf = rarfile.RarFile(URL)\n",
    "print(rf)"
   ]
  },
  {
   "cell_type": "code",
   "execution_count": null,
   "metadata": {},
   "outputs": [],
   "source": [
    "FILES = [\n",
    "    { \"month\": \"dec\", \"year\": 2017, \"url\": \"http://datos.gob.cl/dataset/a5732da8-86f6-4293-a632-f9861561a24b/resource/a8d8d55e-5635-40ff-a2b6-1cc6e7e68d67/download/dic-2017---exportaciones.rar\" }\n",
    "]"
   ]
  },
  {
   "cell_type": "code",
   "execution_count": 14,
   "metadata": {},
   "outputs": [
    {
     "data": {
      "text/plain": [
       "('data/2018.rar', <http.client.HTTPMessage at 0x111c780f0>)"
      ]
     },
     "execution_count": 14,
     "metadata": {},
     "output_type": "execute_result"
    }
   ],
   "source": [
    "import os\n",
    "import urllib.request\n",
    "\n",
    "\n",
    "\n",
    "urllib.request.urlretrieve(URL, \"data/2018.rar\")"
   ]
  },
  {
   "cell_type": "code",
   "execution_count": null,
   "metadata": {},
   "outputs": [],
   "source": []
  }
 ],
 "metadata": {
  "kernelspec": {
   "display_name": "Python 3",
   "language": "python",
   "name": "python3"
  },
  "language_info": {
   "codemirror_mode": {
    "name": "ipython",
    "version": 3
   },
   "file_extension": ".py",
   "mimetype": "text/x-python",
   "name": "python",
   "nbconvert_exporter": "python",
   "pygments_lexer": "ipython3",
   "version": "3.6.4"
  }
 },
 "nbformat": 4,
 "nbformat_minor": 2
}
