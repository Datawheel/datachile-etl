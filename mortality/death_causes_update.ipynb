{
 "cells": [
  {
   "cell_type": "code",
   "execution_count": null,
   "metadata": {},
   "outputs": [],
   "source": [
    "##"
   ]
  },
  {
   "cell_type": "code",
   "execution_count": 1,
   "metadata": {},
   "outputs": [],
   "source": [
    "# Import libraries\n",
    "import pandas as pd\n",
    "import json\n",
    "import unicodedata"
   ]
  },
  {
   "cell_type": "code",
   "execution_count": 26,
   "metadata": {},
   "outputs": [],
   "source": [
    "# Definitions of ids in drilldowns\n",
    "\n",
    "sex_id = {\n",
    "    \"Mujeres\": 1, \n",
    "    \"Hombres\": 2, \n",
    "    \"Indeterminado\": 3\n",
    "}\n",
    "\n",
    "URL_regiones = \"https://docs.google.com/spreadsheets/d/e/2PACX-1vTmpNxBMYOQpFzxVENltVuRX5Z1Gvg4Sf-Wb6KqiGsdRf6-zymY-nxEgmEC2U7nTy1kd7p8AQ8GR44A/pub?gid=2066209252&single=true&output=csv\"\n",
    "df_regiones = pd.read_csv(URL_regiones)\n",
    "df_regiones[\"name\"] = df_regiones[\"name\"].str.normalize(\"NFKD\").str.encode(\"ascii\", errors=\"ignore\").str.decode(\"utf-8\").str.lower()\n",
    "region_id = dict(zip(df_regiones[\"name\"], df_regiones[\"id\"]))"
   ]
  },
  {
   "cell_type": "code",
   "execution_count": null,
   "metadata": {},
   "outputs": [],
   "source": [
    "tidy = []\n",
    "URLS = [\n",
    "    {\n",
    "        \"link\": \"http://www.deis.cl/wp-content/uploads/2016/08/3.-Defunciones-seg%C3%BAn-grupo-de-edad-regi%C3%B3n-gran-grupo-de-causas-y-sexo.-Chile-2014.xlsx\",\n",
    "        \"year\": 2014,\n",
    "        \"first_row\": 7\n",
    "    },\n",
    "    {\n",
    "        \"link\": \"http://www.deis.cl/wp-content/uploads/2016/08/3.-Defunciones-seg%C3%BAn-grupo-de-edad-regi%C3%B3n-gran-grupo-de-causas-y-sexo.-Chile-2013.xlsx\",\n",
    "        \"year\": 2013,\n",
    "        \"first_row\": 6\n",
    "    }\n",
    "]\n",
    "\n",
    "def isNaN(num):\n",
    "    return num != num"
   ]
  },
  {
   "cell_type": "markdown",
   "metadata": {},
   "source": [
    "## Extract & Transform"
   ]
  },
  {
   "cell_type": "code",
   "execution_count": 23,
   "metadata": {},
   "outputs": [],
   "source": [
    "for URL in URLS:\n",
    "    data = pd.read_excel(URL[\"link\"])\n",
    "    # Read title/subtitle of Excel\n",
    "\n",
    "    title = [ str(item).strip() for item in data.iloc[2] ]\n",
    "    subtitle = [ str(item).strip() for item in data.iloc[3] ]\n",
    "    \n",
    "    cie10 = \"\"\n",
    "    geo = \"\"\n",
    "\n",
    "    # Read data\n",
    "    for i in range(URL[\"first_row\"], len(data)):\n",
    "        frame = data.iloc[i]\n",
    "        \n",
    "        if str(frame[0]).strip() and isNaN(frame[1]) and not isNaN(frame[0]):\n",
    "            geo = (frame[0]).strip()\n",
    "        \n",
    "        age_range = \"\"\n",
    "        measure = \"\"\n",
    "\n",
    "        sex = \"\"\n",
    "        if frame[1] in [\"Hombres\", \"Mujeres\", \"Indeterminado\"]:\n",
    "            sex = frame[1]\n",
    "        \n",
    "        if frame[2] in [\"Hombres\", \"Mujeres\", \"Indeterminado\"]:\n",
    "            sex = frame[2]\n",
    "            \n",
    "        elif not isNaN(frame[1]) and not isNaN(frame[0]):\n",
    "            cie10 = frame[0].strip()\n",
    "        \n",
    "        if cie10 != \"\" and isNaN(frame[0]) and frame[1] != \"Resto de causas\":\n",
    "            for tup in list(zip(title, subtitle, frame))[4:][:-1]:\n",
    "                if tup[1] != \"nan\":\n",
    "                    age_range = tup[1]\n",
    "                if tup[2] != \"nan\":\n",
    "                    measure = tup[2]\n",
    "                if tup[0] != \"\":\n",
    "                    age_range_id = int((int(age_range.split(\" \")[0]) / 5) + 1)\n",
    "                    tidy.append({\n",
    "                        \"geo\": region_id[unicodedata.normalize(\"NFKD\", geo).encode(\"ascii\", errors=\"ignore\").decode(\"utf-8\").lower()],\n",
    "                        \"sex\": sex_id[sex],\n",
    "                        \"cie10\": cie10,\n",
    "                        \"age_range\": age_range_id,\n",
    "                        \"count\": measure,\n",
    "                        \"year\": URL[\"year\"]\n",
    "                    })"
   ]
  },
  {
   "cell_type": "markdown",
   "metadata": {},
   "source": [
    "## Load"
   ]
  },
  {
   "cell_type": "code",
   "execution_count": 24,
   "metadata": {},
   "outputs": [],
   "source": [
    "# Save data in CSV\n",
    "pd.DataFrame(tidy).to_csv(\"data/mortality.csv\", index=False)"
   ]
  },
  {
   "cell_type": "code",
   "execution_count": null,
   "metadata": {},
   "outputs": [],
   "source": [
    "pd.DataFrame(tidy).head()"
   ]
  },
  {
   "cell_type": "code",
   "execution_count": null,
   "metadata": {},
   "outputs": [],
   "source": []
  }
 ],
 "metadata": {
  "kernelspec": {
   "display_name": "Python 3",
   "language": "python",
   "name": "python3"
  },
  "language_info": {
   "codemirror_mode": {
    "name": "ipython",
    "version": 3
   },
   "file_extension": ".py",
   "mimetype": "text/x-python",
   "name": "python",
   "nbconvert_exporter": "python",
   "pygments_lexer": "ipython3",
   "version": "3.6.4"
  }
 },
 "nbformat": 4,
 "nbformat_minor": 2
}
