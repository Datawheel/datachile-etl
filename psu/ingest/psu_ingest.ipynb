{
 "cells": [
  {
   "cell_type": "markdown",
   "metadata": {},
   "source": [
    "# Import & Load PSU"
   ]
  },
  {
   "cell_type": "markdown",
   "metadata": {},
   "source": [
    "### Config"
   ]
  },
  {
   "cell_type": "code",
   "execution_count": 1,
   "metadata": {
    "collapsed": false
   },
   "outputs": [],
   "source": [
    "import sys\n",
    "import configparser\n",
    "config = configparser.ConfigParser()\n",
    "config.read_file(open('../../settings.ini'))\n",
    "\n",
    "sys.path.insert(0, config.get('PATHS','libs_path'))\n",
    "engine_path = config.get('DATABASE','engine_path')"
   ]
  },
  {
   "cell_type": "markdown",
   "metadata": {},
   "source": [
    "### Main params"
   ]
  },
  {
   "cell_type": "code",
   "execution_count": 2,
   "metadata": {
    "collapsed": false
   },
   "outputs": [],
   "source": [
    "remote_path = 'http://pacha.datawheel.us/educacion/psu/csv/'\n",
    "local_path = '../data/'"
   ]
  },
  {
   "cell_type": "markdown",
   "metadata": {},
   "source": [
    "### Imports"
   ]
  },
  {
   "cell_type": "code",
   "execution_count": 3,
   "metadata": {
    "collapsed": true
   },
   "outputs": [],
   "source": [
    "import postgres #from local file postgres.py\n",
    "from commons import inline_table_xml, download_file #from local file commons.py\n",
    "\n",
    "import json\n",
    "import pandas as pd\n",
    "from sqlalchemy import create_engine"
   ]
  },
  {
   "cell_type": "markdown",
   "metadata": {},
   "source": [
    "### Load file"
   ]
  },
  {
   "cell_type": "code",
   "execution_count": 4,
   "metadata": {
    "collapsed": false
   },
   "outputs": [
    {
     "data": {
      "text/plain": [
       "['year',\n",
       " 'comuna_datachile_id',\n",
       " 'sex_id',\n",
       " 'language_test',\n",
       " 'math_test',\n",
       " 'history_test',\n",
       " 'sciences_test',\n",
       " 'grades_to_points',\n",
       " 'ranking_points']"
      ]
     },
     "execution_count": 4,
     "metadata": {},
     "output_type": "execute_result"
    }
   ],
   "source": [
    "df = download_file(remote_path,local_path,'panel_psu_2004_2016.csv')\n",
    "df = df[['year','comuna_datachile_id','sex_id','language_test','math_test','history_test','sciences_test','grades_to_points','ranking_points']]\n",
    "\n",
    "df = df.fillna(-1);\n",
    "\n",
    "df = df.astype({'year':'int','comuna_datachile_id':'int','sex_id':'int','language_test':'int','math_test':'int','history_test':'int','sciences_test':'int','grades_to_points':'int','ranking_points':'int'})\n",
    "\n",
    "list(df)"
   ]
  },
  {
   "cell_type": "code",
   "execution_count": 5,
   "metadata": {
    "collapsed": false
   },
   "outputs": [
    {
     "data": {
      "text/plain": [
       "6218946"
      ]
     },
     "execution_count": 5,
     "metadata": {},
     "output_type": "execute_result"
    }
   ],
   "source": [
    "len(df)"
   ]
  },
  {
   "cell_type": "markdown",
   "metadata": {},
   "source": [
    "### Ingest"
   ]
  },
  {
   "cell_type": "code",
   "execution_count": 6,
   "metadata": {
    "collapsed": false
   },
   "outputs": [
    {
     "name": "stdout",
     "output_type": "stream",
     "text": [
      "CREATE SCHEMA IF NOT EXISTS education;\n",
      "DROP TABLE IF EXISTS education.fact_psu;\n",
      "CREATE TABLE \"education\".\"fact_psu\" (\n",
      "\"year\" INTEGER,\n",
      "  \"comuna_datachile_id\" INTEGER,\n",
      "  \"sex_id\" INTEGER,\n",
      "  \"language_test\" INTEGER,\n",
      "  \"math_test\" INTEGER,\n",
      "  \"history_test\" INTEGER,\n",
      "  \"sciences_test\" INTEGER,\n",
      "  \"grades_to_points\" INTEGER,\n",
      "  \"ranking_points\" INTEGER\n",
      ")\n",
      "COPY \"education\".\"fact_psu\" (\"year\",\"comuna_datachile_id\",\"sex_id\",\"language_test\",\"math_test\",\"history_test\",\"sciences_test\",\"grades_to_points\",\"ranking_points\") FROM STDIN WITH CSV HEADER DELIMITER ',';\n"
     ]
    }
   ],
   "source": [
    "engine = create_engine(engine_path)\n",
    "db = postgres.PostgresDriver(engine)\n",
    "db.to_sql(df, 'education', 'fact_psu')"
   ]
  },
  {
   "cell_type": "markdown",
   "metadata": {},
   "source": [
    "### Indexes & FK"
   ]
  },
  {
   "cell_type": "code",
   "execution_count": 7,
   "metadata": {
    "collapsed": false
   },
   "outputs": [
    {
     "data": {
      "text/plain": [
       "<sqlalchemy.engine.result.ResultProxy at 0x126d37d68>"
      ]
     },
     "execution_count": 7,
     "metadata": {},
     "output_type": "execute_result"
    }
   ],
   "source": [
    "engine.execute(\"\"\"\n",
    "CREATE INDEX fact_psu_comuna_id \n",
    "ON education.fact_psu (comuna_datachile_id)\n",
    "\"\"\")\n",
    "\n",
    "engine.execute(\"\"\"\n",
    "ALTER TABLE education.fact_psu\n",
    "  ADD COLUMN date_id INTEGER; \n",
    "\"\"\")\n",
    "\n",
    "engine.execute(\"\"\"\n",
    "UPDATE education.fact_psu\n",
    "SET date_id = dim_date.id\n",
    "FROM public.dim_date\n",
    "WHERE dim_date.the_year = education.fact_psu.year\n",
    "      AND dim_date.month_of_year = 1\n",
    "      AND dim_date.day_of_month = 1\n",
    "\"\"\")\n"
   ]
  },
  {
   "cell_type": "code",
   "execution_count": 8,
   "metadata": {
    "collapsed": false
   },
   "outputs": [
    {
     "data": {
      "text/plain": [
       "<sqlalchemy.engine.result.ResultProxy at 0x10b29e828>"
      ]
     },
     "execution_count": 8,
     "metadata": {},
     "output_type": "execute_result"
    }
   ],
   "source": [
    "engine.execute(\"\"\"\n",
    "UPDATE education.fact_psu SET language_test = NULL where language_test = -1;\n",
    "UPDATE education.fact_psu SET math_test = NULL where math_test = -1;\n",
    "UPDATE education.fact_psu SET history_test = NULL where history_test = -1;\n",
    "UPDATE education.fact_psu SET sciences_test = NULL where sciences_test = -1;\n",
    "UPDATE education.fact_psu SET grades_to_points = NULL where grades_to_points = -1;\n",
    "UPDATE education.fact_psu SET ranking_points = NULL where ranking_points = -1;\n",
    "\"\"\")"
   ]
  },
  {
   "cell_type": "markdown",
   "metadata": {},
   "source": [
    "### Dims"
   ]
  },
  {
   "cell_type": "markdown",
   "metadata": {},
   "source": [
    "Sex_id"
   ]
  },
  {
   "cell_type": "markdown",
   "metadata": {},
   "source": [
    "```xml\n",
    "<InlineTable alias=\"sex\">\n",
    "  <ColumnDefs>\n",
    "    <ColumnDef name=\"id\" type=\"Numeric\" />\n",
    "    <ColumnDef name=\"description\" type=\"String\" />\n",
    "    <ColumnDef name=\"es_description\" type=\"String\" />\n",
    "  </ColumnDefs>\n",
    "  <Rows>\n",
    "    <Row>\n",
    "      <Value column=\"id\">0</Value>\n",
    "      <Value column=\"description\">No informa</Value>\n",
    "      <Value column=\"es_description\">No informa</Value>\n",
    "    </Row>\n",
    "  <Row>\n",
    "      <Value column=\"id\">1</Value>\n",
    "      <Value column=\"description\">Women</Value>\n",
    "      <Value column=\"es_description\">Mujer</Value>\n",
    "    </Row>\n",
    "  <Row>\n",
    "      <Value column=\"id\">2</Value>\n",
    "      <Value column=\"description\">Men</Value>\n",
    "      <Value column=\"es_description\">Hombre</Value>\n",
    "    </Row>\n",
    "  </Rows>\n",
    "</InlineTable>\n",
    "```"
   ]
  }
 ],
 "metadata": {
  "kernelspec": {
   "display_name": "Python 3",
   "language": "python",
   "name": "python3"
  },
  "language_info": {
   "codemirror_mode": {
    "name": "ipython",
    "version": 3
   },
   "file_extension": ".py",
   "mimetype": "text/x-python",
   "name": "python",
   "nbconvert_exporter": "python",
   "pygments_lexer": "ipython3",
   "version": "3.6.0"
  }
 },
 "nbformat": 4,
 "nbformat_minor": 2
}
