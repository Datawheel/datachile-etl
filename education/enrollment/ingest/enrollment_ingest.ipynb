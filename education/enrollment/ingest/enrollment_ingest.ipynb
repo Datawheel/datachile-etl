{
 "cells": [
  {
   "cell_type": "markdown",
   "metadata": {},
   "source": [
    "# Import & Load Enrollment data"
   ]
  },
  {
   "cell_type": "markdown",
   "metadata": {},
   "source": [
    "### Config"
   ]
  },
  {
   "cell_type": "code",
   "execution_count": 1,
   "metadata": {
    "collapsed": false
   },
   "outputs": [],
   "source": [
    "import sys\n",
    "import configparser\n",
    "config = configparser.ConfigParser()\n",
    "config.read_file(open('../../../settings.ini'))\n",
    "\n",
    "sys.path.insert(0, config.get('PATHS','libs_path'))\n",
    "engine_path = config.get('DATABASE','engine_path')"
   ]
  },
  {
   "cell_type": "markdown",
   "metadata": {},
   "source": [
    "### Main params"
   ]
  },
  {
   "cell_type": "code",
   "execution_count": 2,
   "metadata": {
    "collapsed": false
   },
   "outputs": [],
   "source": [
    "remote_path = 'http://pacha.datawheel.us/educacion/establecimientos/analysis/1_matricula/'\n",
    "local_path = '../data/'"
   ]
  },
  {
   "cell_type": "markdown",
   "metadata": {},
   "source": [
    "### Imports"
   ]
  },
  {
   "cell_type": "code",
   "execution_count": 3,
   "metadata": {
    "collapsed": false
   },
   "outputs": [],
   "source": [
    "import postgres #from local file postgres.py\n",
    "from commons import inline_table_xml, download_file, download_zip_file, extract_zip_file #from local file commons.py\n",
    "\n",
    "import json\n",
    "import pandas as pd\n",
    "from sqlalchemy import create_engine"
   ]
  },
  {
   "cell_type": "markdown",
   "metadata": {},
   "source": [
    "### Load file"
   ]
  },
  {
   "cell_type": "code",
   "execution_count": 4,
   "metadata": {
    "collapsed": false
   },
   "outputs": [
    {
     "name": "stdout",
     "output_type": "stream",
     "text": [
      "Downloading... http://pacha.datawheel.us/educacion/establecimientos/analysis/1_matricula/datos_matricula.zip\n",
      "Unzipping... ../data/temp.zip\n"
     ]
    },
    {
     "data": {
      "text/plain": [
       "True"
      ]
     },
     "execution_count": 4,
     "metadata": {},
     "output_type": "execute_result"
    }
   ],
   "source": [
    "#Download and unzip\n",
    "download_zip_file(remote_path,local_path,'datos_matricula.zip')\n",
    "extract_zip_file(local_path,'temp.zip')"
   ]
  },
  {
   "cell_type": "code",
   "execution_count": 5,
   "metadata": {
    "collapsed": false
   },
   "outputs": [
    {
     "data": {
      "text/plain": [
       "['year',\n",
       " 'institution_id',\n",
       " 'administration_id',\n",
       " 'rural_id',\n",
       " 'teaching_id',\n",
       " 'sex_id',\n",
       " 'age',\n",
       " 'comuna_datachile_id']"
      ]
     },
     "execution_count": 5,
     "metadata": {},
     "output_type": "execute_result"
    }
   ],
   "source": [
    "#Open unzipped file\n",
    "df = pd.read_csv(local_path+'analysis/1_matricula/datos_matricula.csv',delimiter=\",\")\n",
    "df[['age']] = df[['age']].fillna(value=-1)\n",
    "df = df.astype({'year':'int','comuna_datachile_id':'int','sex_id':'int','institution_id':'int','administration_id':'int','rural_id':'int','teaching_id':'int','age':'int'})\n",
    "\n",
    "list(df)"
   ]
  },
  {
   "cell_type": "markdown",
   "metadata": {},
   "source": [
    "### Ingest"
   ]
  },
  {
   "cell_type": "code",
   "execution_count": 6,
   "metadata": {
    "collapsed": false
   },
   "outputs": [
    {
     "name": "stdout",
     "output_type": "stream",
     "text": [
      "CREATE SCHEMA IF NOT EXISTS education;\n",
      "DROP TABLE IF EXISTS education.fact_enrollment;\n",
      "CREATE TABLE \"education\".\"fact_enrollment\" (\n",
      "\"year\" INTEGER,\n",
      "  \"institution_id\" INTEGER,\n",
      "  \"administration_id\" INTEGER,\n",
      "  \"rural_id\" INTEGER,\n",
      "  \"teaching_id\" INTEGER,\n",
      "  \"sex_id\" INTEGER,\n",
      "  \"age\" INTEGER,\n",
      "  \"comuna_datachile_id\" INTEGER\n",
      ")\n",
      "COPY \"education\".\"fact_enrollment\" (\"year\",\"institution_id\",\"administration_id\",\"rural_id\",\"teaching_id\",\"sex_id\",\"age\",\"comuna_datachile_id\") FROM STDIN WITH CSV HEADER DELIMITER ',';\n"
     ]
    }
   ],
   "source": [
    "engine = create_engine(engine_path)\n",
    "db = postgres.PostgresDriver(engine)\n",
    "db.to_sql(df, 'education', 'fact_enrollment')"
   ]
  },
  {
   "cell_type": "markdown",
   "metadata": {},
   "source": [
    "### Indexes & FK"
   ]
  },
  {
   "cell_type": "code",
   "execution_count": 7,
   "metadata": {
    "collapsed": false
   },
   "outputs": [
    {
     "data": {
      "text/plain": [
       "<sqlalchemy.engine.result.ResultProxy at 0x114e87e80>"
      ]
     },
     "execution_count": 7,
     "metadata": {},
     "output_type": "execute_result"
    }
   ],
   "source": [
    "engine.execute(\"\"\"\n",
    "CREATE INDEX fact_enrollment_comuna_id \n",
    "ON education.fact_enrollment (comuna_datachile_id)\n",
    "\"\"\")\n",
    "\n",
    "engine.execute(\"\"\"\n",
    "ALTER TABLE education.fact_enrollment\n",
    "  ADD COLUMN date_id INTEGER; \n",
    "\"\"\")\n",
    "\n",
    "engine.execute(\"\"\"\n",
    "UPDATE education.fact_enrollment\n",
    "SET date_id = dim_date.id\n",
    "FROM public.dim_date\n",
    "WHERE dim_date.the_year = education.fact_enrollment.year\n",
    "      AND dim_date.month_of_year = 1\n",
    "      AND dim_date.day_of_month = 1\n",
    "\"\"\")\n"
   ]
  },
  {
   "cell_type": "code",
   "execution_count": 8,
   "metadata": {
    "collapsed": false
   },
   "outputs": [
    {
     "data": {
      "text/plain": [
       "<sqlalchemy.engine.result.ResultProxy at 0x114e12320>"
      ]
     },
     "execution_count": 8,
     "metadata": {},
     "output_type": "execute_result"
    }
   ],
   "source": [
    "engine.execute(\"\"\"\n",
    "UPDATE education.fact_enrollment SET age = NULL where age = -1;\n",
    "\"\"\")"
   ]
  },
  {
   "cell_type": "markdown",
   "metadata": {},
   "source": [
    "### Dims"
   ]
  },
  {
   "cell_type": "markdown",
   "metadata": {},
   "source": [
    "Sex_id"
   ]
  },
  {
   "cell_type": "markdown",
   "metadata": {},
   "source": [
    "```xml\n",
    "<InlineTable alias=\"sex\">\n",
    "  <ColumnDefs>\n",
    "    <ColumnDef name=\"id\" type=\"Numeric\" />\n",
    "    <ColumnDef name=\"description\" type=\"String\" />\n",
    "    <ColumnDef name=\"es_description\" type=\"String\" />\n",
    "  </ColumnDefs>\n",
    "  <Rows>\n",
    "    <Row>\n",
    "      <Value column=\"id\">0</Value>\n",
    "      <Value column=\"description\">No informa</Value>\n",
    "      <Value column=\"es_description\">No informa</Value>\n",
    "    </Row>\n",
    "  <Row>\n",
    "      <Value column=\"id\">1</Value>\n",
    "      <Value column=\"description\">Women</Value>\n",
    "      <Value column=\"es_description\">Mujer</Value>\n",
    "    </Row>\n",
    "  <Row>\n",
    "      <Value column=\"id\">2</Value>\n",
    "      <Value column=\"description\">Men</Value>\n",
    "      <Value column=\"es_description\">Hombre</Value>\n",
    "    </Row>\n",
    "  </Rows>\n",
    "</InlineTable>\n",
    "```"
   ]
  },
  {
   "cell_type": "code",
   "execution_count": 9,
   "metadata": {
    "collapsed": false
   },
   "outputs": [
    {
     "name": "stdout",
     "output_type": "stream",
     "text": [
      "Downloading....  http://pacha.datawheel.us/educacion/establecimientos/analysis/1_matricula/administration_id.csv\n",
      "\n",
      "<InlineTable alias=\"administration\">\n",
      "  <ColumnDefs>\n",
      "    <ColumnDef name=\"id\" type=\"Numeric\" />\n",
      "    <ColumnDef name=\"description\" type=\"String\" />\n",
      "    <ColumnDef name=\"es_description\" type=\"String\" />\n",
      "  </ColumnDefs>\n",
      "  <Rows>\n",
      "    <Row>\n",
      "      <Value column=\"id\">0</Value>\n",
      "      <Value column=\"description\">nan</Value>\n",
      "      <Value column=\"es_description\">nan</Value>\n",
      "    </Row>\n",
      "  <Row>\n",
      "      <Value column=\"id\">1</Value>\n",
      "      <Value column=\"description\">Corporaciรณn Municipal</Value>\n",
      "      <Value column=\"es_description\">Corporaciรณn Municipal</Value>\n",
      "    </Row>\n",
      "  <Row>\n",
      "      <Value column=\"id\">2</Value>\n",
      "      <Value column=\"description\">Municipal DAEM</Value>\n",
      "      <Value column=\"es_description\">Municipal DAEM</Value>\n",
      "    </Row>\n",
      "  <Row>\n",
      "      <Value column=\"id\">3</Value>\n",
      "      <Value column=\"description\">Particular Subvencionado</Value>\n",
      "      <Value column=\"es_description\">Particular Subvencionado</Value>\n",
      "    </Row>\n",
      "  <Row>\n",
      "      <Value column=\"id\">4</Value>\n",
      "      <Value column=\"description\">Particular Pagado</Value>\n",
      "      <Value column=\"es_description\">Particular Pagado</Value>\n",
      "    </Row>\n",
      "  <Row>\n",
      "      <Value column=\"id\">5</Value>\n",
      "      <Value column=\"description\">Corporaciรณn de Administraciรณn Delegada</Value>\n",
      "      <Value column=\"es_description\">Corporaciรณn de Administraciรณn Delegada</Value>\n",
      "    </Row>\n",
      "  </Rows>\n",
      "</InlineTable>\n",
      "    \n"
     ]
    }
   ],
   "source": [
    "d2 = download_file(remote_path,local_path,'administration_id.csv')\n",
    "print (inline_table_xml(d2, 'administration', 'administration_id', 'administration'))"
   ]
  },
  {
   "cell_type": "code",
   "execution_count": 10,
   "metadata": {
    "collapsed": false
   },
   "outputs": [
    {
     "name": "stdout",
     "output_type": "stream",
     "text": [
      "Downloading....  http://pacha.datawheel.us/educacion/establecimientos/analysis/1_matricula/rural_id.csv\n",
      "\n",
      "<InlineTable alias=\"rural\">\n",
      "  <ColumnDefs>\n",
      "    <ColumnDef name=\"id\" type=\"Numeric\" />\n",
      "    <ColumnDef name=\"description\" type=\"String\" />\n",
      "    <ColumnDef name=\"es_description\" type=\"String\" />\n",
      "  </ColumnDefs>\n",
      "  <Rows>\n",
      "    <Row>\n",
      "      <Value column=\"id\">0</Value>\n",
      "      <Value column=\"description\">nan</Value>\n",
      "      <Value column=\"es_description\">nan</Value>\n",
      "    </Row>\n",
      "  <Row>\n",
      "      <Value column=\"id\">1</Value>\n",
      "      <Value column=\"description\">Urbano</Value>\n",
      "      <Value column=\"es_description\">Urbano</Value>\n",
      "    </Row>\n",
      "  <Row>\n",
      "      <Value column=\"id\">2</Value>\n",
      "      <Value column=\"description\">Rural</Value>\n",
      "      <Value column=\"es_description\">Rural</Value>\n",
      "    </Row>\n",
      "  </Rows>\n",
      "</InlineTable>\n",
      "    \n"
     ]
    }
   ],
   "source": [
    "d3 = download_file(remote_path,local_path,'rural_id.csv')\n",
    "print (inline_table_xml(d3, 'rural', 'rural_id', 'rural'))"
   ]
  }
 ],
 "metadata": {
  "kernelspec": {
   "display_name": "Python 3",
   "language": "python",
   "name": "python3"
  },
  "language_info": {
   "codemirror_mode": {
    "name": "ipython",
    "version": 3
   },
   "file_extension": ".py",
   "mimetype": "text/x-python",
   "name": "python",
   "nbconvert_exporter": "python",
   "pygments_lexer": "ipython3",
   "version": "3.6.0"
  }
 },
 "nbformat": 4,
 "nbformat_minor": 2
}
