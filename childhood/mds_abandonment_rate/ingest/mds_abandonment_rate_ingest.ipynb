{
 "cells": [
  {
   "cell_type": "markdown",
   "metadata": {},
   "source": [
    "# Import & Load Abandonment Data"
   ]
  },
  {
   "cell_type": "markdown",
   "metadata": {},
   "source": [
    "### Configuration"
   ]
  },
  {
   "cell_type": "code",
   "execution_count": 1,
   "metadata": {},
   "outputs": [],
   "source": [
    "import sys\n",
    "import configparser\n",
    "config = configparser.ConfigParser()\n",
    "config.read_file(open('../../../settings.ini'))\n",
    "\n",
    "sys.path.insert(0, config.get('PATHS','libs_path'))\n",
    "engine_path = config.get('DATABASE','engine_path')"
   ]
  },
  {
   "cell_type": "markdown",
   "metadata": {},
   "source": [
    "### Main Parameters"
   ]
  },
  {
   "cell_type": "code",
   "execution_count": 2,
   "metadata": {},
   "outputs": [],
   "source": [
    "remote_path = ''\n",
    "local_path = '../data_final/'"
   ]
  },
  {
   "cell_type": "code",
   "execution_count": 3,
   "metadata": {},
   "outputs": [],
   "source": [
    "import postgres #from local file postgres.py\n",
    "from commons import inline_table_xml, download_file, download_zip_file, extract_zip_file #from local file commons.py\n",
    "\n",
    "import json\n",
    "import pandas as pd\n",
    "from sqlalchemy import create_engine"
   ]
  },
  {
   "cell_type": "markdown",
   "metadata": {},
   "source": [
    "### Load File"
   ]
  },
  {
   "cell_type": "code",
   "execution_count": 4,
   "metadata": {},
   "outputs": [
    {
     "data": {
      "text/plain": [
       "['comuna_id', 'year', 'education_id', 'promotion_id', 'total']"
      ]
     },
     "execution_count": 4,
     "metadata": {},
     "output_type": "execute_result"
    }
   ],
   "source": [
    "#Open unzipped file\n",
    "df = pd.read_csv(local_path + 'mds_abandonment_rate.csv', delimiter = \",\")\n",
    "df = df[['comuna_id', 'year', 'education_id', 'promotion_id', 'total']]\n",
    "df = df.astype({'comuna_id':'int', 'year':'int', 'education_id':'int', 'promotion_id':'int', 'total':'int'})\n",
    "list(df)"
   ]
  },
  {
   "cell_type": "markdown",
   "metadata": {},
   "source": [
    "### Ingest"
   ]
  },
  {
   "cell_type": "code",
   "execution_count": 5,
   "metadata": {},
   "outputs": [
    {
     "name": "stdout",
     "output_type": "stream",
     "text": [
      "DROP TABLE IF EXISTS childhood.fact_abandonment;\n",
      "CREATE TABLE \"childhood\".\"fact_abandonment\" (\n",
      "\"comuna_id\" INTEGER,\n",
      "  \"year\" INTEGER,\n",
      "  \"education_id\" INTEGER,\n",
      "  \"promotion_id\" INTEGER,\n",
      "  \"total\" INTEGER\n",
      ")\n",
      "COPY \"childhood\".\"fact_abandonment\" (\"comuna_id\",\"year\",\"education_id\",\"promotion_id\",\"total\") FROM STDIN WITH CSV HEADER DELIMITER ',';\n"
     ]
    }
   ],
   "source": [
    "engine = create_engine(engine_path)\n",
    "db = postgres.PostgresDriver(engine)\n",
    "db.to_sql(df, 'childhood', 'fact_abandonment')"
   ]
  },
  {
   "cell_type": "markdown",
   "metadata": {},
   "source": [
    "### Add Indices to Foreign Keys"
   ]
  },
  {
   "cell_type": "code",
   "execution_count": 6,
   "metadata": {},
   "outputs": [
    {
     "data": {
      "text/plain": [
       "<sqlalchemy.engine.result.ResultProxy at 0x10f16dc88>"
      ]
     },
     "execution_count": 6,
     "metadata": {},
     "output_type": "execute_result"
    }
   ],
   "source": [
    "engine.execute(\"\"\"\n",
    "CREATE INDEX fact_abandonment_comuna_id_index \n",
    "ON childhood.fact_abandonment (comuna_id)\n",
    "\"\"\")\n",
    "\n",
    "engine.execute(\"\"\"\n",
    "CREATE INDEX fact_abandonment_year_index \n",
    "ON childhood.fact_abandonment (\"year\");\n",
    "\"\"\")"
   ]
  },
  {
   "cell_type": "markdown",
   "metadata": {},
   "source": [
    "### Relation tables"
   ]
  },
  {
   "cell_type": "code",
   "execution_count": 11,
   "metadata": {
    "scrolled": false
   },
   "outputs": [
    {
     "name": "stdout",
     "output_type": "stream",
     "text": [
      "Already downloaded. Using: ../data_final/promotion.csv\n",
      "\n",
      "<InlineTable alias=\"prom_id\">\n",
      "  <ColumnDefs>\n",
      "    <ColumnDef name=\"id\" type=\"Numeric\" />\n",
      "    <ColumnDef name=\"description\" type=\"String\" />\n",
      "    <ColumnDef name=\"es_description\" type=\"String\" />\n",
      "  </ColumnDefs>\n",
      "  <Rows>\n",
      "    <Row>\n",
      "      <Value column=\"id\">Promoted</Value>\n",
      "      <Value column=\"description\">Aprobados</Value>\n",
      "      <Value column=\"es_description\">Aprobados</Value>\n",
      "    </Row>\n",
      "  <Row>\n",
      "      <Value column=\"id\">Repeated</Value>\n",
      "      <Value column=\"description\">Reprobados</Value>\n",
      "      <Value column=\"es_description\">Reprobados</Value>\n",
      "    </Row>\n",
      "  <Row>\n",
      "      <Value column=\"id\">Abandoned</Value>\n",
      "      <Value column=\"description\">Abandonos</Value>\n",
      "      <Value column=\"es_description\">Abandonos</Value>\n",
      "    </Row>\n",
      "  </Rows>\n",
      "</InlineTable>\n",
      "    \n"
     ]
    }
   ],
   "source": [
    "d2 = download_file(remote_path, local_path, 'promotion.csv')\n",
    "print(inline_table_xml(d2, 'prom_id', 'name_en', 'name_es'))"
   ]
  },
  {
   "cell_type": "code",
   "execution_count": 12,
   "metadata": {},
   "outputs": [
    {
     "name": "stdout",
     "output_type": "stream",
     "text": [
      "Already downloaded. Using: ../data_final/education.csv\n",
      "\n",
      "<InlineTable alias=\"edu_id\">\n",
      "  <ColumnDefs>\n",
      "    <ColumnDef name=\"id\" type=\"Numeric\" />\n",
      "    <ColumnDef name=\"description\" type=\"String\" />\n",
      "    <ColumnDef name=\"es_description\" type=\"String\" />\n",
      "  </ColumnDefs>\n",
      "  <Rows>\n",
      "    <Row>\n",
      "      <Value column=\"id\">Elementary School</Value>\n",
      "      <Value column=\"description\">Enseñanza Básica</Value>\n",
      "      <Value column=\"es_description\">Enseñanza Básica</Value>\n",
      "    </Row>\n",
      "  <Row>\n",
      "      <Value column=\"id\">High School</Value>\n",
      "      <Value column=\"description\">Enseñanza Media</Value>\n",
      "      <Value column=\"es_description\">Enseñanza Media</Value>\n",
      "    </Row>\n",
      "  </Rows>\n",
      "</InlineTable>\n",
      "    \n"
     ]
    }
   ],
   "source": [
    "d3 = download_file(remote_path, local_path, 'education.csv')\n",
    "print(inline_table_xml(d3, 'edu_id', 'name_en', 'name_es'))"
   ]
  },
  {
   "cell_type": "code",
   "execution_count": null,
   "metadata": {},
   "outputs": [],
   "source": []
  }
 ],
 "metadata": {
  "kernelspec": {
   "display_name": "Python 3",
   "language": "python",
   "name": "python3"
  },
  "language_info": {
   "codemirror_mode": {
    "name": "ipython",
    "version": 3
   },
   "file_extension": ".py",
   "mimetype": "text/x-python",
   "name": "python",
   "nbconvert_exporter": "python",
   "pygments_lexer": "ipython3",
   "version": "3.7.0"
  }
 },
 "nbformat": 4,
 "nbformat_minor": 2
}
