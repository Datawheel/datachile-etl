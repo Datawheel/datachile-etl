{
 "cells": [
  {
   "cell_type": "markdown",
   "metadata": {},
   "source": [
    "# Import & Load population data"
   ]
  },
  {
   "cell_type": "markdown",
   "metadata": {},
   "source": [
    "### Config"
   ]
  },
  {
   "cell_type": "code",
   "execution_count": 1,
   "metadata": {
    "collapsed": false
   },
   "outputs": [],
   "source": [
    "import sys\n",
    "import configparser\n",
    "config = configparser.ConfigParser()\n",
    "config.read_file(open('../../../settings.ini'))\n",
    "\n",
    "sys.path.insert(0, config.get('PATHS','libs_path'))\n",
    "engine_path = config.get('DATABASE','engine_path')"
   ]
  },
  {
   "cell_type": "markdown",
   "metadata": {},
   "source": [
    "### Main params"
   ]
  },
  {
   "cell_type": "code",
   "execution_count": 2,
   "metadata": {
    "collapsed": false
   },
   "outputs": [],
   "source": [
    "remote_path = 'http://pacha.datawheel.us/population/'\n",
    "local_path = '../data/'"
   ]
  },
  {
   "cell_type": "markdown",
   "metadata": {},
   "source": [
    "### Imports"
   ]
  },
  {
   "cell_type": "code",
   "execution_count": 3,
   "metadata": {
    "collapsed": true
   },
   "outputs": [],
   "source": [
    "import postgres #from local file postgres.py\n",
    "from commons import inline_table_xml, download_file #from local file commons.py\n",
    "\n",
    "import json\n",
    "import pandas as pd\n",
    "from sqlalchemy import create_engine"
   ]
  },
  {
   "cell_type": "markdown",
   "metadata": {},
   "source": [
    "### Load file"
   ]
  },
  {
   "cell_type": "code",
   "execution_count": 4,
   "metadata": {
    "collapsed": false
   },
   "outputs": [
    {
     "name": "stdout",
     "output_type": "stream",
     "text": [
      "Downloading... http://pacha.datawheel.us/population/population_2005_2020.csv\n",
      "Encoding: ascii\n"
     ]
    },
    {
     "data": {
      "text/plain": [
       "['year', 'comuna_datachile_id', 'sex_id', 'age_range_id', 'count']"
      ]
     },
     "execution_count": 4,
     "metadata": {},
     "output_type": "execute_result"
    }
   ],
   "source": [
    "df = download_file(remote_path,local_path,'population_2005_2020.csv')\n",
    "#df = df.rename(columns={'zona':'zone_id','region':'region_id','household_weights':'weights'});\n",
    "df = df.astype({'sex_id':'int','age_range_id':'int','year':'int','count':'int'})\n",
    "list(df)"
   ]
  },
  {
   "cell_type": "markdown",
   "metadata": {},
   "source": [
    "### Ingest"
   ]
  },
  {
   "cell_type": "code",
   "execution_count": 5,
   "metadata": {
    "collapsed": false
   },
   "outputs": [
    {
     "name": "stdout",
     "output_type": "stream",
     "text": [
      "DROP TABLE IF EXISTS demographics.fact_population_estimate;\n",
      "CREATE TABLE \"demographics\".\"fact_population_estimate\" (\n",
      "\"year\" INTEGER,\n",
      "  \"comuna_datachile_id\" INTEGER,\n",
      "  \"sex_id\" INTEGER,\n",
      "  \"age_range_id\" INTEGER,\n",
      "  \"count\" INTEGER\n",
      ")\n",
      "COPY \"demographics\".\"fact_population_estimate\" (\"year\",\"comuna_datachile_id\",\"sex_id\",\"age_range_id\",\"count\") FROM STDIN WITH CSV HEADER DELIMITER ',';\n"
     ]
    }
   ],
   "source": [
    "engine = create_engine(engine_path)\n",
    "db = postgres.PostgresDriver(engine)\n",
    "db.to_sql(df, 'demographics', 'fact_population_estimate')"
   ]
  },
  {
   "cell_type": "markdown",
   "metadata": {},
   "source": [
    "### Indexes & FK"
   ]
  },
  {
   "cell_type": "code",
   "execution_count": 6,
   "metadata": {
    "collapsed": false
   },
   "outputs": [
    {
     "data": {
      "text/plain": [
       "<sqlalchemy.engine.result.ResultProxy at 0x11839c908>"
      ]
     },
     "execution_count": 6,
     "metadata": {},
     "output_type": "execute_result"
    }
   ],
   "source": [
    "engine.execute(\"\"\"\n",
    "CREATE INDEX fact_population_estimate_comuna_datachile_id \n",
    "ON demographics.fact_population_estimate (comuna_datachile_id)\n",
    "\"\"\")\n",
    "\n",
    "engine.execute(\"\"\"\n",
    "ALTER TABLE demographics.fact_population_estimate\n",
    "  ADD COLUMN date_id INTEGER; \n",
    "\"\"\")\n",
    "\n",
    "engine.execute(\"\"\"\n",
    "UPDATE demographics.fact_population_estimate\n",
    "SET date_id = dim_date.id\n",
    "FROM public.dim_date\n",
    "WHERE dim_date.the_year = demographics.fact_population_estimate.year\n",
    "      AND dim_date.month_of_year = 1\n",
    "      AND dim_date.day_of_month = 1\n",
    "\"\"\")"
   ]
  },
  {
   "cell_type": "markdown",
   "metadata": {},
   "source": [
    "### Related dim age Range - Diferent from "
   ]
  },
  {
   "cell_type": "code",
   "execution_count": 7,
   "metadata": {
    "collapsed": false
   },
   "outputs": [
    {
     "name": "stdout",
     "output_type": "stream",
     "text": [
      "Downloading... http://pacha.datawheel.us/population/age_range_id.csv\n",
      "Encoding: ascii\n",
      "\n",
      "<InlineTable alias=\"age_range\">\n",
      "  <ColumnDefs>\n",
      "    <ColumnDef name=\"id\" type=\"Numeric\" />\n",
      "    <ColumnDef name=\"description\" type=\"String\" />\n",
      "    <ColumnDef name=\"es_description\" type=\"String\" />\n",
      "  </ColumnDefs>\n",
      "  <Rows>\n",
      "    <Row>\n",
      "      <Value column=\"id\">1</Value>\n",
      "      <Value column=\"description\">age_0_4</Value>\n",
      "      <Value column=\"es_description\">age_0_4</Value>\n",
      "    </Row>\n",
      "  <Row>\n",
      "      <Value column=\"id\">2</Value>\n",
      "      <Value column=\"description\">age_5_9</Value>\n",
      "      <Value column=\"es_description\">age_5_9</Value>\n",
      "    </Row>\n",
      "  <Row>\n",
      "      <Value column=\"id\">3</Value>\n",
      "      <Value column=\"description\">age_10_14</Value>\n",
      "      <Value column=\"es_description\">age_10_14</Value>\n",
      "    </Row>\n",
      "  <Row>\n",
      "      <Value column=\"id\">4</Value>\n",
      "      <Value column=\"description\">age_15_19</Value>\n",
      "      <Value column=\"es_description\">age_15_19</Value>\n",
      "    </Row>\n",
      "  <Row>\n",
      "      <Value column=\"id\">5</Value>\n",
      "      <Value column=\"description\">age_20_24</Value>\n",
      "      <Value column=\"es_description\">age_20_24</Value>\n",
      "    </Row>\n",
      "  <Row>\n",
      "      <Value column=\"id\">6</Value>\n",
      "      <Value column=\"description\">age_25_29</Value>\n",
      "      <Value column=\"es_description\">age_25_29</Value>\n",
      "    </Row>\n",
      "  <Row>\n",
      "      <Value column=\"id\">7</Value>\n",
      "      <Value column=\"description\">age_30_34</Value>\n",
      "      <Value column=\"es_description\">age_30_34</Value>\n",
      "    </Row>\n",
      "  <Row>\n",
      "      <Value column=\"id\">8</Value>\n",
      "      <Value column=\"description\">age_35_39</Value>\n",
      "      <Value column=\"es_description\">age_35_39</Value>\n",
      "    </Row>\n",
      "  <Row>\n",
      "      <Value column=\"id\">9</Value>\n",
      "      <Value column=\"description\">age_40_44</Value>\n",
      "      <Value column=\"es_description\">age_40_44</Value>\n",
      "    </Row>\n",
      "  <Row>\n",
      "      <Value column=\"id\">10</Value>\n",
      "      <Value column=\"description\">age_45_49</Value>\n",
      "      <Value column=\"es_description\">age_45_49</Value>\n",
      "    </Row>\n",
      "  <Row>\n",
      "      <Value column=\"id\">11</Value>\n",
      "      <Value column=\"description\">age_50_54</Value>\n",
      "      <Value column=\"es_description\">age_50_54</Value>\n",
      "    </Row>\n",
      "  <Row>\n",
      "      <Value column=\"id\">12</Value>\n",
      "      <Value column=\"description\">age_55_59</Value>\n",
      "      <Value column=\"es_description\">age_55_59</Value>\n",
      "    </Row>\n",
      "  <Row>\n",
      "      <Value column=\"id\">13</Value>\n",
      "      <Value column=\"description\">age_60_64</Value>\n",
      "      <Value column=\"es_description\">age_60_64</Value>\n",
      "    </Row>\n",
      "  <Row>\n",
      "      <Value column=\"id\">14</Value>\n",
      "      <Value column=\"description\">age_65_69</Value>\n",
      "      <Value column=\"es_description\">age_65_69</Value>\n",
      "    </Row>\n",
      "  <Row>\n",
      "      <Value column=\"id\">15</Value>\n",
      "      <Value column=\"description\">age_70_74</Value>\n",
      "      <Value column=\"es_description\">age_70_74</Value>\n",
      "    </Row>\n",
      "  <Row>\n",
      "      <Value column=\"id\">16</Value>\n",
      "      <Value column=\"description\">age_75_79</Value>\n",
      "      <Value column=\"es_description\">age_75_79</Value>\n",
      "    </Row>\n",
      "  <Row>\n",
      "      <Value column=\"id\">17</Value>\n",
      "      <Value column=\"description\">age_80_and_more</Value>\n",
      "      <Value column=\"es_description\">age_80_and_more</Value>\n",
      "    </Row>\n",
      "  </Rows>\n",
      "</InlineTable>\n",
      "    \n"
     ]
    }
   ],
   "source": [
    "d0 = download_file(remote_path,local_path,'age_range_id.csv')\n",
    "print (inline_table_xml(d0, 'age_range', 'age_range_id', 'age_range'))"
   ]
  },
  {
   "cell_type": "markdown",
   "metadata": {},
   "source": [
    "### Use common dim for sex_id"
   ]
  },
  {
   "cell_type": "markdown",
   "metadata": {},
   "source": [
    "```xml\n",
    "<Dimension name=\"Sex\">\n",
    "    <Hierarchy hasAll=\"true\" primaryKey=\"sex_id\">\n",
    "        <InlineTable alias=\"dim_sex\">\n",
    "          <ColumnDefs>\n",
    "            <ColumnDef name=\"sex_id\" type=\"Numeric\"/>\n",
    "            <ColumnDef name=\"description\" type=\"String\"/>\n",
    "            <ColumnDef name=\"es_description\" type=\"String\"/>\n",
    "          </ColumnDefs>\n",
    "          <Rows>\n",
    "            <Row>\n",
    "              <Value column=\"sex_id\">0</Value>\n",
    "              <Value column=\"description\">N/A</Value>\n",
    "              <Value column=\"es_description\">N/A</Value>\n",
    "            </Row>\n",
    "            <Row>\n",
    "              <Value column=\"sex_id\">2</Value>\n",
    "              <Value column=\"description\">Male</Value>\n",
    "              <Value column=\"es_description\">Masculino</Value>\n",
    "            </Row>\n",
    "            <Row>\n",
    "              <Value column=\"sex_id\">1</Value>\n",
    "              <Value column=\"description\">Female</Value>\n",
    "              <Value column=\"es_description\">Femenino</Value>\n",
    "            </Row>\n",
    "          </Rows>\n",
    "        </InlineTable>\n",
    "        <Level name=\"Sex\" column=\"sex_id\" nameColumn=\"description\" uniqueMembers=\"true\">\n",
    "          <Annotations>\n",
    "            <Annotation name=\"es_caption\">Description ES</Annotation>\n",
    "          </Annotations>\n",
    "          <Property name=\"Description ES\" column=\"es_description\" />\n",
    "        </Level>\n",
    "    </Hierarchy>\n",
    "  </Dimension>\n",
    "```"
   ]
  }
 ],
 "metadata": {
  "kernelspec": {
   "display_name": "Python 3",
   "language": "python",
   "name": "python3"
  },
  "language_info": {
   "codemirror_mode": {
    "name": "ipython",
    "version": 3
   },
   "file_extension": ".py",
   "mimetype": "text/x-python",
   "name": "python",
   "nbconvert_exporter": "python",
   "pygments_lexer": "ipython3",
   "version": "3.6.0"
  }
 },
 "nbformat": 4,
 "nbformat_minor": 2
}
