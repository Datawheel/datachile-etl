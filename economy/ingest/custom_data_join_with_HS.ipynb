{
 "cells": [
  {
   "cell_type": "code",
   "execution_count": 6,
   "metadata": {
    "autoscroll": "json-false",
    "collapsed": false,
    "ein.tags": [
     "worksheet-0"
    ],
    "slideshow": {
     "slide_type": "-"
    }
   },
   "outputs": [],
   "source": [
    "from os.path import join\n",
    "import pandas as pd\n",
    "import numpy as np\n",
    "\n",
    "path = '/Users/manuel/Google Drive/DataChile/Datos/Customs/One code/input'\n"
   ]
  },
  {
   "cell_type": "code",
   "execution_count": 4,
   "metadata": {
    "autoscroll": "json-false",
    "collapsed": false,
    "ein.tags": [
     "worksheet-0"
    ],
    "slideshow": {
     "slide_type": "-"
    }
   },
   "outputs": [],
   "source": [
    "data = pd.read_stata(join(PATH, 'Exports', 'exports1991_2015.dta'))\n",
    "medidas_aduana = pd.read_stata(join(PATH, 'medidas_aduana.dta'))\n",
    "hs_mapping = pd.DataFrame(data={\n",
    "    'hs_mapping': [1992, 1992, 1992, 1992, 1992, 1996, 1996, 1996, 1996, 1996, 1996, 2002, 2002, 2002, 2002, 2002, 2007, 2007, 2007, 2007, 2007, 2012, 2012, 2012, 2012],\n",
    "    'year': range(1991, 2016)\n",
    "})\n",
    "\n",
    "merged = data.merge(medidas_aduana, on='hs_6digits')\n",
    "for c in [u'CAPITULO', u'PARTIDA', u'UNI_MEDID', u'GLOMEDI']:\n",
    "    del merged[c]\n",
    "merged = merged[~merged.fob_us.isnull() | merged.fob_us > 0]\n",
    "merged['unit_of_measure'] = merged['GLOMEDI1']\n",
    "merged['hs_desc_old'] = merged['GLO_ARANC']\n",
    "del merged['GLOMEDI1']\n",
    "del merged['GLO_ARANC']    \n",
    "\n",
    "merged = merged.merge(hs_mapping, how='left', on=['year'], copy=False)\n"
   ]
  },
  {
   "cell_type": "code",
   "execution_count": 2,
   "metadata": {
    "autoscroll": "json-false",
    "collapsed": false,
    "ein.tags": [
     "worksheet-0"
    ],
    "slideshow": {
     "slide_type": "-"
    }
   },
   "outputs": [
    {
     "ename": "NameError",
     "evalue": "name 'merged' is not defined",
     "output_type": "error",
     "traceback": [
      "\u001b[0;31m---------------------------------------------------------------------------\u001b[0m",
      "\u001b[0;31mNameError\u001b[0m                                 Traceback (most recent call last)",
      "\u001b[0;32m<ipython-input-2-eddf64dc4334>\u001b[0m in \u001b[0;36m<module>\u001b[0;34m()\u001b[0m\n\u001b[1;32m      3\u001b[0m          2012]\n\u001b[1;32m      4\u001b[0m \u001b[0;34m\u001b[0m\u001b[0m\n\u001b[0;32m----> 5\u001b[0;31m \u001b[0;32mfor\u001b[0m \u001b[0mi\u001b[0m\u001b[0;34m,\u001b[0m \u001b[0mrow\u001b[0m \u001b[0;32min\u001b[0m \u001b[0mmerged\u001b[0m\u001b[0;34m.\u001b[0m\u001b[0miterrows\u001b[0m\u001b[0;34m(\u001b[0m\u001b[0;34m)\u001b[0m\u001b[0;34m:\u001b[0m\u001b[0;34m\u001b[0m\u001b[0m\n\u001b[0m\u001b[1;32m      6\u001b[0m     \u001b[0mhs_o\u001b[0m \u001b[0;34m=\u001b[0m \u001b[0mmerged\u001b[0m\u001b[0;34m.\u001b[0m\u001b[0mat\u001b[0m\u001b[0;34m[\u001b[0m\u001b[0mi\u001b[0m\u001b[0;34m,\u001b[0m \u001b[0;34m'hs_mapping'\u001b[0m\u001b[0;34m]\u001b[0m\u001b[0;34m\u001b[0m\u001b[0m\n\u001b[1;32m      7\u001b[0m     \u001b[0msix_d\u001b[0m \u001b[0;34m=\u001b[0m \u001b[0mmerged\u001b[0m\u001b[0;34m.\u001b[0m\u001b[0mat\u001b[0m\u001b[0;34m[\u001b[0m\u001b[0mi\u001b[0m\u001b[0;34m,\u001b[0m \u001b[0;34m'hs_6digits'\u001b[0m\u001b[0;34m]\u001b[0m\u001b[0;34m\u001b[0m\u001b[0m\n",
      "\u001b[0;31mNameError\u001b[0m: name 'merged' is not defined"
     ]
    }
   ],
   "source": [
    "\n",
    "years = [1992, 1996, 2002, 2007,\n",
    "         2012]\n",
    "\n",
    "for i, row in merged.iterrows():\n",
    "    hs_o = merged.at[i, 'hs_mapping']\n",
    "    six_d = merged.at[i, 'hs_6digits']\n",
    "    \n",
    "    if hs_o == 1992:\n",
    "        merged.at[i, 'hs1992'] = six_d\n",
    "    elif hs_o == 1996:\n",
    "        merged.at[i, 'hs1996'] = six_d\n",
    "    elif hs_o == 2002:\n",
    "        merged.at[i, 'hs2002'] = six_d\n",
    "    elif hs_o == 2007:\n",
    "        merged.at[i, 'hs2007'] = six_d\n",
    "    elif hs_o == 2012:\n",
    "        merged.at[i, 'hs2012'] = six_d\n"
   ]
  },
  {
   "cell_type": "code",
   "execution_count": 0,
   "metadata": {
    "autoscroll": "json-false",
    "collapsed": false,
    "ein.tags": [
     "worksheet-0"
    ],
    "slideshow": {
     "slide_type": "-"
    }
   },
   "outputs": [],
   "source": [
    "CODES = [\"hs1992\", \"hs1996\", \"hs2002\", \"hs2007\", \"hs2012\"]\n",
    "\n",
    "for code_from in CODES:\n",
    "    dc = pd.read_stata(join(PATH, 'Exports', \"inter_%s.dta\"))\n",
    "    merged = merged.merge(dc, how='left', on=['\n"
   ]
  },
  {
   "cell_type": "code",
   "execution_count": 1,
   "metadata": {
    "autoscroll": "json-false",
    "collapsed": false,
    "ein.tags": [
     "worksheet-0"
    ],
    "slideshow": {
     "slide_type": "-"
    }
   },
   "outputs": [
    {
     "ename": "NameError",
     "evalue": "name 'merged' is not defined",
     "output_type": "error",
     "traceback": [
      "\u001b[0;31m---------------------------------------------------------------------------\u001b[0m",
      "\u001b[0;31mNameError\u001b[0m                                 Traceback (most recent call last)",
      "\u001b[0;32m<ipython-input-1-1c561a4d6de3>\u001b[0m in \u001b[0;36m<module>\u001b[0;34m()\u001b[0m\n\u001b[0;32m----> 1\u001b[0;31m \u001b[0mmerged\u001b[0m\u001b[0;34m\u001b[0m\u001b[0m\n\u001b[0m",
      "\u001b[0;31mNameError\u001b[0m: name 'merged' is not defined"
     ]
    }
   ],
   "source": [
    "merged"
   ]
  },
  {
   "cell_type": "code",
   "execution_count": 0,
   "metadata": {
    "autoscroll": "json-false",
    "collapsed": false,
    "ein.tags": [
     "worksheet-0"
    ],
    "slideshow": {
     "slide_type": "-"
    }
   },
   "outputs": [],
   "source": []
  }
 ],
 "metadata": {
  "kernelspec": {
   "display_name": "Python 2",
   "name": "python2"
  },
  "language_info": {
   "codemirror_mode": {
    "name": "ipython",
    "version": 2
   },
   "file_extension": ".py",
   "mimetype": "text/x-python",
   "name": "python",
   "nbconvert_exporter": "python",
   "pygments_lexer": "ipython2",
   "version": "2.7.11"
  },
  "name": "custom_data_join_with_HS.ipynb"
 },
 "nbformat": 4,
 "nbformat_minor": 1
}
