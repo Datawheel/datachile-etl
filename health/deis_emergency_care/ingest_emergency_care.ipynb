{
 "cells": [
  {
   "cell_type": "markdown",
   "metadata": {},
   "source": [
    "# Import & Load Emergency Care Data (2008 - 2019)"
   ]
  },
  {
   "cell_type": "markdown",
   "metadata": {},
   "source": [
    "### Config"
   ]
  },
  {
   "cell_type": "code",
   "execution_count": 1,
   "metadata": {},
   "outputs": [],
   "source": [
    "import sys\n",
    "import configparser\n",
    "config = configparser.ConfigParser()\n",
    "config.read_file(open('../../settings.ini'))\n",
    "\n",
    "sys.path.insert(0, config.get('PATHS','libs_path'))\n",
    "engine_path = config.get('DATABASE','engine_path')"
   ]
  },
  {
   "cell_type": "markdown",
   "metadata": {},
   "source": [
    "### Main params"
   ]
  },
  {
   "cell_type": "code",
   "execution_count": 2,
   "metadata": {},
   "outputs": [],
   "source": [
    "remote_path = ''\n",
    "local_path = './data_final/'\n",
    "\n",
    "import postgres #from local file postgres.py\n",
    "from commons import inline_table_xml, download_file, download_zip_file, extract_zip_file, inline_dimension_xml #from local file commons.py\n",
    "\n",
    "import json\n",
    "import pandas as pd\n",
    "from sqlalchemy import create_engine"
   ]
  },
  {
   "cell_type": "markdown",
   "metadata": {},
   "source": [
    "### Load file"
   ]
  },
  {
   "cell_type": "code",
   "execution_count": 3,
   "metadata": {},
   "outputs": [
    {
     "data": {
      "text/html": [
       "<div>\n",
       "<style scoped>\n",
       "    .dataframe tbody tr th:only-of-type {\n",
       "        vertical-align: middle;\n",
       "    }\n",
       "\n",
       "    .dataframe tbody tr th {\n",
       "        vertical-align: top;\n",
       "    }\n",
       "\n",
       "    .dataframe thead th {\n",
       "        text-align: right;\n",
       "    }\n",
       "</style>\n",
       "<table border=\"1\" class=\"dataframe\">\n",
       "  <thead>\n",
       "    <tr style=\"text-align: right;\">\n",
       "      <th></th>\n",
       "      <th>date_id</th>\n",
       "      <th>geography_id</th>\n",
       "      <th>emergency_id</th>\n",
       "      <th>age_id</th>\n",
       "      <th>total</th>\n",
       "    </tr>\n",
       "  </thead>\n",
       "  <tbody>\n",
       "    <tr>\n",
       "      <th>0</th>\n",
       "      <td>1205</td>\n",
       "      <td>3</td>\n",
       "      <td>1</td>\n",
       "      <td>5</td>\n",
       "      <td>41</td>\n",
       "    </tr>\n",
       "    <tr>\n",
       "      <th>1</th>\n",
       "      <td>1205</td>\n",
       "      <td>3</td>\n",
       "      <td>2</td>\n",
       "      <td>5</td>\n",
       "      <td>0</td>\n",
       "    </tr>\n",
       "    <tr>\n",
       "      <th>2</th>\n",
       "      <td>1205</td>\n",
       "      <td>3</td>\n",
       "      <td>3</td>\n",
       "      <td>5</td>\n",
       "      <td>10</td>\n",
       "    </tr>\n",
       "    <tr>\n",
       "      <th>3</th>\n",
       "      <td>1205</td>\n",
       "      <td>3</td>\n",
       "      <td>4</td>\n",
       "      <td>5</td>\n",
       "      <td>20</td>\n",
       "    </tr>\n",
       "    <tr>\n",
       "      <th>4</th>\n",
       "      <td>1205</td>\n",
       "      <td>3</td>\n",
       "      <td>5</td>\n",
       "      <td>5</td>\n",
       "      <td>18</td>\n",
       "    </tr>\n",
       "  </tbody>\n",
       "</table>\n",
       "</div>"
      ],
      "text/plain": [
       "   date_id  geography_id  emergency_id  age_id  total\n",
       "0     1205             3             1       5     41\n",
       "1     1205             3             2       5      0\n",
       "2     1205             3             3       5     10\n",
       "3     1205             3             4       5     20\n",
       "4     1205             3             5       5     18"
      ]
     },
     "execution_count": 3,
     "metadata": {},
     "output_type": "execute_result"
    }
   ],
   "source": [
    "#Open unzipped file\n",
    "df = pd.read_csv(\"./data_final/fact_emergency.csv\", delimiter = \",\", dtype = \"int\")\n",
    "df.head()"
   ]
  },
  {
   "cell_type": "markdown",
   "metadata": {},
   "source": [
    "### Ingest"
   ]
  },
  {
   "cell_type": "code",
   "execution_count": 4,
   "metadata": {},
   "outputs": [
    {
     "name": "stdout",
     "output_type": "stream",
     "text": [
      "DROP TABLE IF EXISTS emergency_care.fact_emergency;\n",
      "CREATE TABLE \"emergency_care\".\"fact_emergency\" (\n",
      "\"date_id\" INTEGER,\n",
      "  \"geography_id\" INTEGER,\n",
      "  \"emergency_id\" INTEGER,\n",
      "  \"age_id\" INTEGER,\n",
      "  \"total\" INTEGER\n",
      ")\n",
      "COPY \"emergency_care\".\"fact_emergency\" (\"date_id\",\"geography_id\",\"emergency_id\",\"age_id\",\"total\") FROM STDIN WITH CSV HEADER DELIMITER ',';\n"
     ]
    }
   ],
   "source": [
    "engine = create_engine(engine_path)\n",
    "db = postgres.PostgresDriver(engine)\n",
    "db.to_sql(df, 'emergency_care', 'fact_emergency')"
   ]
  },
  {
   "cell_type": "markdown",
   "metadata": {},
   "source": [
    "### Add Indices to foreign keys"
   ]
  },
  {
   "cell_type": "code",
   "execution_count": 5,
   "metadata": {},
   "outputs": [
    {
     "data": {
      "text/plain": [
       "<sqlalchemy.engine.result.ResultProxy at 0x10b39cb38>"
      ]
     },
     "execution_count": 5,
     "metadata": {},
     "output_type": "execute_result"
    }
   ],
   "source": [
    "engine.execute(\"\"\"\n",
    "CREATE INDEX fact_emergency_date ON emergency_care.fact_emergency (\"date_id\"); \"\"\")\n",
    "\n",
    "engine.execute(\"\"\"\n",
    "CREATE INDEX fact_emergency_geography ON emergency_care.fact_emergency (\"geography_id\"); \"\"\")\n",
    "\n",
    "engine.execute(\"\"\"\n",
    "CREATE INDEX fact_emergency_emergency ON emergency_care.fact_emergency (\"emergency_id\"); \"\"\")\n",
    "\n",
    "engine.execute(\"\"\"\n",
    "CREATE INDEX fact_emergency_age ON emergency_care.fact_emergency (\"age_id\"); \"\"\")"
   ]
  },
  {
   "cell_type": "markdown",
   "metadata": {},
   "source": [
    "### Dimensions Table"
   ]
  },
  {
   "cell_type": "code",
   "execution_count": 6,
   "metadata": {},
   "outputs": [
    {
     "name": "stdout",
     "output_type": "stream",
     "text": [
      "DROP TABLE IF EXISTS emergency_care.date_dimension;\n",
      "CREATE TABLE \"emergency_care\".\"date_dimension\" (\n",
      "\"date_id\" INTEGER,\n",
      "  \"date_index\" TEXT,\n",
      "  \"year_id\" INTEGER,\n",
      "  \"quarter_id\" INTEGER,\n",
      "  \"quarter_name\" TEXT,\n",
      "  \"month_id\" INTEGER,\n",
      "  \"month_name\" TEXT,\n",
      "  \"week_id\" INTEGER,\n",
      "  \"week_name\" TEXT\n",
      ")\n",
      "COPY \"emergency_care\".\"date_dimension\" (\"date_id\",\"date_index\",\"year_id\",\"quarter_id\",\"quarter_name\",\"month_id\",\"month_name\",\"week_id\",\"week_name\") FROM STDIN WITH CSV HEADER DELIMITER ',';\n"
     ]
    }
   ],
   "source": [
    "import pandas as pd\n",
    "\n",
    "# DATE\n",
    "date_df = pd.read_csv(\"./data_final/date_table.csv\")\n",
    "engine = create_engine(engine_path)\n",
    "db = postgres.PostgresDriver(engine)\n",
    "db.to_sql(date_df, 'emergency_care', 'date_dimension')"
   ]
  },
  {
   "cell_type": "code",
   "execution_count": 7,
   "metadata": {
    "scrolled": true
   },
   "outputs": [
    {
     "name": "stdout",
     "output_type": "stream",
     "text": [
      "DROP TABLE IF EXISTS emergency_care.geography_dimension;\n",
      "CREATE TABLE \"emergency_care\".\"geography_dimension\" (\n",
      "\"geography_id\" INTEGER,\n",
      "  \"geography_index\" TEXT,\n",
      "  \"name\" TEXT,\n",
      "  \"name_es\" TEXT\n",
      ")\n",
      "COPY \"emergency_care\".\"geography_dimension\" (\"geography_id\",\"geography_index\",\"name\",\"name_es\") FROM STDIN WITH CSV HEADER DELIMITER ',';\n"
     ]
    }
   ],
   "source": [
    "# GEOGRAPHY\n",
    "geography_df = pd.read_csv(\"./data_final/geography_table.csv\")\n",
    "engine = create_engine(engine_path)\n",
    "db = postgres.PostgresDriver(engine)\n",
    "db.to_sql(geography_df, 'emergency_care', 'geography_dimension')"
   ]
  },
  {
   "cell_type": "code",
   "execution_count": 8,
   "metadata": {},
   "outputs": [
    {
     "name": "stdout",
     "output_type": "stream",
     "text": [
      "DROP TABLE IF EXISTS emergency_care.emergency_dimension;\n",
      "CREATE TABLE \"emergency_care\".\"emergency_dimension\" (\n",
      "\"emergency_id\" INTEGER,\n",
      "  \"emergency_index\" TEXT,\n",
      "  \"name\" TEXT,\n",
      "  \"name_es\" TEXT,\n",
      "  \"cause_id\" INTEGER,\n",
      "  \"cause\" TEXT,\n",
      "  \"cause_es\" TEXT,\n",
      "  \"action_id\" INTEGER,\n",
      "  \"action\" TEXT,\n",
      "  \"action_es\" TEXT\n",
      ")\n",
      "COPY \"emergency_care\".\"emergency_dimension\" (\"emergency_id\",\"emergency_index\",\"name\",\"name_es\",\"cause_id\",\"cause\",\"cause_es\",\"action_id\",\"action\",\"action_es\") FROM STDIN WITH CSV HEADER DELIMITER ',';\n"
     ]
    }
   ],
   "source": [
    "# EMERGENCY\n",
    "emergency_df = pd.read_csv(\"./data_final/emergency_table.csv\")\n",
    "engine = create_engine(engine_path)\n",
    "db = postgres.PostgresDriver(engine)\n",
    "db.to_sql(emergency_df, 'emergency_care', 'emergency_dimension')"
   ]
  },
  {
   "cell_type": "code",
   "execution_count": 9,
   "metadata": {},
   "outputs": [
    {
     "name": "stdout",
     "output_type": "stream",
     "text": [
      "DROP TABLE IF EXISTS emergency_care.age_dimension;\n",
      "CREATE TABLE \"emergency_care\".\"age_dimension\" (\n",
      "\"age_id\" INTEGER,\n",
      "  \"age_index\" TEXT,\n",
      "  \"name\" TEXT,\n",
      "  \"name_es\" TEXT\n",
      ")\n",
      "COPY \"emergency_care\".\"age_dimension\" (\"age_id\",\"age_index\",\"name\",\"name_es\") FROM STDIN WITH CSV HEADER DELIMITER ',';\n"
     ]
    }
   ],
   "source": [
    "# AGE\n",
    "age_df = pd.read_csv(\"./data_final/age_table.csv\")\n",
    "engine = create_engine(engine_path)\n",
    "db = postgres.PostgresDriver(engine)\n",
    "db.to_sql(age_df, 'emergency_care', 'age_dimension')"
   ]
  },
  {
   "cell_type": "code",
   "execution_count": 10,
   "metadata": {},
   "outputs": [
    {
     "name": "stdout",
     "output_type": "stream",
     "text": [
      "All done.\n"
     ]
    }
   ],
   "source": [
    "print(\"All done.\")"
   ]
  }
 ],
 "metadata": {
  "kernelspec": {
   "display_name": "Python 3",
   "language": "python",
   "name": "python3"
  },
  "language_info": {
   "codemirror_mode": {
    "name": "ipython",
    "version": 3
   },
   "file_extension": ".py",
   "mimetype": "text/x-python",
   "name": "python",
   "nbconvert_exporter": "python",
   "pygments_lexer": "ipython3",
   "version": "3.7.1"
  }
 },
 "nbformat": 4,
 "nbformat_minor": 2
}
