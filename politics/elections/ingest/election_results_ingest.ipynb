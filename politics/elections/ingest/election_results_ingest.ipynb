{
 "cells": [
  {
   "cell_type": "markdown",
   "metadata": {},
   "source": [
    "# Import & Load Election results data"
   ]
  },
  {
   "cell_type": "markdown",
   "metadata": {},
   "source": [
    "### Config"
   ]
  },
  {
   "cell_type": "code",
   "execution_count": 1,
   "metadata": {
    "collapsed": false
   },
   "outputs": [],
   "source": [
    "import sys\n",
    "import configparser\n",
    "config = configparser.ConfigParser()\n",
    "config.read_file(open('../../../settings.ini'))\n",
    "\n",
    "sys.path.insert(0, config.get('PATHS','libs_path'))\n",
    "engine_path = config.get('DATABASE','engine_path')"
   ]
  },
  {
   "cell_type": "markdown",
   "metadata": {},
   "source": [
    "### Main params"
   ]
  },
  {
   "cell_type": "code",
   "execution_count": 2,
   "metadata": {
    "collapsed": false
   },
   "outputs": [],
   "source": [
    "remote_path = 'http://pacha.datawheel.us/datachile/polls/04_todos/'\n",
    "local_path = '../data/'"
   ]
  },
  {
   "cell_type": "markdown",
   "metadata": {},
   "source": [
    "### Imports"
   ]
  },
  {
   "cell_type": "code",
   "execution_count": 3,
   "metadata": {
    "collapsed": false
   },
   "outputs": [],
   "source": [
    "import postgres #from local file postgres.py\n",
    "from commons import inline_table_xml, download_file #from local file commons.py\n",
    "\n",
    "import json\n",
    "import pandas as pd\n",
    "from sqlalchemy import create_engine"
   ]
  },
  {
   "cell_type": "markdown",
   "metadata": {},
   "source": [
    "### Load file"
   ]
  },
  {
   "cell_type": "code",
   "execution_count": 4,
   "metadata": {
    "collapsed": false
   },
   "outputs": [
    {
     "name": "stdout",
     "output_type": "stream",
     "text": [
      "Downloading... http://pacha.datawheel.us/datachile/polls/04_todos/resultados_votaciones.csv\n"
     ]
    },
    {
     "data": {
      "text/plain": [
       "['year',\n",
       " 'election_id',\n",
       " 'region_id',\n",
       " 'circunscription_id',\n",
       " 'district_id',\n",
       " 'comuna_datachile_id',\n",
       " 'candidate_id',\n",
       " 'party_id',\n",
       " 'votes',\n",
       " 'place',\n",
       " 'elected']"
      ]
     },
     "execution_count": 4,
     "metadata": {},
     "output_type": "execute_result"
    }
   ],
   "source": [
    "df = download_file(remote_path,local_path,'resultados_votaciones.csv')\n",
    "\n",
    "#df = df[['year','election_type','comuna_datachile_id','partido_id','mesa_id','candidato_id','votos']]\n",
    "df = df.rename(columns={'votos':'votes','candidato_id':'candidate_id','partido_id':'party_id','distrito_id':'district_id','election_type':'election_id','circunscripcion_id':'circunscription_id','lugar':'place','electo':'elected'})\n",
    "\n",
    "df[['region_id']] = df[['region_id']].fillna(value=-1)\n",
    "df[['circunscription_id']] = df[['circunscription_id']].fillna(value=-1)\n",
    "df[['district_id']] = df[['district_id']].fillna(value=-1)\n",
    "df[['comuna_datachile_id']] = df[['comuna_datachile_id']].fillna(value=-1)\n",
    "\n",
    "df = df.astype({'comuna_datachile_id':'int', 'votes':'int','party_id':'int','place':'int','election_id':'int','year':'int','candidate_id':'int','district_id':'int','circunscription_id':'int','region_id':'int'})\n",
    "\n",
    "list(df)"
   ]
  },
  {
   "cell_type": "markdown",
   "metadata": {},
   "source": [
    "### Ingest"
   ]
  },
  {
   "cell_type": "code",
   "execution_count": 5,
   "metadata": {
    "collapsed": false
   },
   "outputs": [
    {
     "name": "stdout",
     "output_type": "stream",
     "text": [
      "DROP TABLE IF EXISTS politics.fact_election_results;\n",
      "CREATE TABLE \"politics\".\"fact_election_results\" (\n",
      "\"year\" INTEGER,\n",
      "  \"election_id\" INTEGER,\n",
      "  \"region_id\" INTEGER,\n",
      "  \"circunscription_id\" INTEGER,\n",
      "  \"district_id\" INTEGER,\n",
      "  \"comuna_datachile_id\" INTEGER,\n",
      "  \"candidate_id\" INTEGER,\n",
      "  \"party_id\" INTEGER,\n",
      "  \"votes\" INTEGER,\n",
      "  \"place\" INTEGER,\n",
      "  \"elected\" INTEGER\n",
      ")\n",
      "COPY \"politics\".\"fact_election_results\" (\"year\",\"election_id\",\"region_id\",\"circunscription_id\",\"district_id\",\"comuna_datachile_id\",\"candidate_id\",\"party_id\",\"votes\",\"place\",\"elected\") FROM STDIN WITH CSV HEADER DELIMITER ',';\n"
     ]
    }
   ],
   "source": [
    "engine = create_engine(engine_path)\n",
    "db = postgres.PostgresDriver(engine)\n",
    "db.to_sql(df, 'politics', 'fact_election_results')"
   ]
  },
  {
   "cell_type": "markdown",
   "metadata": {},
   "source": [
    "### Update empty values"
   ]
  },
  {
   "cell_type": "code",
   "execution_count": 6,
   "metadata": {
    "collapsed": false
   },
   "outputs": [
    {
     "data": {
      "text/plain": [
       "<sqlalchemy.engine.result.ResultProxy at 0x10a8c44a8>"
      ]
     },
     "execution_count": 6,
     "metadata": {},
     "output_type": "execute_result"
    }
   ],
   "source": [
    "engine.execute(\"\"\"\n",
    "UPDATE politics.fact_election_results SET region_id = NULL where region_id = -1;\n",
    "\"\"\")\n",
    "\n",
    "engine.execute(\"\"\"\n",
    "UPDATE politics.fact_election_results SET circunscription_id = NULL where circunscription_id = -1;\n",
    "\"\"\")\n",
    "\n",
    "engine.execute(\"\"\"\n",
    "UPDATE politics.fact_election_results SET district_id = NULL where district_id = -1;\n",
    "\"\"\")\n",
    "\n",
    "engine.execute(\"\"\"\n",
    "UPDATE politics.fact_election_results SET comuna_datachile_id = NULL where comuna_datachile_id = -1;\n",
    "\"\"\")"
   ]
  },
  {
   "cell_type": "markdown",
   "metadata": {},
   "source": [
    "### Indexes & FK"
   ]
  },
  {
   "cell_type": "code",
   "execution_count": 7,
   "metadata": {
    "collapsed": false
   },
   "outputs": [
    {
     "data": {
      "text/plain": [
       "<sqlalchemy.engine.result.ResultProxy at 0x10a8c4630>"
      ]
     },
     "execution_count": 7,
     "metadata": {},
     "output_type": "execute_result"
    }
   ],
   "source": [
    "engine.execute(\"\"\"\n",
    "ALTER TABLE politics.fact_election_results\n",
    "  ADD COLUMN date_id INTEGER; \n",
    "\"\"\")\n",
    "\n",
    "engine.execute(\"\"\"\n",
    "UPDATE politics.fact_election_results\n",
    "SET date_id = dim_date.id\n",
    "FROM public.dim_date\n",
    "WHERE dim_date.the_year = politics.fact_election_results.year\n",
    "      AND dim_date.month_of_year = 1\n",
    "      AND dim_date.day_of_month = 1\n",
    "\"\"\")\n",
    "\n",
    "engine.execute(\"\"\"\n",
    "CREATE INDEX fact_election_results_comuna_datachile_id \n",
    "ON politics.fact_election_results (comuna_datachile_id)\n",
    "\"\"\")\n",
    "\n",
    "engine.execute(\"\"\"\n",
    "CREATE INDEX fact_election_results_region_id \n",
    "ON politics.fact_election_results (region_id)\n",
    "\"\"\")"
   ]
  },
  {
   "cell_type": "markdown",
   "metadata": {},
   "source": [
    "### Related dim"
   ]
  },
  {
   "cell_type": "code",
   "execution_count": 8,
   "metadata": {
    "collapsed": false
   },
   "outputs": [
    {
     "name": "stdout",
     "output_type": "stream",
     "text": [
      "Downloading... http://pacha.datawheel.us/datachile/polls/04_todos/election_id.csv\n",
      "\n",
      "<InlineTable alias=\"election\">\n",
      "  <ColumnDefs>\n",
      "    <ColumnDef name=\"id\" type=\"Numeric\" />\n",
      "    <ColumnDef name=\"description\" type=\"String\" />\n",
      "    <ColumnDef name=\"es_description\" type=\"String\" />\n",
      "  </ColumnDefs>\n",
      "  <Rows>\n",
      "    <Row>\n",
      "      <Value column=\"id\">1</Value>\n",
      "      <Value column=\"description\">Presidente - Primera vuelta</Value>\n",
      "      <Value column=\"es_description\">Presidente - Primera vuelta</Value>\n",
      "    </Row>\n",
      "  <Row>\n",
      "      <Value column=\"id\">2</Value>\n",
      "      <Value column=\"description\">Presidente - Segunda vuelta</Value>\n",
      "      <Value column=\"es_description\">Presidente - Segunda vuelta</Value>\n",
      "    </Row>\n",
      "  <Row>\n",
      "      <Value column=\"id\">3</Value>\n",
      "      <Value column=\"description\">Senador</Value>\n",
      "      <Value column=\"es_description\">Senador</Value>\n",
      "    </Row>\n",
      "  <Row>\n",
      "      <Value column=\"id\">4</Value>\n",
      "      <Value column=\"description\">Diputado</Value>\n",
      "      <Value column=\"es_description\">Diputado</Value>\n",
      "    </Row>\n",
      "  <Row>\n",
      "      <Value column=\"id\">5</Value>\n",
      "      <Value column=\"description\">Alcalde</Value>\n",
      "      <Value column=\"es_description\">Alcalde</Value>\n",
      "    </Row>\n",
      "  </Rows>\n",
      "</InlineTable>\n",
      "    \n"
     ]
    }
   ],
   "source": [
    "d1 = download_file(remote_path,local_path,'election_id.csv')\n",
    "print (inline_table_xml(d1, 'election', 'election_id', 'election'))"
   ]
  },
  {
   "cell_type": "code",
   "execution_count": 9,
   "metadata": {
    "collapsed": false
   },
   "outputs": [
    {
     "name": "stdout",
     "output_type": "stream",
     "text": [
      "Downloading... http://pacha.datawheel.us/datachile/polls/04_todos/partidos_id.csv\n",
      "\n",
      "<InlineTable alias=\"partido\">\n",
      "  <ColumnDefs>\n",
      "    <ColumnDef name=\"id\" type=\"Numeric\" />\n",
      "    <ColumnDef name=\"description\" type=\"String\" />\n",
      "    <ColumnDef name=\"es_description\" type=\"String\" />\n",
      "  </ColumnDefs>\n",
      "  <Rows>\n",
      "    <Row>\n",
      "      <Value column=\"id\">1</Value>\n",
      "      <Value column=\"description\">Partido Comunista de Chile (PCCh)</Value>\n",
      "      <Value column=\"es_description\">Partido Comunista de Chile (PCCh)</Value>\n",
      "    </Row>\n",
      "  <Row>\n",
      "      <Value column=\"id\">2</Value>\n",
      "      <Value column=\"description\">Partido Radical Socialdemocrata (PRSD)</Value>\n",
      "      <Value column=\"es_description\">Partido Radical Socialdemocrata (PRSD)</Value>\n",
      "    </Row>\n",
      "  <Row>\n",
      "      <Value column=\"id\">3</Value>\n",
      "      <Value column=\"description\">Partido Regionalista de los Independientes (PRI)</Value>\n",
      "      <Value column=\"es_description\">Partido Regionalista de los Independientes (PRI)</Value>\n",
      "    </Row>\n",
      "  <Row>\n",
      "      <Value column=\"id\">4</Value>\n",
      "      <Value column=\"description\">Partido Humanista (PH)</Value>\n",
      "      <Value column=\"es_description\">Partido Humanista (PH)</Value>\n",
      "    </Row>\n",
      "  <Row>\n",
      "      <Value column=\"id\">5</Value>\n",
      "      <Value column=\"description\">Partido Progresista (PRO)</Value>\n",
      "      <Value column=\"es_description\">Partido Progresista (PRO)</Value>\n",
      "    </Row>\n",
      "  <Row>\n",
      "      <Value column=\"id\">6</Value>\n",
      "      <Value column=\"description\">Unión Demócrata Independiente (UDI)</Value>\n",
      "      <Value column=\"es_description\">Unión Demócrata Independiente (UDI)</Value>\n",
      "    </Row>\n",
      "  <Row>\n",
      "      <Value column=\"id\">7</Value>\n",
      "      <Value column=\"description\">Renovación Nacional (RN)</Value>\n",
      "      <Value column=\"es_description\">Renovación Nacional (RN)</Value>\n",
      "    </Row>\n",
      "  <Row>\n",
      "      <Value column=\"id\">8</Value>\n",
      "      <Value column=\"description\">Independientes (IND)</Value>\n",
      "      <Value column=\"es_description\">Independientes (IND)</Value>\n",
      "    </Row>\n",
      "  <Row>\n",
      "      <Value column=\"id\">9</Value>\n",
      "      <Value column=\"description\">Partido Demócrata Cristiano (PDC)</Value>\n",
      "      <Value column=\"es_description\">Partido Demócrata Cristiano (PDC)</Value>\n",
      "    </Row>\n",
      "  <Row>\n",
      "      <Value column=\"id\">10</Value>\n",
      "      <Value column=\"description\">Partido Socialista de Chile (PS)</Value>\n",
      "      <Value column=\"es_description\">Partido Socialista de Chile (PS)</Value>\n",
      "    </Row>\n",
      "  <Row>\n",
      "      <Value column=\"id\">11</Value>\n",
      "      <Value column=\"description\">Partido por la Democracia (PPD)</Value>\n",
      "      <Value column=\"es_description\">Partido por la Democracia (PPD)</Value>\n",
      "    </Row>\n",
      "  <Row>\n",
      "      <Value column=\"id\">12</Value>\n",
      "      <Value column=\"description\">Partido Igualdad (PI)</Value>\n",
      "      <Value column=\"es_description\">Partido Igualdad (PI)</Value>\n",
      "    </Row>\n",
      "  <Row>\n",
      "      <Value column=\"id\">13</Value>\n",
      "      <Value column=\"description\">Partido Ecologista Verde (PEV)</Value>\n",
      "      <Value column=\"es_description\">Partido Ecologista Verde (PEV)</Value>\n",
      "    </Row>\n",
      "  <Row>\n",
      "      <Value column=\"id\">14</Value>\n",
      "      <Value column=\"description\">MAS Región (MAS Región)</Value>\n",
      "      <Value column=\"es_description\">MAS Región (MAS Región)</Value>\n",
      "    </Row>\n",
      "  <Row>\n",
      "      <Value column=\"id\">15</Value>\n",
      "      <Value column=\"description\">Partido Liberal de Chile (PL)</Value>\n",
      "      <Value column=\"es_description\">Partido Liberal de Chile (PL)</Value>\n",
      "    </Row>\n",
      "  <Row>\n",
      "      <Value column=\"id\">0</Value>\n",
      "      <Value column=\"description\">nan</Value>\n",
      "      <Value column=\"es_description\">nan</Value>\n",
      "    </Row>\n",
      "  </Rows>\n",
      "</InlineTable>\n",
      "    \n"
     ]
    }
   ],
   "source": [
    "d2 = download_file(remote_path,local_path,'partidos_id.csv')\n",
    "print (inline_table_xml(d2, 'partido', 'partido_id', 'partido'))"
   ]
  }
 ],
 "metadata": {
  "kernelspec": {
   "display_name": "Python 3",
   "language": "python",
   "name": "python3"
  },
  "language_info": {
   "codemirror_mode": {
    "name": "ipython",
    "version": 3
   },
   "file_extension": ".py",
   "mimetype": "text/x-python",
   "name": "python",
   "nbconvert_exporter": "python",
   "pygments_lexer": "ipython3",
   "version": "3.6.0"
  }
 },
 "nbformat": 4,
 "nbformat_minor": 2
}
