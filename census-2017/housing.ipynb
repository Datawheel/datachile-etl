{
 "cells": [
  {
   "cell_type": "code",
   "execution_count": 1,
   "metadata": {},
   "outputs": [],
   "source": [
    "import numpy as np\n",
    "import pandas as pd\n",
    "import os"
   ]
  },
  {
   "cell_type": "code",
   "execution_count": 2,
   "metadata": {},
   "outputs": [],
   "source": [
    "from google_drive_downloader import GoogleDriveDownloader as gdd\n",
    "def _download_data(download=True):\n",
    "    if download:\n",
    "        gdd.download_file_from_google_drive(\n",
    "            file_id=\"1-e8PVHbFu_LaMKConDKeL7GPJdl4yZQB\",\n",
    "            dest_path=\"./data_temp/Microdato_Censo2017-Viviendas.zip\",\n",
    "            unzip=True\n",
    "        )\n",
    "    return True"
   ]
  },
  {
   "cell_type": "code",
   "execution_count": 3,
   "metadata": {},
   "outputs": [],
   "source": [
    "_download_data(False)\n",
    "df = pd.read_csv(\"./data_temp/Microdato_Censo2017-Viviendas.csv\", sep=\";\", low_memory=False)"
   ]
  },
  {
   "cell_type": "code",
   "execution_count": 4,
   "metadata": {},
   "outputs": [],
   "source": [
    "_drop = [\"REGION\", \"PROVINCIA\", \"DC\", \"ZC_LOC\", \"ID_ZONA_LOC\", \"NVIV\"]\n",
    "_groupby = [\"COMUNA\", \"AREA\", \"P01\", \"P02\", \"P03A\", \"P03B\", \"P03C\", \"P04\", \"P05\"]\n",
    "\n",
    "q = df.drop(columns=_drop).groupby(_groupby)\n",
    "_ = pd.DataFrame({\n",
    "    'CANT_VIV' : q.size(),\n",
    "    'CANT_HOG' : q[\"CANT_HOG\"].agg('sum'),\n",
    "    \"CANT_PER\" : q[\"CANT_PER\"].agg('sum')\n",
    "}).reset_index()\n",
    "\n",
    "_ = _.rename(columns = {\n",
    "    \"COMUNA\": \"comuna_id\", \n",
    "    \"AREA\": \"area_id\", \n",
    "    \"P01\": \"housing_type\", \n",
    "    \"P02\": \"housing_occupation\", \n",
    "    \"P03A\": \"walls_material\", \n",
    "    \"P03B\": \"ceiling_material\", \n",
    "    \"P03C\": \"floor_material\", \n",
    "    \"P04\": \"rooms\",\n",
    "    \"P05\": \"water_source\",\n",
    "    \"CANT_HOG\": \"cant_hog\",\n",
    "    \"CANT_PER\": \"cant_per\",\n",
    "    \"CANT_VIV\": \"cant_viv\"\n",
    "})"
   ]
  },
  {
   "cell_type": "code",
   "execution_count": 5,
   "metadata": {},
   "outputs": [],
   "source": [
    "geo_datachile_id = pd.read_csv(\"https://raw.githubusercontent.com/datachile/datachile-etl/master/official_ids/2017_06_27_comunas_datachile_fixed.csv\")\n",
    "geo_datachile_id = geo_datachile_id.drop(columns=[\"region_id\", \"region_name\", \"comuna_tax_office_id\"])\n",
    "\n",
    "geo_datachile_id = geo_datachile_id.fillna(0).astype({\"comuna_customs_id\": \"int\"})\n",
    "geo_datachile_id = geo_datachile_id.rename(columns={\"comuna_customs_id\": \"comuna_id\"})"
   ]
  },
  {
   "cell_type": "code",
   "execution_count": 6,
   "metadata": {},
   "outputs": [],
   "source": [
    "_ = pd.merge(_, geo_datachile_id, on=\"comuna_id\", how=\"inner\")"
   ]
  },
  {
   "cell_type": "code",
   "execution_count": 7,
   "metadata": {},
   "outputs": [],
   "source": [
    "_ = _.drop(columns=[\"comuna_id\", \"comuna_name\"])"
   ]
  },
  {
   "cell_type": "code",
   "execution_count": 8,
   "metadata": {},
   "outputs": [],
   "source": [
    "pd.DataFrame(_).to_csv(\"data_final/housing_census.csv\", index=False)"
   ]
  },
  {
   "cell_type": "code",
   "execution_count": null,
   "metadata": {},
   "outputs": [],
   "source": []
  }
 ],
 "metadata": {
  "kernelspec": {
   "display_name": "Python 3",
   "language": "python",
   "name": "python3"
  },
  "language_info": {
   "codemirror_mode": {
    "name": "ipython",
    "version": 3
   },
   "file_extension": ".py",
   "mimetype": "text/x-python",
   "name": "python",
   "nbconvert_exporter": "python",
   "pygments_lexer": "ipython3",
   "version": "3.6.4"
  }
 },
 "nbformat": 4,
 "nbformat_minor": 2
}
