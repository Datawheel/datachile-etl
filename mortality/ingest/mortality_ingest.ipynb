{
 "cells": [
  {
   "cell_type": "markdown",
   "metadata": {},
   "source": [
    "# Import & Load Childhood data (Under-One Year)"
   ]
  },
  {
   "cell_type": "markdown",
   "metadata": {},
   "source": [
    "### Config"
   ]
  },
  {
   "cell_type": "code",
   "execution_count": 3,
   "metadata": {},
   "outputs": [],
   "source": [
    "import sys\n",
    "import configparser\n",
    "config = configparser.ConfigParser()\n",
    "config.read_file(open('../../settings.ini'))\n",
    "\n",
    "sys.path.insert(0, config.get('PATHS','libs_path'))\n",
    "engine_path = config.get('DATABASE','engine_path')"
   ]
  },
  {
   "cell_type": "markdown",
   "metadata": {},
   "source": [
    "### Main params"
   ]
  },
  {
   "cell_type": "code",
   "execution_count": 4,
   "metadata": {},
   "outputs": [],
   "source": [
    "remote_path = ''\n",
    "local_path = '../data/'"
   ]
  },
  {
   "cell_type": "code",
   "execution_count": 5,
   "metadata": {},
   "outputs": [
    {
     "name": "stderr",
     "output_type": "stream",
     "text": [
      "/Users/cnavarreteliz/anaconda3/lib/python3.6/site-packages/psycopg2/__init__.py:144: UserWarning: The psycopg2 wheel package will be renamed from release 2.8; in order to keep installing from binary please use \"pip install psycopg2-binary\" instead. For details see: <http://initd.org/psycopg/docs/install.html#binary-install-from-pypi>.\n",
      "  \"\"\")\n"
     ]
    }
   ],
   "source": [
    "import postgres #from local file postgres.py\n",
    "from commons import inline_table_xml, download_file, download_zip_file, extract_zip_file #from local file commons.py\n",
    "\n",
    "import json\n",
    "import pandas as pd\n",
    "from sqlalchemy import create_engine"
   ]
  },
  {
   "cell_type": "markdown",
   "metadata": {},
   "source": [
    "### Load file"
   ]
  },
  {
   "cell_type": "code",
   "execution_count": 6,
   "metadata": {},
   "outputs": [
    {
     "data": {
      "text/plain": [
       "['year',\n",
       " 'comuna_id',\n",
       " 'rate_comuna',\n",
       " 'rate_region',\n",
       " 'rate_country',\n",
       " 'count',\n",
       " 'age_range_id']"
      ]
     },
     "execution_count": 6,
     "metadata": {},
     "output_type": "execute_result"
    }
   ],
   "source": [
    "#Open unzipped file\n",
    "df = pd.read_csv(local_path+'mortality.csv',delimiter=\",\")\n",
    "df = df[['year','comuna_id','rate_comuna','rate_region','rate_country','count', 'age_range_id']]\n",
    "df = df.astype({'year':'int','comuna_id':'int','rate_comuna':'float','rate_region':'float','rate_country':'float', 'age_range_id':'int'})\n",
    "list(df)"
   ]
  },
  {
   "cell_type": "markdown",
   "metadata": {},
   "source": [
    "### Ingest"
   ]
  },
  {
   "cell_type": "code",
   "execution_count": 7,
   "metadata": {},
   "outputs": [
    {
     "name": "stdout",
     "output_type": "stream",
     "text": [
      "DROP TABLE IF EXISTS mortality.fact_mortality;\n",
      "CREATE TABLE \"mortality\".\"fact_mortality\" (\n",
      "\"year\" INTEGER,\n",
      "  \"comuna_id\" INTEGER,\n",
      "  \"rate_comuna\" REAL,\n",
      "  \"rate_region\" REAL,\n",
      "  \"rate_country\" REAL,\n",
      "  \"count\" INTEGER,\n",
      "  \"age_range_id\" INTEGER\n",
      ")\n",
      "COPY \"mortality\".\"fact_mortality\" (\"year\",\"comuna_id\",\"rate_comuna\",\"rate_region\",\"rate_country\",\"count\",\"age_range_id\") FROM STDIN WITH CSV HEADER DELIMITER ',';\n"
     ]
    }
   ],
   "source": [
    "engine = create_engine(engine_path)\n",
    "db = postgres.PostgresDriver(engine)\n",
    "db.to_sql(df, 'mortality', 'fact_mortality')"
   ]
  },
  {
   "cell_type": "markdown",
   "metadata": {},
   "source": [
    "### Add Indices to foreign keys"
   ]
  },
  {
   "cell_type": "code",
   "execution_count": 9,
   "metadata": {},
   "outputs": [
    {
     "data": {
      "text/plain": [
       "<sqlalchemy.engine.result.ResultProxy at 0x11852b908>"
      ]
     },
     "execution_count": 9,
     "metadata": {},
     "output_type": "execute_result"
    }
   ],
   "source": [
    "engine.execute(\"\"\"\n",
    "CREATE INDEX fact_mortality_comuna_id_index \n",
    "ON mortality.fact_mortality (comuna_id)\n",
    "\"\"\")\n",
    "\n",
    "engine.execute(\"\"\"\n",
    "CREATE INDEX fact_mortality_year_index \n",
    "ON mortality.fact_mortality (\"year\");\n",
    "\"\"\")"
   ]
  },
  {
   "cell_type": "markdown",
   "metadata": {},
   "source": [
    "### Relation tables"
   ]
  },
  {
   "cell_type": "code",
   "execution_count": 20,
   "metadata": {},
   "outputs": [
    {
     "name": "stdout",
     "output_type": "stream",
     "text": [
      "Already downloaded. Using: ../data/age_range_id.csv\n",
      "\n",
      "<InlineTable alias=\"age_range_id\">\n",
      "  <ColumnDefs>\n",
      "    <ColumnDef name=\"id\" type=\"Numeric\" />\n",
      "    <ColumnDef name=\"description\" type=\"String\" />\n",
      "    <ColumnDef name=\"es_description\" type=\"String\" />\n",
      "  </ColumnDefs>\n",
      "  <Rows>\n",
      "    <Row>\n",
      "      <Value column=\"id\">1</Value>\n",
      "      <Value column=\"description\">Deaths under 7 days</Value>\n",
      "      <Value column=\"es_description\">Deaths under 7 days</Value>\n",
      "    </Row>\n",
      "  <Row>\n",
      "      <Value column=\"id\">2</Value>\n",
      "      <Value column=\"description\">Deaths under 28 days</Value>\n",
      "      <Value column=\"es_description\">Deaths under 28 days</Value>\n",
      "    </Row>\n",
      "  <Row>\n",
      "      <Value column=\"id\">3</Value>\n",
      "      <Value column=\"description\">Deaths 28 days to 11 months</Value>\n",
      "      <Value column=\"es_description\">Deaths 28 days to 11 months</Value>\n",
      "    </Row>\n",
      "  <Row>\n",
      "      <Value column=\"id\">4</Value>\n",
      "      <Value column=\"description\">Deaths under 1 year</Value>\n",
      "      <Value column=\"es_description\">Deaths under 1 year</Value>\n",
      "    </Row>\n",
      "  <Row>\n",
      "      <Value column=\"id\">5</Value>\n",
      "      <Value column=\"description\">1 to 4 years</Value>\n",
      "      <Value column=\"es_description\">1 to 4 years</Value>\n",
      "    </Row>\n",
      "  <Row>\n",
      "      <Value column=\"id\">6</Value>\n",
      "      <Value column=\"description\">5 to 9 years</Value>\n",
      "      <Value column=\"es_description\">5 to 9 years</Value>\n",
      "    </Row>\n",
      "  <Row>\n",
      "      <Value column=\"id\">7</Value>\n",
      "      <Value column=\"description\">10 to 14 years</Value>\n",
      "      <Value column=\"es_description\">10 to 14 years</Value>\n",
      "    </Row>\n",
      "  <Row>\n",
      "      <Value column=\"id\">8</Value>\n",
      "      <Value column=\"description\">15 to 19 years</Value>\n",
      "      <Value column=\"es_description\">15 to 19 years</Value>\n",
      "    </Row>\n",
      "  </Rows>\n",
      "</InlineTable>\n",
      "    \n"
     ]
    }
   ],
   "source": [
    "d2 = download_file(remote_path,local_path,'age_range_id.csv')\n",
    "print (inline_table_xml(d2, 'age_range_id', 'id', 'en'))"
   ]
  },
  {
   "cell_type": "code",
   "execution_count": null,
   "metadata": {},
   "outputs": [],
   "source": []
  }
 ],
 "metadata": {
  "kernelspec": {
   "display_name": "Python 3",
   "language": "python",
   "name": "python3"
  },
  "language_info": {
   "codemirror_mode": {
    "name": "ipython",
    "version": 3
   },
   "file_extension": ".py",
   "mimetype": "text/x-python",
   "name": "python",
   "nbconvert_exporter": "python",
   "pygments_lexer": "ipython3",
   "version": "3.6.4"
  }
 },
 "nbformat": 4,
 "nbformat_minor": 2
}
