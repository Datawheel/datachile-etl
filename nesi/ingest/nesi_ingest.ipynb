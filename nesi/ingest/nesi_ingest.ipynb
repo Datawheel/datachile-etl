{
 "cells": [
  {
   "cell_type": "markdown",
   "metadata": {},
   "source": [
    "### Main params"
   ]
  },
  {
   "cell_type": "code",
   "execution_count": 1,
   "metadata": {
    "collapsed": true
   },
   "outputs": [],
   "source": [
    "remote_path = 'http://pacha.datawheel.us/economia/nesi/analysis/3_wages_description/4_processed_wages_description/'\n",
    "local_path = '../data/'\n",
    "\n",
    "engine_path = 'postgresql://localhost:5432/datachile'"
   ]
  },
  {
   "cell_type": "markdown",
   "metadata": {},
   "source": [
    "### Imports"
   ]
  },
  {
   "cell_type": "code",
   "execution_count": 2,
   "metadata": {
    "collapsed": true
   },
   "outputs": [],
   "source": [
    "from urllib import request\n",
    "import zipfile\n",
    "import shutil\n",
    "\n",
    "import json\n",
    "import pandas as pd\n",
    "from sqlalchemy import create_engine"
   ]
  },
  {
   "cell_type": "markdown",
   "metadata": {},
   "source": [
    "### Open file function"
   ]
  },
  {
   "cell_type": "code",
   "execution_count": 3,
   "metadata": {
    "collapsed": false
   },
   "outputs": [],
   "source": [
    "def loadFile(file_name):\n",
    "    remote_file = remote_path + file_name\n",
    "    local_file = local_path + file_name\n",
    "\n",
    "    with request.urlopen(remote_file) as remote_csv,open(local_file, 'wb') as local_csv:\n",
    "        shutil.copyfileobj(remote_csv, local_csv)\n",
    "    \n",
    "    return pd.read_csv(local_file,delimiter=\",\")"
   ]
  },
  {
   "cell_type": "markdown",
   "metadata": {},
   "source": [
    "### By region & sex"
   ]
  },
  {
   "cell_type": "code",
   "execution_count": 4,
   "metadata": {
    "collapsed": false
   },
   "outputs": [],
   "source": [
    "df = loadFile('region_sex_positions_all.csv')\n",
    "df = df.rename(columns={'sexo_id':'sex_id'})"
   ]
  },
  {
   "cell_type": "markdown",
   "metadata": {},
   "source": [
    "### Relation tables"
   ]
  },
  {
   "cell_type": "code",
   "execution_count": 5,
   "metadata": {
    "collapsed": false
   },
   "outputs": [
    {
     "data": {
      "text/html": [
       "<div>\n",
       "<table border=\"1\" class=\"dataframe\">\n",
       "  <thead>\n",
       "    <tr style=\"text-align: right;\">\n",
       "      <th></th>\n",
       "      <th>sex_id</th>\n",
       "      <th>sexo</th>\n",
       "    </tr>\n",
       "  </thead>\n",
       "  <tbody>\n",
       "    <tr>\n",
       "      <th>0</th>\n",
       "      <td>0</td>\n",
       "      <td>Hombre</td>\n",
       "    </tr>\n",
       "    <tr>\n",
       "      <th>1</th>\n",
       "      <td>1</td>\n",
       "      <td>Mujer</td>\n",
       "    </tr>\n",
       "  </tbody>\n",
       "</table>\n",
       "</div>"
      ],
      "text/plain": [
       "   sex_id    sexo\n",
       "0       0  Hombre\n",
       "1       1   Mujer"
      ]
     },
     "execution_count": 5,
     "metadata": {},
     "output_type": "execute_result"
    }
   ],
   "source": [
    "sexo_table = df.drop_duplicates(subset = ['sex_id'])\n",
    "sexo_table[['sex_id','sexo']].sort_values('sex_id')"
   ]
  },
  {
   "cell_type": "markdown",
   "metadata": {},
   "source": [
    "### Ingest"
   ]
  },
  {
   "cell_type": "code",
   "execution_count": 15,
   "metadata": {
    "collapsed": false
   },
   "outputs": [],
   "source": [
    "df = df[['year','sex_id','region_id','p50','p70','ci_p50','cs_p50','ci_p70','cs_p70']]\n",
    "df = df.astype({'year':'int','sex_id':'int','region_id':'int','p50':'int','p70':'int','ci_p50':'int','cs_p50':'int','ci_p70':'int','cs_p70':'int'})\n",
    "\n",
    "engine = create_engine(engine_path)\n",
    "engine.execute(\"\"\"\n",
    "CREATE SCHEMA IF NOT EXISTS nesi; \n",
    "\"\"\")\n",
    "df.to_sql('fact_income_year_region_sex', engine, schema='nesi', if_exists='replace', index=False)"
   ]
  },
  {
   "cell_type": "code",
   "execution_count": 7,
   "metadata": {
    "collapsed": true
   },
   "outputs": [],
   "source": [
    "### Foreign & indexes"
   ]
  },
  {
   "cell_type": "code",
   "execution_count": 16,
   "metadata": {
    "collapsed": false
   },
   "outputs": [
    {
     "data": {
      "text/plain": [
       "<sqlalchemy.engine.result.ResultProxy at 0x10f809908>"
      ]
     },
     "execution_count": 16,
     "metadata": {},
     "output_type": "execute_result"
    }
   ],
   "source": [
    "engine.execute(\"\"\"\n",
    "ALTER TABLE nesi.fact_income_year_region_sex\n",
    "  ADD COLUMN date_id INTEGER; \n",
    "\"\"\")\n",
    "\n",
    "engine.execute(\"\"\"\n",
    "UPDATE nesi.fact_income_year_region_sex\n",
    "SET date_id = dim_date.id\n",
    "FROM public.dim_date\n",
    "WHERE dim_date.the_year = nesi.fact_income_year_region_sex.year\n",
    "      AND dim_date.month_of_year = 1\n",
    "      AND dim_date.day_of_month = 1\n",
    "\"\"\")\n",
    "\n",
    "engine.execute(\"\"\"\n",
    "CREATE INDEX fact_income_year_region_sex_region_id_index \n",
    "ON nesi.fact_income_year_region_sex (region_id)\n",
    "\"\"\")"
   ]
  }
 ],
 "metadata": {
  "kernelspec": {
   "display_name": "Python 3",
   "language": "python",
   "name": "python3"
  },
  "language_info": {
   "codemirror_mode": {
    "name": "ipython",
    "version": 3
   },
   "file_extension": ".py",
   "mimetype": "text/x-python",
   "name": "python",
   "nbconvert_exporter": "python",
   "pygments_lexer": "ipython3",
   "version": "3.6.0"
  }
 },
 "nbformat": 4,
 "nbformat_minor": 2
}
