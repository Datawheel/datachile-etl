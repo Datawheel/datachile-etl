{
 "cells": [
  {
   "cell_type": "markdown",
   "metadata": {},
   "source": [
    "# Import & Load Election results data"
   ]
  },
  {
   "cell_type": "markdown",
   "metadata": {},
   "source": [
    "### Config"
   ]
  },
  {
   "cell_type": "code",
   "execution_count": null,
   "metadata": {},
   "outputs": [],
   "source": [
    "import sys\n",
    "import configparser\n",
    "config = configparser.ConfigParser()\n",
    "config.read_file(open('../../../settings.ini'))\n",
    "\n",
    "sys.path.insert(0, config.get('PATHS','libs_path'))\n",
    "engine_path = config.get('DATABASE','engine_path')"
   ]
  },
  {
   "cell_type": "markdown",
   "metadata": {},
   "source": [
    "### Main params"
   ]
  },
  {
   "cell_type": "code",
   "execution_count": null,
   "metadata": {},
   "outputs": [],
   "source": [
    "remote_path = 'http://pacha.datawheel.us/datachile/polls/04_todos/'\n",
    "local_path = '../data/'"
   ]
  },
  {
   "cell_type": "markdown",
   "metadata": {},
   "source": [
    "### Imports"
   ]
  },
  {
   "cell_type": "code",
   "execution_count": null,
   "metadata": {},
   "outputs": [],
   "source": [
    "import postgres #from local file postgres.py\n",
    "from commons import inline_table_xml, download_file #from local file commons.py\n",
    "\n",
    "import json\n",
    "import pandas as pd\n",
    "from sqlalchemy import create_engine"
   ]
  },
  {
   "cell_type": "markdown",
   "metadata": {},
   "source": [
    "### Load file"
   ]
  },
  {
   "cell_type": "code",
   "execution_count": null,
   "metadata": {},
   "outputs": [],
   "source": [
    "df = download_file(remote_path,local_path,'resultados_votaciones.csv')\n",
    "\n",
    "#df = df[['year','election_type','comuna_datachile_id','partido_id','mesa_id','candidato_id','votos']]\n",
    "df = df.rename(columns={'votos':'votes','candidato_id':'candidate_id','partido_id':'party_id','distrito_id':'district_id','election_type':'election_id','circunscripcion_id':'circunscription_id','lugar':'place','electo':'elected'})\n",
    "\n",
    "df[['region_id']] = df[['region_id']].fillna(value=-1)\n",
    "df[['circunscription_id']] = df[['circunscription_id']].fillna(value=-1)\n",
    "df[['district_id']] = df[['district_id']].fillna(value=-1)\n",
    "df[['comuna_datachile_id']] = df[['comuna_datachile_id']].fillna(value=-1)\n",
    "\n",
    "df = df.astype({'comuna_datachile_id':'int', 'votes':'int','party_id':'int','place':'int','election_id':'int','year':'int','candidate_id':'int','district_id':'int','circunscription_id':'int','region_id':'int'})\n",
    "\n",
    "list(df)"
   ]
  },
  {
   "cell_type": "markdown",
   "metadata": {},
   "source": [
    "### Ingest"
   ]
  },
  {
   "cell_type": "code",
   "execution_count": null,
   "metadata": {},
   "outputs": [],
   "source": [
    "engine = create_engine(engine_path)\n",
    "db = postgres.PostgresDriver(engine)\n",
    "db.to_sql(df, 'politics', 'fact_election_results')"
   ]
  },
  {
   "cell_type": "markdown",
   "metadata": {},
   "source": [
    "### Update empty values"
   ]
  },
  {
   "cell_type": "code",
   "execution_count": null,
   "metadata": {},
   "outputs": [],
   "source": [
    "engine.execute(\"\"\"\n",
    "UPDATE politics.fact_election_results SET region_id = NULL where region_id = -1;\n",
    "\"\"\")\n",
    "\n",
    "engine.execute(\"\"\"\n",
    "UPDATE politics.fact_election_results SET circunscription_id = NULL where circunscription_id = -1;\n",
    "\"\"\")\n",
    "\n",
    "engine.execute(\"\"\"\n",
    "UPDATE politics.fact_election_results SET district_id = NULL where district_id = -1;\n",
    "\"\"\")\n",
    "\n",
    "engine.execute(\"\"\"\n",
    "UPDATE politics.fact_election_results SET comuna_datachile_id = NULL where comuna_datachile_id = -1;\n",
    "\"\"\")"
   ]
  },
  {
   "cell_type": "markdown",
   "metadata": {},
   "source": [
    "### Indexes & FK"
   ]
  },
  {
   "cell_type": "code",
   "execution_count": null,
   "metadata": {},
   "outputs": [],
   "source": [
    "engine.execute(\"\"\"\n",
    "CREATE INDEX fact_election_results_comuna_datachile_id \n",
    "ON politics.fact_election_results (comuna_datachile_id)\n",
    "\"\"\")\n",
    "\n",
    "engine.execute(\"\"\"\n",
    "CREATE INDEX fact_election_results_region_id \n",
    "ON politics.fact_election_results (region_id)\n",
    "\"\"\")"
   ]
  },
  {
   "cell_type": "markdown",
   "metadata": {},
   "source": [
    "### Related dim"
   ]
  },
  {
   "cell_type": "code",
   "execution_count": null,
   "metadata": {},
   "outputs": [],
   "source": [
    "d1 = download_file(remote_path,local_path,'election_id.csv')\n",
    "print (inline_table_xml(d1, 'election', 'election_id', 'election'))"
   ]
  },
  {
   "cell_type": "code",
   "execution_count": null,
   "metadata": {},
   "outputs": [],
   "source": [
    "d2 = download_file(remote_path,local_path,'partidos_id.csv')\n",
    "print (inline_table_xml(d2, 'partido', 'partido_id', 'partido'))"
   ]
  }
 ],
 "metadata": {
  "kernelspec": {
   "display_name": "Python 3",
   "language": "python",
   "name": "python3"
  },
  "language_info": {
   "codemirror_mode": {
    "name": "ipython",
    "version": 3
   },
   "file_extension": ".py",
   "mimetype": "text/x-python",
   "name": "python",
   "nbconvert_exporter": "python",
   "pygments_lexer": "ipython3",
   "version": "3.6.3"
  }
 },
 "nbformat": 4,
 "nbformat_minor": 2
}
